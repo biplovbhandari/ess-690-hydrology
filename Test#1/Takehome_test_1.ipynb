{
 "cells": [
  {
   "cell_type": "code",
   "execution_count": 1,
   "id": "eae1eaf8-32a5-4686-a407-c60e642edda9",
   "metadata": {},
   "outputs": [
    {
     "name": "stdout",
     "output_type": "stream",
     "text": [
      "/Users/biplovbhandari/UAH/Fall_2021/ESS_690_Hydrology\n"
     ]
    },
    {
     "data": {
      "text/html": [
       "\n",
       "    <div class=\"bk-root\">\n",
       "        <a href=\"https://bokeh.org\" target=\"_blank\" class=\"bk-logo bk-logo-small bk-logo-notebook\"></a>\n",
       "        <span id=\"1002\">Loading BokehJS ...</span>\n",
       "    </div>"
      ]
     },
     "metadata": {},
     "output_type": "display_data"
    },
    {
     "data": {
      "application/javascript": [
       "\n",
       "(function(root) {\n",
       "  function now() {\n",
       "    return new Date();\n",
       "  }\n",
       "\n",
       "  var force = true;\n",
       "\n",
       "  if (typeof root._bokeh_onload_callbacks === \"undefined\" || force === true) {\n",
       "    root._bokeh_onload_callbacks = [];\n",
       "    root._bokeh_is_loading = undefined;\n",
       "  }\n",
       "\n",
       "  var JS_MIME_TYPE = 'application/javascript';\n",
       "  var HTML_MIME_TYPE = 'text/html';\n",
       "  var EXEC_MIME_TYPE = 'application/vnd.bokehjs_exec.v0+json';\n",
       "  var CLASS_NAME = 'output_bokeh rendered_html';\n",
       "\n",
       "  /**\n",
       "   * Render data to the DOM node\n",
       "   */\n",
       "  function render(props, node) {\n",
       "    var script = document.createElement(\"script\");\n",
       "    node.appendChild(script);\n",
       "  }\n",
       "\n",
       "  /**\n",
       "   * Handle when an output is cleared or removed\n",
       "   */\n",
       "  function handleClearOutput(event, handle) {\n",
       "    var cell = handle.cell;\n",
       "\n",
       "    var id = cell.output_area._bokeh_element_id;\n",
       "    var server_id = cell.output_area._bokeh_server_id;\n",
       "    // Clean up Bokeh references\n",
       "    if (id != null && id in Bokeh.index) {\n",
       "      Bokeh.index[id].model.document.clear();\n",
       "      delete Bokeh.index[id];\n",
       "    }\n",
       "\n",
       "    if (server_id !== undefined) {\n",
       "      // Clean up Bokeh references\n",
       "      var cmd = \"from bokeh.io.state import curstate; print(curstate().uuid_to_server['\" + server_id + \"'].get_sessions()[0].document.roots[0]._id)\";\n",
       "      cell.notebook.kernel.execute(cmd, {\n",
       "        iopub: {\n",
       "          output: function(msg) {\n",
       "            var id = msg.content.text.trim();\n",
       "            if (id in Bokeh.index) {\n",
       "              Bokeh.index[id].model.document.clear();\n",
       "              delete Bokeh.index[id];\n",
       "            }\n",
       "          }\n",
       "        }\n",
       "      });\n",
       "      // Destroy server and session\n",
       "      var cmd = \"import bokeh.io.notebook as ion; ion.destroy_server('\" + server_id + \"')\";\n",
       "      cell.notebook.kernel.execute(cmd);\n",
       "    }\n",
       "  }\n",
       "\n",
       "  /**\n",
       "   * Handle when a new output is added\n",
       "   */\n",
       "  function handleAddOutput(event, handle) {\n",
       "    var output_area = handle.output_area;\n",
       "    var output = handle.output;\n",
       "\n",
       "    // limit handleAddOutput to display_data with EXEC_MIME_TYPE content only\n",
       "    if ((output.output_type != \"display_data\") || (!Object.prototype.hasOwnProperty.call(output.data, EXEC_MIME_TYPE))) {\n",
       "      return\n",
       "    }\n",
       "\n",
       "    var toinsert = output_area.element.find(\".\" + CLASS_NAME.split(' ')[0]);\n",
       "\n",
       "    if (output.metadata[EXEC_MIME_TYPE][\"id\"] !== undefined) {\n",
       "      toinsert[toinsert.length - 1].firstChild.textContent = output.data[JS_MIME_TYPE];\n",
       "      // store reference to embed id on output_area\n",
       "      output_area._bokeh_element_id = output.metadata[EXEC_MIME_TYPE][\"id\"];\n",
       "    }\n",
       "    if (output.metadata[EXEC_MIME_TYPE][\"server_id\"] !== undefined) {\n",
       "      var bk_div = document.createElement(\"div\");\n",
       "      bk_div.innerHTML = output.data[HTML_MIME_TYPE];\n",
       "      var script_attrs = bk_div.children[0].attributes;\n",
       "      for (var i = 0; i < script_attrs.length; i++) {\n",
       "        toinsert[toinsert.length - 1].firstChild.setAttribute(script_attrs[i].name, script_attrs[i].value);\n",
       "        toinsert[toinsert.length - 1].firstChild.textContent = bk_div.children[0].textContent\n",
       "      }\n",
       "      // store reference to server id on output_area\n",
       "      output_area._bokeh_server_id = output.metadata[EXEC_MIME_TYPE][\"server_id\"];\n",
       "    }\n",
       "  }\n",
       "\n",
       "  function register_renderer(events, OutputArea) {\n",
       "\n",
       "    function append_mime(data, metadata, element) {\n",
       "      // create a DOM node to render to\n",
       "      var toinsert = this.create_output_subarea(\n",
       "        metadata,\n",
       "        CLASS_NAME,\n",
       "        EXEC_MIME_TYPE\n",
       "      );\n",
       "      this.keyboard_manager.register_events(toinsert);\n",
       "      // Render to node\n",
       "      var props = {data: data, metadata: metadata[EXEC_MIME_TYPE]};\n",
       "      render(props, toinsert[toinsert.length - 1]);\n",
       "      element.append(toinsert);\n",
       "      return toinsert\n",
       "    }\n",
       "\n",
       "    /* Handle when an output is cleared or removed */\n",
       "    events.on('clear_output.CodeCell', handleClearOutput);\n",
       "    events.on('delete.Cell', handleClearOutput);\n",
       "\n",
       "    /* Handle when a new output is added */\n",
       "    events.on('output_added.OutputArea', handleAddOutput);\n",
       "\n",
       "    /**\n",
       "     * Register the mime type and append_mime function with output_area\n",
       "     */\n",
       "    OutputArea.prototype.register_mime_type(EXEC_MIME_TYPE, append_mime, {\n",
       "      /* Is output safe? */\n",
       "      safe: true,\n",
       "      /* Index of renderer in `output_area.display_order` */\n",
       "      index: 0\n",
       "    });\n",
       "  }\n",
       "\n",
       "  // register the mime type if in Jupyter Notebook environment and previously unregistered\n",
       "  if (root.Jupyter !== undefined) {\n",
       "    var events = require('base/js/events');\n",
       "    var OutputArea = require('notebook/js/outputarea').OutputArea;\n",
       "\n",
       "    if (OutputArea.prototype.mime_types().indexOf(EXEC_MIME_TYPE) == -1) {\n",
       "      register_renderer(events, OutputArea);\n",
       "    }\n",
       "  }\n",
       "\n",
       "  \n",
       "  if (typeof (root._bokeh_timeout) === \"undefined\" || force === true) {\n",
       "    root._bokeh_timeout = Date.now() + 5000;\n",
       "    root._bokeh_failed_load = false;\n",
       "  }\n",
       "\n",
       "  var NB_LOAD_WARNING = {'data': {'text/html':\n",
       "     \"<div style='background-color: #fdd'>\\n\"+\n",
       "     \"<p>\\n\"+\n",
       "     \"BokehJS does not appear to have successfully loaded. If loading BokehJS from CDN, this \\n\"+\n",
       "     \"may be due to a slow or bad network connection. Possible fixes:\\n\"+\n",
       "     \"</p>\\n\"+\n",
       "     \"<ul>\\n\"+\n",
       "     \"<li>re-rerun `output_notebook()` to attempt to load from CDN again, or</li>\\n\"+\n",
       "     \"<li>use INLINE resources instead, as so:</li>\\n\"+\n",
       "     \"</ul>\\n\"+\n",
       "     \"<code>\\n\"+\n",
       "     \"from bokeh.resources import INLINE\\n\"+\n",
       "     \"output_notebook(resources=INLINE)\\n\"+\n",
       "     \"</code>\\n\"+\n",
       "     \"</div>\"}};\n",
       "\n",
       "  function display_loaded() {\n",
       "    var el = document.getElementById(\"1002\");\n",
       "    if (el != null) {\n",
       "      el.textContent = \"BokehJS is loading...\";\n",
       "    }\n",
       "    if (root.Bokeh !== undefined) {\n",
       "      if (el != null) {\n",
       "        el.textContent = \"BokehJS \" + root.Bokeh.version + \" successfully loaded.\";\n",
       "      }\n",
       "    } else if (Date.now() < root._bokeh_timeout) {\n",
       "      setTimeout(display_loaded, 100)\n",
       "    }\n",
       "  }\n",
       "\n",
       "\n",
       "  function run_callbacks() {\n",
       "    try {\n",
       "      root._bokeh_onload_callbacks.forEach(function(callback) {\n",
       "        if (callback != null)\n",
       "          callback();\n",
       "      });\n",
       "    } finally {\n",
       "      delete root._bokeh_onload_callbacks\n",
       "    }\n",
       "    console.debug(\"Bokeh: all callbacks have finished\");\n",
       "  }\n",
       "\n",
       "  function load_libs(css_urls, js_urls, callback) {\n",
       "    if (css_urls == null) css_urls = [];\n",
       "    if (js_urls == null) js_urls = [];\n",
       "\n",
       "    root._bokeh_onload_callbacks.push(callback);\n",
       "    if (root._bokeh_is_loading > 0) {\n",
       "      console.debug(\"Bokeh: BokehJS is being loaded, scheduling callback at\", now());\n",
       "      return null;\n",
       "    }\n",
       "    if (js_urls == null || js_urls.length === 0) {\n",
       "      run_callbacks();\n",
       "      return null;\n",
       "    }\n",
       "    console.debug(\"Bokeh: BokehJS not loaded, scheduling load and callback at\", now());\n",
       "    root._bokeh_is_loading = css_urls.length + js_urls.length;\n",
       "\n",
       "    function on_load() {\n",
       "      root._bokeh_is_loading--;\n",
       "      if (root._bokeh_is_loading === 0) {\n",
       "        console.debug(\"Bokeh: all BokehJS libraries/stylesheets loaded\");\n",
       "        run_callbacks()\n",
       "      }\n",
       "    }\n",
       "\n",
       "    function on_error(url) {\n",
       "      console.error(\"failed to load \" + url);\n",
       "    }\n",
       "\n",
       "    for (let i = 0; i < css_urls.length; i++) {\n",
       "      const url = css_urls[i];\n",
       "      const element = document.createElement(\"link\");\n",
       "      element.onload = on_load;\n",
       "      element.onerror = on_error.bind(null, url);\n",
       "      element.rel = \"stylesheet\";\n",
       "      element.type = \"text/css\";\n",
       "      element.href = url;\n",
       "      console.debug(\"Bokeh: injecting link tag for BokehJS stylesheet: \", url);\n",
       "      document.body.appendChild(element);\n",
       "    }\n",
       "\n",
       "    const hashes = {\"https://cdn.bokeh.org/bokeh/release/bokeh-2.3.2.min.js\": \"XypntL49z55iwGVUW4qsEu83zKL3XEcz0MjuGOQ9SlaaQ68X/g+k1FcioZi7oQAc\", \"https://cdn.bokeh.org/bokeh/release/bokeh-tables-2.3.2.min.js\": \"bEsM86IHGDTLCS0Zod8a8WM6Y4+lafAL/eSiyQcuPzinmWNgNO2/olUF0Z2Dkn5i\", \"https://cdn.bokeh.org/bokeh/release/bokeh-widgets-2.3.2.min.js\": \"TX0gSQTdXTTeScqxj6PVQxTiRW8DOoGVwinyi1D3kxv7wuxQ02XkOxv0xwiypcAH\"};\n",
       "\n",
       "    for (let i = 0; i < js_urls.length; i++) {\n",
       "      const url = js_urls[i];\n",
       "      const element = document.createElement('script');\n",
       "      element.onload = on_load;\n",
       "      element.onerror = on_error.bind(null, url);\n",
       "      element.async = false;\n",
       "      element.src = url;\n",
       "      if (url in hashes) {\n",
       "        element.crossOrigin = \"anonymous\";\n",
       "        element.integrity = \"sha384-\" + hashes[url];\n",
       "      }\n",
       "      console.debug(\"Bokeh: injecting script tag for BokehJS library: \", url);\n",
       "      document.head.appendChild(element);\n",
       "    }\n",
       "  };\n",
       "\n",
       "  function inject_raw_css(css) {\n",
       "    const element = document.createElement(\"style\");\n",
       "    element.appendChild(document.createTextNode(css));\n",
       "    document.body.appendChild(element);\n",
       "  }\n",
       "\n",
       "  \n",
       "  var js_urls = [\"https://cdn.bokeh.org/bokeh/release/bokeh-2.3.2.min.js\", \"https://cdn.bokeh.org/bokeh/release/bokeh-widgets-2.3.2.min.js\", \"https://cdn.bokeh.org/bokeh/release/bokeh-tables-2.3.2.min.js\"];\n",
       "  var css_urls = [];\n",
       "  \n",
       "\n",
       "  var inline_js = [\n",
       "    function(Bokeh) {\n",
       "      Bokeh.set_log_level(\"info\");\n",
       "    },\n",
       "    function(Bokeh) {\n",
       "    \n",
       "    \n",
       "    }\n",
       "  ];\n",
       "\n",
       "  function run_inline_js() {\n",
       "    \n",
       "    if (root.Bokeh !== undefined || force === true) {\n",
       "      \n",
       "    for (var i = 0; i < inline_js.length; i++) {\n",
       "      inline_js[i].call(root, root.Bokeh);\n",
       "    }\n",
       "    if (force === true) {\n",
       "        display_loaded();\n",
       "      }} else if (Date.now() < root._bokeh_timeout) {\n",
       "      setTimeout(run_inline_js, 100);\n",
       "    } else if (!root._bokeh_failed_load) {\n",
       "      console.log(\"Bokeh: BokehJS failed to load within specified timeout.\");\n",
       "      root._bokeh_failed_load = true;\n",
       "    } else if (force !== true) {\n",
       "      var cell = $(document.getElementById(\"1002\")).parents('.cell').data().cell;\n",
       "      cell.output_area.append_execute_result(NB_LOAD_WARNING)\n",
       "    }\n",
       "\n",
       "  }\n",
       "\n",
       "  if (root._bokeh_is_loading === 0) {\n",
       "    console.debug(\"Bokeh: BokehJS loaded, going straight to plotting\");\n",
       "    run_inline_js();\n",
       "  } else {\n",
       "    load_libs(css_urls, js_urls, function() {\n",
       "      console.debug(\"Bokeh: BokehJS plotting callback run at\", now());\n",
       "      run_inline_js();\n",
       "    });\n",
       "  }\n",
       "}(window));"
      ],
      "application/vnd.bokehjs_load.v0+json": "\n(function(root) {\n  function now() {\n    return new Date();\n  }\n\n  var force = true;\n\n  if (typeof root._bokeh_onload_callbacks === \"undefined\" || force === true) {\n    root._bokeh_onload_callbacks = [];\n    root._bokeh_is_loading = undefined;\n  }\n\n  \n\n  \n  if (typeof (root._bokeh_timeout) === \"undefined\" || force === true) {\n    root._bokeh_timeout = Date.now() + 5000;\n    root._bokeh_failed_load = false;\n  }\n\n  var NB_LOAD_WARNING = {'data': {'text/html':\n     \"<div style='background-color: #fdd'>\\n\"+\n     \"<p>\\n\"+\n     \"BokehJS does not appear to have successfully loaded. If loading BokehJS from CDN, this \\n\"+\n     \"may be due to a slow or bad network connection. Possible fixes:\\n\"+\n     \"</p>\\n\"+\n     \"<ul>\\n\"+\n     \"<li>re-rerun `output_notebook()` to attempt to load from CDN again, or</li>\\n\"+\n     \"<li>use INLINE resources instead, as so:</li>\\n\"+\n     \"</ul>\\n\"+\n     \"<code>\\n\"+\n     \"from bokeh.resources import INLINE\\n\"+\n     \"output_notebook(resources=INLINE)\\n\"+\n     \"</code>\\n\"+\n     \"</div>\"}};\n\n  function display_loaded() {\n    var el = document.getElementById(\"1002\");\n    if (el != null) {\n      el.textContent = \"BokehJS is loading...\";\n    }\n    if (root.Bokeh !== undefined) {\n      if (el != null) {\n        el.textContent = \"BokehJS \" + root.Bokeh.version + \" successfully loaded.\";\n      }\n    } else if (Date.now() < root._bokeh_timeout) {\n      setTimeout(display_loaded, 100)\n    }\n  }\n\n\n  function run_callbacks() {\n    try {\n      root._bokeh_onload_callbacks.forEach(function(callback) {\n        if (callback != null)\n          callback();\n      });\n    } finally {\n      delete root._bokeh_onload_callbacks\n    }\n    console.debug(\"Bokeh: all callbacks have finished\");\n  }\n\n  function load_libs(css_urls, js_urls, callback) {\n    if (css_urls == null) css_urls = [];\n    if (js_urls == null) js_urls = [];\n\n    root._bokeh_onload_callbacks.push(callback);\n    if (root._bokeh_is_loading > 0) {\n      console.debug(\"Bokeh: BokehJS is being loaded, scheduling callback at\", now());\n      return null;\n    }\n    if (js_urls == null || js_urls.length === 0) {\n      run_callbacks();\n      return null;\n    }\n    console.debug(\"Bokeh: BokehJS not loaded, scheduling load and callback at\", now());\n    root._bokeh_is_loading = css_urls.length + js_urls.length;\n\n    function on_load() {\n      root._bokeh_is_loading--;\n      if (root._bokeh_is_loading === 0) {\n        console.debug(\"Bokeh: all BokehJS libraries/stylesheets loaded\");\n        run_callbacks()\n      }\n    }\n\n    function on_error(url) {\n      console.error(\"failed to load \" + url);\n    }\n\n    for (let i = 0; i < css_urls.length; i++) {\n      const url = css_urls[i];\n      const element = document.createElement(\"link\");\n      element.onload = on_load;\n      element.onerror = on_error.bind(null, url);\n      element.rel = \"stylesheet\";\n      element.type = \"text/css\";\n      element.href = url;\n      console.debug(\"Bokeh: injecting link tag for BokehJS stylesheet: \", url);\n      document.body.appendChild(element);\n    }\n\n    const hashes = {\"https://cdn.bokeh.org/bokeh/release/bokeh-2.3.2.min.js\": \"XypntL49z55iwGVUW4qsEu83zKL3XEcz0MjuGOQ9SlaaQ68X/g+k1FcioZi7oQAc\", \"https://cdn.bokeh.org/bokeh/release/bokeh-tables-2.3.2.min.js\": \"bEsM86IHGDTLCS0Zod8a8WM6Y4+lafAL/eSiyQcuPzinmWNgNO2/olUF0Z2Dkn5i\", \"https://cdn.bokeh.org/bokeh/release/bokeh-widgets-2.3.2.min.js\": \"TX0gSQTdXTTeScqxj6PVQxTiRW8DOoGVwinyi1D3kxv7wuxQ02XkOxv0xwiypcAH\"};\n\n    for (let i = 0; i < js_urls.length; i++) {\n      const url = js_urls[i];\n      const element = document.createElement('script');\n      element.onload = on_load;\n      element.onerror = on_error.bind(null, url);\n      element.async = false;\n      element.src = url;\n      if (url in hashes) {\n        element.crossOrigin = \"anonymous\";\n        element.integrity = \"sha384-\" + hashes[url];\n      }\n      console.debug(\"Bokeh: injecting script tag for BokehJS library: \", url);\n      document.head.appendChild(element);\n    }\n  };\n\n  function inject_raw_css(css) {\n    const element = document.createElement(\"style\");\n    element.appendChild(document.createTextNode(css));\n    document.body.appendChild(element);\n  }\n\n  \n  var js_urls = [\"https://cdn.bokeh.org/bokeh/release/bokeh-2.3.2.min.js\", \"https://cdn.bokeh.org/bokeh/release/bokeh-widgets-2.3.2.min.js\", \"https://cdn.bokeh.org/bokeh/release/bokeh-tables-2.3.2.min.js\"];\n  var css_urls = [];\n  \n\n  var inline_js = [\n    function(Bokeh) {\n      Bokeh.set_log_level(\"info\");\n    },\n    function(Bokeh) {\n    \n    \n    }\n  ];\n\n  function run_inline_js() {\n    \n    if (root.Bokeh !== undefined || force === true) {\n      \n    for (var i = 0; i < inline_js.length; i++) {\n      inline_js[i].call(root, root.Bokeh);\n    }\n    if (force === true) {\n        display_loaded();\n      }} else if (Date.now() < root._bokeh_timeout) {\n      setTimeout(run_inline_js, 100);\n    } else if (!root._bokeh_failed_load) {\n      console.log(\"Bokeh: BokehJS failed to load within specified timeout.\");\n      root._bokeh_failed_load = true;\n    } else if (force !== true) {\n      var cell = $(document.getElementById(\"1002\")).parents('.cell').data().cell;\n      cell.output_area.append_execute_result(NB_LOAD_WARNING)\n    }\n\n  }\n\n  if (root._bokeh_is_loading === 0) {\n    console.debug(\"Bokeh: BokehJS loaded, going straight to plotting\");\n    run_inline_js();\n  } else {\n    load_libs(css_urls, js_urls, function() {\n      console.debug(\"Bokeh: BokehJS plotting callback run at\", now());\n      run_inline_js();\n    });\n  }\n}(window));"
     },
     "metadata": {},
     "output_type": "display_data"
    }
   ],
   "source": [
    "import os\n",
    "BASE_DIR = os.path.dirname(os.path.dirname(os.path.abspath('__file__')))\n",
    "print(BASE_DIR)\n",
    "\n",
    "import numpy as np\n",
    "import pandas as pd\n",
    "\n",
    "import bokeh.plotting as bp\n",
    "from bokeh.models import tools as bmt\n",
    "\n",
    "from bokeh.io import output_notebook, export_png\n",
    "output_notebook()\n",
    "\n",
    "from IPython.display import Image"
   ]
  },
  {
   "cell_type": "code",
   "execution_count": null,
   "id": "a2b294b5-e330-413b-bd23-83bfba70f4ad",
   "metadata": {},
   "outputs": [],
   "source": []
  },
  {
   "cell_type": "markdown",
   "id": "303ff362-ba89-4e50-9779-1e6713e0af9e",
   "metadata": {},
   "source": [
    "#### Q 1. A)"
   ]
  },
  {
   "cell_type": "markdown",
   "id": "618526cc-bc14-425a-96ef-0a099a39afbb",
   "metadata": {},
   "source": [
    "The water balance equation for the given watershed is\n",
    "\n",
    "P + $GW_{in}$ + I - (Q + ET + $GW_{out}$) = $\\Delta$S\n",
    "<br>\n",
    "where\n",
    "<br>\n",
    "P          = Precipitation\n",
    "<br>\n",
    "$GW_{in}$  = Groundwater inflow\n",
    "<br>\n",
    "Q          = Runoff\n",
    "<br>\n",
    "I          = Infiltration\n",
    "<br>\n",
    "ET         = Evapotration\n",
    "<br>\n",
    "$GW_{out}$ = Groundwater outflow\n",
    "<br>\n",
    "$\\Delta$S  = Change in storage"
   ]
  },
  {
   "cell_type": "markdown",
   "id": "80ebea85-4c60-4189-9893-f706872ddab0",
   "metadata": {},
   "source": [
    "#### Q 1. B)"
   ]
  },
  {
   "cell_type": "code",
   "execution_count": 2,
   "id": "e847c5a6-99f9-4bf5-9a42-b57e0ee7e2f9",
   "metadata": {},
   "outputs": [],
   "source": [
    "P = 22 # in/yr\n",
    "ET = 12 # in/yr\n",
    "Q = 11 # in/yr\n",
    "GW_out = 1 # in/yr\n",
    "GW_in = 1 # in/yr\n",
    "I = 3 # in/yr\n",
    "A = 100000 * 144 # inches2"
   ]
  },
  {
   "cell_type": "code",
   "execution_count": 3,
   "id": "357f50d0-ed42-4a23-a1c0-e621c47b47d7",
   "metadata": {},
   "outputs": [],
   "source": [
    "ΔS = P + GW_in + I  - (Q + ET + GW_out)"
   ]
  },
  {
   "cell_type": "code",
   "execution_count": 4,
   "id": "24b1a923-cd39-480d-9ce0-fab456cbd81f",
   "metadata": {},
   "outputs": [
    {
     "data": {
      "text/plain": [
       "2"
      ]
     },
     "execution_count": 4,
     "metadata": {},
     "output_type": "execute_result"
    }
   ],
   "source": [
    "ΔS # in/yr"
   ]
  },
  {
   "cell_type": "code",
   "execution_count": 5,
   "id": "e7aa5e27-ea16-4796-8190-f5f168d92018",
   "metadata": {},
   "outputs": [],
   "source": [
    "Volume = ΔS * A # in3/yr"
   ]
  },
  {
   "cell_type": "code",
   "execution_count": 6,
   "id": "445cd1b2-b825-47db-8d37-ae90c0b9eb0f",
   "metadata": {},
   "outputs": [
    {
     "data": {
      "text/plain": [
       "28800000"
      ]
     },
     "execution_count": 6,
     "metadata": {},
     "output_type": "execute_result"
    }
   ],
   "source": [
    "Volume # in3/yr"
   ]
  },
  {
   "cell_type": "code",
   "execution_count": null,
   "id": "a846ff67-a324-467e-af65-8cafe7e15fd3",
   "metadata": {},
   "outputs": [],
   "source": []
  },
  {
   "cell_type": "code",
   "execution_count": null,
   "id": "f6911035-6e55-4057-b0bd-9b735bc0a480",
   "metadata": {},
   "outputs": [],
   "source": []
  },
  {
   "cell_type": "markdown",
   "id": "1d0add68-4914-497c-aff5-112e9889bc9b",
   "metadata": {},
   "source": [
    "#### Q 2."
   ]
  },
  {
   "cell_type": "code",
   "execution_count": 7,
   "id": "8a86bd48-7c96-4596-b5f6-a8db637309d0",
   "metadata": {},
   "outputs": [
    {
     "data": {
      "text/plain": [
       "108.0"
      ]
     },
     "execution_count": 7,
     "metadata": {},
     "output_type": "execute_result"
    }
   ],
   "source": [
    "# experiment 1\n",
    "# looking at the seasonal cycle and interpreting the middle values.\n",
    "# runoff for 12 months (in order)\n",
    "# Q_all = [80, 80, 80, 120, 160, 200, 166.67, 133.34, 100, 93.33, 86.67, 80]\n",
    "# this gives negative values;\n",
    "\n",
    "#so just using the value as it is and average them to get the yearly average value\n",
    "Q_all = [80, 80, 200, 100, 80]\n",
    "Q_all = np.array(Q_all)\n",
    "Q_avg = np.mean(Q_all)\n",
    "Q_avg = int(Q_avg) * 1.\n",
    "Q_avg # cfs (cubic feet per sec)"
   ]
  },
  {
   "cell_type": "code",
   "execution_count": 8,
   "id": "0516837f-227b-4e27-acd0-9c3cc74d7d91",
   "metadata": {},
   "outputs": [],
   "source": [
    "# watershed area\n",
    "A = 100. # mi2\n",
    "A = A * 2.788e7 # feet2"
   ]
  },
  {
   "cell_type": "code",
   "execution_count": 9,
   "id": "b3b47cc2-2769-460b-8146-082c89b8f360",
   "metadata": {},
   "outputs": [],
   "source": [
    "Q_avg = Q_avg / A # feet per sec"
   ]
  },
  {
   "cell_type": "code",
   "execution_count": 10,
   "id": "d1d3b420-3d91-49f9-8bdc-424165ec9b21",
   "metadata": {},
   "outputs": [
    {
     "data": {
      "text/plain": [
       "3.873744619799139e-08"
      ]
     },
     "execution_count": 10,
     "metadata": {},
     "output_type": "execute_result"
    }
   ],
   "source": [
    "Q_avg"
   ]
  },
  {
   "cell_type": "code",
   "execution_count": 11,
   "id": "56564b3c-f208-43b1-93f3-ee0ae12dbd96",
   "metadata": {},
   "outputs": [],
   "source": [
    "Q_avg = Q_avg * (60 * 60 * 24 * 365) # feet\n",
    "Q_avg = round(Q_avg, 3)"
   ]
  },
  {
   "cell_type": "code",
   "execution_count": 12,
   "id": "4f0a6ffc-e71e-4945-b43b-3a22d8dd6156",
   "metadata": {},
   "outputs": [
    {
     "data": {
      "text/plain": [
       "1.222"
      ]
     },
     "execution_count": 12,
     "metadata": {},
     "output_type": "execute_result"
    }
   ],
   "source": [
    "Q_avg # feet"
   ]
  },
  {
   "cell_type": "code",
   "execution_count": 13,
   "id": "f644f869-b0ad-40fd-9439-0d2a5d7960db",
   "metadata": {},
   "outputs": [],
   "source": [
    "Q_avg = Q_avg * 12. # inches\n",
    "Q_avg = round(Q_avg, 3)"
   ]
  },
  {
   "cell_type": "code",
   "execution_count": 14,
   "id": "79f9760a-a23a-4da3-81ca-731d17cb3b28",
   "metadata": {},
   "outputs": [
    {
     "data": {
      "text/plain": [
       "14.664"
      ]
     },
     "execution_count": 14,
     "metadata": {},
     "output_type": "execute_result"
    }
   ],
   "source": [
    "Q_avg"
   ]
  },
  {
   "cell_type": "code",
   "execution_count": 15,
   "id": "243602c3-f7a1-4ddb-8b47-4a82fcd1c428",
   "metadata": {},
   "outputs": [
    {
     "data": {
      "text/plain": [
       "15.0"
      ]
     },
     "execution_count": 15,
     "metadata": {},
     "output_type": "execute_result"
    }
   ],
   "source": [
    "# precipitation (inches)\n",
    "# quarterly average\n",
    "P_all = [20., 15., 15., 10.]\n",
    "P_all = np.array(P_all)\n",
    "P_avg = np.mean(P_all)\n",
    "P_avg # inches (yearly avg)"
   ]
  },
  {
   "cell_type": "code",
   "execution_count": 16,
   "id": "d166b12e-5d09-496a-9785-d3471df722c9",
   "metadata": {},
   "outputs": [],
   "source": [
    "ET = P_avg - Q_avg"
   ]
  },
  {
   "cell_type": "code",
   "execution_count": 17,
   "id": "f642d078-0b36-47b9-af7e-0f6064e27796",
   "metadata": {},
   "outputs": [
    {
     "data": {
      "text/plain": [
       "0.3360000000000003"
      ]
     },
     "execution_count": 17,
     "metadata": {},
     "output_type": "execute_result"
    }
   ],
   "source": [
    "ET # inches"
   ]
  },
  {
   "cell_type": "code",
   "execution_count": 18,
   "id": "ca9d3485-d62b-4d71-86cb-5fef29771dbc",
   "metadata": {},
   "outputs": [],
   "source": [
    "runoff_ratio = Q_avg / P_avg"
   ]
  },
  {
   "cell_type": "code",
   "execution_count": 19,
   "id": "cc0237e0-beef-4217-b8f9-852dd347fb29",
   "metadata": {},
   "outputs": [
    {
     "data": {
      "text/plain": [
       "0.9776"
      ]
     },
     "execution_count": 19,
     "metadata": {},
     "output_type": "execute_result"
    }
   ],
   "source": [
    "runoff_ratio"
   ]
  },
  {
   "cell_type": "code",
   "execution_count": null,
   "id": "0702f84e-5a56-4d33-8354-3ec687dabdbb",
   "metadata": {},
   "outputs": [],
   "source": []
  },
  {
   "cell_type": "markdown",
   "id": "556bf476-5127-41f7-81f7-0cf102be128f",
   "metadata": {},
   "source": [
    "#### Q 3."
   ]
  },
  {
   "cell_type": "code",
   "execution_count": 20,
   "id": "a3030d4e-b23b-4f61-b3a9-87cdc89d7ad7",
   "metadata": {},
   "outputs": [],
   "source": [
    "ϕ = 0.3 # porosity\n",
    "Kh = 1e-5 # 1 * 10**(-5) # m/s Hydraulic conductivity\n",
    "θ = 0 # angle\n",
    "h1 = 12 # m\n",
    "h2 = 10 # m\n",
    "L = 100 # m\n",
    "A = 50 # m2"
   ]
  },
  {
   "cell_type": "code",
   "execution_count": 21,
   "id": "f8450c5a-b303-44e3-9c61-4d4263ad4441",
   "metadata": {},
   "outputs": [],
   "source": [
    "# specific discharge\n",
    "qx = -Kh * (h2 - h1) / L"
   ]
  },
  {
   "cell_type": "code",
   "execution_count": 22,
   "id": "7f0652de-3143-41dc-8f74-4e9c80e7d736",
   "metadata": {},
   "outputs": [
    {
     "data": {
      "text/plain": [
       "2.0000000000000002e-07"
      ]
     },
     "execution_count": 22,
     "metadata": {},
     "output_type": "execute_result"
    }
   ],
   "source": [
    "qx # m/s"
   ]
  },
  {
   "cell_type": "code",
   "execution_count": 23,
   "id": "dabedbfd-0f15-4c1f-a449-2ba17a807fd4",
   "metadata": {},
   "outputs": [],
   "source": [
    "# Discharge\n",
    "Q = qx * A"
   ]
  },
  {
   "cell_type": "code",
   "execution_count": 24,
   "id": "98f550a2-651f-4f9d-9795-87e87a9176b2",
   "metadata": {},
   "outputs": [
    {
     "data": {
      "text/plain": [
       "1e-05"
      ]
     },
     "execution_count": 24,
     "metadata": {},
     "output_type": "execute_result"
    }
   ],
   "source": [
    "Q # m3/s"
   ]
  },
  {
   "cell_type": "code",
   "execution_count": 25,
   "id": "8ded60c7-513f-480b-86d9-db9c945284b2",
   "metadata": {},
   "outputs": [],
   "source": [
    "# Average velocity\n",
    "Ux = qx / ϕ"
   ]
  },
  {
   "cell_type": "code",
   "execution_count": 26,
   "id": "c6dc9433-49c8-472d-be9f-629b9795b253",
   "metadata": {},
   "outputs": [
    {
     "data": {
      "text/plain": [
       "6.666666666666667e-07"
      ]
     },
     "execution_count": 26,
     "metadata": {},
     "output_type": "execute_result"
    }
   ],
   "source": [
    "Ux # m/s"
   ]
  },
  {
   "cell_type": "code",
   "execution_count": null,
   "id": "7feb9da3-d28f-4c30-a5d4-1554007c7fc7",
   "metadata": {},
   "outputs": [],
   "source": []
  },
  {
   "cell_type": "code",
   "execution_count": null,
   "id": "a50b1d9d-97a0-4f6e-8b08-992838fdc536",
   "metadata": {},
   "outputs": [],
   "source": []
  },
  {
   "cell_type": "code",
   "execution_count": null,
   "id": "d3cd8b50-f886-4897-a3a7-e44951dde315",
   "metadata": {},
   "outputs": [],
   "source": []
  },
  {
   "cell_type": "code",
   "execution_count": null,
   "id": "2a975218-c0fc-44b8-b93c-43b710c7f4ec",
   "metadata": {},
   "outputs": [],
   "source": []
  },
  {
   "cell_type": "markdown",
   "id": "b96c7b89-b943-411b-a483-e675c9047ffb",
   "metadata": {},
   "source": [
    "#### Q 4."
   ]
  },
  {
   "cell_type": "code",
   "execution_count": 27,
   "id": "4dc0e6e0-087e-41b2-b70c-87f321100b43",
   "metadata": {},
   "outputs": [
    {
     "data": {
      "text/plain": [
       "0.000367"
      ]
     },
     "execution_count": 27,
     "metadata": {},
     "output_type": "execute_result"
    }
   ],
   "source": [
    "Ks = Kns = 3.67e-4 # cm/s\n",
    "θs = 0.523 # water content\n",
    "ψ_abs = 31.4 # absolute pressure head\n",
    "θi = 0.3\n",
    "delta_θ = θs - θi\n",
    "\n",
    "i1 = 6 * Ks # cm/s (for 10 minutes)\n",
    "i2 = 3 * Ks # cm/s (after 10 minutes)\n",
    "Ks"
   ]
  },
  {
   "cell_type": "code",
   "execution_count": 28,
   "id": "4ae4a9ad-1e23-4d6f-9b96-7b7322e91351",
   "metadata": {},
   "outputs": [],
   "source": [
    "# for first ten minutes\n",
    "F1_tp = (delta_θ * ψ_abs) / (1. + (i1 / Ks)) # cm total mass at ponding\n",
    "tp1 = F1_tp / i1 # sec\n",
    "dt1 = 10. * 60 - tp1"
   ]
  },
  {
   "cell_type": "code",
   "execution_count": 29,
   "id": "94f97cf1-3a0d-42c3-9aaf-196e04213002",
   "metadata": {},
   "outputs": [
    {
     "name": "stdout",
     "output_type": "stream",
     "text": [
      "Mass at ponding is: 1.0 cm\n",
      "Time at ponding is 454.275 sec\n"
     ]
    }
   ],
   "source": [
    "print(f'Mass at ponding is: {round(F1_tp, 3)} cm')\n",
    "print(f'Time at ponding is {round(tp1, 3)} sec')"
   ]
  },
  {
   "cell_type": "code",
   "execution_count": 30,
   "id": "e6651e58-935d-439b-804c-bb01ad06d561",
   "metadata": {},
   "outputs": [],
   "source": [
    "# rewriting green and ampt model eqn in simpler form\n",
    "# 𝐹_𝑡𝑝+𝐾∆𝑡+∆𝜃𝜓 ∗ ln⁡((𝐹_(𝑡𝑝+∆𝑡)+∆𝜃𝜓)/(𝐹_𝑡𝑝+∆𝜃𝜓 ))\n",
    "# m + ∆𝜃𝜓 * ln(c)\n",
    "\n",
    "# first ten minutes\n",
    "df1 = pd.DataFrame(index = np.arange(0, 1.4, .01), columns = ['m', 'c', 'GA', 'delta', 'f_t', 't'])\n",
    "df1.index.name = 'F_tp_dt'\n",
    "\n",
    "df1['m'] = F1_tp + (Ks * dt1)\n",
    "df1['c'] = (df1.index + (delta_θ * ψ_abs)) / (F1_tp + (delta_θ * ψ_abs))\n",
    "\n",
    "df1['GA'] = df1.m + delta_θ * ψ_abs * np.log(df1.c)\n",
    "df1['delta'] = df1.GA - df1.index\n",
    "\n",
    "df1['f_t'] = Ks * (1. + ( (delta_θ * ψ_abs) / df1.index ))\n",
    "df1['f_t'] = np.where(df1.index <= F1_tp, i1, df1['f_t'])\n",
    "\n",
    "\n",
    "df1['t1'] = (df1.index - F1_tp) / Ks\n",
    "df1['t2'] = ψ_abs * delta_θ / Ks\n",
    "df1['t3'] = (df1.index + (ψ_abs * delta_θ)) / (F1_tp + (ψ_abs * delta_θ))\n",
    "df1['t'] = df1['t1'] - df1['t2'] * np.log(df1['t3']) + tp1\n",
    "df1 = df1.drop(columns=['t1', 't2', 't3'], axis=1)\n"
   ]
  },
  {
   "cell_type": "code",
   "execution_count": 31,
   "id": "7e884399-15eb-4c9f-8e78-cb787170d5f9",
   "metadata": {},
   "outputs": [
    {
     "data": {
      "text/html": [
       "<div>\n",
       "<style scoped>\n",
       "    .dataframe tbody tr th:only-of-type {\n",
       "        vertical-align: middle;\n",
       "    }\n",
       "\n",
       "    .dataframe tbody tr th {\n",
       "        vertical-align: top;\n",
       "    }\n",
       "\n",
       "    .dataframe thead th {\n",
       "        text-align: right;\n",
       "    }\n",
       "</style>\n",
       "<table border=\"1\" class=\"dataframe\">\n",
       "  <thead>\n",
       "    <tr style=\"text-align: right;\">\n",
       "      <th></th>\n",
       "      <th>m</th>\n",
       "      <th>c</th>\n",
       "      <th>GA</th>\n",
       "      <th>delta</th>\n",
       "      <th>f_t</th>\n",
       "      <th>t</th>\n",
       "    </tr>\n",
       "    <tr>\n",
       "      <th>F_tp_dt</th>\n",
       "      <th></th>\n",
       "      <th></th>\n",
       "      <th></th>\n",
       "      <th></th>\n",
       "      <th></th>\n",
       "      <th></th>\n",
       "    </tr>\n",
       "  </thead>\n",
       "  <tbody>\n",
       "    <tr>\n",
       "      <th>0.00</th>\n",
       "      <td>1.053795</td>\n",
       "      <td>0.875000</td>\n",
       "      <td>0.118782</td>\n",
       "      <td>0.118782</td>\n",
       "      <td>0.002202</td>\n",
       "      <td>276.344085</td>\n",
       "    </tr>\n",
       "    <tr>\n",
       "      <th>0.01</th>\n",
       "      <td>1.053795</td>\n",
       "      <td>0.876250</td>\n",
       "      <td>0.128775</td>\n",
       "      <td>0.118775</td>\n",
       "      <td>0.002202</td>\n",
       "      <td>276.363524</td>\n",
       "    </tr>\n",
       "    <tr>\n",
       "      <th>0.02</th>\n",
       "      <td>1.053795</td>\n",
       "      <td>0.877499</td>\n",
       "      <td>0.138753</td>\n",
       "      <td>0.118753</td>\n",
       "      <td>0.002202</td>\n",
       "      <td>276.421764</td>\n",
       "    </tr>\n",
       "    <tr>\n",
       "      <th>0.03</th>\n",
       "      <td>1.053795</td>\n",
       "      <td>0.878749</td>\n",
       "      <td>0.148718</td>\n",
       "      <td>0.118718</td>\n",
       "      <td>0.002202</td>\n",
       "      <td>276.518697</td>\n",
       "    </tr>\n",
       "    <tr>\n",
       "      <th>0.04</th>\n",
       "      <td>1.053795</td>\n",
       "      <td>0.879998</td>\n",
       "      <td>0.158668</td>\n",
       "      <td>0.118668</td>\n",
       "      <td>0.002202</td>\n",
       "      <td>276.654212</td>\n",
       "    </tr>\n",
       "    <tr>\n",
       "      <th>...</th>\n",
       "      <td>...</td>\n",
       "      <td>...</td>\n",
       "      <td>...</td>\n",
       "      <td>...</td>\n",
       "      <td>...</td>\n",
       "      <td>...</td>\n",
       "    </tr>\n",
       "    <tr>\n",
       "      <th>1.35</th>\n",
       "      <td>1.053795</td>\n",
       "      <td>1.043697</td>\n",
       "      <td>1.353274</td>\n",
       "      <td>0.003274</td>\n",
       "      <td>0.002271</td>\n",
       "      <td>591.079769</td>\n",
       "    </tr>\n",
       "    <tr>\n",
       "      <th>1.36</th>\n",
       "      <td>1.053795</td>\n",
       "      <td>1.044947</td>\n",
       "      <td>1.361652</td>\n",
       "      <td>0.001652</td>\n",
       "      <td>0.002257</td>\n",
       "      <td>595.497631</td>\n",
       "    </tr>\n",
       "    <tr>\n",
       "      <th>1.37</th>\n",
       "      <td>1.053795</td>\n",
       "      <td>1.046196</td>\n",
       "      <td>1.370021</td>\n",
       "      <td>0.000021</td>\n",
       "      <td>0.002243</td>\n",
       "      <td>599.942779</td>\n",
       "    </tr>\n",
       "    <tr>\n",
       "      <th>1.38</th>\n",
       "      <td>1.053795</td>\n",
       "      <td>1.047446</td>\n",
       "      <td>1.378380</td>\n",
       "      <td>-0.001620</td>\n",
       "      <td>0.002229</td>\n",
       "      <td>604.415146</td>\n",
       "    </tr>\n",
       "    <tr>\n",
       "      <th>1.39</th>\n",
       "      <td>1.053795</td>\n",
       "      <td>1.048695</td>\n",
       "      <td>1.386728</td>\n",
       "      <td>-0.003272</td>\n",
       "      <td>0.002216</td>\n",
       "      <td>608.914669</td>\n",
       "    </tr>\n",
       "  </tbody>\n",
       "</table>\n",
       "<p>140 rows × 6 columns</p>\n",
       "</div>"
      ],
      "text/plain": [
       "                m         c        GA     delta       f_t           t\n",
       "F_tp_dt                                                              \n",
       "0.00     1.053795  0.875000  0.118782  0.118782  0.002202  276.344085\n",
       "0.01     1.053795  0.876250  0.128775  0.118775  0.002202  276.363524\n",
       "0.02     1.053795  0.877499  0.138753  0.118753  0.002202  276.421764\n",
       "0.03     1.053795  0.878749  0.148718  0.118718  0.002202  276.518697\n",
       "0.04     1.053795  0.879998  0.158668  0.118668  0.002202  276.654212\n",
       "...           ...       ...       ...       ...       ...         ...\n",
       "1.35     1.053795  1.043697  1.353274  0.003274  0.002271  591.079769\n",
       "1.36     1.053795  1.044947  1.361652  0.001652  0.002257  595.497631\n",
       "1.37     1.053795  1.046196  1.370021  0.000021  0.002243  599.942779\n",
       "1.38     1.053795  1.047446  1.378380 -0.001620  0.002229  604.415146\n",
       "1.39     1.053795  1.048695  1.386728 -0.003272  0.002216  608.914669\n",
       "\n",
       "[140 rows x 6 columns]"
      ]
     },
     "execution_count": 31,
     "metadata": {},
     "output_type": "execute_result"
    }
   ],
   "source": [
    "df1"
   ]
  },
  {
   "cell_type": "markdown",
   "id": "e855d47b-4cdb-4250-9052-3b8922d44370",
   "metadata": {},
   "source": [
    "the total infiltration for the first 10 mins (i.e. 600 sec) will be (from above df) ~ 1.37 cm.\n"
   ]
  },
  {
   "cell_type": "code",
   "execution_count": 32,
   "id": "403ad0e4-04e0-4251-9e99-584a842908bf",
   "metadata": {},
   "outputs": [
    {
     "name": "stdout",
     "output_type": "stream",
     "text": [
      "Mass at ponding is: 1.751 cm\n",
      "Time at ponding is 1589.964 sec\n"
     ]
    }
   ],
   "source": [
    "# after ten minutes\n",
    "# considering the 1 hour design\n",
    "\n",
    "F2_tp = (delta_θ * ψ_abs) / (1. + (i2 / Ks)) # cm total mass at ponding\n",
    "print(f'Mass at ponding is: {round(F2_tp, 3)} cm')\n",
    "tp2 = F2_tp / i2 # sec\n",
    "print(f'Time at ponding is {round(tp2, 3)} sec')\n",
    "# for 60 mins design; the 10 mins are from above so the remaining is 50 mins for this intensity\n",
    "dt2 = 50. * 60. - tp2 # in sec\n",
    "\n",
    "df2 = pd.DataFrame(index = np.arange(0., 3.8, .1), columns = ['m', 'c', 'GA', 'delta', 'f_t', 't'])\n",
    "df2.index.name = 'F_tp_dt'\n",
    "\n",
    "df2['m'] = F2_tp + (Ks * dt2)\n",
    "df2['c'] = (df2.index + (delta_θ * ψ_abs)) / (F2_tp + (delta_θ * ψ_abs))\n",
    "\n",
    "df2['GA'] = df2.m + delta_θ * ψ_abs * np.log(df2.c)\n",
    "df2['delta'] = df2.GA - df2.index\n",
    "\n",
    "df2['f_t'] = Ks * (1. + ( (delta_θ * ψ_abs) / df2.index ))\n",
    "df2['f_t'] = np.where(df2.index <= F2_tp, i2, df2['f_t'])\n",
    "\n",
    "# use the formula in slide 16\n",
    "df2['t1'] = (df2.index - F2_tp) / Ks\n",
    "df2['t2'] = ψ_abs * delta_θ / Ks\n",
    "df2['t3'] = (df2.index + (ψ_abs * delta_θ)) / (F2_tp + (ψ_abs * delta_θ))\n",
    "df2['t'] = df2['t1'] - df2['t2'] * np.log(df2['t3']) + tp2\n",
    "df2 = df2.drop(columns=['t1', 't2', 't3'], axis=1)\n"
   ]
  },
  {
   "cell_type": "code",
   "execution_count": 33,
   "id": "bae4910c-dc82-4342-a84b-fc8f8619f478",
   "metadata": {},
   "outputs": [
    {
     "data": {
      "text/html": [
       "<div>\n",
       "<style scoped>\n",
       "    .dataframe tbody tr th:only-of-type {\n",
       "        vertical-align: middle;\n",
       "    }\n",
       "\n",
       "    .dataframe tbody tr th {\n",
       "        vertical-align: top;\n",
       "    }\n",
       "\n",
       "    .dataframe thead th {\n",
       "        text-align: right;\n",
       "    }\n",
       "</style>\n",
       "<table border=\"1\" class=\"dataframe\">\n",
       "  <thead>\n",
       "    <tr style=\"text-align: right;\">\n",
       "      <th></th>\n",
       "      <th>m</th>\n",
       "      <th>c</th>\n",
       "      <th>GA</th>\n",
       "      <th>delta</th>\n",
       "      <th>f_t</th>\n",
       "      <th>t</th>\n",
       "    </tr>\n",
       "    <tr>\n",
       "      <th>F_tp_dt</th>\n",
       "      <th></th>\n",
       "      <th></th>\n",
       "      <th></th>\n",
       "      <th></th>\n",
       "      <th></th>\n",
       "      <th></th>\n",
       "    </tr>\n",
       "  </thead>\n",
       "  <tbody>\n",
       "    <tr>\n",
       "      <th>0.0</th>\n",
       "      <td>2.268033</td>\n",
       "      <td>0.800000</td>\n",
       "      <td>0.705538</td>\n",
       "      <td>0.705538</td>\n",
       "      <td>0.001101</td>\n",
       "      <td>1077.554337</td>\n",
       "    </tr>\n",
       "    <tr>\n",
       "      <th>0.1</th>\n",
       "      <td>2.268033</td>\n",
       "      <td>0.811425</td>\n",
       "      <td>0.804830</td>\n",
       "      <td>0.704830</td>\n",
       "      <td>0.001101</td>\n",
       "      <td>1079.481680</td>\n",
       "    </tr>\n",
       "    <tr>\n",
       "      <th>0.2</th>\n",
       "      <td>2.268033</td>\n",
       "      <td>0.822850</td>\n",
       "      <td>0.902735</td>\n",
       "      <td>0.702735</td>\n",
       "      <td>0.001101</td>\n",
       "      <td>1085.191930</td>\n",
       "    </tr>\n",
       "    <tr>\n",
       "      <th>0.3</th>\n",
       "      <td>2.268033</td>\n",
       "      <td>0.834275</td>\n",
       "      <td>0.999289</td>\n",
       "      <td>0.699289</td>\n",
       "      <td>0.001101</td>\n",
       "      <td>1094.580758</td>\n",
       "    </tr>\n",
       "    <tr>\n",
       "      <th>0.4</th>\n",
       "      <td>2.268033</td>\n",
       "      <td>0.845700</td>\n",
       "      <td>1.094530</td>\n",
       "      <td>0.694530</td>\n",
       "      <td>0.001101</td>\n",
       "      <td>1107.548092</td>\n",
       "    </tr>\n",
       "    <tr>\n",
       "      <th>0.5</th>\n",
       "      <td>2.268033</td>\n",
       "      <td>0.857125</td>\n",
       "      <td>1.188493</td>\n",
       "      <td>0.688493</td>\n",
       "      <td>0.001101</td>\n",
       "      <td>1123.997889</td>\n",
       "    </tr>\n",
       "    <tr>\n",
       "      <th>0.6</th>\n",
       "      <td>2.268033</td>\n",
       "      <td>0.868550</td>\n",
       "      <td>1.281211</td>\n",
       "      <td>0.681211</td>\n",
       "      <td>0.001101</td>\n",
       "      <td>1143.837920</td>\n",
       "    </tr>\n",
       "    <tr>\n",
       "      <th>0.7</th>\n",
       "      <td>2.268033</td>\n",
       "      <td>0.879975</td>\n",
       "      <td>1.372718</td>\n",
       "      <td>0.672718</td>\n",
       "      <td>0.001101</td>\n",
       "      <td>1166.979574</td>\n",
       "    </tr>\n",
       "    <tr>\n",
       "      <th>0.8</th>\n",
       "      <td>2.268033</td>\n",
       "      <td>0.891400</td>\n",
       "      <td>1.463045</td>\n",
       "      <td>0.663045</td>\n",
       "      <td>0.001101</td>\n",
       "      <td>1193.337667</td>\n",
       "    </tr>\n",
       "    <tr>\n",
       "      <th>0.9</th>\n",
       "      <td>2.268033</td>\n",
       "      <td>0.902825</td>\n",
       "      <td>1.552221</td>\n",
       "      <td>0.652221</td>\n",
       "      <td>0.001101</td>\n",
       "      <td>1222.830274</td>\n",
       "    </tr>\n",
       "    <tr>\n",
       "      <th>1.0</th>\n",
       "      <td>2.268033</td>\n",
       "      <td>0.914250</td>\n",
       "      <td>1.640276</td>\n",
       "      <td>0.640276</td>\n",
       "      <td>0.001101</td>\n",
       "      <td>1255.378555</td>\n",
       "    </tr>\n",
       "    <tr>\n",
       "      <th>1.1</th>\n",
       "      <td>2.268033</td>\n",
       "      <td>0.925675</td>\n",
       "      <td>1.727237</td>\n",
       "      <td>0.627237</td>\n",
       "      <td>0.001101</td>\n",
       "      <td>1290.906612</td>\n",
       "    </tr>\n",
       "    <tr>\n",
       "      <th>1.2</th>\n",
       "      <td>2.268033</td>\n",
       "      <td>0.937100</td>\n",
       "      <td>1.813132</td>\n",
       "      <td>0.613132</td>\n",
       "      <td>0.001101</td>\n",
       "      <td>1329.341338</td>\n",
       "    </tr>\n",
       "    <tr>\n",
       "      <th>1.3</th>\n",
       "      <td>2.268033</td>\n",
       "      <td>0.948525</td>\n",
       "      <td>1.897985</td>\n",
       "      <td>0.597985</td>\n",
       "      <td>0.001101</td>\n",
       "      <td>1370.612285</td>\n",
       "    </tr>\n",
       "    <tr>\n",
       "      <th>1.4</th>\n",
       "      <td>2.268033</td>\n",
       "      <td>0.959950</td>\n",
       "      <td>1.981823</td>\n",
       "      <td>0.581823</td>\n",
       "      <td>0.001101</td>\n",
       "      <td>1414.651534</td>\n",
       "    </tr>\n",
       "    <tr>\n",
       "      <th>1.5</th>\n",
       "      <td>2.268033</td>\n",
       "      <td>0.971375</td>\n",
       "      <td>2.064669</td>\n",
       "      <td>0.564669</td>\n",
       "      <td>0.001101</td>\n",
       "      <td>1461.393579</td>\n",
       "    </tr>\n",
       "    <tr>\n",
       "      <th>1.6</th>\n",
       "      <td>2.268033</td>\n",
       "      <td>0.982800</td>\n",
       "      <td>2.146545</td>\n",
       "      <td>0.546545</td>\n",
       "      <td>0.001101</td>\n",
       "      <td>1510.775210</td>\n",
       "    </tr>\n",
       "    <tr>\n",
       "      <th>1.7</th>\n",
       "      <td>2.268033</td>\n",
       "      <td>0.994225</td>\n",
       "      <td>2.227476</td>\n",
       "      <td>0.527476</td>\n",
       "      <td>0.001101</td>\n",
       "      <td>1562.735410</td>\n",
       "    </tr>\n",
       "    <tr>\n",
       "      <th>1.8</th>\n",
       "      <td>2.268033</td>\n",
       "      <td>1.005650</td>\n",
       "      <td>2.307482</td>\n",
       "      <td>0.507482</td>\n",
       "      <td>0.001795</td>\n",
       "      <td>1617.215253</td>\n",
       "    </tr>\n",
       "    <tr>\n",
       "      <th>1.9</th>\n",
       "      <td>2.268033</td>\n",
       "      <td>1.017075</td>\n",
       "      <td>2.386584</td>\n",
       "      <td>0.486584</td>\n",
       "      <td>0.001720</td>\n",
       "      <td>1674.157810</td>\n",
       "    </tr>\n",
       "    <tr>\n",
       "      <th>2.0</th>\n",
       "      <td>2.268033</td>\n",
       "      <td>1.028500</td>\n",
       "      <td>2.464803</td>\n",
       "      <td>0.464803</td>\n",
       "      <td>0.001652</td>\n",
       "      <td>1733.508060</td>\n",
       "    </tr>\n",
       "    <tr>\n",
       "      <th>2.1</th>\n",
       "      <td>2.268033</td>\n",
       "      <td>1.039925</td>\n",
       "      <td>2.542157</td>\n",
       "      <td>0.442157</td>\n",
       "      <td>0.001591</td>\n",
       "      <td>1795.212806</td>\n",
       "    </tr>\n",
       "    <tr>\n",
       "      <th>2.2</th>\n",
       "      <td>2.268033</td>\n",
       "      <td>1.051350</td>\n",
       "      <td>2.618666</td>\n",
       "      <td>0.418666</td>\n",
       "      <td>0.001535</td>\n",
       "      <td>1859.220594</td>\n",
       "    </tr>\n",
       "    <tr>\n",
       "      <th>2.3</th>\n",
       "      <td>2.268033</td>\n",
       "      <td>1.062775</td>\n",
       "      <td>2.694348</td>\n",
       "      <td>0.394348</td>\n",
       "      <td>0.001484</td>\n",
       "      <td>1925.481640</td>\n",
       "    </tr>\n",
       "    <tr>\n",
       "      <th>2.4</th>\n",
       "      <td>2.268033</td>\n",
       "      <td>1.074200</td>\n",
       "      <td>2.769221</td>\n",
       "      <td>0.369221</td>\n",
       "      <td>0.001438</td>\n",
       "      <td>1993.947754</td>\n",
       "    </tr>\n",
       "    <tr>\n",
       "      <th>2.5</th>\n",
       "      <td>2.268033</td>\n",
       "      <td>1.085625</td>\n",
       "      <td>2.843302</td>\n",
       "      <td>0.343302</td>\n",
       "      <td>0.001395</td>\n",
       "      <td>2064.572279</td>\n",
       "    </tr>\n",
       "    <tr>\n",
       "      <th>2.6</th>\n",
       "      <td>2.268033</td>\n",
       "      <td>1.097049</td>\n",
       "      <td>2.916607</td>\n",
       "      <td>0.316607</td>\n",
       "      <td>0.001355</td>\n",
       "      <td>2137.310022</td>\n",
       "    </tr>\n",
       "    <tr>\n",
       "      <th>2.7</th>\n",
       "      <td>2.268033</td>\n",
       "      <td>1.108474</td>\n",
       "      <td>2.989153</td>\n",
       "      <td>0.289153</td>\n",
       "      <td>0.001319</td>\n",
       "      <td>2212.117193</td>\n",
       "    </tr>\n",
       "    <tr>\n",
       "      <th>2.8</th>\n",
       "      <td>2.268033</td>\n",
       "      <td>1.119899</td>\n",
       "      <td>3.060955</td>\n",
       "      <td>0.260955</td>\n",
       "      <td>0.001285</td>\n",
       "      <td>2288.951352</td>\n",
       "    </tr>\n",
       "    <tr>\n",
       "      <th>2.9</th>\n",
       "      <td>2.268033</td>\n",
       "      <td>1.131324</td>\n",
       "      <td>3.132028</td>\n",
       "      <td>0.232028</td>\n",
       "      <td>0.001253</td>\n",
       "      <td>2367.771349</td>\n",
       "    </tr>\n",
       "    <tr>\n",
       "      <th>3.0</th>\n",
       "      <td>2.268033</td>\n",
       "      <td>1.142749</td>\n",
       "      <td>3.202387</td>\n",
       "      <td>0.202387</td>\n",
       "      <td>0.001224</td>\n",
       "      <td>2448.537276</td>\n",
       "    </tr>\n",
       "    <tr>\n",
       "      <th>3.1</th>\n",
       "      <td>2.268033</td>\n",
       "      <td>1.154174</td>\n",
       "      <td>3.272046</td>\n",
       "      <td>0.172046</td>\n",
       "      <td>0.001196</td>\n",
       "      <td>2531.210416</td>\n",
       "    </tr>\n",
       "    <tr>\n",
       "      <th>3.2</th>\n",
       "      <td>2.268033</td>\n",
       "      <td>1.165599</td>\n",
       "      <td>3.341019</td>\n",
       "      <td>0.141019</td>\n",
       "      <td>0.001170</td>\n",
       "      <td>2615.753195</td>\n",
       "    </tr>\n",
       "    <tr>\n",
       "      <th>3.3</th>\n",
       "      <td>2.268033</td>\n",
       "      <td>1.177024</td>\n",
       "      <td>3.409319</td>\n",
       "      <td>0.109319</td>\n",
       "      <td>0.001146</td>\n",
       "      <td>2702.129139</td>\n",
       "    </tr>\n",
       "    <tr>\n",
       "      <th>3.4</th>\n",
       "      <td>2.268033</td>\n",
       "      <td>1.188449</td>\n",
       "      <td>3.476959</td>\n",
       "      <td>0.076959</td>\n",
       "      <td>0.001123</td>\n",
       "      <td>2790.302832</td>\n",
       "    </tr>\n",
       "    <tr>\n",
       "      <th>3.5</th>\n",
       "      <td>2.268033</td>\n",
       "      <td>1.199874</td>\n",
       "      <td>3.543952</td>\n",
       "      <td>0.043952</td>\n",
       "      <td>0.001101</td>\n",
       "      <td>2880.239873</td>\n",
       "    </tr>\n",
       "    <tr>\n",
       "      <th>3.6</th>\n",
       "      <td>2.268033</td>\n",
       "      <td>1.211299</td>\n",
       "      <td>3.610310</td>\n",
       "      <td>0.010310</td>\n",
       "      <td>0.001081</td>\n",
       "      <td>2971.906840</td>\n",
       "    </tr>\n",
       "    <tr>\n",
       "      <th>3.7</th>\n",
       "      <td>2.268033</td>\n",
       "      <td>1.222724</td>\n",
       "      <td>3.676045</td>\n",
       "      <td>-0.023955</td>\n",
       "      <td>0.001062</td>\n",
       "      <td>3065.271253</td>\n",
       "    </tr>\n",
       "  </tbody>\n",
       "</table>\n",
       "</div>"
      ],
      "text/plain": [
       "                m         c        GA     delta       f_t            t\n",
       "F_tp_dt                                                               \n",
       "0.0      2.268033  0.800000  0.705538  0.705538  0.001101  1077.554337\n",
       "0.1      2.268033  0.811425  0.804830  0.704830  0.001101  1079.481680\n",
       "0.2      2.268033  0.822850  0.902735  0.702735  0.001101  1085.191930\n",
       "0.3      2.268033  0.834275  0.999289  0.699289  0.001101  1094.580758\n",
       "0.4      2.268033  0.845700  1.094530  0.694530  0.001101  1107.548092\n",
       "0.5      2.268033  0.857125  1.188493  0.688493  0.001101  1123.997889\n",
       "0.6      2.268033  0.868550  1.281211  0.681211  0.001101  1143.837920\n",
       "0.7      2.268033  0.879975  1.372718  0.672718  0.001101  1166.979574\n",
       "0.8      2.268033  0.891400  1.463045  0.663045  0.001101  1193.337667\n",
       "0.9      2.268033  0.902825  1.552221  0.652221  0.001101  1222.830274\n",
       "1.0      2.268033  0.914250  1.640276  0.640276  0.001101  1255.378555\n",
       "1.1      2.268033  0.925675  1.727237  0.627237  0.001101  1290.906612\n",
       "1.2      2.268033  0.937100  1.813132  0.613132  0.001101  1329.341338\n",
       "1.3      2.268033  0.948525  1.897985  0.597985  0.001101  1370.612285\n",
       "1.4      2.268033  0.959950  1.981823  0.581823  0.001101  1414.651534\n",
       "1.5      2.268033  0.971375  2.064669  0.564669  0.001101  1461.393579\n",
       "1.6      2.268033  0.982800  2.146545  0.546545  0.001101  1510.775210\n",
       "1.7      2.268033  0.994225  2.227476  0.527476  0.001101  1562.735410\n",
       "1.8      2.268033  1.005650  2.307482  0.507482  0.001795  1617.215253\n",
       "1.9      2.268033  1.017075  2.386584  0.486584  0.001720  1674.157810\n",
       "2.0      2.268033  1.028500  2.464803  0.464803  0.001652  1733.508060\n",
       "2.1      2.268033  1.039925  2.542157  0.442157  0.001591  1795.212806\n",
       "2.2      2.268033  1.051350  2.618666  0.418666  0.001535  1859.220594\n",
       "2.3      2.268033  1.062775  2.694348  0.394348  0.001484  1925.481640\n",
       "2.4      2.268033  1.074200  2.769221  0.369221  0.001438  1993.947754\n",
       "2.5      2.268033  1.085625  2.843302  0.343302  0.001395  2064.572279\n",
       "2.6      2.268033  1.097049  2.916607  0.316607  0.001355  2137.310022\n",
       "2.7      2.268033  1.108474  2.989153  0.289153  0.001319  2212.117193\n",
       "2.8      2.268033  1.119899  3.060955  0.260955  0.001285  2288.951352\n",
       "2.9      2.268033  1.131324  3.132028  0.232028  0.001253  2367.771349\n",
       "3.0      2.268033  1.142749  3.202387  0.202387  0.001224  2448.537276\n",
       "3.1      2.268033  1.154174  3.272046  0.172046  0.001196  2531.210416\n",
       "3.2      2.268033  1.165599  3.341019  0.141019  0.001170  2615.753195\n",
       "3.3      2.268033  1.177024  3.409319  0.109319  0.001146  2702.129139\n",
       "3.4      2.268033  1.188449  3.476959  0.076959  0.001123  2790.302832\n",
       "3.5      2.268033  1.199874  3.543952  0.043952  0.001101  2880.239873\n",
       "3.6      2.268033  1.211299  3.610310  0.010310  0.001081  2971.906840\n",
       "3.7      2.268033  1.222724  3.676045 -0.023955  0.001062  3065.271253"
      ]
     },
     "execution_count": 33,
     "metadata": {},
     "output_type": "execute_result"
    }
   ],
   "source": [
    "df2"
   ]
  },
  {
   "cell_type": "markdown",
   "id": "ae479651-c049-4f96-b2db-e3b1fb29d3fe",
   "metadata": {},
   "source": [
    "the total infiltration for the first 50 mins (i.e. 3000 sec) will be (from above df) ~ 3.6 cm.\n",
    "\n",
    "So the total amount of water infiltrated during the 60 min rainfall event will be 1.37 + 3.6 = 4.97 cm"
   ]
  },
  {
   "cell_type": "code",
   "execution_count": null,
   "id": "57be2494-5433-4c20-87b3-a0aadc65aa7e",
   "metadata": {},
   "outputs": [],
   "source": []
  },
  {
   "cell_type": "code",
   "execution_count": null,
   "id": "bb70f882-4feb-44e5-95cb-8c2ef1bc0eed",
   "metadata": {},
   "outputs": [],
   "source": []
  },
  {
   "cell_type": "markdown",
   "id": "c4e3db13-7d2b-4359-b07e-d484f3b3dbdd",
   "metadata": {},
   "source": [
    "#### Q.5"
   ]
  },
  {
   "cell_type": "markdown",
   "id": "03e915dc-a7aa-4dff-9691-74b8f8fe67a5",
   "metadata": {},
   "source": [
    "Even though the porosity of the clay soil is higher than the sandy soil, the hydraulic conductivity is higher for the sandy soil because the size of the clay soil is small, as a result they can hold a large volume of water. This also means that the grains are highly packed in clay soil, and thus a small pore space exists between the grains. Thus it is harder for water to find the space to flow through a highly porous soil that are very closely packed.\n",
    "<br>\n",
    "The sand would have the highest hydraulic conductivity.\n",
    "Even though the clay has the highest water content becuase of high porosity, it also has the highest wilting point. As a result, the water availability decreases and in fact, is equivalent to the sand which has low porosity and low wilting point. Thus, the water availabile is highest for silt loam soil.\n",
    "\n",
    "This is also evident from the following figure.\n",
    "\n",
    "![Soil Water Content & Available Water](https://i.imgur.com/FrJBts4.png)\n"
   ]
  },
  {
   "cell_type": "code",
   "execution_count": null,
   "id": "2ce15257-525c-4c16-af46-2cf29ec5cc2b",
   "metadata": {},
   "outputs": [],
   "source": []
  },
  {
   "cell_type": "code",
   "execution_count": null,
   "id": "0239fbaa-7234-417e-87a3-69cc123b3f40",
   "metadata": {},
   "outputs": [],
   "source": []
  },
  {
   "cell_type": "markdown",
   "id": "9e996bbf-410d-42d4-b758-3aa544ec4c83",
   "metadata": {},
   "source": [
    "#### Q. 6"
   ]
  },
  {
   "cell_type": "markdown",
   "id": "dc8a4b33-c5f7-444f-b493-b317bca87d48",
   "metadata": {},
   "source": [
    "Once the infiltration has begun, the physical minimum infiltration rate that a soil can reach is the Ks which is the hydraulic conductivity at the natural saturation, given that the rainfall intensity is greater than the hydraulic conductivity. This happens when the water content in the soil increases and reaches the saturation, and thus the pressure force decreases. As long as the rainfall continues, the infiltration will continue however decreasing exponentially and asymptotically reaching Ks.\n",
    "<br>This is also illustrated by the following figure.\n",
    "\n",
    "![Hypothetical curves of infiltration rate versus time](https://open.library.okstate.edu/app/uploads/sites/4/2019/03/Fig-6.4-1024x775.png)\n",
    "<br>\n",
    "Fig: Hypothetical curves of infiltration rate, i, versus time, t, during infiltration of rainfall reaching the soil surface at a constant rate. <br>\n",
    "The solid curves labeled (1) through (4) represent different rainfall rates, with curve 1 being the greatest and curve 4 the least. <br>\n",
    "Curve 4 represents a rainfall rate below the soil’s saturated hydraulic conductivity, Ks. The end of the horizontal segment of each <br>\n",
    "curve indicates the time at which water first begins to pond on the surface, tp. Adapted from Mein and Larson (1971). <br>"
   ]
  },
  {
   "cell_type": "code",
   "execution_count": null,
   "id": "933f81d6-68eb-4164-afa9-7844ace2d94b",
   "metadata": {},
   "outputs": [],
   "source": []
  },
  {
   "cell_type": "code",
   "execution_count": null,
   "id": "d489a425-81d3-4dfc-bd5f-1680817700c0",
   "metadata": {},
   "outputs": [],
   "source": []
  },
  {
   "cell_type": "code",
   "execution_count": null,
   "id": "01114cc3-660f-4e55-8378-7e9b9e453de2",
   "metadata": {},
   "outputs": [],
   "source": []
  },
  {
   "cell_type": "markdown",
   "id": "3628e7a4-483f-4245-a0e7-1529bca13966",
   "metadata": {},
   "source": [
    "#### Q. 7"
   ]
  },
  {
   "cell_type": "markdown",
   "id": "1ee5b528-eaba-418d-b770-cf4ed91a9882",
   "metadata": {},
   "source": [
    "For soil B, drawing and finding the percent of each soil class as follows:\n",
    "\n",
    "![Soil Water Content & Available Water](https://i.imgur.com/lQkSO2h.jpeg)\n",
    "\n",
    "This gives us the following:  <br>\n",
    "Clay: ~ 0% <br>\n",
    "Sand: ~ 80% <br>\n",
    "Silt: ~ 20% <br>\n",
    "<br>\n",
    "From the USDA Soil texture triangle, this is a loamy sand soil."
   ]
  },
  {
   "cell_type": "code",
   "execution_count": null,
   "id": "a96f1fc9-d933-4657-b27c-8c361ed4c48a",
   "metadata": {},
   "outputs": [],
   "source": []
  },
  {
   "cell_type": "code",
   "execution_count": null,
   "id": "46f74a3a-9a96-4dc8-b5c3-ba064a81fa50",
   "metadata": {},
   "outputs": [],
   "source": []
  },
  {
   "cell_type": "markdown",
   "id": "8f245ffb-4d73-4f27-9390-3c9cccf5fe9d",
   "metadata": {},
   "source": [
    "#### Q 8."
   ]
  },
  {
   "cell_type": "markdown",
   "id": "542c100a-be01-4b93-b062-1090f25f83f0",
   "metadata": {},
   "source": [
    "The Pressure Head |ψ|(θ) and Volumertic water content (θ) relation is highly non-linear as can be seen from graph. Note that the Y-axis plots the absolute value. So a high absolute pressure head means more tension in the soil.\n",
    "For soils, as the porosity increases, the pressure head also increases. For example, the clay has very high pressure head compared to the sand. At very high tension, the curve is nearly vertical and reflects the residual water content held in the soil against all forces. As the water content in the soil increases, the tension also decreases and becomes zero (0) when the water content equals the porosity (saturation). Also can be noticed that as the water content increases the difference in the tension for various soil also decreases."
   ]
  },
  {
   "cell_type": "code",
   "execution_count": null,
   "id": "72e0251f-417f-40e1-86d8-678309fbb4b9",
   "metadata": {},
   "outputs": [],
   "source": []
  },
  {
   "cell_type": "code",
   "execution_count": null,
   "id": "b31de14b-bb1c-4b8c-a9df-6edb5f1c5fe4",
   "metadata": {},
   "outputs": [],
   "source": []
  },
  {
   "cell_type": "markdown",
   "id": "f79474b5-b988-4944-9b1a-ce6ae0eb14cf",
   "metadata": {},
   "source": [
    "#### Q 9."
   ]
  },
  {
   "cell_type": "code",
   "execution_count": 34,
   "id": "79ab8374-efe7-4f34-a9b4-5e544187c83d",
   "metadata": {},
   "outputs": [],
   "source": [
    "n = 0.42 # porosity\n",
    "θr = 0.02 # residual water content\n",
    "Ks = 1.5 # cm/h saturated hydraulic conductivity\n",
    "ψ_ae = 29 # cm; absolute air entry head\n",
    "b = 7 # pore size distribution index"
   ]
  },
  {
   "cell_type": "code",
   "execution_count": 35,
   "id": "402f66d4-6a7b-4a07-bb85-e523ddfa6411",
   "metadata": {},
   "outputs": [],
   "source": [
    "# PH: Pressure head\n",
    "# index is the θ\n",
    "df = pd.DataFrame(index = np.arange(0.01, 0.5, .01), columns=['θ*', 'PH'])\n",
    "df['θ*'] = (df.index - θr) / (n - θr)\n",
    "df['PH'] = np.where(df['θ*'] < 1, ψ_ae * (1 / df['θ*'])**b, ψ_ae)"
   ]
  },
  {
   "cell_type": "code",
   "execution_count": 36,
   "id": "1e3d6666-305f-46e0-b35a-50345146fc27",
   "metadata": {},
   "outputs": [],
   "source": [
    "def initialize_fig(title: str = 'your_title',\n",
    "                   x_axis_label: str = 'x_axis_label',\n",
    "                   x_axis_type: str = 'auto',\n",
    "                   y_axis_label: str = 'y_axis_label',\n",
    "                   y_axis_type: str = 'auto',\n",
    "                   tools: str = 'pan,wheel_zoom,box_zoom,reset',\n",
    "                   tooltips: list = [],\n",
    "                   formatters: dict = {},\n",
    "                   plot_height: int = 300,\n",
    "                   fig_sizing_mode: str = 'scale_width',\n",
    "                   ) -> bp.figure:\n",
    "    # bokeh style\n",
    "    TOOLS = tools\n",
    "    hover_tool = bmt.HoverTool(tooltips=tooltips, formatters=formatters)\n",
    "\n",
    "    fig = bp.figure(title=title,\n",
    "                    x_axis_label=x_axis_label,\n",
    "                    x_axis_type=x_axis_type,\n",
    "                    y_axis_label=y_axis_label,\n",
    "                    y_axis_type=y_axis_type,\n",
    "                    plot_height=plot_height,\n",
    "                    tools=TOOLS,\n",
    "                   )\n",
    "    fig.add_tools(hover_tool)\n",
    "    fig.sizing_mode = fig_sizing_mode\n",
    "\n",
    "    return fig"
   ]
  },
  {
   "cell_type": "code",
   "execution_count": 37,
   "id": "0b651e9b-e0ae-4a1d-b928-e4fb83a43ed1",
   "metadata": {},
   "outputs": [
    {
     "data": {
      "text/html": [
       "\n",
       "\n",
       "\n",
       "\n",
       "\n",
       "\n",
       "  <div class=\"bk-root\" id=\"136ca470-19fb-4147-b0cb-42e6c243fbbe\" data-root-id=\"1004\"></div>\n"
      ]
     },
     "metadata": {},
     "output_type": "display_data"
    },
    {
     "data": {
      "application/javascript": [
       "(function(root) {\n",
       "  function embed_document(root) {\n",
       "    \n",
       "  var docs_json = {\"c22e5cd2-0db1-484e-aa26-18f0b50271e4\":{\"defs\":[],\"roots\":{\"references\":[{\"attributes\":{\"below\":[{\"id\":\"1015\"}],\"center\":[{\"id\":\"1018\"},{\"id\":\"1022\"},{\"id\":\"1049\"}],\"height\":300,\"left\":[{\"id\":\"1019\"}],\"renderers\":[{\"id\":\"1037\"},{\"id\":\"1054\"}],\"sizing_mode\":\"scale_width\",\"title\":{\"id\":\"1005\"},\"toolbar\":{\"id\":\"1028\"},\"x_range\":{\"id\":\"1007\"},\"x_scale\":{\"id\":\"1011\"},\"y_range\":{\"id\":\"1009\"},\"y_scale\":{\"id\":\"1013\"}},\"id\":\"1004\",\"subtype\":\"Figure\",\"type\":\"Plot\"},{\"attributes\":{\"click_policy\":\"hide\",\"items\":[{\"id\":\"1050\"}]},\"id\":\"1049\",\"type\":\"Legend\"},{\"attributes\":{\"line_color\":\"red\",\"line_width\":3,\"x\":{\"field\":\"x\"},\"y\":{\"field\":\"y\"}},\"id\":\"1052\",\"type\":\"Line\"},{\"attributes\":{},\"id\":\"1065\",\"type\":\"Selection\"},{\"attributes\":{},\"id\":\"1013\",\"type\":\"LogScale\"},{\"attributes\":{\"overlay\":{\"id\":\"1027\"}},\"id\":\"1025\",\"type\":\"BoxZoomTool\"},{\"attributes\":{\"axis_label\":\"Pressure Head |\\u03c8|(\\u03b8)\",\"axis_label_text_font_size\":\"15pt\",\"formatter\":{\"id\":\"1040\"},\"major_label_policy\":{\"id\":\"1041\"},\"ticker\":{\"id\":\"1020\"}},\"id\":\"1019\",\"type\":\"LogAxis\"},{\"attributes\":{},\"id\":\"1009\",\"type\":\"DataRange1d\"},{\"attributes\":{},\"id\":\"1023\",\"type\":\"PanTool\"},{\"attributes\":{},\"id\":\"1066\",\"type\":\"UnionRenderers\"},{\"attributes\":{\"data_source\":{\"id\":\"1051\"},\"glyph\":{\"id\":\"1052\"},\"hover_glyph\":null,\"muted_glyph\":null,\"nonselection_glyph\":{\"id\":\"1053\"},\"view\":{\"id\":\"1055\"}},\"id\":\"1054\",\"type\":\"GlyphRenderer\"},{\"attributes\":{\"label\":{\"value\":\"Soil\"},\"renderers\":[{\"id\":\"1037\"},{\"id\":\"1054\"}]},\"id\":\"1050\",\"type\":\"LegendItem\"},{\"attributes\":{\"axis\":{\"id\":\"1019\"},\"dimension\":1,\"ticker\":null},\"id\":\"1022\",\"type\":\"Grid\"},{\"attributes\":{},\"id\":\"1026\",\"type\":\"ResetTool\"},{\"attributes\":{\"fill_color\":{\"value\":\"red\"},\"line_color\":{\"value\":\"#1f77b4\"},\"size\":{\"value\":10},\"x\":{\"field\":\"x\"},\"y\":{\"field\":\"y\"}},\"id\":\"1035\",\"type\":\"Circle\"},{\"attributes\":{\"axis_label\":\"Volumertic water content (\\u03b8)\",\"axis_label_text_font_size\":\"15pt\",\"formatter\":{\"id\":\"1043\"},\"major_label_policy\":{\"id\":\"1044\"},\"ticker\":{\"id\":\"1016\"}},\"id\":\"1015\",\"type\":\"LinearAxis\"},{\"attributes\":{\"bottom_units\":\"screen\",\"fill_alpha\":0.5,\"fill_color\":\"lightgrey\",\"left_units\":\"screen\",\"level\":\"overlay\",\"line_alpha\":1.0,\"line_color\":\"black\",\"line_dash\":[4,4],\"line_width\":2,\"right_units\":\"screen\",\"syncable\":false,\"top_units\":\"screen\"},\"id\":\"1027\",\"type\":\"BoxAnnotation\"},{\"attributes\":{\"axis\":{\"id\":\"1015\"},\"ticker\":null},\"id\":\"1018\",\"type\":\"Grid\"},{\"attributes\":{},\"id\":\"1041\",\"type\":\"AllLabels\"},{\"attributes\":{},\"id\":\"1044\",\"type\":\"AllLabels\"},{\"attributes\":{},\"id\":\"1011\",\"type\":\"LinearScale\"},{\"attributes\":{},\"id\":\"1016\",\"type\":\"BasicTicker\"},{\"attributes\":{},\"id\":\"1046\",\"type\":\"Selection\"},{\"attributes\":{\"line_alpha\":0.1,\"line_color\":\"red\",\"line_width\":3,\"x\":{\"field\":\"x\"},\"y\":{\"field\":\"y\"}},\"id\":\"1053\",\"type\":\"Line\"},{\"attributes\":{},\"id\":\"1007\",\"type\":\"DataRange1d\"},{\"attributes\":{},\"id\":\"1024\",\"type\":\"WheelZoomTool\"},{\"attributes\":{\"source\":{\"id\":\"1034\"}},\"id\":\"1038\",\"type\":\"CDSView\"},{\"attributes\":{\"active_multi\":null,\"tools\":[{\"id\":\"1023\"},{\"id\":\"1024\"},{\"id\":\"1025\"},{\"id\":\"1026\"},{\"id\":\"1003\"}]},\"id\":\"1028\",\"type\":\"Toolbar\"},{\"attributes\":{\"callback\":null,\"tooltips\":[[\"\\u03b8\",\"$x\"],[\"|\\u03c8|(\\u03b8)\",\"$y\"]]},\"id\":\"1003\",\"type\":\"HoverTool\"},{\"attributes\":{\"text\":\"|\\u03c8|-\\u03b8 plot \",\"text_font_size\":\"15pt\"},\"id\":\"1005\",\"type\":\"Title\"},{\"attributes\":{},\"id\":\"1043\",\"type\":\"BasicTickFormatter\"},{\"attributes\":{\"source\":{\"id\":\"1051\"}},\"id\":\"1055\",\"type\":\"CDSView\"},{\"attributes\":{\"num_minor_ticks\":10},\"id\":\"1020\",\"type\":\"LogTicker\"},{\"attributes\":{},\"id\":\"1047\",\"type\":\"UnionRenderers\"},{\"attributes\":{\"data\":{\"x\":{\"__ndarray__\":\"exSuR+F6hD97FK5H4XqUP7gehetRuJ4/exSuR+F6pD+amZmZmZmpP7kehetRuK4/61G4HoXrsT97FK5H4Xq0PwrXo3A9Crc/mZmZmZmZuT8pXI/C9Si8P7gehetRuL4/pHA9CtejwD/sUbgehevBPzQzMzMzM8M/exSuR+F6xD/D9Shcj8LFPwvXo3A9Csc/UrgehetRyD+amZmZmZnJP+J6FK5H4co/KVyPwvUozD9xPQrXo3DNP7kehetRuM4/AAAAAAAA0D+kcD0K16PQP0jhehSuR9E/7FG4HoXr0T+QwvUoXI/SPzMzMzMzM9M/16NwPQrX0z97FK5H4XrUPx+F61G4HtU/w/UoXI/C1T9nZmZmZmbWPwvXo3A9Ctc/rkfhehSu1z9SuB6F61HYP/YoXI/C9dg/mpmZmZmZ2T8+CtejcD3aP+J6FK5H4do/hetRuB6F2z8pXI/C9SjcP83MzMzMzNw/cT0K16Nw3T8VrkfhehTeP7kehetRuN4/XI/C9Shc3z8=\",\"dtype\":\"float64\",\"order\":\"little\",\"shape\":[49]},\"y\":{\"__ndarray__\":\"AAAAgAxJkcIAAAAAAADwfwAAAIAMSZFCAAAAgAxJIUJUYHvmzS/gQfT//38MSbFBDQAAAAAAjUFXYHvmzS9wQbsmElgxAlZBAAAAgAxJQUGuhMiv3lAuQQAAAAAAAB1BLbZRKl/DDUFUYHvmzS8AQZmPuMiKfPJArSYSWDEC5kA61eZkJijbQPT//38MSdFANvdwIY+dxkCihMiv3lC+QDoLe6N7w7RA8///////rEAO0EwjGZykQB62USpfw51AitVtxenNlUBUYHvmzS+QQNz+OtyzU4hApI+4yIp8gkDHzbX5m2N8QLsmElgxAnZAWxcvFBc3cUBD1eZkJihrQGaSQgRSlmVAAAAAgAxJYUCQ2vK5Gt9bQDb3cCGPnVZAWvYXrk12UkCuhMiv3lBOQJCY4SVtBklAQwt7o3vDREA9314OwU9BQAAAAAAAAD1AAAAAAAAAPUAAAAAAAAA9QAAAAAAAAD1AAAAAAAAAPUAAAAAAAAA9QAAAAAAAAD1AAAAAAAAAPUA=\",\"dtype\":\"float64\",\"order\":\"little\",\"shape\":[49]}},\"selected\":{\"id\":\"1046\"},\"selection_policy\":{\"id\":\"1047\"}},\"id\":\"1034\",\"type\":\"ColumnDataSource\"},{\"attributes\":{\"ticker\":null},\"id\":\"1040\",\"type\":\"LogTickFormatter\"},{\"attributes\":{\"data\":{\"x\":{\"__ndarray__\":\"exSuR+F6hD97FK5H4XqUP7gehetRuJ4/exSuR+F6pD+amZmZmZmpP7kehetRuK4/61G4HoXrsT97FK5H4Xq0PwrXo3A9Crc/mZmZmZmZuT8pXI/C9Si8P7gehetRuL4/pHA9CtejwD/sUbgehevBPzQzMzMzM8M/exSuR+F6xD/D9Shcj8LFPwvXo3A9Csc/UrgehetRyD+amZmZmZnJP+J6FK5H4co/KVyPwvUozD9xPQrXo3DNP7kehetRuM4/AAAAAAAA0D+kcD0K16PQP0jhehSuR9E/7FG4HoXr0T+QwvUoXI/SPzMzMzMzM9M/16NwPQrX0z97FK5H4XrUPx+F61G4HtU/w/UoXI/C1T9nZmZmZmbWPwvXo3A9Ctc/rkfhehSu1z9SuB6F61HYP/YoXI/C9dg/mpmZmZmZ2T8+CtejcD3aP+J6FK5H4do/hetRuB6F2z8pXI/C9SjcP83MzMzMzNw/cT0K16Nw3T8VrkfhehTeP7kehetRuN4/XI/C9Shc3z8=\",\"dtype\":\"float64\",\"order\":\"little\",\"shape\":[49]},\"y\":{\"__ndarray__\":\"AAAAgAxJkcIAAAAAAADwfwAAAIAMSZFCAAAAgAxJIUJUYHvmzS/gQfT//38MSbFBDQAAAAAAjUFXYHvmzS9wQbsmElgxAlZBAAAAgAxJQUGuhMiv3lAuQQAAAAAAAB1BLbZRKl/DDUFUYHvmzS8AQZmPuMiKfPJArSYSWDEC5kA61eZkJijbQPT//38MSdFANvdwIY+dxkCihMiv3lC+QDoLe6N7w7RA8///////rEAO0EwjGZykQB62USpfw51AitVtxenNlUBUYHvmzS+QQNz+OtyzU4hApI+4yIp8gkDHzbX5m2N8QLsmElgxAnZAWxcvFBc3cUBD1eZkJihrQGaSQgRSlmVAAAAAgAxJYUCQ2vK5Gt9bQDb3cCGPnVZAWvYXrk12UkCuhMiv3lBOQJCY4SVtBklAQwt7o3vDREA9314OwU9BQAAAAAAAAD1AAAAAAAAAPUAAAAAAAAA9QAAAAAAAAD1AAAAAAAAAPUAAAAAAAAA9QAAAAAAAAD1AAAAAAAAAPUA=\",\"dtype\":\"float64\",\"order\":\"little\",\"shape\":[49]}},\"selected\":{\"id\":\"1065\"},\"selection_policy\":{\"id\":\"1066\"}},\"id\":\"1051\",\"type\":\"ColumnDataSource\"},{\"attributes\":{\"fill_alpha\":{\"value\":0.1},\"fill_color\":{\"value\":\"red\"},\"line_alpha\":{\"value\":0.1},\"line_color\":{\"value\":\"#1f77b4\"},\"size\":{\"value\":10},\"x\":{\"field\":\"x\"},\"y\":{\"field\":\"y\"}},\"id\":\"1036\",\"type\":\"Circle\"},{\"attributes\":{\"data_source\":{\"id\":\"1034\"},\"glyph\":{\"id\":\"1035\"},\"hover_glyph\":null,\"muted_glyph\":null,\"nonselection_glyph\":{\"id\":\"1036\"},\"view\":{\"id\":\"1038\"}},\"id\":\"1037\",\"type\":\"GlyphRenderer\"}],\"root_ids\":[\"1004\"]},\"title\":\"Bokeh Application\",\"version\":\"2.3.2\"}};\n",
       "  var render_items = [{\"docid\":\"c22e5cd2-0db1-484e-aa26-18f0b50271e4\",\"root_ids\":[\"1004\"],\"roots\":{\"1004\":\"136ca470-19fb-4147-b0cb-42e6c243fbbe\"}}];\n",
       "  root.Bokeh.embed.embed_items_notebook(docs_json, render_items);\n",
       "\n",
       "  }\n",
       "  if (root.Bokeh !== undefined) {\n",
       "    embed_document(root);\n",
       "  } else {\n",
       "    var attempts = 0;\n",
       "    var timer = setInterval(function(root) {\n",
       "      if (root.Bokeh !== undefined) {\n",
       "        clearInterval(timer);\n",
       "        embed_document(root);\n",
       "      } else {\n",
       "        attempts++;\n",
       "        if (attempts > 100) {\n",
       "          clearInterval(timer);\n",
       "          console.log(\"Bokeh: ERROR: Unable to run BokehJS code because BokehJS library is missing\");\n",
       "        }\n",
       "      }\n",
       "    }, 10, root)\n",
       "  }\n",
       "})(window);"
      ],
      "application/vnd.bokehjs_exec.v0+json": ""
     },
     "metadata": {
      "application/vnd.bokehjs_exec.v0+json": {
       "id": "1004"
      }
     },
     "output_type": "display_data"
    },
    {
     "data": {
      "image/png": "[encoded data removed]",
      "text/plain": [
       "<IPython.core.display.Image object>"
      ]
     },
     "execution_count": 37,
     "metadata": {},
     "output_type": "execute_result"
    }
   ],
   "source": [
    "# |ψ| vs θ\n",
    "fig = initialize_fig(title = '|ψ|-θ plot ',\n",
    "                     x_axis_label = 'Volumertic water content (θ)',\n",
    "                     y_axis_label = 'Pressure Head |ψ|(θ)',\n",
    "                     y_axis_type = 'log',\n",
    "                     tooltips = [\n",
    "                         ('θ',      '$x'),\n",
    "                         ('|ψ|(θ)', '$y'),\n",
    "                     ],\n",
    "                     plot_height = 300,\n",
    "                    )\n",
    "\n",
    "fig.title.text_font_size = '15pt'\n",
    "fig.xaxis.axis_label_text_font_size = '15pt'\n",
    "fig.yaxis.axis_label_text_font_size = '15pt'\n",
    "\n",
    "fig.circle(df.index, df.PH, fill_color='red', size=10, legend_label=f'Soil')\n",
    "fig.line(df.index, df.PH, line_width=3, line_color='red', legend_label=f'Soil')\n",
    "\n",
    "fig.legend.location = 'top_right'\n",
    "fig.legend.click_policy='hide'\n",
    "bp.show(fig)\n",
    "\n",
    "export_png(fig, filename=f'{BASE_DIR}/Test/problem_9_a.png', height=200, width=300)\n",
    "Image(f'{BASE_DIR}/Test/problem_9_a.png')\n"
   ]
  },
  {
   "cell_type": "markdown",
   "id": "9af9c5dc-f8aa-4c29-84a4-45356f9f298a",
   "metadata": {},
   "source": [
    "#### bonus"
   ]
  },
  {
   "cell_type": "markdown",
   "id": "4c662959-0577-4339-92af-9df4a1048866",
   "metadata": {},
   "source": [
    "#### b. the height of the top of the capillary fringe for the hydrostatic conditions is equal to the absolute value of the air-entry pressure head, i.e. ψ_ae which is 29 cm. Therefore, the position (height) of the top of the capillary fringe is 1.2 - 0.29 = 0.91 m from the surface."
   ]
  },
  {
   "cell_type": "code",
   "execution_count": 38,
   "id": "4e8181ce-6061-4b7c-b9f9-688f811ce4c9",
   "metadata": {},
   "outputs": [],
   "source": [
    "# effective moisture content \n",
    "\n",
    "# for water table\n",
    "\n",
    "θ_water_table = n # θ = water content\n",
    "θ_effective_water_table = (θ_water_table - θr) / (n - θr)"
   ]
  },
  {
   "cell_type": "code",
   "execution_count": 39,
   "id": "cc38c5e5-524e-4e0b-b55f-a9c4869fa8a9",
   "metadata": {},
   "outputs": [
    {
     "data": {
      "text/plain": [
       "1.0"
      ]
     },
     "execution_count": 39,
     "metadata": {},
     "output_type": "execute_result"
    }
   ],
   "source": [
    "θ_effective_water_table"
   ]
  },
  {
   "cell_type": "code",
   "execution_count": 40,
   "id": "90ce81e3-58d0-423f-99b1-7391a837ef2f",
   "metadata": {},
   "outputs": [],
   "source": [
    "# for top of capillary fringe\n",
    "# the actual relationship has to do with the recchanrge rate R\n",
    "# for the capillary fringes, the R << Kh, as a result the effect of R can be neglected and thus can be assumed as\n",
    "θ_cf = n\n",
    "θ_effective_cf = (θ_cf - θr) / (n - θr)"
   ]
  },
  {
   "cell_type": "code",
   "execution_count": 46,
   "id": "82c4e227-2a73-44f2-aa7a-d4e4f5ada18a",
   "metadata": {},
   "outputs": [
    {
     "data": {
      "text/plain": [
       "1.0"
      ]
     },
     "execution_count": 46,
     "metadata": {},
     "output_type": "execute_result"
    }
   ],
   "source": [
    "θ_effective_cf"
   ]
  },
  {
   "cell_type": "code",
   "execution_count": 42,
   "id": "e4f5af97-c876-41d4-9c89-414872661a97",
   "metadata": {},
   "outputs": [
    {
     "data": {
      "text/plain": [
       "0.6619903878841963"
      ]
     },
     "execution_count": 42,
     "metadata": {},
     "output_type": "execute_result"
    }
   ],
   "source": [
    "# for the surface\n",
    "# since this is a hydrostatic condition, assuming recharge rate R to be 0\n",
    "R = 0\n",
    "z0 = 1.2 # m; depth to the water table\n",
    "z = 0. # depth at surface\n",
    "\n",
    "# using relation 8.12b from p353\n",
    "θ_surface = n * (0 + (1. - 0) * ( (z0 - z) / (ψ_ae * (1. + 0)) )**((-2*b - 3)/b) )**(1/(2*b + 3))\n",
    "θ_surface"
   ]
  },
  {
   "cell_type": "code",
   "execution_count": 43,
   "id": "ee37bc28-bd9d-4aa1-b3b8-3f931af72e99",
   "metadata": {},
   "outputs": [],
   "source": [
    "θ_effective_surface = (θ_surface - θr) / (n - θr)"
   ]
  },
  {
   "cell_type": "code",
   "execution_count": 44,
   "id": "e4c6558c-3ef0-44d1-8a95-e49a10beb27e",
   "metadata": {},
   "outputs": [
    {
     "data": {
      "text/plain": [
       "1.6049759697104908"
      ]
     },
     "execution_count": 44,
     "metadata": {},
     "output_type": "execute_result"
    }
   ],
   "source": [
    "θ_effective_surface"
   ]
  },
  {
   "cell_type": "code",
   "execution_count": 45,
   "id": "4e53ec96-c927-4905-9312-ff6c7a777c3e",
   "metadata": {},
   "outputs": [
    {
     "data": {
      "text/plain": [
       "1.6049759697104908"
      ]
     },
     "execution_count": 45,
     "metadata": {},
     "output_type": "execute_result"
    }
   ],
   "source": [
    "θ_effective_surface"
   ]
  },
  {
   "cell_type": "code",
   "execution_count": null,
   "id": "bb411292-0d24-4496-bf9e-21d375040a54",
   "metadata": {},
   "outputs": [],
   "source": []
  },
  {
   "cell_type": "code",
   "execution_count": null,
   "id": "3d44a94a-3858-4d86-ac25-a34864ff7ff5",
   "metadata": {},
   "outputs": [],
   "source": []
  },
  {
   "cell_type": "code",
   "execution_count": null,
   "id": "0ce9f980-9236-4d0e-b381-f0e50d63d8e2",
   "metadata": {},
   "outputs": [],
   "source": []
  }
 ],
 "metadata": {
  "kernelspec": {
   "display_name": "Python [conda env:cbias] *",
   "language": "python",
   "name": "conda-env-cbias-py"
  },
  "language_info": {
   "codemirror_mode": {
    "name": "ipython",
    "version": 3
   },
   "file_extension": ".py",
   "mimetype": "text/x-python",
   "name": "python",
   "nbconvert_exporter": "python",
   "pygments_lexer": "ipython3",
   "version": "3.9.4"
  }
 },
 "nbformat": 4,
 "nbformat_minor": 5
}
