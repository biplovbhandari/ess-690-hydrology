{
 "cells": [
  {
   "cell_type": "code",
   "execution_count": 1,
   "id": "8b3641e2-738d-451c-b1ba-ef1d5879a6f0",
   "metadata": {},
   "outputs": [
    {
     "name": "stdout",
     "output_type": "stream",
     "text": [
      "/Users/biplovbhandari/UAH/Fall_2021/ESS_690_Hydrology/ess-690-hydrology\n"
     ]
    },
    {
     "data": {
      "text/html": [
       "\n",
       "    <div class=\"bk-root\">\n",
       "        <a href=\"https://bokeh.org\" target=\"_blank\" class=\"bk-logo bk-logo-small bk-logo-notebook\"></a>\n",
       "        <span id=\"1002\">Loading BokehJS ...</span>\n",
       "    </div>"
      ]
     },
     "metadata": {},
     "output_type": "display_data"
    },
    {
     "data": {
      "application/javascript": [
       "\n",
       "(function(root) {\n",
       "  function now() {\n",
       "    return new Date();\n",
       "  }\n",
       "\n",
       "  var force = true;\n",
       "\n",
       "  if (typeof root._bokeh_onload_callbacks === \"undefined\" || force === true) {\n",
       "    root._bokeh_onload_callbacks = [];\n",
       "    root._bokeh_is_loading = undefined;\n",
       "  }\n",
       "\n",
       "  var JS_MIME_TYPE = 'application/javascript';\n",
       "  var HTML_MIME_TYPE = 'text/html';\n",
       "  var EXEC_MIME_TYPE = 'application/vnd.bokehjs_exec.v0+json';\n",
       "  var CLASS_NAME = 'output_bokeh rendered_html';\n",
       "\n",
       "  /**\n",
       "   * Render data to the DOM node\n",
       "   */\n",
       "  function render(props, node) {\n",
       "    var script = document.createElement(\"script\");\n",
       "    node.appendChild(script);\n",
       "  }\n",
       "\n",
       "  /**\n",
       "   * Handle when an output is cleared or removed\n",
       "   */\n",
       "  function handleClearOutput(event, handle) {\n",
       "    var cell = handle.cell;\n",
       "\n",
       "    var id = cell.output_area._bokeh_element_id;\n",
       "    var server_id = cell.output_area._bokeh_server_id;\n",
       "    // Clean up Bokeh references\n",
       "    if (id != null && id in Bokeh.index) {\n",
       "      Bokeh.index[id].model.document.clear();\n",
       "      delete Bokeh.index[id];\n",
       "    }\n",
       "\n",
       "    if (server_id !== undefined) {\n",
       "      // Clean up Bokeh references\n",
       "      var cmd = \"from bokeh.io.state import curstate; print(curstate().uuid_to_server['\" + server_id + \"'].get_sessions()[0].document.roots[0]._id)\";\n",
       "      cell.notebook.kernel.execute(cmd, {\n",
       "        iopub: {\n",
       "          output: function(msg) {\n",
       "            var id = msg.content.text.trim();\n",
       "            if (id in Bokeh.index) {\n",
       "              Bokeh.index[id].model.document.clear();\n",
       "              delete Bokeh.index[id];\n",
       "            }\n",
       "          }\n",
       "        }\n",
       "      });\n",
       "      // Destroy server and session\n",
       "      var cmd = \"import bokeh.io.notebook as ion; ion.destroy_server('\" + server_id + \"')\";\n",
       "      cell.notebook.kernel.execute(cmd);\n",
       "    }\n",
       "  }\n",
       "\n",
       "  /**\n",
       "   * Handle when a new output is added\n",
       "   */\n",
       "  function handleAddOutput(event, handle) {\n",
       "    var output_area = handle.output_area;\n",
       "    var output = handle.output;\n",
       "\n",
       "    // limit handleAddOutput to display_data with EXEC_MIME_TYPE content only\n",
       "    if ((output.output_type != \"display_data\") || (!Object.prototype.hasOwnProperty.call(output.data, EXEC_MIME_TYPE))) {\n",
       "      return\n",
       "    }\n",
       "\n",
       "    var toinsert = output_area.element.find(\".\" + CLASS_NAME.split(' ')[0]);\n",
       "\n",
       "    if (output.metadata[EXEC_MIME_TYPE][\"id\"] !== undefined) {\n",
       "      toinsert[toinsert.length - 1].firstChild.textContent = output.data[JS_MIME_TYPE];\n",
       "      // store reference to embed id on output_area\n",
       "      output_area._bokeh_element_id = output.metadata[EXEC_MIME_TYPE][\"id\"];\n",
       "    }\n",
       "    if (output.metadata[EXEC_MIME_TYPE][\"server_id\"] !== undefined) {\n",
       "      var bk_div = document.createElement(\"div\");\n",
       "      bk_div.innerHTML = output.data[HTML_MIME_TYPE];\n",
       "      var script_attrs = bk_div.children[0].attributes;\n",
       "      for (var i = 0; i < script_attrs.length; i++) {\n",
       "        toinsert[toinsert.length - 1].firstChild.setAttribute(script_attrs[i].name, script_attrs[i].value);\n",
       "        toinsert[toinsert.length - 1].firstChild.textContent = bk_div.children[0].textContent\n",
       "      }\n",
       "      // store reference to server id on output_area\n",
       "      output_area._bokeh_server_id = output.metadata[EXEC_MIME_TYPE][\"server_id\"];\n",
       "    }\n",
       "  }\n",
       "\n",
       "  function register_renderer(events, OutputArea) {\n",
       "\n",
       "    function append_mime(data, metadata, element) {\n",
       "      // create a DOM node to render to\n",
       "      var toinsert = this.create_output_subarea(\n",
       "        metadata,\n",
       "        CLASS_NAME,\n",
       "        EXEC_MIME_TYPE\n",
       "      );\n",
       "      this.keyboard_manager.register_events(toinsert);\n",
       "      // Render to node\n",
       "      var props = {data: data, metadata: metadata[EXEC_MIME_TYPE]};\n",
       "      render(props, toinsert[toinsert.length - 1]);\n",
       "      element.append(toinsert);\n",
       "      return toinsert\n",
       "    }\n",
       "\n",
       "    /* Handle when an output is cleared or removed */\n",
       "    events.on('clear_output.CodeCell', handleClearOutput);\n",
       "    events.on('delete.Cell', handleClearOutput);\n",
       "\n",
       "    /* Handle when a new output is added */\n",
       "    events.on('output_added.OutputArea', handleAddOutput);\n",
       "\n",
       "    /**\n",
       "     * Register the mime type and append_mime function with output_area\n",
       "     */\n",
       "    OutputArea.prototype.register_mime_type(EXEC_MIME_TYPE, append_mime, {\n",
       "      /* Is output safe? */\n",
       "      safe: true,\n",
       "      /* Index of renderer in `output_area.display_order` */\n",
       "      index: 0\n",
       "    });\n",
       "  }\n",
       "\n",
       "  // register the mime type if in Jupyter Notebook environment and previously unregistered\n",
       "  if (root.Jupyter !== undefined) {\n",
       "    var events = require('base/js/events');\n",
       "    var OutputArea = require('notebook/js/outputarea').OutputArea;\n",
       "\n",
       "    if (OutputArea.prototype.mime_types().indexOf(EXEC_MIME_TYPE) == -1) {\n",
       "      register_renderer(events, OutputArea);\n",
       "    }\n",
       "  }\n",
       "\n",
       "  \n",
       "  if (typeof (root._bokeh_timeout) === \"undefined\" || force === true) {\n",
       "    root._bokeh_timeout = Date.now() + 5000;\n",
       "    root._bokeh_failed_load = false;\n",
       "  }\n",
       "\n",
       "  var NB_LOAD_WARNING = {'data': {'text/html':\n",
       "     \"<div style='background-color: #fdd'>\\n\"+\n",
       "     \"<p>\\n\"+\n",
       "     \"BokehJS does not appear to have successfully loaded. If loading BokehJS from CDN, this \\n\"+\n",
       "     \"may be due to a slow or bad network connection. Possible fixes:\\n\"+\n",
       "     \"</p>\\n\"+\n",
       "     \"<ul>\\n\"+\n",
       "     \"<li>re-rerun `output_notebook()` to attempt to load from CDN again, or</li>\\n\"+\n",
       "     \"<li>use INLINE resources instead, as so:</li>\\n\"+\n",
       "     \"</ul>\\n\"+\n",
       "     \"<code>\\n\"+\n",
       "     \"from bokeh.resources import INLINE\\n\"+\n",
       "     \"output_notebook(resources=INLINE)\\n\"+\n",
       "     \"</code>\\n\"+\n",
       "     \"</div>\"}};\n",
       "\n",
       "  function display_loaded() {\n",
       "    var el = document.getElementById(\"1002\");\n",
       "    if (el != null) {\n",
       "      el.textContent = \"BokehJS is loading...\";\n",
       "    }\n",
       "    if (root.Bokeh !== undefined) {\n",
       "      if (el != null) {\n",
       "        el.textContent = \"BokehJS \" + root.Bokeh.version + \" successfully loaded.\";\n",
       "      }\n",
       "    } else if (Date.now() < root._bokeh_timeout) {\n",
       "      setTimeout(display_loaded, 100)\n",
       "    }\n",
       "  }\n",
       "\n",
       "\n",
       "  function run_callbacks() {\n",
       "    try {\n",
       "      root._bokeh_onload_callbacks.forEach(function(callback) {\n",
       "        if (callback != null)\n",
       "          callback();\n",
       "      });\n",
       "    } finally {\n",
       "      delete root._bokeh_onload_callbacks\n",
       "    }\n",
       "    console.debug(\"Bokeh: all callbacks have finished\");\n",
       "  }\n",
       "\n",
       "  function load_libs(css_urls, js_urls, callback) {\n",
       "    if (css_urls == null) css_urls = [];\n",
       "    if (js_urls == null) js_urls = [];\n",
       "\n",
       "    root._bokeh_onload_callbacks.push(callback);\n",
       "    if (root._bokeh_is_loading > 0) {\n",
       "      console.debug(\"Bokeh: BokehJS is being loaded, scheduling callback at\", now());\n",
       "      return null;\n",
       "    }\n",
       "    if (js_urls == null || js_urls.length === 0) {\n",
       "      run_callbacks();\n",
       "      return null;\n",
       "    }\n",
       "    console.debug(\"Bokeh: BokehJS not loaded, scheduling load and callback at\", now());\n",
       "    root._bokeh_is_loading = css_urls.length + js_urls.length;\n",
       "\n",
       "    function on_load() {\n",
       "      root._bokeh_is_loading--;\n",
       "      if (root._bokeh_is_loading === 0) {\n",
       "        console.debug(\"Bokeh: all BokehJS libraries/stylesheets loaded\");\n",
       "        run_callbacks()\n",
       "      }\n",
       "    }\n",
       "\n",
       "    function on_error(url) {\n",
       "      console.error(\"failed to load \" + url);\n",
       "    }\n",
       "\n",
       "    for (let i = 0; i < css_urls.length; i++) {\n",
       "      const url = css_urls[i];\n",
       "      const element = document.createElement(\"link\");\n",
       "      element.onload = on_load;\n",
       "      element.onerror = on_error.bind(null, url);\n",
       "      element.rel = \"stylesheet\";\n",
       "      element.type = \"text/css\";\n",
       "      element.href = url;\n",
       "      console.debug(\"Bokeh: injecting link tag for BokehJS stylesheet: \", url);\n",
       "      document.body.appendChild(element);\n",
       "    }\n",
       "\n",
       "    const hashes = {\"https://cdn.bokeh.org/bokeh/release/bokeh-2.3.2.min.js\": \"XypntL49z55iwGVUW4qsEu83zKL3XEcz0MjuGOQ9SlaaQ68X/g+k1FcioZi7oQAc\", \"https://cdn.bokeh.org/bokeh/release/bokeh-tables-2.3.2.min.js\": \"bEsM86IHGDTLCS0Zod8a8WM6Y4+lafAL/eSiyQcuPzinmWNgNO2/olUF0Z2Dkn5i\", \"https://cdn.bokeh.org/bokeh/release/bokeh-widgets-2.3.2.min.js\": \"TX0gSQTdXTTeScqxj6PVQxTiRW8DOoGVwinyi1D3kxv7wuxQ02XkOxv0xwiypcAH\"};\n",
       "\n",
       "    for (let i = 0; i < js_urls.length; i++) {\n",
       "      const url = js_urls[i];\n",
       "      const element = document.createElement('script');\n",
       "      element.onload = on_load;\n",
       "      element.onerror = on_error.bind(null, url);\n",
       "      element.async = false;\n",
       "      element.src = url;\n",
       "      if (url in hashes) {\n",
       "        element.crossOrigin = \"anonymous\";\n",
       "        element.integrity = \"sha384-\" + hashes[url];\n",
       "      }\n",
       "      console.debug(\"Bokeh: injecting script tag for BokehJS library: \", url);\n",
       "      document.head.appendChild(element);\n",
       "    }\n",
       "  };\n",
       "\n",
       "  function inject_raw_css(css) {\n",
       "    const element = document.createElement(\"style\");\n",
       "    element.appendChild(document.createTextNode(css));\n",
       "    document.body.appendChild(element);\n",
       "  }\n",
       "\n",
       "  \n",
       "  var js_urls = [\"https://cdn.bokeh.org/bokeh/release/bokeh-2.3.2.min.js\", \"https://cdn.bokeh.org/bokeh/release/bokeh-widgets-2.3.2.min.js\", \"https://cdn.bokeh.org/bokeh/release/bokeh-tables-2.3.2.min.js\"];\n",
       "  var css_urls = [];\n",
       "  \n",
       "\n",
       "  var inline_js = [\n",
       "    function(Bokeh) {\n",
       "      Bokeh.set_log_level(\"info\");\n",
       "    },\n",
       "    function(Bokeh) {\n",
       "    \n",
       "    \n",
       "    }\n",
       "  ];\n",
       "\n",
       "  function run_inline_js() {\n",
       "    \n",
       "    if (root.Bokeh !== undefined || force === true) {\n",
       "      \n",
       "    for (var i = 0; i < inline_js.length; i++) {\n",
       "      inline_js[i].call(root, root.Bokeh);\n",
       "    }\n",
       "    if (force === true) {\n",
       "        display_loaded();\n",
       "      }} else if (Date.now() < root._bokeh_timeout) {\n",
       "      setTimeout(run_inline_js, 100);\n",
       "    } else if (!root._bokeh_failed_load) {\n",
       "      console.log(\"Bokeh: BokehJS failed to load within specified timeout.\");\n",
       "      root._bokeh_failed_load = true;\n",
       "    } else if (force !== true) {\n",
       "      var cell = $(document.getElementById(\"1002\")).parents('.cell').data().cell;\n",
       "      cell.output_area.append_execute_result(NB_LOAD_WARNING)\n",
       "    }\n",
       "\n",
       "  }\n",
       "\n",
       "  if (root._bokeh_is_loading === 0) {\n",
       "    console.debug(\"Bokeh: BokehJS loaded, going straight to plotting\");\n",
       "    run_inline_js();\n",
       "  } else {\n",
       "    load_libs(css_urls, js_urls, function() {\n",
       "      console.debug(\"Bokeh: BokehJS plotting callback run at\", now());\n",
       "      run_inline_js();\n",
       "    });\n",
       "  }\n",
       "}(window));"
      ],
      "application/vnd.bokehjs_load.v0+json": "\n(function(root) {\n  function now() {\n    return new Date();\n  }\n\n  var force = true;\n\n  if (typeof root._bokeh_onload_callbacks === \"undefined\" || force === true) {\n    root._bokeh_onload_callbacks = [];\n    root._bokeh_is_loading = undefined;\n  }\n\n  \n\n  \n  if (typeof (root._bokeh_timeout) === \"undefined\" || force === true) {\n    root._bokeh_timeout = Date.now() + 5000;\n    root._bokeh_failed_load = false;\n  }\n\n  var NB_LOAD_WARNING = {'data': {'text/html':\n     \"<div style='background-color: #fdd'>\\n\"+\n     \"<p>\\n\"+\n     \"BokehJS does not appear to have successfully loaded. If loading BokehJS from CDN, this \\n\"+\n     \"may be due to a slow or bad network connection. Possible fixes:\\n\"+\n     \"</p>\\n\"+\n     \"<ul>\\n\"+\n     \"<li>re-rerun `output_notebook()` to attempt to load from CDN again, or</li>\\n\"+\n     \"<li>use INLINE resources instead, as so:</li>\\n\"+\n     \"</ul>\\n\"+\n     \"<code>\\n\"+\n     \"from bokeh.resources import INLINE\\n\"+\n     \"output_notebook(resources=INLINE)\\n\"+\n     \"</code>\\n\"+\n     \"</div>\"}};\n\n  function display_loaded() {\n    var el = document.getElementById(\"1002\");\n    if (el != null) {\n      el.textContent = \"BokehJS is loading...\";\n    }\n    if (root.Bokeh !== undefined) {\n      if (el != null) {\n        el.textContent = \"BokehJS \" + root.Bokeh.version + \" successfully loaded.\";\n      }\n    } else if (Date.now() < root._bokeh_timeout) {\n      setTimeout(display_loaded, 100)\n    }\n  }\n\n\n  function run_callbacks() {\n    try {\n      root._bokeh_onload_callbacks.forEach(function(callback) {\n        if (callback != null)\n          callback();\n      });\n    } finally {\n      delete root._bokeh_onload_callbacks\n    }\n    console.debug(\"Bokeh: all callbacks have finished\");\n  }\n\n  function load_libs(css_urls, js_urls, callback) {\n    if (css_urls == null) css_urls = [];\n    if (js_urls == null) js_urls = [];\n\n    root._bokeh_onload_callbacks.push(callback);\n    if (root._bokeh_is_loading > 0) {\n      console.debug(\"Bokeh: BokehJS is being loaded, scheduling callback at\", now());\n      return null;\n    }\n    if (js_urls == null || js_urls.length === 0) {\n      run_callbacks();\n      return null;\n    }\n    console.debug(\"Bokeh: BokehJS not loaded, scheduling load and callback at\", now());\n    root._bokeh_is_loading = css_urls.length + js_urls.length;\n\n    function on_load() {\n      root._bokeh_is_loading--;\n      if (root._bokeh_is_loading === 0) {\n        console.debug(\"Bokeh: all BokehJS libraries/stylesheets loaded\");\n        run_callbacks()\n      }\n    }\n\n    function on_error(url) {\n      console.error(\"failed to load \" + url);\n    }\n\n    for (let i = 0; i < css_urls.length; i++) {\n      const url = css_urls[i];\n      const element = document.createElement(\"link\");\n      element.onload = on_load;\n      element.onerror = on_error.bind(null, url);\n      element.rel = \"stylesheet\";\n      element.type = \"text/css\";\n      element.href = url;\n      console.debug(\"Bokeh: injecting link tag for BokehJS stylesheet: \", url);\n      document.body.appendChild(element);\n    }\n\n    const hashes = {\"https://cdn.bokeh.org/bokeh/release/bokeh-2.3.2.min.js\": \"XypntL49z55iwGVUW4qsEu83zKL3XEcz0MjuGOQ9SlaaQ68X/g+k1FcioZi7oQAc\", \"https://cdn.bokeh.org/bokeh/release/bokeh-tables-2.3.2.min.js\": \"bEsM86IHGDTLCS0Zod8a8WM6Y4+lafAL/eSiyQcuPzinmWNgNO2/olUF0Z2Dkn5i\", \"https://cdn.bokeh.org/bokeh/release/bokeh-widgets-2.3.2.min.js\": \"TX0gSQTdXTTeScqxj6PVQxTiRW8DOoGVwinyi1D3kxv7wuxQ02XkOxv0xwiypcAH\"};\n\n    for (let i = 0; i < js_urls.length; i++) {\n      const url = js_urls[i];\n      const element = document.createElement('script');\n      element.onload = on_load;\n      element.onerror = on_error.bind(null, url);\n      element.async = false;\n      element.src = url;\n      if (url in hashes) {\n        element.crossOrigin = \"anonymous\";\n        element.integrity = \"sha384-\" + hashes[url];\n      }\n      console.debug(\"Bokeh: injecting script tag for BokehJS library: \", url);\n      document.head.appendChild(element);\n    }\n  };\n\n  function inject_raw_css(css) {\n    const element = document.createElement(\"style\");\n    element.appendChild(document.createTextNode(css));\n    document.body.appendChild(element);\n  }\n\n  \n  var js_urls = [\"https://cdn.bokeh.org/bokeh/release/bokeh-2.3.2.min.js\", \"https://cdn.bokeh.org/bokeh/release/bokeh-widgets-2.3.2.min.js\", \"https://cdn.bokeh.org/bokeh/release/bokeh-tables-2.3.2.min.js\"];\n  var css_urls = [];\n  \n\n  var inline_js = [\n    function(Bokeh) {\n      Bokeh.set_log_level(\"info\");\n    },\n    function(Bokeh) {\n    \n    \n    }\n  ];\n\n  function run_inline_js() {\n    \n    if (root.Bokeh !== undefined || force === true) {\n      \n    for (var i = 0; i < inline_js.length; i++) {\n      inline_js[i].call(root, root.Bokeh);\n    }\n    if (force === true) {\n        display_loaded();\n      }} else if (Date.now() < root._bokeh_timeout) {\n      setTimeout(run_inline_js, 100);\n    } else if (!root._bokeh_failed_load) {\n      console.log(\"Bokeh: BokehJS failed to load within specified timeout.\");\n      root._bokeh_failed_load = true;\n    } else if (force !== true) {\n      var cell = $(document.getElementById(\"1002\")).parents('.cell').data().cell;\n      cell.output_area.append_execute_result(NB_LOAD_WARNING)\n    }\n\n  }\n\n  if (root._bokeh_is_loading === 0) {\n    console.debug(\"Bokeh: BokehJS loaded, going straight to plotting\");\n    run_inline_js();\n  } else {\n    load_libs(css_urls, js_urls, function() {\n      console.debug(\"Bokeh: BokehJS plotting callback run at\", now());\n      run_inline_js();\n    });\n  }\n}(window));"
     },
     "metadata": {},
     "output_type": "display_data"
    }
   ],
   "source": [
    "import os\n",
    "BASE_DIR = os.path.dirname(os.path.dirname(os.path.abspath('__file__')))\n",
    "print(BASE_DIR)\n",
    "\n",
    "import math\n",
    "\n",
    "import numpy as np\n",
    "import pandas as pd\n",
    "\n",
    "import bokeh.plotting as bp\n",
    "from bokeh.models import tools as bmt, ColumnDataSource\n",
    "\n",
    "from bokeh.io import output_notebook, export_png\n",
    "output_notebook()\n",
    "\n",
    "from IPython.display import Image"
   ]
  },
  {
   "cell_type": "code",
   "execution_count": 2,
   "id": "ed965913-7f7f-454b-a290-8941bcbaa009",
   "metadata": {},
   "outputs": [
    {
     "data": {
      "text/plain": [
       "'/Users/biplovbhandari/UAH/Fall_2021/ESS_690_Hydrology/ess-690-hydrology/HW#3'"
      ]
     },
     "execution_count": 2,
     "metadata": {},
     "output_type": "execute_result"
    }
   ],
   "source": [
    "BASE_DIR = f'{BASE_DIR}/HW#3'\n",
    "BASE_DIR"
   ]
  },
  {
   "cell_type": "code",
   "execution_count": 3,
   "id": "a06bfa86-dabd-4def-831f-9e0f29d8fa9e",
   "metadata": {},
   "outputs": [],
   "source": [
    "def initialize_fig(title: str = 'your_title',\n",
    "                   x_axis_label: str = 'x_axis_label',\n",
    "                   x_axis_type: str = 'auto',\n",
    "                   y_axis_label: str = 'y_axis_label',\n",
    "                   y_axis_type: str = 'auto',\n",
    "                   tools: str = 'pan,wheel_zoom,box_zoom,reset',\n",
    "                   tooltips: list = [],\n",
    "                   formatters: dict = {},\n",
    "                   plot_height: int = 300,\n",
    "                   fig_sizing_mode: str = 'scale_width',\n",
    "                   ) -> bp.figure:\n",
    "    # bokeh style\n",
    "    TOOLS = tools\n",
    "    hover_tool = bmt.HoverTool(tooltips=tooltips, formatters=formatters)\n",
    "\n",
    "    fig = bp.figure(title=title,\n",
    "                    x_axis_label=x_axis_label,\n",
    "                    x_axis_type=x_axis_type,\n",
    "                    y_axis_label=y_axis_label,\n",
    "                    y_axis_type=y_axis_type,\n",
    "                    plot_height=plot_height,\n",
    "                    tools=TOOLS,\n",
    "                   )\n",
    "    fig.add_tools(hover_tool)\n",
    "    fig.sizing_mode = fig_sizing_mode\n",
    "\n",
    "    return fig"
   ]
  },
  {
   "cell_type": "markdown",
   "id": "175c3dc0-cc0c-4c29-a585-79a154d36949",
   "metadata": {},
   "source": [
    "### Question 1\n",
    "\n",
    "#### 1.\tChapter 6, Exercise 1a estimate evaporation with the water balance equation."
   ]
  },
  {
   "cell_type": "code",
   "execution_count": 4,
   "id": "2b5ba214-6bc7-4ac4-a47b-0b8db2b3e5a4",
   "metadata": {},
   "outputs": [],
   "source": [
    "A_basin = 52.1 # area of basin in km2\n",
    "A_basin = A_basin * 1e6 # area of basin in m2\n",
    "A_lake = 4.2 # area of lake in km2\n",
    "A_lake = A_lake * 1e6 # area of lake in m2\n",
    "\n",
    "P = 1083 # precipitation in mm\n",
    "P = P / 1000. # precipitation in m\n",
    "P = P * A_lake # precipitation in m3 for lake\n",
    "\n",
    "Q_in = 2.33e7 # discharge inflow in m3\n",
    "GW_in = 2.2e5 # ground-water inflow in m3\n",
    "GW_out = 0.6e5 # ground-water outflow in m3\n",
    "Q_out = 2.7e7 # discharge outflow in m3\n",
    "\n",
    "D = 108 # depth of water in mm\n",
    "D = D / 1000. # depth of water in m\n",
    "D = D * A_lake # depth of water in m3\n",
    "\n",
    "# using the water-balance equation\n",
    "# inflow - outflow = change in storage\n",
    "E = GW_in + P + Q_in - GW_out - Q_out - D"
   ]
  },
  {
   "cell_type": "code",
   "execution_count": 5,
   "id": "39fb9209-f44a-4351-a1cd-c2f74667e29c",
   "metadata": {},
   "outputs": [
    {
     "data": {
      "text/plain": [
       "555000.0"
      ]
     },
     "execution_count": 5,
     "metadata": {},
     "output_type": "execute_result"
    }
   ],
   "source": [
    "E # volumertic in m3"
   ]
  },
  {
   "cell_type": "code",
   "execution_count": 6,
   "id": "6f9afe56-cb63-4f6f-966f-9e45161d64b3",
   "metadata": {},
   "outputs": [],
   "source": [
    "E = E / A_lake # depth in m"
   ]
  },
  {
   "cell_type": "code",
   "execution_count": 7,
   "id": "53b9e11a-bd7d-4ab8-8569-aa47d5d64fe0",
   "metadata": {},
   "outputs": [
    {
     "data": {
      "text/plain": [
       "0.13214285714285715"
      ]
     },
     "execution_count": 7,
     "metadata": {},
     "output_type": "execute_result"
    }
   ],
   "source": [
    "E"
   ]
  },
  {
   "cell_type": "code",
   "execution_count": null,
   "id": "27c74dc4-3639-4425-a126-2b906df21266",
   "metadata": {},
   "outputs": [],
   "source": []
  },
  {
   "cell_type": "code",
   "execution_count": null,
   "id": "17d13fd2-c1ab-4177-acce-26b442666ed4",
   "metadata": {},
   "outputs": [],
   "source": []
  },
  {
   "cell_type": "markdown",
   "id": "df56dfe2-0f4b-4fd5-8454-d8f7dd9c1da2",
   "metadata": {},
   "source": [
    "### Question 2\n",
    "\n",
    "#### 1.\tChapter 6, Exercise 3a."
   ]
  },
  {
   "cell_type": "code",
   "execution_count": 8,
   "id": "1a4aee46-03b2-47bc-ae44-87eb9c032da8",
   "metadata": {},
   "outputs": [],
   "source": [
    "Ta = 22.3 # temperature at the 2m in degree celsius\n",
    "RH = 0.68 # relative humidity\n",
    "u = 2.16 # wind-speed at 2m in m/s\n",
    "Ts = 23.7 # surface temperature in degree celsius\n",
    "P = 97.3 # pressure in kPa\n",
    "Kin = 16.2 # net shortwave radiation input in MJ/m2.d\n",
    "α = 0.057 # albedo\n",
    "Lin = 30.6 # net longwave radiation input in MJ/m2.d"
   ]
  },
  {
   "cell_type": "markdown",
   "id": "ed2d88a5-2806-4769-bd74-747217b62b1b",
   "metadata": {},
   "source": [
    "#### Mass Transfer"
   ]
  },
  {
   "cell_type": "code",
   "execution_count": 9,
   "id": "092e2396-e78a-460d-83b9-b0835167f132",
   "metadata": {},
   "outputs": [
    {
     "data": {
      "text/plain": [
       "2.9395638512166538"
      ]
     },
     "execution_count": 9,
     "metadata": {},
     "output_type": "execute_result"
    }
   ],
   "source": [
    "es = 0.611 * math.exp((17.3 * Ts) / (Ts + 237.3))\n",
    "es # kPa"
   ]
  },
  {
   "cell_type": "code",
   "execution_count": 10,
   "id": "ef77fa00-e0fb-4278-b6a3-f9b253d74b98",
   "metadata": {},
   "outputs": [
    {
     "data": {
      "text/plain": [
       "2.7004965700799994"
      ]
     },
     "execution_count": 10,
     "metadata": {},
     "output_type": "execute_result"
    }
   ],
   "source": [
    "e_astrik_2m = 0.611 * math.exp((17.3 * Ta) / (Ta + 237.3))\n",
    "e_astrik_2m # kPa"
   ]
  },
  {
   "cell_type": "code",
   "execution_count": 11,
   "id": "5a9e28d3-aaf7-438a-a387-657f3095c94a",
   "metadata": {},
   "outputs": [
    {
     "data": {
      "text/plain": [
       "1.8363376676543997"
      ]
     },
     "execution_count": 11,
     "metadata": {},
     "output_type": "execute_result"
    }
   ],
   "source": [
    "e_2m = RH * e_astrik_2m\n",
    "e_2m #kPa"
   ]
  },
  {
   "cell_type": "code",
   "execution_count": 12,
   "id": "81194c2c-2eb2-44c5-a700-49020c07347f",
   "metadata": {},
   "outputs": [
    {
     "data": {
      "text/plain": [
       "1.1264557920614817"
      ]
     },
     "execution_count": 12,
     "metadata": {},
     "output_type": "execute_result"
    }
   ],
   "source": [
    "# constant KE\n",
    "# Area of lake\n",
    "A = 9.4 # km2\n",
    "KE = 1.26 * math.pow(A, -0.05)\n",
    "KE"
   ]
  },
  {
   "cell_type": "code",
   "execution_count": 13,
   "id": "4cbbade5-2498-4793-9a6c-67c0f870cc2f",
   "metadata": {},
   "outputs": [
    {
     "data": {
      "text/plain": [
       "2.684308732763583"
      ]
     },
     "execution_count": 13,
     "metadata": {},
     "output_type": "execute_result"
    }
   ],
   "source": [
    "# evaporation rate\n",
    "E0 = KE * u * (es - e_2m) # mm/day\n",
    "E0 # mm/day"
   ]
  },
  {
   "cell_type": "code",
   "execution_count": null,
   "id": "cb136d51-d2c3-4356-b6c6-e1a91f044716",
   "metadata": {},
   "outputs": [],
   "source": []
  },
  {
   "cell_type": "code",
   "execution_count": null,
   "id": "c2b1b984-f273-4e5a-b30d-a9f839a5b0a1",
   "metadata": {},
   "outputs": [],
   "source": []
  },
  {
   "cell_type": "markdown",
   "id": "e4829e2c-e473-469f-87d0-c026b1e7e330",
   "metadata": {},
   "source": [
    "#### Energy Balance"
   ]
  },
  {
   "cell_type": "code",
   "execution_count": 14,
   "id": "30f0874a-ffe5-490c-997f-a5d074f47eb7",
   "metadata": {},
   "outputs": [
    {
     "data": {
      "text/plain": [
       "15.276599999999998"
      ]
     },
     "execution_count": 14,
     "metadata": {},
     "output_type": "execute_result"
    }
   ],
   "source": [
    "# Net shortwave radiation\n",
    "K = Kin * (1 - α) # MJ/m2.d\n",
    "K"
   ]
  },
  {
   "cell_type": "code",
   "execution_count": 15,
   "id": "5aef8ed8-31bf-4eea-87b2-9b6fb48ce0b9",
   "metadata": {},
   "outputs": [],
   "source": [
    "# Net longwave radiation\n",
    "# L = Lin - Lout\n",
    "εs = 0.95 # integrated effective emissivity for water\n",
    "σ = 4.9e-9 # MJ/m2.K4.d\n",
    "Lout = εs * σ * math.pow((273.15 + Ts), 4) + (1 - εs) * Lin # MJ/m2.d"
   ]
  },
  {
   "cell_type": "code",
   "execution_count": 16,
   "id": "772ad872-b189-4b1d-9fef-d6598bdb2077",
   "metadata": {},
   "outputs": [
    {
     "data": {
      "text/plain": [
       "37.676637051244946"
      ]
     },
     "execution_count": 16,
     "metadata": {},
     "output_type": "execute_result"
    }
   ],
   "source": [
    "Lout"
   ]
  },
  {
   "cell_type": "code",
   "execution_count": 17,
   "id": "a0b10f6c-33b6-4f54-b358-dcfa5a9227d5",
   "metadata": {},
   "outputs": [],
   "source": [
    "L = Lin - Lout # MJ/m2.d"
   ]
  },
  {
   "cell_type": "code",
   "execution_count": 18,
   "id": "8caebaa7-e30d-4d95-8d7d-ffd19c40ca47",
   "metadata": {},
   "outputs": [
    {
     "data": {
      "text/plain": [
       "-7.076637051244944"
      ]
     },
     "execution_count": 18,
     "metadata": {},
     "output_type": "execute_result"
    }
   ],
   "source": [
    "L"
   ]
  },
  {
   "cell_type": "code",
   "execution_count": 19,
   "id": "7332fb23-ff86-44ef-9ff6-6f4027e89a5c",
   "metadata": {},
   "outputs": [],
   "source": [
    "KH = (1.95e-4) / math.pow((math.log(2 / 0.0012)), 2) # MJ/m3.K"
   ]
  },
  {
   "cell_type": "code",
   "execution_count": 20,
   "id": "8a3ec356-b4a2-4104-8f09-bdfc40bb2cbb",
   "metadata": {},
   "outputs": [
    {
     "data": {
      "text/plain": [
       "3.54317772453322e-06"
      ]
     },
     "execution_count": 20,
     "metadata": {},
     "output_type": "execute_result"
    }
   ],
   "source": [
    "KH # MJ/m3.K"
   ]
  },
  {
   "cell_type": "code",
   "execution_count": 21,
   "id": "2bffc3a4-df53-479f-85e4-a88007667bac",
   "metadata": {},
   "outputs": [],
   "source": [
    "# upward rate of sensible-heat exchange\n",
    "H = KH * u * (Ts - Ta) # MJ/m2.sec"
   ]
  },
  {
   "cell_type": "code",
   "execution_count": 22,
   "id": "f178e702-9329-4afe-9c58-9dfb6745294e",
   "metadata": {},
   "outputs": [
    {
     "data": {
      "text/plain": [
       "0.9257387995286017"
      ]
     },
     "execution_count": 22,
     "metadata": {},
     "output_type": "execute_result"
    }
   ],
   "source": [
    "H = H * 86400. # MJ/m2.day\n",
    "H"
   ]
  },
  {
   "cell_type": "code",
   "execution_count": 23,
   "id": "9bad46d4-838a-442b-b3d1-b3c348b4f01e",
   "metadata": {},
   "outputs": [
    {
     "data": {
      "text/plain": [
       "2.444068"
      ]
     },
     "execution_count": 23,
     "metadata": {},
     "output_type": "execute_result"
    }
   ],
   "source": [
    "λv = 2.5 - 2.36e-3 * Ts # MJ/kg\n",
    "λv"
   ]
  },
  {
   "cell_type": "code",
   "execution_count": 24,
   "id": "d74dadc1-3e96-49a2-858f-a2c9afd289a1",
   "metadata": {},
   "outputs": [],
   "source": [
    "# density of water\n",
    "ρw = 996 # kg/m3\n",
    "# evaporation\n",
    "E0 = (K + L - H) / (ρw * λv) # m/day"
   ]
  },
  {
   "cell_type": "code",
   "execution_count": 25,
   "id": "d7f774d0-afb1-40de-81b6-bc5a26f91f75",
   "metadata": {},
   "outputs": [
    {
     "data": {
      "text/plain": [
       "2.9882302377960723"
      ]
     },
     "execution_count": 25,
     "metadata": {},
     "output_type": "execute_result"
    }
   ],
   "source": [
    "E0 = E0 * 1000. # mm/day\n",
    "E0"
   ]
  },
  {
   "cell_type": "code",
   "execution_count": null,
   "id": "4836a575-3ca9-44b7-9dea-00bc2ea5797e",
   "metadata": {},
   "outputs": [],
   "source": []
  },
  {
   "cell_type": "markdown",
   "id": "0df0c6a7-c39f-49fc-92e2-5947f6e4438b",
   "metadata": {},
   "source": [
    "#### Combination"
   ]
  },
  {
   "cell_type": "code",
   "execution_count": 26,
   "id": "c77ec4e2-0ee5-488e-8c28-5eff15e579cd",
   "metadata": {},
   "outputs": [
    {
     "data": {
      "text/plain": [
       "0.16450250727809462"
      ]
     },
     "execution_count": 26,
     "metadata": {},
     "output_type": "execute_result"
    }
   ],
   "source": [
    "Δ_T = (2508.3 * math.exp((17.3 * Ta) / (Ta + 237.3))) / (math.pow((Ta + 237.3), 2)) # kPa/°C\n",
    "Δ_T"
   ]
  },
  {
   "cell_type": "code",
   "execution_count": 27,
   "id": "f5a21665-831c-4e41-bfcd-2102c75c48d4",
   "metadata": {},
   "outputs": [
    {
     "data": {
      "text/plain": [
       "0.06400430273102162"
      ]
     },
     "execution_count": 27,
     "metadata": {},
     "output_type": "execute_result"
    }
   ],
   "source": [
    "cp = 1.0e-3 # MJ/kg.C\n",
    "γ = (cp * P) / (0.622 * λv) # kPa/°C\n",
    "γ"
   ]
  },
  {
   "cell_type": "code",
   "execution_count": 28,
   "id": "88c9aa22-e619-47ce-9ec5-a41d4f92bd7d",
   "metadata": {},
   "outputs": [],
   "source": [
    "# multiplying KE by 1e-3 m/mm to give consistent units (s/kPa.day)\n",
    "numerator = Δ_T * (K - L) + (γ * (KE * 1e-3) * ρw * λv * u * e_astrik_2m * (1. - RH))\n",
    "denominator = ρw * λv * (Δ_T + γ)\n",
    "\n",
    "E0 = numerator / denominator # m/day"
   ]
  },
  {
   "cell_type": "code",
   "execution_count": 29,
   "id": "432ae452-efd9-4ece-bd00-74277ecbb31e",
   "metadata": {},
   "outputs": [
    {
     "data": {
      "text/plain": [
       "7.199545149771036"
      ]
     },
     "execution_count": 29,
     "metadata": {},
     "output_type": "execute_result"
    }
   ],
   "source": [
    "E0 = E0 * 1000. # mm/day\n",
    "E0"
   ]
  },
  {
   "cell_type": "code",
   "execution_count": null,
   "id": "961d9708-6367-44e8-a4ad-9a5c191a5461",
   "metadata": {},
   "outputs": [],
   "source": []
  },
  {
   "cell_type": "markdown",
   "id": "c0fc54ae-7a92-4218-9d98-a8847e0232f3",
   "metadata": {},
   "source": [
    "### Question 3\n",
    "\n",
    "#### Chapter 6, Exercise 9."
   ]
  },
  {
   "cell_type": "code",
   "execution_count": 30,
   "id": "736f369c-5789-4911-9015-ebad91301b60",
   "metadata": {},
   "outputs": [],
   "source": [
    "Ta = 20.7 # temperature at the 2m in degree celsius\n",
    "RH = 0.49 # relativity humidity\n",
    "K_L = 13.9 # net shortwave radiation (K) + net longwave radiation (L) in MJ/m2.d\n",
    "zm = 3.66 # elevation in m\n",
    "zveg = 0.5 # vegetation elevation in m\n",
    "u = 2.48 # wind speed at zm in m/s\n",
    "P = 101.3 # pressure in kPa\n",
    "D = 14.8 # duration in hour\n",
    "C_astrik_leaf = 0.0050 # conductance of leaf in m/s\n",
    "LAI = 4.5 # Leaf Area Index\n",
    "ks = 0.5 # constant"
   ]
  },
  {
   "cell_type": "code",
   "execution_count": 31,
   "id": "4cab36e6-de96-47ec-8987-b7124c9392c5",
   "metadata": {},
   "outputs": [],
   "source": [
    "ρa = 1.29 # air density in kg/m3\n",
    "ρw = 996 # # density of water in kg/m3\n",
    "cp = 1.0e-3 # Air specific heat in MJ/kg.C\n",
    "zd = 0.7 * zveg\n",
    "z0 = 0.1 * zveg"
   ]
  },
  {
   "cell_type": "markdown",
   "id": "4d200fdc-2b59-4e18-834a-cfcf6e54e600",
   "metadata": {},
   "source": [
    "#### The Penman-Monteith Model"
   ]
  },
  {
   "cell_type": "code",
   "execution_count": 32,
   "id": "eb9f3ab5-ddb8-40b3-91ad-ee332a430d6d",
   "metadata": {},
   "outputs": [
    {
     "data": {
      "text/plain": [
       "0.02257294035244845"
      ]
     },
     "execution_count": 32,
     "metadata": {},
     "output_type": "execute_result"
    }
   ],
   "source": [
    "# Atmospheric Conductance\n",
    "Cat = u / ( 6.25 * math.pow(math.log((zm - zd) / z0), 2) )\n",
    "Cat # m/s"
   ]
  },
  {
   "cell_type": "code",
   "execution_count": 33,
   "id": "1e621c49-5b37-4eb8-b2f8-5e4828f0de58",
   "metadata": {},
   "outputs": [
    {
     "data": {
      "text/plain": [
       "1950.302046451546"
      ]
     },
     "execution_count": 33,
     "metadata": {},
     "output_type": "execute_result"
    }
   ],
   "source": [
    "Cat = Cat * 86400. # m/day\n",
    "Cat"
   ]
  },
  {
   "cell_type": "code",
   "execution_count": 34,
   "id": "d7a55d97-f1e4-4c38-9ac9-1836ff8a399a",
   "metadata": {},
   "outputs": [
    {
     "data": {
      "text/plain": [
       "2.4482290733901433"
      ]
     },
     "execution_count": 34,
     "metadata": {},
     "output_type": "execute_result"
    }
   ],
   "source": [
    "e_astrik_Ta = 0.611 * math.exp((17.3 * Ta) / (Ta + 237.3))\n",
    "e_astrik_Ta # kPa"
   ]
  },
  {
   "cell_type": "code",
   "execution_count": 35,
   "id": "6f11aae3-1fb9-4002-9480-6d3146004e21",
   "metadata": {},
   "outputs": [
    {
     "data": {
      "text/plain": [
       "2.451148"
      ]
     },
     "execution_count": 35,
     "metadata": {},
     "output_type": "execute_result"
    }
   ],
   "source": [
    "λv = 2.5 - 2.36e-3 * Ta # MJ/kg\n",
    "λv"
   ]
  },
  {
   "cell_type": "code",
   "execution_count": 36,
   "id": "051f36de-db24-443f-824e-8220a7bfaaa5",
   "metadata": {},
   "outputs": [
    {
     "data": {
      "text/plain": [
       "0.06644304478326285"
      ]
     },
     "execution_count": 36,
     "metadata": {},
     "output_type": "execute_result"
    }
   ],
   "source": [
    "γ = (cp * P) / (0.622 * λv) # kPa/°C\n",
    "γ"
   ]
  },
  {
   "cell_type": "code",
   "execution_count": 37,
   "id": "71eca1b3-0d31-45f6-a94a-0e3a9490eefa",
   "metadata": {},
   "outputs": [
    {
     "data": {
      "text/plain": [
       "0.01125"
      ]
     },
     "execution_count": 37,
     "metadata": {},
     "output_type": "execute_result"
    }
   ],
   "source": [
    "# canopy conductance\n",
    "Ccan = ks * LAI * C_astrik_leaf # m/s\n",
    "Ccan"
   ]
  },
  {
   "cell_type": "code",
   "execution_count": 38,
   "id": "7d1e3af3-bced-4ac0-8ed6-2bd93321a4de",
   "metadata": {},
   "outputs": [
    {
     "data": {
      "text/plain": [
       "972.0"
      ]
     },
     "execution_count": 38,
     "metadata": {},
     "output_type": "execute_result"
    }
   ],
   "source": [
    "Ccan = Ccan * 86400. # m/day\n",
    "Ccan"
   ]
  },
  {
   "cell_type": "code",
   "execution_count": 39,
   "id": "c16f5adb-dd7e-483f-b963-157ffafe36af",
   "metadata": {},
   "outputs": [
    {
     "data": {
      "text/plain": [
       "0.1509909463057027"
      ]
     },
     "execution_count": 39,
     "metadata": {},
     "output_type": "execute_result"
    }
   ],
   "source": [
    "Δ_T = (2508.3 * math.exp((17.3 * Ta) / (Ta + 237.3))) / (math.pow((Ta + 237.3), 2)) # kPa/°C\n",
    "Δ_T"
   ]
  },
  {
   "cell_type": "code",
   "execution_count": 40,
   "id": "1462301c-76aa-47fd-84b9-ea6ae293e559",
   "metadata": {},
   "outputs": [
    {
     "data": {
      "text/plain": [
       "0.006119450700143533"
      ]
     },
     "execution_count": 40,
     "metadata": {},
     "output_type": "execute_result"
    }
   ],
   "source": [
    "ET_num_1 = ρa * cp * Cat * e_astrik_Ta\n",
    "ET_num_2 = ET_num_1 * (1. - RH)\n",
    "ET_num = (Δ_T * K_L) + ET_num_2\n",
    "\n",
    "ET_denom_1 = γ * ( 1. + (Cat / Ccan))\n",
    "ET_denom_2 = Δ_T + ET_denom_1\n",
    "ET_denom = ρw * λv * ET_denom_2\n",
    "\n",
    "ET = ET_num / ET_denom # m/day\n",
    "ET"
   ]
  },
  {
   "cell_type": "code",
   "execution_count": 41,
   "id": "259244b7-8e58-4cf7-bbec-9621ca3591a0",
   "metadata": {},
   "outputs": [
    {
     "data": {
      "text/plain": [
       "6.119450700143533"
      ]
     },
     "execution_count": 41,
     "metadata": {},
     "output_type": "execute_result"
    }
   ],
   "source": [
    "ET = ET * 1000 # mm/day\n",
    "ET"
   ]
  },
  {
   "cell_type": "code",
   "execution_count": null,
   "id": "dc2accaa-7306-4e58-ba94-71dc227d5aa9",
   "metadata": {},
   "outputs": [],
   "source": []
  },
  {
   "cell_type": "code",
   "execution_count": null,
   "id": "d53d789e-fe54-4ca0-9fbc-a8d502e8e7bf",
   "metadata": {},
   "outputs": [],
   "source": []
  },
  {
   "cell_type": "markdown",
   "id": "23b645ea-eea9-40b4-a287-729ccbf5c851",
   "metadata": {},
   "source": [
    "#### Hamon Method"
   ]
  },
  {
   "cell_type": "code",
   "execution_count": 42,
   "id": "f34d2660-8f5b-46ab-a433-45783c31f496",
   "metadata": {},
   "outputs": [
    {
     "data": {
      "text/plain": [
       "3.6739263372847533"
      ]
     },
     "execution_count": 42,
     "metadata": {},
     "output_type": "execute_result"
    }
   ],
   "source": [
    "PET = 29.8 * D * e_astrik_Ta / (Ta + 273.2) # mm/day\n",
    "PET"
   ]
  },
  {
   "cell_type": "code",
   "execution_count": null,
   "id": "0c258344-db0e-44f8-917f-9f59c862f949",
   "metadata": {},
   "outputs": [],
   "source": []
  },
  {
   "cell_type": "code",
   "execution_count": null,
   "id": "97b7408f-2210-4bf5-98bb-d40b07c6b336",
   "metadata": {},
   "outputs": [],
   "source": []
  },
  {
   "cell_type": "markdown",
   "id": "2a34cd93-423a-4e6d-9b64-b0e37fa9d2bf",
   "metadata": {},
   "source": [
    "#### Priestley and Taylor Method"
   ]
  },
  {
   "cell_type": "code",
   "execution_count": 43,
   "id": "2c6acbff-754a-4c5a-b390-e44081e32e52",
   "metadata": {},
   "outputs": [],
   "source": [
    "αpt = 1.26"
   ]
  },
  {
   "cell_type": "code",
   "execution_count": 44,
   "id": "af1dbe3f-d989-4ee3-8592-67f1f07d74c2",
   "metadata": {},
   "outputs": [
    {
     "data": {
      "text/plain": [
       "0.004981727198002928"
      ]
     },
     "execution_count": 44,
     "metadata": {},
     "output_type": "execute_result"
    }
   ],
   "source": [
    "PET = (αpt * Δ_T * K_L) / (ρw * λv * (Δ_T + γ))\n",
    "PET # m/day"
   ]
  },
  {
   "cell_type": "code",
   "execution_count": 45,
   "id": "2ba452c3-f28a-4730-8cf9-da634955b5bf",
   "metadata": {},
   "outputs": [
    {
     "data": {
      "text/plain": [
       "4.981727198002928"
      ]
     },
     "execution_count": 45,
     "metadata": {},
     "output_type": "execute_result"
    }
   ],
   "source": [
    "PET = PET * 1000 # mm/day\n",
    "PET"
   ]
  },
  {
   "cell_type": "code",
   "execution_count": null,
   "id": "40389dea-488c-44d3-a243-127d8dcf9979",
   "metadata": {},
   "outputs": [],
   "source": []
  },
  {
   "cell_type": "code",
   "execution_count": null,
   "id": "37bb207a-be10-4d14-ab60-3911d9649dbf",
   "metadata": {},
   "outputs": [],
   "source": []
  },
  {
   "cell_type": "markdown",
   "id": "1bc6f99f-bd98-4168-bcf0-e8ac8997a9c3",
   "metadata": {},
   "source": [
    "### Question 4\n",
    "\n",
    "#### FAO PT Method"
   ]
  },
  {
   "cell_type": "code",
   "execution_count": 46,
   "id": "93e916b1-28fa-40d9-a86b-62afc40a5be2",
   "metadata": {},
   "outputs": [],
   "source": [
    "# constants\n",
    "cp = 1.013e-3 # Air specific heat in MJ/kg.C\n",
    "latitude = 34.723\n",
    "longitude = 86.642\n",
    "z = 212.\n",
    "σ = 4.903e-9 # MJ/m2.K4.d\n",
    "αpt = 1.26\n",
    "ρw = 996 # # density of water in kg/m3\n",
    "λv = 2.45 # MJ/kg"
   ]
  },
  {
   "cell_type": "code",
   "execution_count": 47,
   "id": "c6c92c91-a79a-4554-83c2-2496e02f1b81",
   "metadata": {},
   "outputs": [],
   "source": [
    "column_names = ['const', 'year', 'julian_day', 'HM', 'S', 'pressure', 'temp_2m', 'RH_2m', '_', 'temp_10m', 'u_10m', 'ud_10m', 'Rin', 'rain', 'temp_0.5m', 'temp_1m']"
   ]
  },
  {
   "cell_type": "code",
   "execution_count": 48,
   "id": "a9eb994c-f1ca-4aaf-93cc-98b19c997001",
   "metadata": {},
   "outputs": [],
   "source": [
    "df_10 = pd.read_csv(f'{BASE_DIR}/brm_20120610_sfc.csv', names=column_names)\n",
    "df_10['datetime'] = '2012-06-10'\n",
    "\n",
    "df_11 = pd.read_csv(f'{BASE_DIR}/brm_20120611_sfc.csv', names=column_names)\n",
    "df_11['datetime'] = '2012-06-11'\n",
    "\n",
    "df_12 = pd.read_csv(f'{BASE_DIR}/brm_20120612_sfc.csv', names=column_names)\n",
    "df_12['datetime'] = '2012-06-12'\n",
    "\n",
    "df_13 = pd.read_csv(f'{BASE_DIR}/brm_20120613_sfc.csv', names=column_names)\n",
    "df_13['datetime'] = '2012-06-13'\n",
    "\n",
    "df_14 = pd.read_csv(f'{BASE_DIR}/brm_20120614_sfc.csv', names=column_names)\n",
    "df_14['datetime'] = '2012-06-14'\n",
    "\n",
    "df_15 = pd.read_csv(f'{BASE_DIR}/brm_20120615_sfc.csv', names=column_names)\n",
    "df_15['datetime'] = '2012-06-15'\n",
    "\n",
    "df_16 = pd.read_csv(f'{BASE_DIR}/brm_20120616_sfc.csv', names=column_names)\n",
    "df_16['datetime'] = '2012-06-16'"
   ]
  },
  {
   "cell_type": "code",
   "execution_count": 49,
   "id": "c06df094-e56c-4cc9-960d-d05274f5fb18",
   "metadata": {},
   "outputs": [],
   "source": [
    "df_days = [df_10, df_11, df_12, df_13, df_14, df_15, df_16]"
   ]
  },
  {
   "cell_type": "code",
   "execution_count": 50,
   "id": "62eb9803-4784-4e38-8bfd-1bcac9099845",
   "metadata": {},
   "outputs": [],
   "source": [
    "df = pd.DataFrame(columns=[\n",
    "    'datetime', 'temp_mean_2m', 'Rin_avg', 'u_avg_2m', 'Δ_T', 'pressure_avg',\n",
    "    'γ', 'DT', 'PT', 'TT', 'es', 'ea', 'dr', 'δ',  'φ_rad', 'ωs',\n",
    "    'Ra', 'Rso', 'Rns', 'Rnl', 'Rn', 'Rng', 'ETrad', 'ETwind', 'ET0_PM', 'PET_PT'\n",
    "])\n",
    "\n",
    "for df_day in df_days:\n",
    "    # convert from fahrenheit to celsius\n",
    "    df_day['temp_2m'] = (df_day['temp_2m'] - 32.) * (5. / 9.)\n",
    "    # calculate mean temperature\n",
    "    temp_mean_2m = (df_day['temp_2m'].max() + df_day['temp_2m'].min()) / 2\n",
    "\n",
    "    # average daily radiation in MJ.m-2.day-1\n",
    "    Rin_avg = df_day['Rin'].mean() * 0.0864\n",
    "\n",
    "    # average wind speed at 2m\n",
    "    u_avg_2m = (df_day['u_10m'] * 4.87 / math.log(672.58)).mean()\n",
    "    \n",
    "    # slope of saturation vapor pressure curve\n",
    "    Δ_T = 4098 * (0.6108 * math.exp((17.27 * temp_mean_2m) / (temp_mean_2m + 237.3))) / (temp_mean_2m + 237.3)**2\n",
    "    \n",
    "    # average pressure\n",
    "    pressure_avg = df_day['pressure'].mean()\n",
    "    \n",
    "    # Psychrometric constant\n",
    "    γ = 0.000665 * pressure_avg\n",
    "\n",
    "    # Delta Term (DT) (auxiliary calculation for Radiation Term)\n",
    "    DT = Δ_T / (Δ_T + γ * (1 + 0.34 * u_avg_2m))\n",
    "\n",
    "    # Psi Term (PT) (auxiliary calculation for Wind Term)\n",
    "    PT = γ / (Δ_T + γ * (1 + 0.34 * u_avg_2m))\n",
    "    \n",
    "    # Temperature Term (TT) (auxiliary calculation for Wind Term)\n",
    "    TT = (900. * u_avg_2m) / (temp_mean_2m + 273.)\n",
    "\n",
    "    # Mean saturation vapor pressure derived from air temperature(es)\n",
    "    e_tmax = 0.6108 * math.exp( (17.27 * df_day['temp_2m'].max()) / (df_day['temp_2m'].max() + 237.7) )\n",
    "    e_tmin = 0.6108 * math.exp( (17.27 * df_day['temp_2m'].min()) / (df_day['temp_2m'].min() + 237.7) )\n",
    "    es = (e_tmax + e_tmin) / 2.\n",
    "    \n",
    "    # Actual vapor pressure (ea) derived from relative humidity\n",
    "    ea = (df_day['RH_2m'].mean() / 100.) * ((e_tmin + e_tmax) / 2.)\n",
    "    \n",
    "    # The inverse relative distance Earth-Sun (dr) and solar declination (δ)\n",
    "    # the julian_day value is same, so mean would give the same value\n",
    "    dr = 1 + 0.033 * math.cos(2 * math.pi * df_day['julian_day'].mean() / 365. )\n",
    "    δ = 0.409 * math.sin( (2 * math.pi * df_day['julian_day'].mean() / 365.) - 1.39 )\n",
    "    \n",
    "    # Conversion of latitude (φ) in degrees to radians\n",
    "    φ_rad = math.pi * latitude / 180.\n",
    "    \n",
    "    # Sunset hour angle\n",
    "    ωs = math.acos(-1. * math.tan(φ_rad) * math.tan(δ))\n",
    "    \n",
    "    # Extraterrestrial radiation (Ra)\n",
    "    term_1 = (ωs * math.sin(φ_rad) * math.sin(δ)) + (math.cos(φ_rad) * math.cos(δ) * math.sin(ωs))\n",
    "    Ra = 24. * 60. / math.pi * 0.0820 * dr * term_1\n",
    "    \n",
    "    # Clear sky solar radiation (Rso)\n",
    "    Rso = (0.75 + 2 * 10**-5 * z) * Ra\n",
    "    \n",
    "    # Net solar or net shortwave radiation (Rns)\n",
    "    Rns = (1. - 0.23) * Rin_avg\n",
    "    \n",
    "    # Net outgoing long wave solar radiation (Rnl)\n",
    "    term_1 = ((df_day['temp_2m'].max() + 273.16)**4 + (df_day['temp_2m'].min() + 273.16)**4) / 2.\n",
    "    term_2 = (0.34 - 0.14 * math.sqrt(ea))\n",
    "    term_3 = 1.35 * (Rin_avg / Rso ) - 0.35\n",
    "    Rnl = σ * term_1 * term_2 * term_3\n",
    "    \n",
    "    # Net radiation (Rn)\n",
    "    Rn = Rns - Rnl\n",
    "    # Net raduation in equivalent of evaporation (mm)\n",
    "    Rng = 0.408 * Rn\n",
    "    \n",
    "    # FS1. Radiation term (ETrad)\n",
    "    ETrad = DT * Rng\n",
    "    \n",
    "    # FS2. Wind term (ETwind)\n",
    "    ETwind = PT * TT * (es - ea)\n",
    "    \n",
    "    # Final Reference Evapotranspiration Value (ETo)\n",
    "    ET0_PM = ETwind + ETrad\n",
    "\n",
    "    # Priestly Taylor\n",
    "    PET_PT = (αpt * Δ_T * (Rns + Rnl)) / (ρw * λv * (Δ_T + γ)) # m/day\n",
    "    PET_PT = PET_PT * 1000\n",
    "    \n",
    "    df_row = {\n",
    "        'datetime'     : df_day.datetime.iloc[0],\n",
    "        'temp_mean_2m' : temp_mean_2m,\n",
    "        'Rin_avg'      : Rin_avg,\n",
    "        'u_avg_2m'     : u_avg_2m,\n",
    "        'Δ_T'          : Δ_T,\n",
    "        'pressure_avg' : pressure_avg,\n",
    "        'γ'            : γ,\n",
    "        'DT'           : DT,\n",
    "        'PT'           : PT,\n",
    "        'TT'           : TT,\n",
    "        'es'           : es,\n",
    "        'ea'           : ea,\n",
    "        'dr'           : dr,\n",
    "        'δ'            : δ,\n",
    "        'φ_rad'        : φ_rad,\n",
    "        'ωs'           : ωs,\n",
    "        'Ra'           : Ra,\n",
    "        'Rso'          : Rso,\n",
    "        'Rns'          : Rns,\n",
    "        'Rnl'          : Rnl,\n",
    "        'Rn'           : Rn,\n",
    "        'Rng'          : Rng,\n",
    "        'ETrad'        : ETrad,\n",
    "        'ETwind'       : ETwind,\n",
    "        'ET0_PM'       : ET0_PM,\n",
    "        'PET_PT'       : PET_PT,\n",
    "        \n",
    "    }\n",
    "    df = df.append(df_row, ignore_index=True)\n",
    "\n",
    "df.index = pd.to_datetime(df['datetime'])\n",
    "df = df.drop(['datetime'], axis=1)"
   ]
  },
  {
   "cell_type": "code",
   "execution_count": 51,
   "id": "407bdbfe-f1e5-4eb7-9523-9cf15bc554c2",
   "metadata": {},
   "outputs": [
    {
     "data": {
      "text/html": [
       "<div>\n",
       "<style scoped>\n",
       "    .dataframe tbody tr th:only-of-type {\n",
       "        vertical-align: middle;\n",
       "    }\n",
       "\n",
       "    .dataframe tbody tr th {\n",
       "        vertical-align: top;\n",
       "    }\n",
       "\n",
       "    .dataframe thead th {\n",
       "        text-align: right;\n",
       "    }\n",
       "</style>\n",
       "<table border=\"1\" class=\"dataframe\">\n",
       "  <thead>\n",
       "    <tr style=\"text-align: right;\">\n",
       "      <th></th>\n",
       "      <th>temp_mean_2m</th>\n",
       "      <th>Rin_avg</th>\n",
       "      <th>u_avg_2m</th>\n",
       "      <th>Δ_T</th>\n",
       "      <th>pressure_avg</th>\n",
       "      <th>γ</th>\n",
       "      <th>DT</th>\n",
       "      <th>PT</th>\n",
       "      <th>TT</th>\n",
       "      <th>es</th>\n",
       "      <th>...</th>\n",
       "      <th>Ra</th>\n",
       "      <th>Rso</th>\n",
       "      <th>Rns</th>\n",
       "      <th>Rnl</th>\n",
       "      <th>Rn</th>\n",
       "      <th>Rng</th>\n",
       "      <th>ETrad</th>\n",
       "      <th>ETwind</th>\n",
       "      <th>ET0_PM</th>\n",
       "      <th>PET_PT</th>\n",
       "    </tr>\n",
       "    <tr>\n",
       "      <th>datetime</th>\n",
       "      <th></th>\n",
       "      <th></th>\n",
       "      <th></th>\n",
       "      <th></th>\n",
       "      <th></th>\n",
       "      <th></th>\n",
       "      <th></th>\n",
       "      <th></th>\n",
       "      <th></th>\n",
       "      <th></th>\n",
       "      <th></th>\n",
       "      <th></th>\n",
       "      <th></th>\n",
       "      <th></th>\n",
       "      <th></th>\n",
       "      <th></th>\n",
       "      <th></th>\n",
       "      <th></th>\n",
       "      <th></th>\n",
       "      <th></th>\n",
       "      <th></th>\n",
       "    </tr>\n",
       "  </thead>\n",
       "  <tbody>\n",
       "    <tr>\n",
       "      <th>2012-06-10</th>\n",
       "      <td>23.361111</td>\n",
       "      <td>6.002230</td>\n",
       "      <td>1.650785</td>\n",
       "      <td>0.173185</td>\n",
       "      <td>991.112528</td>\n",
       "      <td>0.659090</td>\n",
       "      <td>0.144057</td>\n",
       "      <td>0.548236</td>\n",
       "      <td>5.013162</td>\n",
       "      <td>2.926863</td>\n",
       "      <td>...</td>\n",
       "      <td>41.528136</td>\n",
       "      <td>31.322181</td>\n",
       "      <td>4.621717</td>\n",
       "      <td>-0.436628</td>\n",
       "      <td>5.058345</td>\n",
       "      <td>2.063805</td>\n",
       "      <td>0.297306</td>\n",
       "      <td>1.625499</td>\n",
       "      <td>1.922804</td>\n",
       "      <td>0.449670</td>\n",
       "    </tr>\n",
       "    <tr>\n",
       "      <th>2012-06-11</th>\n",
       "      <td>25.495000</td>\n",
       "      <td>15.381470</td>\n",
       "      <td>1.714691</td>\n",
       "      <td>0.193586</td>\n",
       "      <td>991.194950</td>\n",
       "      <td>0.659145</td>\n",
       "      <td>0.156495</td>\n",
       "      <td>0.532854</td>\n",
       "      <td>5.170008</td>\n",
       "      <td>3.352729</td>\n",
       "      <td>...</td>\n",
       "      <td>41.547958</td>\n",
       "      <td>31.337132</td>\n",
       "      <td>11.843732</td>\n",
       "      <td>1.234572</td>\n",
       "      <td>10.609160</td>\n",
       "      <td>4.328537</td>\n",
       "      <td>0.677395</td>\n",
       "      <td>1.214647</td>\n",
       "      <td>1.892042</td>\n",
       "      <td>1.533057</td>\n",
       "    </tr>\n",
       "    <tr>\n",
       "      <th>2012-06-12</th>\n",
       "      <td>24.288056</td>\n",
       "      <td>20.554892</td>\n",
       "      <td>1.837365</td>\n",
       "      <td>0.181812</td>\n",
       "      <td>991.443340</td>\n",
       "      <td>0.659310</td>\n",
       "      <td>0.145102</td>\n",
       "      <td>0.526187</td>\n",
       "      <td>5.562378</td>\n",
       "      <td>3.119542</td>\n",
       "      <td>...</td>\n",
       "      <td>41.565212</td>\n",
       "      <td>31.350145</td>\n",
       "      <td>15.827267</td>\n",
       "      <td>2.522470</td>\n",
       "      <td>13.304797</td>\n",
       "      <td>5.428357</td>\n",
       "      <td>0.787666</td>\n",
       "      <td>2.076393</td>\n",
       "      <td>2.864060</td>\n",
       "      <td>2.048044</td>\n",
       "    </tr>\n",
       "    <tr>\n",
       "      <th>2012-06-13</th>\n",
       "      <td>25.280000</td>\n",
       "      <td>27.335100</td>\n",
       "      <td>1.656169</td>\n",
       "      <td>0.191443</td>\n",
       "      <td>991.537910</td>\n",
       "      <td>0.659373</td>\n",
       "      <td>0.156650</td>\n",
       "      <td>0.539538</td>\n",
       "      <td>4.997158</td>\n",
       "      <td>3.378065</td>\n",
       "      <td>...</td>\n",
       "      <td>41.579902</td>\n",
       "      <td>31.361225</td>\n",
       "      <td>21.048027</td>\n",
       "      <td>4.694234</td>\n",
       "      <td>16.353793</td>\n",
       "      <td>6.672348</td>\n",
       "      <td>1.045222</td>\n",
       "      <td>3.912786</td>\n",
       "      <td>4.958007</td>\n",
       "      <td>2.990855</td>\n",
       "    </tr>\n",
       "    <tr>\n",
       "      <th>2012-06-14</th>\n",
       "      <td>26.194444</td>\n",
       "      <td>23.698502</td>\n",
       "      <td>0.978768</td>\n",
       "      <td>0.200698</td>\n",
       "      <td>991.508109</td>\n",
       "      <td>0.659353</td>\n",
       "      <td>0.185922</td>\n",
       "      <td>0.610811</td>\n",
       "      <td>2.944211</td>\n",
       "      <td>3.668716</td>\n",
       "      <td>...</td>\n",
       "      <td>41.592033</td>\n",
       "      <td>31.370375</td>\n",
       "      <td>18.247846</td>\n",
       "      <td>3.834034</td>\n",
       "      <td>14.413813</td>\n",
       "      <td>5.880836</td>\n",
       "      <td>1.093379</td>\n",
       "      <td>3.103385</td>\n",
       "      <td>4.196764</td>\n",
       "      <td>2.660723</td>\n",
       "    </tr>\n",
       "    <tr>\n",
       "      <th>2012-06-15</th>\n",
       "      <td>26.869722</td>\n",
       "      <td>25.559090</td>\n",
       "      <td>1.977880</td>\n",
       "      <td>0.207771</td>\n",
       "      <td>994.346184</td>\n",
       "      <td>0.661240</td>\n",
       "      <td>0.158160</td>\n",
       "      <td>0.503349</td>\n",
       "      <td>5.936217</td>\n",
       "      <td>3.661429</td>\n",
       "      <td>...</td>\n",
       "      <td>41.601611</td>\n",
       "      <td>31.377599</td>\n",
       "      <td>19.680499</td>\n",
       "      <td>3.674199</td>\n",
       "      <td>16.006300</td>\n",
       "      <td>6.530570</td>\n",
       "      <td>1.032873</td>\n",
       "      <td>3.771958</td>\n",
       "      <td>4.804830</td>\n",
       "      <td>2.883232</td>\n",
       "    </tr>\n",
       "    <tr>\n",
       "      <th>2012-06-16</th>\n",
       "      <td>25.812222</td>\n",
       "      <td>23.891755</td>\n",
       "      <td>1.651268</td>\n",
       "      <td>0.196785</td>\n",
       "      <td>997.020922</td>\n",
       "      <td>0.663019</td>\n",
       "      <td>0.159722</td>\n",
       "      <td>0.538146</td>\n",
       "      <td>4.973496</td>\n",
       "      <td>3.432922</td>\n",
       "      <td>...</td>\n",
       "      <td>41.608640</td>\n",
       "      <td>31.382900</td>\n",
       "      <td>18.396651</td>\n",
       "      <td>3.616530</td>\n",
       "      <td>14.780121</td>\n",
       "      <td>6.030289</td>\n",
       "      <td>0.963171</td>\n",
       "      <td>3.505648</td>\n",
       "      <td>4.468819</td>\n",
       "      <td>2.601476</td>\n",
       "    </tr>\n",
       "  </tbody>\n",
       "</table>\n",
       "<p>7 rows × 25 columns</p>\n",
       "</div>"
      ],
      "text/plain": [
       "            temp_mean_2m    Rin_avg  u_avg_2m       Δ_T  pressure_avg  \\\n",
       "datetime                                                                \n",
       "2012-06-10     23.361111   6.002230  1.650785  0.173185    991.112528   \n",
       "2012-06-11     25.495000  15.381470  1.714691  0.193586    991.194950   \n",
       "2012-06-12     24.288056  20.554892  1.837365  0.181812    991.443340   \n",
       "2012-06-13     25.280000  27.335100  1.656169  0.191443    991.537910   \n",
       "2012-06-14     26.194444  23.698502  0.978768  0.200698    991.508109   \n",
       "2012-06-15     26.869722  25.559090  1.977880  0.207771    994.346184   \n",
       "2012-06-16     25.812222  23.891755  1.651268  0.196785    997.020922   \n",
       "\n",
       "                   γ        DT        PT        TT        es  ...         Ra  \\\n",
       "datetime                                                      ...              \n",
       "2012-06-10  0.659090  0.144057  0.548236  5.013162  2.926863  ...  41.528136   \n",
       "2012-06-11  0.659145  0.156495  0.532854  5.170008  3.352729  ...  41.547958   \n",
       "2012-06-12  0.659310  0.145102  0.526187  5.562378  3.119542  ...  41.565212   \n",
       "2012-06-13  0.659373  0.156650  0.539538  4.997158  3.378065  ...  41.579902   \n",
       "2012-06-14  0.659353  0.185922  0.610811  2.944211  3.668716  ...  41.592033   \n",
       "2012-06-15  0.661240  0.158160  0.503349  5.936217  3.661429  ...  41.601611   \n",
       "2012-06-16  0.663019  0.159722  0.538146  4.973496  3.432922  ...  41.608640   \n",
       "\n",
       "                  Rso        Rns       Rnl         Rn       Rng     ETrad  \\\n",
       "datetime                                                                    \n",
       "2012-06-10  31.322181   4.621717 -0.436628   5.058345  2.063805  0.297306   \n",
       "2012-06-11  31.337132  11.843732  1.234572  10.609160  4.328537  0.677395   \n",
       "2012-06-12  31.350145  15.827267  2.522470  13.304797  5.428357  0.787666   \n",
       "2012-06-13  31.361225  21.048027  4.694234  16.353793  6.672348  1.045222   \n",
       "2012-06-14  31.370375  18.247846  3.834034  14.413813  5.880836  1.093379   \n",
       "2012-06-15  31.377599  19.680499  3.674199  16.006300  6.530570  1.032873   \n",
       "2012-06-16  31.382900  18.396651  3.616530  14.780121  6.030289  0.963171   \n",
       "\n",
       "              ETwind    ET0_PM    PET_PT  \n",
       "datetime                                  \n",
       "2012-06-10  1.625499  1.922804  0.449670  \n",
       "2012-06-11  1.214647  1.892042  1.533057  \n",
       "2012-06-12  2.076393  2.864060  2.048044  \n",
       "2012-06-13  3.912786  4.958007  2.990855  \n",
       "2012-06-14  3.103385  4.196764  2.660723  \n",
       "2012-06-15  3.771958  4.804830  2.883232  \n",
       "2012-06-16  3.505648  4.468819  2.601476  \n",
       "\n",
       "[7 rows x 25 columns]"
      ]
     },
     "execution_count": 51,
     "metadata": {},
     "output_type": "execute_result"
    }
   ],
   "source": [
    "df"
   ]
  },
  {
   "cell_type": "code",
   "execution_count": 52,
   "id": "307a6f01-b51f-48d1-8e2f-a0040907aa99",
   "metadata": {},
   "outputs": [
    {
     "data": {
      "text/html": [
       "\n",
       "\n",
       "\n",
       "\n",
       "\n",
       "\n",
       "  <div class=\"bk-root\" id=\"4cb9a9f3-d6d2-4c13-b39e-2c1cf7b4c1d0\" data-root-id=\"1004\"></div>\n"
      ]
     },
     "metadata": {},
     "output_type": "display_data"
    },
    {
     "data": {
      "application/javascript": [
       "(function(root) {\n",
       "  function embed_document(root) {\n",
       "    \n",
       "  var docs_json = {\"433247b8-4b91-4d79-8ff7-12079b4087de\":{\"defs\":[],\"roots\":{\"references\":[{\"attributes\":{\"below\":[{\"id\":\"1015\"}],\"center\":[{\"id\":\"1018\"},{\"id\":\"1022\"},{\"id\":\"1061\"}],\"height\":300,\"left\":[{\"id\":\"1019\"}],\"renderers\":[{\"id\":\"1037\"},{\"id\":\"1066\"},{\"id\":\"1095\"},{\"id\":\"1127\"}],\"sizing_mode\":\"scale_width\",\"title\":{\"id\":\"1005\"},\"toolbar\":{\"id\":\"1028\"},\"x_range\":{\"id\":\"1007\"},\"x_scale\":{\"id\":\"1011\"},\"y_range\":{\"id\":\"1009\"},\"y_scale\":{\"id\":\"1013\"}},\"id\":\"1004\",\"subtype\":\"Figure\",\"type\":\"Plot\"},{\"attributes\":{},\"id\":\"1079\",\"type\":\"UnionRenderers\"},{\"attributes\":{\"click_policy\":\"hide\",\"items\":[{\"id\":\"1062\"},{\"id\":\"1123\"}],\"location\":\"top_left\"},\"id\":\"1061\",\"type\":\"Legend\"},{\"attributes\":{},\"id\":\"1026\",\"type\":\"ResetTool\"},{\"attributes\":{\"days\":[1,8,15,22]},\"id\":\"1054\",\"type\":\"DaysTicker\"},{\"attributes\":{\"days\":[1,15]},\"id\":\"1055\",\"type\":\"DaysTicker\"},{\"attributes\":{},\"id\":\"1040\",\"type\":\"BasicTickFormatter\"},{\"attributes\":{\"data_source\":{\"id\":\"1034\"},\"glyph\":{\"id\":\"1035\"},\"hover_glyph\":null,\"muted_glyph\":null,\"nonselection_glyph\":{\"id\":\"1036\"},\"view\":{\"id\":\"1038\"}},\"id\":\"1037\",\"type\":\"GlyphRenderer\"},{\"attributes\":{\"base\":60,\"mantissas\":[1,2,5,10,15,20,30],\"max_interval\":1800000.0,\"min_interval\":1000.0,\"num_minor_ticks\":0},\"id\":\"1050\",\"type\":\"AdaptiveTicker\"},{\"attributes\":{\"months\":[0,2,4,6,8,10]},\"id\":\"1057\",\"type\":\"MonthsTicker\"},{\"attributes\":{\"months\":[0,6]},\"id\":\"1059\",\"type\":\"MonthsTicker\"},{\"attributes\":{\"months\":[0,1,2,3,4,5,6,7,8,9,10,11]},\"id\":\"1056\",\"type\":\"MonthsTicker\"},{\"attributes\":{},\"id\":\"1023\",\"type\":\"PanTool\"},{\"attributes\":{\"source\":{\"id\":\"1034\"}},\"id\":\"1038\",\"type\":\"CDSView\"},{\"attributes\":{\"source\":{\"id\":\"1124\"}},\"id\":\"1128\",\"type\":\"CDSView\"},{\"attributes\":{\"days\":[1,4,7,10,13,16,19,22,25,28]},\"id\":\"1053\",\"type\":\"DaysTicker\"},{\"attributes\":{},\"id\":\"1060\",\"type\":\"YearsTicker\"},{\"attributes\":{},\"id\":\"1020\",\"type\":\"BasicTicker\"},{\"attributes\":{\"data\":{\"x\":{\"__ndarray__\":\"AADACjt9c0IAAIBwjX1zQgAAQNbffXNCAAAAPDJ+c0IAAMChhH5zQgAAgAfXfnNCAABAbSl/c0I=\",\"dtype\":\"float64\",\"order\":\"little\",\"shape\":[7]},\"y\":{\"__ndarray__\":\"CtsHW87D/j+LyVZtzUX+P2xInCaY6QZAeKH95P/UE0Ad9jGRfMkQQFV1oG4lOBNAj6kVLRLgEUA=\",\"dtype\":\"float64\",\"order\":\"little\",\"shape\":[7]}},\"selected\":{\"id\":\"1078\"},\"selection_policy\":{\"id\":\"1079\"}},\"id\":\"1063\",\"type\":\"ColumnDataSource\"},{\"attributes\":{\"months\":[0,4,8]},\"id\":\"1058\",\"type\":\"MonthsTicker\"},{\"attributes\":{\"axis_label\":\"ET (mm/day)\",\"axis_label_text_font_size\":\"15pt\",\"formatter\":{\"id\":\"1040\"},\"major_label_policy\":{\"id\":\"1042\"},\"ticker\":{\"id\":\"1020\"}},\"id\":\"1019\",\"type\":\"LinearAxis\"},{\"attributes\":{\"data\":{\"x\":{\"__ndarray__\":\"AADACjt9c0IAAIBwjX1zQgAAQNbffXNCAAAAPDJ+c0IAAMChhH5zQgAAgAfXfnNCAABAbSl/c0I=\",\"dtype\":\"float64\",\"order\":\"little\",\"shape\":[7]},\"y\":{\"__ndarray__\":\"LxpIH2bH3D921xdyZof4P3oFOwdlYgBABBpMeEXtB0CrbZJdKUkFQNmwMi3cEAdATNPufdLPBEA=\",\"dtype\":\"float64\",\"order\":\"little\",\"shape\":[7]}},\"selected\":{\"id\":\"1109\"},\"selection_policy\":{\"id\":\"1110\"}},\"id\":\"1092\",\"type\":\"ColumnDataSource\"},{\"attributes\":{\"label\":{\"value\":\"FAO-56 Method\"},\"renderers\":[{\"id\":\"1037\"},{\"id\":\"1066\"}]},\"id\":\"1062\",\"type\":\"LegendItem\"},{\"attributes\":{\"mantissas\":[1,2,5],\"max_interval\":500.0,\"num_minor_ticks\":0},\"id\":\"1049\",\"type\":\"AdaptiveTicker\"},{\"attributes\":{\"data_source\":{\"id\":\"1124\"},\"glyph\":{\"id\":\"1125\"},\"hover_glyph\":null,\"muted_glyph\":null,\"nonselection_glyph\":{\"id\":\"1126\"},\"view\":{\"id\":\"1128\"}},\"id\":\"1127\",\"type\":\"GlyphRenderer\"},{\"attributes\":{\"bottom_units\":\"screen\",\"fill_alpha\":0.5,\"fill_color\":\"lightgrey\",\"left_units\":\"screen\",\"level\":\"overlay\",\"line_alpha\":1.0,\"line_color\":\"black\",\"line_dash\":[4,4],\"line_width\":2,\"right_units\":\"screen\",\"syncable\":false,\"top_units\":\"screen\"},\"id\":\"1027\",\"type\":\"BoxAnnotation\"},{\"attributes\":{\"fill_color\":{\"value\":\"red\"},\"line_color\":{\"value\":\"#1f77b4\"},\"size\":{\"value\":10},\"x\":{\"field\":\"x\"},\"y\":{\"field\":\"y\"}},\"id\":\"1035\",\"type\":\"Circle\"},{\"attributes\":{},\"id\":\"1024\",\"type\":\"WheelZoomTool\"},{\"attributes\":{\"label\":{\"value\":\"Priestly Taylor Method\"},\"renderers\":[{\"id\":\"1095\"},{\"id\":\"1127\"}]},\"id\":\"1123\",\"type\":\"LegendItem\"},{\"attributes\":{\"axis\":{\"id\":\"1019\"},\"dimension\":1,\"ticker\":null},\"id\":\"1022\",\"type\":\"Grid\"},{\"attributes\":{\"data\":{\"x\":{\"__ndarray__\":\"AADACjt9c0IAAIBwjX1zQgAAQNbffXNCAAAAPDJ+c0IAAMChhH5zQgAAgAfXfnNCAABAbSl/c0I=\",\"dtype\":\"float64\",\"order\":\"little\",\"shape\":[7]},\"y\":{\"__ndarray__\":\"LxpIH2bH3D921xdyZof4P3oFOwdlYgBABBpMeEXtB0CrbZJdKUkFQNmwMi3cEAdATNPufdLPBEA=\",\"dtype\":\"float64\",\"order\":\"little\",\"shape\":[7]}},\"selected\":{\"id\":\"1143\"},\"selection_policy\":{\"id\":\"1144\"}},\"id\":\"1124\",\"type\":\"ColumnDataSource\"},{\"attributes\":{},\"id\":\"1043\",\"type\":\"DatetimeTickFormatter\"},{\"attributes\":{},\"id\":\"1047\",\"type\":\"Selection\"},{\"attributes\":{\"line_alpha\":0.1,\"line_color\":\"blue\",\"line_width\":3,\"x\":{\"field\":\"x\"},\"y\":{\"field\":\"y\"}},\"id\":\"1126\",\"type\":\"Line\"},{\"attributes\":{\"data_source\":{\"id\":\"1092\"},\"glyph\":{\"id\":\"1093\"},\"hover_glyph\":null,\"muted_glyph\":null,\"nonselection_glyph\":{\"id\":\"1094\"},\"view\":{\"id\":\"1096\"}},\"id\":\"1095\",\"type\":\"GlyphRenderer\"},{\"attributes\":{\"source\":{\"id\":\"1063\"}},\"id\":\"1067\",\"type\":\"CDSView\"},{\"attributes\":{\"fill_alpha\":{\"value\":0.1},\"fill_color\":{\"value\":\"blue\"},\"line_alpha\":{\"value\":0.1},\"line_color\":{\"value\":\"#1f77b4\"},\"size\":{\"value\":10},\"x\":{\"field\":\"x\"},\"y\":{\"field\":\"y\"}},\"id\":\"1094\",\"type\":\"Circle\"},{\"attributes\":{\"axis\":{\"id\":\"1015\"},\"ticker\":null},\"id\":\"1018\",\"type\":\"Grid\"},{\"attributes\":{\"fill_color\":{\"value\":\"blue\"},\"line_color\":{\"value\":\"#1f77b4\"},\"size\":{\"value\":10},\"x\":{\"field\":\"x\"},\"y\":{\"field\":\"y\"}},\"id\":\"1093\",\"type\":\"Circle\"},{\"attributes\":{\"source\":{\"id\":\"1092\"}},\"id\":\"1096\",\"type\":\"CDSView\"},{\"attributes\":{},\"id\":\"1042\",\"type\":\"AllLabels\"},{\"attributes\":{\"num_minor_ticks\":5,\"tickers\":[{\"id\":\"1049\"},{\"id\":\"1050\"},{\"id\":\"1051\"},{\"id\":\"1052\"},{\"id\":\"1053\"},{\"id\":\"1054\"},{\"id\":\"1055\"},{\"id\":\"1056\"},{\"id\":\"1057\"},{\"id\":\"1058\"},{\"id\":\"1059\"},{\"id\":\"1060\"}]},\"id\":\"1016\",\"type\":\"DatetimeTicker\"},{\"attributes\":{\"data_source\":{\"id\":\"1063\"},\"glyph\":{\"id\":\"1064\"},\"hover_glyph\":null,\"muted_glyph\":null,\"nonselection_glyph\":{\"id\":\"1065\"},\"view\":{\"id\":\"1067\"}},\"id\":\"1066\",\"type\":\"GlyphRenderer\"},{\"attributes\":{},\"id\":\"1011\",\"type\":\"LinearScale\"},{\"attributes\":{\"line_color\":\"red\",\"line_width\":3,\"x\":{\"field\":\"x\"},\"y\":{\"field\":\"y\"}},\"id\":\"1064\",\"type\":\"Line\"},{\"attributes\":{\"line_color\":\"blue\",\"line_width\":3,\"x\":{\"field\":\"x\"},\"y\":{\"field\":\"y\"}},\"id\":\"1125\",\"type\":\"Line\"},{\"attributes\":{},\"id\":\"1143\",\"type\":\"Selection\"},{\"attributes\":{},\"id\":\"1013\",\"type\":\"LinearScale\"},{\"attributes\":{\"line_alpha\":0.1,\"line_color\":\"red\",\"line_width\":3,\"x\":{\"field\":\"x\"},\"y\":{\"field\":\"y\"}},\"id\":\"1065\",\"type\":\"Line\"},{\"attributes\":{},\"id\":\"1048\",\"type\":\"UnionRenderers\"},{\"attributes\":{\"axis_label\":\"Date\",\"axis_label_text_font_size\":\"15pt\",\"formatter\":{\"id\":\"1043\"},\"major_label_policy\":{\"id\":\"1045\"},\"ticker\":{\"id\":\"1016\"}},\"id\":\"1015\",\"type\":\"DatetimeAxis\"},{\"attributes\":{\"base\":24,\"mantissas\":[1,2,4,6,8,12],\"max_interval\":43200000.0,\"min_interval\":3600000.0,\"num_minor_ticks\":0},\"id\":\"1051\",\"type\":\"AdaptiveTicker\"},{\"attributes\":{\"text\":\"Date Vs ET (mm/day)\",\"text_font_size\":\"15pt\"},\"id\":\"1005\",\"type\":\"Title\"},{\"attributes\":{},\"id\":\"1144\",\"type\":\"UnionRenderers\"},{\"attributes\":{},\"id\":\"1007\",\"type\":\"DataRange1d\"},{\"attributes\":{},\"id\":\"1045\",\"type\":\"AllLabels\"},{\"attributes\":{\"active_multi\":null,\"tools\":[{\"id\":\"1023\"},{\"id\":\"1024\"},{\"id\":\"1025\"},{\"id\":\"1026\"},{\"id\":\"1003\"}]},\"id\":\"1028\",\"type\":\"Toolbar\"},{\"attributes\":{\"data\":{\"x\":{\"__ndarray__\":\"AADACjt9c0IAAIBwjX1zQgAAQNbffXNCAAAAPDJ+c0IAAMChhH5zQgAAgAfXfnNCAABAbSl/c0I=\",\"dtype\":\"float64\",\"order\":\"little\",\"shape\":[7]},\"y\":{\"__ndarray__\":\"CtsHW87D/j+LyVZtzUX+P2xInCaY6QZAeKH95P/UE0Ad9jGRfMkQQFV1oG4lOBNAj6kVLRLgEUA=\",\"dtype\":\"float64\",\"order\":\"little\",\"shape\":[7]}},\"selected\":{\"id\":\"1047\"},\"selection_policy\":{\"id\":\"1048\"}},\"id\":\"1034\",\"type\":\"ColumnDataSource\"},{\"attributes\":{},\"id\":\"1009\",\"type\":\"DataRange1d\"},{\"attributes\":{},\"id\":\"1109\",\"type\":\"Selection\"},{\"attributes\":{\"overlay\":{\"id\":\"1027\"}},\"id\":\"1025\",\"type\":\"BoxZoomTool\"},{\"attributes\":{\"fill_alpha\":{\"value\":0.1},\"fill_color\":{\"value\":\"red\"},\"line_alpha\":{\"value\":0.1},\"line_color\":{\"value\":\"#1f77b4\"},\"size\":{\"value\":10},\"x\":{\"field\":\"x\"},\"y\":{\"field\":\"y\"}},\"id\":\"1036\",\"type\":\"Circle\"},{\"attributes\":{\"callback\":null,\"formatters\":{\"$x\":\"datetime\"},\"tooltips\":[[\"date\",\"$x{%F}\"],[\"ET\",\"$y\"]]},\"id\":\"1003\",\"type\":\"HoverTool\"},{\"attributes\":{},\"id\":\"1078\",\"type\":\"Selection\"},{\"attributes\":{},\"id\":\"1110\",\"type\":\"UnionRenderers\"},{\"attributes\":{\"days\":[1,2,3,4,5,6,7,8,9,10,11,12,13,14,15,16,17,18,19,20,21,22,23,24,25,26,27,28,29,30,31]},\"id\":\"1052\",\"type\":\"DaysTicker\"}],\"root_ids\":[\"1004\"]},\"title\":\"Bokeh Application\",\"version\":\"2.3.2\"}};\n",
       "  var render_items = [{\"docid\":\"433247b8-4b91-4d79-8ff7-12079b4087de\",\"root_ids\":[\"1004\"],\"roots\":{\"1004\":\"4cb9a9f3-d6d2-4c13-b39e-2c1cf7b4c1d0\"}}];\n",
       "  root.Bokeh.embed.embed_items_notebook(docs_json, render_items);\n",
       "\n",
       "  }\n",
       "  if (root.Bokeh !== undefined) {\n",
       "    embed_document(root);\n",
       "  } else {\n",
       "    var attempts = 0;\n",
       "    var timer = setInterval(function(root) {\n",
       "      if (root.Bokeh !== undefined) {\n",
       "        clearInterval(timer);\n",
       "        embed_document(root);\n",
       "      } else {\n",
       "        attempts++;\n",
       "        if (attempts > 100) {\n",
       "          clearInterval(timer);\n",
       "          console.log(\"Bokeh: ERROR: Unable to run BokehJS code because BokehJS library is missing\");\n",
       "        }\n",
       "      }\n",
       "    }, 10, root)\n",
       "  }\n",
       "})(window);"
      ],
      "application/vnd.bokehjs_exec.v0+json": ""
     },
     "metadata": {
      "application/vnd.bokehjs_exec.v0+json": {
       "id": "1004"
      }
     },
     "output_type": "display_data"
    },
    {
     "data": {
      "image/png": "[encoded data removed]",
      "text/plain": [
       "<IPython.core.display.Image object>"
      ]
     },
     "execution_count": 52,
     "metadata": {},
     "output_type": "execute_result"
    }
   ],
   "source": [
    "fig = initialize_fig(title = 'Date Vs ET (mm/day)',\n",
    "                     x_axis_label = 'Date',\n",
    "                     y_axis_label = 'ET (mm/day)',\n",
    "                     x_axis_type = 'datetime',\n",
    "                     tooltips = [\n",
    "                         ('date', '$x{%F}'),\n",
    "                         ('ET'  , '$y'),\n",
    "                     ],\n",
    "                     plot_height = 300,\n",
    "                     formatters = { '$x' : 'datetime' },\n",
    "                    )\n",
    "\n",
    "fig.title.text_font_size = '15pt'\n",
    "fig.xaxis.axis_label_text_font_size = '15pt'\n",
    "fig.yaxis.axis_label_text_font_size = '15pt'\n",
    "\n",
    "fig.circle(df.index, df.ET0_PM, fill_color='red', size=10, legend_label=f'FAO-56 Method')\n",
    "fig.line(df.index, df.ET0_PM, line_width=3, line_color='red', legend_label=f'FAO-56 Method')\n",
    "fig.circle(df.index, df.PET_PT, fill_color='blue', size=10, legend_label=f'Priestly Taylor Method')\n",
    "fig.line(df.index, df.PET_PT, line_width=3, line_color='blue', legend_label=f'Priestly Taylor Method')\n",
    "\n",
    "fig.legend.location = 'top_left'\n",
    "fig.legend.click_policy='hide'\n",
    "bp.show(fig)\n",
    "\n",
    "export_png(fig, filename=f'{BASE_DIR}/problem_4.png', height=200, width=300)\n",
    "Image(f'{BASE_DIR}/problem_4.png')"
   ]
  },
  {
   "cell_type": "markdown",
   "id": "905f309b-6e10-4587-b1ff-9f171eda8fa6",
   "metadata": {},
   "source": [
    "#### The Penman-Monteith Method of FAO has a higher value of ET than the Priestly Taylor Method. This is because of the fact that PM Method takes into consideration the atmospheric conductance and the canopy conductance. However, the mass tranfer term in the Priestly Taylor Method is neglected under the assumption that for a homogeneous well-watered surface would become saturated."
   ]
  },
  {
   "cell_type": "code",
   "execution_count": null,
   "id": "20e995cb-332f-4121-9f6d-c220d1f31825",
   "metadata": {},
   "outputs": [],
   "source": []
  },
  {
   "cell_type": "code",
   "execution_count": null,
   "id": "fe0e00f3-405c-431a-b5b6-6074a8fefc8f",
   "metadata": {},
   "outputs": [],
   "source": []
  },
  {
   "cell_type": "code",
   "execution_count": null,
   "id": "7f3e99ab-13d6-4215-9d61-ef923d0e95e8",
   "metadata": {},
   "outputs": [],
   "source": []
  },
  {
   "cell_type": "code",
   "execution_count": null,
   "id": "6a0e9b8a-a80d-481a-9915-a36848476bba",
   "metadata": {},
   "outputs": [],
   "source": []
  },
  {
   "cell_type": "code",
   "execution_count": null,
   "id": "f05ee57d-bf1b-41f3-a8c0-7d4b79ba9f19",
   "metadata": {},
   "outputs": [],
   "source": []
  },
  {
   "cell_type": "code",
   "execution_count": 53,
   "id": "25c103a0-48fa-4bdb-8682-c1172727e9f3",
   "metadata": {},
   "outputs": [],
   "source": [
    "column_names = ['const', 'year', 'julian_day', 'HM', 'S', 'pressure', 'temp_2m', 'RH_2m', 'temp_10m', 'u_10m', 'ud_10m', 'Rin', 'rain', 'temp_0.5m', 'temp_1m']"
   ]
  },
  {
   "cell_type": "code",
   "execution_count": 54,
   "id": "567256f2-2101-4252-b783-037c4d1b926c",
   "metadata": {},
   "outputs": [],
   "source": [
    "df_14 = pd.read_csv(f'{BASE_DIR}/brm_20200614_sfc.csv', names=column_names)\n",
    "df_14['datetime'] = '2020-06-14'\n",
    "\n",
    "df_15 = pd.read_csv(f'{BASE_DIR}/brm_20200615_sfc.csv', names=column_names)\n",
    "df_15['datetime'] = '2020-06-15'\n",
    "\n",
    "df_16 = pd.read_csv(f'{BASE_DIR}/brm_20200616_sfc.csv', names=column_names)\n",
    "df_16['datetime'] = '2020-06-16'\n",
    "\n",
    "df_17 = pd.read_csv(f'{BASE_DIR}/brm_20200617_sfc.csv', names=column_names)\n",
    "df_17['datetime'] = '2020-06-17'\n",
    "\n",
    "df_18 = pd.read_csv(f'{BASE_DIR}/brm_20200618_sfc.csv', names=column_names)\n",
    "df_18['datetime'] = '2020-06-18'\n",
    "\n",
    "df_19 = pd.read_csv(f'{BASE_DIR}/brm_20200619_sfc.csv', names=column_names)\n",
    "df_19['datetime'] = '2020-06-19'\n",
    "\n",
    "df_20 = pd.read_csv(f'{BASE_DIR}/brm_20200620_sfc.csv', names=column_names)\n",
    "df_20['datetime'] = '2020-06-20'"
   ]
  },
  {
   "cell_type": "code",
   "execution_count": 55,
   "id": "153e2fa5-7b1c-4a93-b594-03f6d55b1c27",
   "metadata": {},
   "outputs": [],
   "source": [
    "df_days = [df_14, df_15, df_16, df_17, df_18, df_19, df_20]"
   ]
  },
  {
   "cell_type": "code",
   "execution_count": 56,
   "id": "c901e226-d90e-4369-a3d0-d28937ff5830",
   "metadata": {},
   "outputs": [],
   "source": [
    "df1 = pd.DataFrame(columns=[\n",
    "    'datetime', 'temp_mean_2m', 'Rin_avg', 'u_avg_2m', 'Δ_T', 'pressure_avg',\n",
    "    'γ', 'DT', 'PT', 'TT', 'es', 'ea', 'dr', 'δ',  'φ_rad', 'ωs',\n",
    "    'Ra', 'Rso', 'Rns', 'Rnl', 'Rn', 'Rng', 'ETrad', 'ETwind', 'ET0'\n",
    "])\n",
    "\n",
    "for df_day in df_days:\n",
    "    # convert from fahrenheit to celsius\n",
    "    df_day['temp_2m'] = (df_day['temp_2m'] - 32.) * (5. / 9.)\n",
    "    # calculate mean temperature\n",
    "    temp_mean_2m = (df_day['temp_2m'].max() + df_day['temp_2m'].min()) / 2\n",
    "\n",
    "    # average daily radiation in MJ.m-2.day-1\n",
    "    Rin_avg = df_day['Rin'].mean() * 0.0864\n",
    "    \n",
    "    # average wind speed at 2m\n",
    "    u_avg_2m = (df_day['u_10m'] * 4.87 / math.log(672.58)).mean()\n",
    "    \n",
    "    # slope of saturation vapor pressure curve\n",
    "    Δ_T = 4098 * (0.6108 * math.exp((17.27 * temp_mean_2m) / (temp_mean_2m + 237.3))) / (temp_mean_2m + 237.3)**2\n",
    "    \n",
    "    # average pressure\n",
    "    pressure_avg = df_day['pressure'].mean()\n",
    "    \n",
    "    # Psychrometric constant\n",
    "    γ = 0.000665 * pressure_avg\n",
    "\n",
    "    # Delta Term (DT) (auxiliary calculation for Radiation Term)\n",
    "    DT = Δ_T / (Δ_T + γ * (1 + 0.34 * u_avg_2m))\n",
    "\n",
    "    # Psi Term (PT) (auxiliary calculation for Wind Term)\n",
    "    PT = γ / (Δ_T + γ * (1 + 0.34 * u_avg_2m))\n",
    "    \n",
    "    # Temperature Term (TT) (auxiliary calculation for Wind Term)\n",
    "    TT = (900 * u_avg_2m) / (temp_mean_2m + 273)\n",
    "\n",
    "    # Mean saturation vapor pressure derived from air temperature(es)\n",
    "    e_tmax = 0.6108 * math.exp( (17.27 * df_day['temp_2m'].max()) / (df_day['temp_2m'].max() + 237.7) )\n",
    "    e_tmin = 0.6108 * math.exp( (17.27 * df_day['temp_2m'].min()) / (df_day['temp_2m'].min() + 237.7) )\n",
    "    es = (e_tmax + e_tmin) / 2.\n",
    "    \n",
    "    # Actual vapor pressure (ea) derived from relative humidity\n",
    "    ea = (df_day['RH_2m'].mean() / 100.) * ((e_tmin + e_tmax) / 2.)\n",
    "    \n",
    "    # The inverse relative distance Earth-Sun (dr) and solar declination (δ)\n",
    "    # the julian_day value is same, so mean would give the same value\n",
    "    dr = 1 + 0.033 * math.cos(2 * math.pi * df_day['julian_day'].mean() / 365. )\n",
    "    δ = 0.409 * math.sin( (2 * math.pi * df_day['julian_day'].mean() / 365.) - 1.39 )\n",
    "    \n",
    "    # Conversion of latitude (φ) in degrees to radians\n",
    "    φ_rad = math.pi * latitude / 180.\n",
    "    \n",
    "    # Sunset hour angle\n",
    "    ωs = math.acos(-1 * math.tan(φ_rad) * math.tan(δ))\n",
    "    \n",
    "    # Extraterrestrial radiation (Ra)\n",
    "    term_1 = (ωs * math.sin(φ_rad) * math.sin(δ)) + (math.cos(φ_rad) * math.cos(δ) * math.sin(ωs))\n",
    "    Ra = 24. * 60. / math.pi * 0.0820 * dr * term_1\n",
    "    \n",
    "    # Clear sky solar radiation (Rso)\n",
    "    Rso = (0.75 + 2 * 10**-5 * z) * Ra\n",
    "    \n",
    "    # Net solar or net shortwave radiation (Rns)\n",
    "    Rns = (1. - 0.23) * Rin_avg\n",
    "    \n",
    "    # Net outgoing long wave solar radiation (Rnl)\n",
    "    term_1 = ((df_day['temp_2m'].max() + 273.16)**4 + (df_day['temp_2m'].min() + 273.16)**4) / 2.\n",
    "    term_2 = (0.34 - 0.14 * math.sqrt(ea))\n",
    "    term_3 = 1.35 * (Rin_avg / Rso ) - 0.35\n",
    "    Rnl = σ * term_1 * term_2 * term_3\n",
    "    \n",
    "    # Net radiation (Rn)\n",
    "    Rn = Rns - Rnl\n",
    "    # Net raduation in equivalent of evaporation (mm)\n",
    "    Rng = 0.408 * Rn\n",
    "    \n",
    "    # FS1. Radiation term (ETrad)\n",
    "    ETrad = DT * Rng\n",
    "    \n",
    "    # FS2. Wind term (ETwind)\n",
    "    ETwind = PT * TT * (es - ea)\n",
    "    \n",
    "    # Final Reference Evapotranspiration Value (ETo)\n",
    "    ET0 = ETwind + ETrad\n",
    "    \n",
    "    df_row = {\n",
    "        'datetime'     : df_day.datetime.iloc[0],\n",
    "        'temp_mean_2m' : temp_mean_2m,\n",
    "        'Rin_avg'      : Rin_avg,\n",
    "        'u_avg_2m'     : u_avg_2m,\n",
    "        'Δ_T'          : Δ_T,\n",
    "        'pressure_avg' : pressure_avg,\n",
    "        'γ'            : γ,\n",
    "        'DT'           : DT,\n",
    "        'PT'           : PT,\n",
    "        'TT'           : TT,\n",
    "        'es'           : es,\n",
    "        'ea'           : ea,\n",
    "        'dr'           : dr,\n",
    "        'δ'            : δ,\n",
    "        'φ_rad'        : φ_rad,\n",
    "        'ωs'           : ωs,\n",
    "        'Ra'           : Ra,\n",
    "        'Rso'          : Rso,\n",
    "        'Rns'          : Rns,\n",
    "        'Rnl'          : Rnl,\n",
    "        'Rn'           : Rn,\n",
    "        'Rng'          : Rng,\n",
    "        'ETrad'        : ETrad,\n",
    "        'ETwind'       : ETwind,\n",
    "        'ET0'          : ET0,\n",
    "        \n",
    "    }\n",
    "    df1 = df1.append(df_row, ignore_index=True)\n",
    "\n",
    "df1.index = pd.to_datetime(df1['datetime'])\n",
    "df1 = df1.drop(['datetime'], axis=1)"
   ]
  },
  {
   "cell_type": "code",
   "execution_count": 57,
   "id": "169722b1-9064-4a5f-aa9b-3012034a738d",
   "metadata": {},
   "outputs": [
    {
     "data": {
      "text/html": [
       "<div>\n",
       "<style scoped>\n",
       "    .dataframe tbody tr th:only-of-type {\n",
       "        vertical-align: middle;\n",
       "    }\n",
       "\n",
       "    .dataframe tbody tr th {\n",
       "        vertical-align: top;\n",
       "    }\n",
       "\n",
       "    .dataframe thead th {\n",
       "        text-align: right;\n",
       "    }\n",
       "</style>\n",
       "<table border=\"1\" class=\"dataframe\">\n",
       "  <thead>\n",
       "    <tr style=\"text-align: right;\">\n",
       "      <th></th>\n",
       "      <th>temp_mean_2m</th>\n",
       "      <th>Rin_avg</th>\n",
       "      <th>u_avg_2m</th>\n",
       "      <th>Δ_T</th>\n",
       "      <th>pressure_avg</th>\n",
       "      <th>γ</th>\n",
       "      <th>DT</th>\n",
       "      <th>PT</th>\n",
       "      <th>TT</th>\n",
       "      <th>es</th>\n",
       "      <th>...</th>\n",
       "      <th>ωs</th>\n",
       "      <th>Ra</th>\n",
       "      <th>Rso</th>\n",
       "      <th>Rns</th>\n",
       "      <th>Rnl</th>\n",
       "      <th>Rn</th>\n",
       "      <th>Rng</th>\n",
       "      <th>ETrad</th>\n",
       "      <th>ETwind</th>\n",
       "      <th>ET0</th>\n",
       "    </tr>\n",
       "    <tr>\n",
       "      <th>datetime</th>\n",
       "      <th></th>\n",
       "      <th></th>\n",
       "      <th></th>\n",
       "      <th></th>\n",
       "      <th></th>\n",
       "      <th></th>\n",
       "      <th></th>\n",
       "      <th></th>\n",
       "      <th></th>\n",
       "      <th></th>\n",
       "      <th></th>\n",
       "      <th></th>\n",
       "      <th></th>\n",
       "      <th></th>\n",
       "      <th></th>\n",
       "      <th></th>\n",
       "      <th></th>\n",
       "      <th></th>\n",
       "      <th></th>\n",
       "      <th></th>\n",
       "      <th></th>\n",
       "    </tr>\n",
       "  </thead>\n",
       "  <tbody>\n",
       "    <tr>\n",
       "      <th>2020-06-14</th>\n",
       "      <td>24.428975</td>\n",
       "      <td>23.989212</td>\n",
       "      <td>1.132383</td>\n",
       "      <td>0.183155</td>\n",
       "      <td>996.224439</td>\n",
       "      <td>0.662489</td>\n",
       "      <td>0.166397</td>\n",
       "      <td>0.601875</td>\n",
       "      <td>3.426516</td>\n",
       "      <td>3.289710</td>\n",
       "      <td>...</td>\n",
       "      <td>1.874018</td>\n",
       "      <td>41.592033</td>\n",
       "      <td>31.370375</td>\n",
       "      <td>18.471693</td>\n",
       "      <td>3.996675</td>\n",
       "      <td>14.475018</td>\n",
       "      <td>5.905807</td>\n",
       "      <td>0.982710</td>\n",
       "      <td>3.058170</td>\n",
       "      <td>4.040881</td>\n",
       "    </tr>\n",
       "    <tr>\n",
       "      <th>2020-06-15</th>\n",
       "      <td>22.343142</td>\n",
       "      <td>25.540423</td>\n",
       "      <td>1.506413</td>\n",
       "      <td>0.164112</td>\n",
       "      <td>997.542610</td>\n",
       "      <td>0.663366</td>\n",
       "      <td>0.140598</td>\n",
       "      <td>0.568320</td>\n",
       "      <td>4.590498</td>\n",
       "      <td>2.799549</td>\n",
       "      <td>...</td>\n",
       "      <td>1.874591</td>\n",
       "      <td>41.601611</td>\n",
       "      <td>31.377599</td>\n",
       "      <td>19.666126</td>\n",
       "      <td>4.479948</td>\n",
       "      <td>15.186178</td>\n",
       "      <td>6.195961</td>\n",
       "      <td>0.871140</td>\n",
       "      <td>2.978959</td>\n",
       "      <td>3.850099</td>\n",
       "    </tr>\n",
       "    <tr>\n",
       "      <th>2020-06-16</th>\n",
       "      <td>21.717239</td>\n",
       "      <td>18.654335</td>\n",
       "      <td>1.119263</td>\n",
       "      <td>0.158735</td>\n",
       "      <td>997.555055</td>\n",
       "      <td>0.663374</td>\n",
       "      <td>0.147721</td>\n",
       "      <td>0.617347</td>\n",
       "      <td>3.417978</td>\n",
       "      <td>2.692241</td>\n",
       "      <td>...</td>\n",
       "      <td>1.875060</td>\n",
       "      <td>41.608640</td>\n",
       "      <td>31.382900</td>\n",
       "      <td>14.363838</td>\n",
       "      <td>2.731093</td>\n",
       "      <td>11.632745</td>\n",
       "      <td>4.746160</td>\n",
       "      <td>0.701108</td>\n",
       "      <td>2.291512</td>\n",
       "      <td>2.992621</td>\n",
       "    </tr>\n",
       "    <tr>\n",
       "      <th>2020-06-17</th>\n",
       "      <td>21.799686</td>\n",
       "      <td>17.835425</td>\n",
       "      <td>1.190743</td>\n",
       "      <td>0.159434</td>\n",
       "      <td>995.475954</td>\n",
       "      <td>0.661992</td>\n",
       "      <td>0.146346</td>\n",
       "      <td>0.607647</td>\n",
       "      <td>3.635242</td>\n",
       "      <td>2.681610</td>\n",
       "      <td>...</td>\n",
       "      <td>1.875426</td>\n",
       "      <td>41.613122</td>\n",
       "      <td>31.386282</td>\n",
       "      <td>13.733278</td>\n",
       "      <td>2.475475</td>\n",
       "      <td>11.257803</td>\n",
       "      <td>4.593184</td>\n",
       "      <td>0.672194</td>\n",
       "      <td>2.260127</td>\n",
       "      <td>2.932321</td>\n",
       "    </tr>\n",
       "    <tr>\n",
       "      <th>2020-06-18</th>\n",
       "      <td>23.171550</td>\n",
       "      <td>20.773233</td>\n",
       "      <td>0.775550</td>\n",
       "      <td>0.171464</td>\n",
       "      <td>993.525169</td>\n",
       "      <td>0.660694</td>\n",
       "      <td>0.170378</td>\n",
       "      <td>0.656509</td>\n",
       "      <td>2.356724</td>\n",
       "      <td>3.004321</td>\n",
       "      <td>...</td>\n",
       "      <td>1.875687</td>\n",
       "      <td>41.615064</td>\n",
       "      <td>31.387746</td>\n",
       "      <td>15.995389</td>\n",
       "      <td>2.922396</td>\n",
       "      <td>13.072993</td>\n",
       "      <td>5.333781</td>\n",
       "      <td>0.908760</td>\n",
       "      <td>1.549243</td>\n",
       "      <td>2.458004</td>\n",
       "    </tr>\n",
       "    <tr>\n",
       "      <th>2020-06-19</th>\n",
       "      <td>25.073097</td>\n",
       "      <td>21.297904</td>\n",
       "      <td>0.833449</td>\n",
       "      <td>0.189399</td>\n",
       "      <td>993.924940</td>\n",
       "      <td>0.660960</td>\n",
       "      <td>0.182526</td>\n",
       "      <td>0.636973</td>\n",
       "      <td>2.516510</td>\n",
       "      <td>3.368961</td>\n",
       "      <td>...</td>\n",
       "      <td>1.875843</td>\n",
       "      <td>41.614466</td>\n",
       "      <td>31.387295</td>\n",
       "      <td>16.399386</td>\n",
       "      <td>2.983046</td>\n",
       "      <td>13.416340</td>\n",
       "      <td>5.473867</td>\n",
       "      <td>0.999122</td>\n",
       "      <td>1.980309</td>\n",
       "      <td>2.979432</td>\n",
       "    </tr>\n",
       "    <tr>\n",
       "      <th>2020-06-20</th>\n",
       "      <td>26.815189</td>\n",
       "      <td>24.035417</td>\n",
       "      <td>0.859619</td>\n",
       "      <td>0.207193</td>\n",
       "      <td>993.564264</td>\n",
       "      <td>0.660720</td>\n",
       "      <td>0.195276</td>\n",
       "      <td>0.622721</td>\n",
       "      <td>2.580447</td>\n",
       "      <td>3.740520</td>\n",
       "      <td>...</td>\n",
       "      <td>1.875895</td>\n",
       "      <td>41.611333</td>\n",
       "      <td>31.384932</td>\n",
       "      <td>18.507271</td>\n",
       "      <td>3.519361</td>\n",
       "      <td>14.987910</td>\n",
       "      <td>6.115067</td>\n",
       "      <td>1.194128</td>\n",
       "      <td>2.369680</td>\n",
       "      <td>3.563808</td>\n",
       "    </tr>\n",
       "  </tbody>\n",
       "</table>\n",
       "<p>7 rows × 24 columns</p>\n",
       "</div>"
      ],
      "text/plain": [
       "            temp_mean_2m    Rin_avg  u_avg_2m       Δ_T  pressure_avg  \\\n",
       "datetime                                                                \n",
       "2020-06-14     24.428975  23.989212  1.132383  0.183155    996.224439   \n",
       "2020-06-15     22.343142  25.540423  1.506413  0.164112    997.542610   \n",
       "2020-06-16     21.717239  18.654335  1.119263  0.158735    997.555055   \n",
       "2020-06-17     21.799686  17.835425  1.190743  0.159434    995.475954   \n",
       "2020-06-18     23.171550  20.773233  0.775550  0.171464    993.525169   \n",
       "2020-06-19     25.073097  21.297904  0.833449  0.189399    993.924940   \n",
       "2020-06-20     26.815189  24.035417  0.859619  0.207193    993.564264   \n",
       "\n",
       "                   γ        DT        PT        TT        es  ...        ωs  \\\n",
       "datetime                                                      ...             \n",
       "2020-06-14  0.662489  0.166397  0.601875  3.426516  3.289710  ...  1.874018   \n",
       "2020-06-15  0.663366  0.140598  0.568320  4.590498  2.799549  ...  1.874591   \n",
       "2020-06-16  0.663374  0.147721  0.617347  3.417978  2.692241  ...  1.875060   \n",
       "2020-06-17  0.661992  0.146346  0.607647  3.635242  2.681610  ...  1.875426   \n",
       "2020-06-18  0.660694  0.170378  0.656509  2.356724  3.004321  ...  1.875687   \n",
       "2020-06-19  0.660960  0.182526  0.636973  2.516510  3.368961  ...  1.875843   \n",
       "2020-06-20  0.660720  0.195276  0.622721  2.580447  3.740520  ...  1.875895   \n",
       "\n",
       "                   Ra        Rso        Rns       Rnl         Rn       Rng  \\\n",
       "datetime                                                                     \n",
       "2020-06-14  41.592033  31.370375  18.471693  3.996675  14.475018  5.905807   \n",
       "2020-06-15  41.601611  31.377599  19.666126  4.479948  15.186178  6.195961   \n",
       "2020-06-16  41.608640  31.382900  14.363838  2.731093  11.632745  4.746160   \n",
       "2020-06-17  41.613122  31.386282  13.733278  2.475475  11.257803  4.593184   \n",
       "2020-06-18  41.615064  31.387746  15.995389  2.922396  13.072993  5.333781   \n",
       "2020-06-19  41.614466  31.387295  16.399386  2.983046  13.416340  5.473867   \n",
       "2020-06-20  41.611333  31.384932  18.507271  3.519361  14.987910  6.115067   \n",
       "\n",
       "               ETrad    ETwind       ET0  \n",
       "datetime                                  \n",
       "2020-06-14  0.982710  3.058170  4.040881  \n",
       "2020-06-15  0.871140  2.978959  3.850099  \n",
       "2020-06-16  0.701108  2.291512  2.992621  \n",
       "2020-06-17  0.672194  2.260127  2.932321  \n",
       "2020-06-18  0.908760  1.549243  2.458004  \n",
       "2020-06-19  0.999122  1.980309  2.979432  \n",
       "2020-06-20  1.194128  2.369680  3.563808  \n",
       "\n",
       "[7 rows x 24 columns]"
      ]
     },
     "execution_count": 57,
     "metadata": {},
     "output_type": "execute_result"
    }
   ],
   "source": [
    "df1"
   ]
  },
  {
   "cell_type": "markdown",
   "id": "2e7f70ae-62e5-4f39-af3c-0218feec3c16",
   "metadata": {},
   "source": [
    "#### The data is for the summer time for 2012 and 2020. The ET is comparable. In Alabama, during summer, the radiation reaching the surface is high, and the precipitation also takes place. As a result, we have relatively balanced ET in the range of 1 mm upto 5 mm per day. The major factors affecting the ET besides the sunlight hours are the air temperature, relative humidity (i.e., vapor pressure deficit) and wind speed, which are relatively similar during the summer days. Noticable differences can be obtained if ET are compared between in the Fall or the Winter."
   ]
  },
  {
   "cell_type": "code",
   "execution_count": null,
   "id": "5c1a2138-13b5-43ca-9a4a-fcbb329aeb37",
   "metadata": {},
   "outputs": [],
   "source": []
  }
 ],
 "metadata": {
  "kernelspec": {
   "display_name": "Python [conda env:cbias] *",
   "language": "python",
   "name": "conda-env-cbias-py"
  },
  "language_info": {
   "codemirror_mode": {
    "name": "ipython",
    "version": 3
   },
   "file_extension": ".py",
   "mimetype": "text/x-python",
   "name": "python",
   "nbconvert_exporter": "python",
   "pygments_lexer": "ipython3",
   "version": "3.9.4"
  }
 },
 "nbformat": 4,
 "nbformat_minor": 5
}
