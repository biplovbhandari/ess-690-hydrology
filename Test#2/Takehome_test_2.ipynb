{
 "cells": [
  {
   "cell_type": "code",
   "execution_count": 1,
   "id": "eae1eaf8-32a5-4686-a407-c60e642edda9",
   "metadata": {},
   "outputs": [
    {
     "name": "stdout",
     "output_type": "stream",
     "text": [
      "/Users/biplovbhandari/UAH/Fall_2021/ESS_690_Hydrology/Test\n"
     ]
    },
    {
     "data": {
      "text/html": [
       "\n",
       "    <div class=\"bk-root\">\n",
       "        <a href=\"https://bokeh.org\" target=\"_blank\" class=\"bk-logo bk-logo-small bk-logo-notebook\"></a>\n",
       "        <span id=\"1002\">Loading BokehJS ...</span>\n",
       "    </div>"
      ]
     },
     "metadata": {},
     "output_type": "display_data"
    },
    {
     "data": {
      "application/javascript": [
       "\n",
       "(function(root) {\n",
       "  function now() {\n",
       "    return new Date();\n",
       "  }\n",
       "\n",
       "  var force = true;\n",
       "\n",
       "  if (typeof root._bokeh_onload_callbacks === \"undefined\" || force === true) {\n",
       "    root._bokeh_onload_callbacks = [];\n",
       "    root._bokeh_is_loading = undefined;\n",
       "  }\n",
       "\n",
       "  var JS_MIME_TYPE = 'application/javascript';\n",
       "  var HTML_MIME_TYPE = 'text/html';\n",
       "  var EXEC_MIME_TYPE = 'application/vnd.bokehjs_exec.v0+json';\n",
       "  var CLASS_NAME = 'output_bokeh rendered_html';\n",
       "\n",
       "  /**\n",
       "   * Render data to the DOM node\n",
       "   */\n",
       "  function render(props, node) {\n",
       "    var script = document.createElement(\"script\");\n",
       "    node.appendChild(script);\n",
       "  }\n",
       "\n",
       "  /**\n",
       "   * Handle when an output is cleared or removed\n",
       "   */\n",
       "  function handleClearOutput(event, handle) {\n",
       "    var cell = handle.cell;\n",
       "\n",
       "    var id = cell.output_area._bokeh_element_id;\n",
       "    var server_id = cell.output_area._bokeh_server_id;\n",
       "    // Clean up Bokeh references\n",
       "    if (id != null && id in Bokeh.index) {\n",
       "      Bokeh.index[id].model.document.clear();\n",
       "      delete Bokeh.index[id];\n",
       "    }\n",
       "\n",
       "    if (server_id !== undefined) {\n",
       "      // Clean up Bokeh references\n",
       "      var cmd = \"from bokeh.io.state import curstate; print(curstate().uuid_to_server['\" + server_id + \"'].get_sessions()[0].document.roots[0]._id)\";\n",
       "      cell.notebook.kernel.execute(cmd, {\n",
       "        iopub: {\n",
       "          output: function(msg) {\n",
       "            var id = msg.content.text.trim();\n",
       "            if (id in Bokeh.index) {\n",
       "              Bokeh.index[id].model.document.clear();\n",
       "              delete Bokeh.index[id];\n",
       "            }\n",
       "          }\n",
       "        }\n",
       "      });\n",
       "      // Destroy server and session\n",
       "      var cmd = \"import bokeh.io.notebook as ion; ion.destroy_server('\" + server_id + \"')\";\n",
       "      cell.notebook.kernel.execute(cmd);\n",
       "    }\n",
       "  }\n",
       "\n",
       "  /**\n",
       "   * Handle when a new output is added\n",
       "   */\n",
       "  function handleAddOutput(event, handle) {\n",
       "    var output_area = handle.output_area;\n",
       "    var output = handle.output;\n",
       "\n",
       "    // limit handleAddOutput to display_data with EXEC_MIME_TYPE content only\n",
       "    if ((output.output_type != \"display_data\") || (!Object.prototype.hasOwnProperty.call(output.data, EXEC_MIME_TYPE))) {\n",
       "      return\n",
       "    }\n",
       "\n",
       "    var toinsert = output_area.element.find(\".\" + CLASS_NAME.split(' ')[0]);\n",
       "\n",
       "    if (output.metadata[EXEC_MIME_TYPE][\"id\"] !== undefined) {\n",
       "      toinsert[toinsert.length - 1].firstChild.textContent = output.data[JS_MIME_TYPE];\n",
       "      // store reference to embed id on output_area\n",
       "      output_area._bokeh_element_id = output.metadata[EXEC_MIME_TYPE][\"id\"];\n",
       "    }\n",
       "    if (output.metadata[EXEC_MIME_TYPE][\"server_id\"] !== undefined) {\n",
       "      var bk_div = document.createElement(\"div\");\n",
       "      bk_div.innerHTML = output.data[HTML_MIME_TYPE];\n",
       "      var script_attrs = bk_div.children[0].attributes;\n",
       "      for (var i = 0; i < script_attrs.length; i++) {\n",
       "        toinsert[toinsert.length - 1].firstChild.setAttribute(script_attrs[i].name, script_attrs[i].value);\n",
       "        toinsert[toinsert.length - 1].firstChild.textContent = bk_div.children[0].textContent\n",
       "      }\n",
       "      // store reference to server id on output_area\n",
       "      output_area._bokeh_server_id = output.metadata[EXEC_MIME_TYPE][\"server_id\"];\n",
       "    }\n",
       "  }\n",
       "\n",
       "  function register_renderer(events, OutputArea) {\n",
       "\n",
       "    function append_mime(data, metadata, element) {\n",
       "      // create a DOM node to render to\n",
       "      var toinsert = this.create_output_subarea(\n",
       "        metadata,\n",
       "        CLASS_NAME,\n",
       "        EXEC_MIME_TYPE\n",
       "      );\n",
       "      this.keyboard_manager.register_events(toinsert);\n",
       "      // Render to node\n",
       "      var props = {data: data, metadata: metadata[EXEC_MIME_TYPE]};\n",
       "      render(props, toinsert[toinsert.length - 1]);\n",
       "      element.append(toinsert);\n",
       "      return toinsert\n",
       "    }\n",
       "\n",
       "    /* Handle when an output is cleared or removed */\n",
       "    events.on('clear_output.CodeCell', handleClearOutput);\n",
       "    events.on('delete.Cell', handleClearOutput);\n",
       "\n",
       "    /* Handle when a new output is added */\n",
       "    events.on('output_added.OutputArea', handleAddOutput);\n",
       "\n",
       "    /**\n",
       "     * Register the mime type and append_mime function with output_area\n",
       "     */\n",
       "    OutputArea.prototype.register_mime_type(EXEC_MIME_TYPE, append_mime, {\n",
       "      /* Is output safe? */\n",
       "      safe: true,\n",
       "      /* Index of renderer in `output_area.display_order` */\n",
       "      index: 0\n",
       "    });\n",
       "  }\n",
       "\n",
       "  // register the mime type if in Jupyter Notebook environment and previously unregistered\n",
       "  if (root.Jupyter !== undefined) {\n",
       "    var events = require('base/js/events');\n",
       "    var OutputArea = require('notebook/js/outputarea').OutputArea;\n",
       "\n",
       "    if (OutputArea.prototype.mime_types().indexOf(EXEC_MIME_TYPE) == -1) {\n",
       "      register_renderer(events, OutputArea);\n",
       "    }\n",
       "  }\n",
       "\n",
       "  \n",
       "  if (typeof (root._bokeh_timeout) === \"undefined\" || force === true) {\n",
       "    root._bokeh_timeout = Date.now() + 5000;\n",
       "    root._bokeh_failed_load = false;\n",
       "  }\n",
       "\n",
       "  var NB_LOAD_WARNING = {'data': {'text/html':\n",
       "     \"<div style='background-color: #fdd'>\\n\"+\n",
       "     \"<p>\\n\"+\n",
       "     \"BokehJS does not appear to have successfully loaded. If loading BokehJS from CDN, this \\n\"+\n",
       "     \"may be due to a slow or bad network connection. Possible fixes:\\n\"+\n",
       "     \"</p>\\n\"+\n",
       "     \"<ul>\\n\"+\n",
       "     \"<li>re-rerun `output_notebook()` to attempt to load from CDN again, or</li>\\n\"+\n",
       "     \"<li>use INLINE resources instead, as so:</li>\\n\"+\n",
       "     \"</ul>\\n\"+\n",
       "     \"<code>\\n\"+\n",
       "     \"from bokeh.resources import INLINE\\n\"+\n",
       "     \"output_notebook(resources=INLINE)\\n\"+\n",
       "     \"</code>\\n\"+\n",
       "     \"</div>\"}};\n",
       "\n",
       "  function display_loaded() {\n",
       "    var el = document.getElementById(\"1002\");\n",
       "    if (el != null) {\n",
       "      el.textContent = \"BokehJS is loading...\";\n",
       "    }\n",
       "    if (root.Bokeh !== undefined) {\n",
       "      if (el != null) {\n",
       "        el.textContent = \"BokehJS \" + root.Bokeh.version + \" successfully loaded.\";\n",
       "      }\n",
       "    } else if (Date.now() < root._bokeh_timeout) {\n",
       "      setTimeout(display_loaded, 100)\n",
       "    }\n",
       "  }\n",
       "\n",
       "\n",
       "  function run_callbacks() {\n",
       "    try {\n",
       "      root._bokeh_onload_callbacks.forEach(function(callback) {\n",
       "        if (callback != null)\n",
       "          callback();\n",
       "      });\n",
       "    } finally {\n",
       "      delete root._bokeh_onload_callbacks\n",
       "    }\n",
       "    console.debug(\"Bokeh: all callbacks have finished\");\n",
       "  }\n",
       "\n",
       "  function load_libs(css_urls, js_urls, callback) {\n",
       "    if (css_urls == null) css_urls = [];\n",
       "    if (js_urls == null) js_urls = [];\n",
       "\n",
       "    root._bokeh_onload_callbacks.push(callback);\n",
       "    if (root._bokeh_is_loading > 0) {\n",
       "      console.debug(\"Bokeh: BokehJS is being loaded, scheduling callback at\", now());\n",
       "      return null;\n",
       "    }\n",
       "    if (js_urls == null || js_urls.length === 0) {\n",
       "      run_callbacks();\n",
       "      return null;\n",
       "    }\n",
       "    console.debug(\"Bokeh: BokehJS not loaded, scheduling load and callback at\", now());\n",
       "    root._bokeh_is_loading = css_urls.length + js_urls.length;\n",
       "\n",
       "    function on_load() {\n",
       "      root._bokeh_is_loading--;\n",
       "      if (root._bokeh_is_loading === 0) {\n",
       "        console.debug(\"Bokeh: all BokehJS libraries/stylesheets loaded\");\n",
       "        run_callbacks()\n",
       "      }\n",
       "    }\n",
       "\n",
       "    function on_error(url) {\n",
       "      console.error(\"failed to load \" + url);\n",
       "    }\n",
       "\n",
       "    for (let i = 0; i < css_urls.length; i++) {\n",
       "      const url = css_urls[i];\n",
       "      const element = document.createElement(\"link\");\n",
       "      element.onload = on_load;\n",
       "      element.onerror = on_error.bind(null, url);\n",
       "      element.rel = \"stylesheet\";\n",
       "      element.type = \"text/css\";\n",
       "      element.href = url;\n",
       "      console.debug(\"Bokeh: injecting link tag for BokehJS stylesheet: \", url);\n",
       "      document.body.appendChild(element);\n",
       "    }\n",
       "\n",
       "    const hashes = {\"https://cdn.bokeh.org/bokeh/release/bokeh-2.3.2.min.js\": \"XypntL49z55iwGVUW4qsEu83zKL3XEcz0MjuGOQ9SlaaQ68X/g+k1FcioZi7oQAc\", \"https://cdn.bokeh.org/bokeh/release/bokeh-tables-2.3.2.min.js\": \"bEsM86IHGDTLCS0Zod8a8WM6Y4+lafAL/eSiyQcuPzinmWNgNO2/olUF0Z2Dkn5i\", \"https://cdn.bokeh.org/bokeh/release/bokeh-widgets-2.3.2.min.js\": \"TX0gSQTdXTTeScqxj6PVQxTiRW8DOoGVwinyi1D3kxv7wuxQ02XkOxv0xwiypcAH\"};\n",
       "\n",
       "    for (let i = 0; i < js_urls.length; i++) {\n",
       "      const url = js_urls[i];\n",
       "      const element = document.createElement('script');\n",
       "      element.onload = on_load;\n",
       "      element.onerror = on_error.bind(null, url);\n",
       "      element.async = false;\n",
       "      element.src = url;\n",
       "      if (url in hashes) {\n",
       "        element.crossOrigin = \"anonymous\";\n",
       "        element.integrity = \"sha384-\" + hashes[url];\n",
       "      }\n",
       "      console.debug(\"Bokeh: injecting script tag for BokehJS library: \", url);\n",
       "      document.head.appendChild(element);\n",
       "    }\n",
       "  };\n",
       "\n",
       "  function inject_raw_css(css) {\n",
       "    const element = document.createElement(\"style\");\n",
       "    element.appendChild(document.createTextNode(css));\n",
       "    document.body.appendChild(element);\n",
       "  }\n",
       "\n",
       "  \n",
       "  var js_urls = [\"https://cdn.bokeh.org/bokeh/release/bokeh-2.3.2.min.js\", \"https://cdn.bokeh.org/bokeh/release/bokeh-widgets-2.3.2.min.js\", \"https://cdn.bokeh.org/bokeh/release/bokeh-tables-2.3.2.min.js\"];\n",
       "  var css_urls = [];\n",
       "  \n",
       "\n",
       "  var inline_js = [\n",
       "    function(Bokeh) {\n",
       "      Bokeh.set_log_level(\"info\");\n",
       "    },\n",
       "    function(Bokeh) {\n",
       "    \n",
       "    \n",
       "    }\n",
       "  ];\n",
       "\n",
       "  function run_inline_js() {\n",
       "    \n",
       "    if (root.Bokeh !== undefined || force === true) {\n",
       "      \n",
       "    for (var i = 0; i < inline_js.length; i++) {\n",
       "      inline_js[i].call(root, root.Bokeh);\n",
       "    }\n",
       "    if (force === true) {\n",
       "        display_loaded();\n",
       "      }} else if (Date.now() < root._bokeh_timeout) {\n",
       "      setTimeout(run_inline_js, 100);\n",
       "    } else if (!root._bokeh_failed_load) {\n",
       "      console.log(\"Bokeh: BokehJS failed to load within specified timeout.\");\n",
       "      root._bokeh_failed_load = true;\n",
       "    } else if (force !== true) {\n",
       "      var cell = $(document.getElementById(\"1002\")).parents('.cell').data().cell;\n",
       "      cell.output_area.append_execute_result(NB_LOAD_WARNING)\n",
       "    }\n",
       "\n",
       "  }\n",
       "\n",
       "  if (root._bokeh_is_loading === 0) {\n",
       "    console.debug(\"Bokeh: BokehJS loaded, going straight to plotting\");\n",
       "    run_inline_js();\n",
       "  } else {\n",
       "    load_libs(css_urls, js_urls, function() {\n",
       "      console.debug(\"Bokeh: BokehJS plotting callback run at\", now());\n",
       "      run_inline_js();\n",
       "    });\n",
       "  }\n",
       "}(window));"
      ],
      "application/vnd.bokehjs_load.v0+json": "\n(function(root) {\n  function now() {\n    return new Date();\n  }\n\n  var force = true;\n\n  if (typeof root._bokeh_onload_callbacks === \"undefined\" || force === true) {\n    root._bokeh_onload_callbacks = [];\n    root._bokeh_is_loading = undefined;\n  }\n\n  \n\n  \n  if (typeof (root._bokeh_timeout) === \"undefined\" || force === true) {\n    root._bokeh_timeout = Date.now() + 5000;\n    root._bokeh_failed_load = false;\n  }\n\n  var NB_LOAD_WARNING = {'data': {'text/html':\n     \"<div style='background-color: #fdd'>\\n\"+\n     \"<p>\\n\"+\n     \"BokehJS does not appear to have successfully loaded. If loading BokehJS from CDN, this \\n\"+\n     \"may be due to a slow or bad network connection. Possible fixes:\\n\"+\n     \"</p>\\n\"+\n     \"<ul>\\n\"+\n     \"<li>re-rerun `output_notebook()` to attempt to load from CDN again, or</li>\\n\"+\n     \"<li>use INLINE resources instead, as so:</li>\\n\"+\n     \"</ul>\\n\"+\n     \"<code>\\n\"+\n     \"from bokeh.resources import INLINE\\n\"+\n     \"output_notebook(resources=INLINE)\\n\"+\n     \"</code>\\n\"+\n     \"</div>\"}};\n\n  function display_loaded() {\n    var el = document.getElementById(\"1002\");\n    if (el != null) {\n      el.textContent = \"BokehJS is loading...\";\n    }\n    if (root.Bokeh !== undefined) {\n      if (el != null) {\n        el.textContent = \"BokehJS \" + root.Bokeh.version + \" successfully loaded.\";\n      }\n    } else if (Date.now() < root._bokeh_timeout) {\n      setTimeout(display_loaded, 100)\n    }\n  }\n\n\n  function run_callbacks() {\n    try {\n      root._bokeh_onload_callbacks.forEach(function(callback) {\n        if (callback != null)\n          callback();\n      });\n    } finally {\n      delete root._bokeh_onload_callbacks\n    }\n    console.debug(\"Bokeh: all callbacks have finished\");\n  }\n\n  function load_libs(css_urls, js_urls, callback) {\n    if (css_urls == null) css_urls = [];\n    if (js_urls == null) js_urls = [];\n\n    root._bokeh_onload_callbacks.push(callback);\n    if (root._bokeh_is_loading > 0) {\n      console.debug(\"Bokeh: BokehJS is being loaded, scheduling callback at\", now());\n      return null;\n    }\n    if (js_urls == null || js_urls.length === 0) {\n      run_callbacks();\n      return null;\n    }\n    console.debug(\"Bokeh: BokehJS not loaded, scheduling load and callback at\", now());\n    root._bokeh_is_loading = css_urls.length + js_urls.length;\n\n    function on_load() {\n      root._bokeh_is_loading--;\n      if (root._bokeh_is_loading === 0) {\n        console.debug(\"Bokeh: all BokehJS libraries/stylesheets loaded\");\n        run_callbacks()\n      }\n    }\n\n    function on_error(url) {\n      console.error(\"failed to load \" + url);\n    }\n\n    for (let i = 0; i < css_urls.length; i++) {\n      const url = css_urls[i];\n      const element = document.createElement(\"link\");\n      element.onload = on_load;\n      element.onerror = on_error.bind(null, url);\n      element.rel = \"stylesheet\";\n      element.type = \"text/css\";\n      element.href = url;\n      console.debug(\"Bokeh: injecting link tag for BokehJS stylesheet: \", url);\n      document.body.appendChild(element);\n    }\n\n    const hashes = {\"https://cdn.bokeh.org/bokeh/release/bokeh-2.3.2.min.js\": \"XypntL49z55iwGVUW4qsEu83zKL3XEcz0MjuGOQ9SlaaQ68X/g+k1FcioZi7oQAc\", \"https://cdn.bokeh.org/bokeh/release/bokeh-tables-2.3.2.min.js\": \"bEsM86IHGDTLCS0Zod8a8WM6Y4+lafAL/eSiyQcuPzinmWNgNO2/olUF0Z2Dkn5i\", \"https://cdn.bokeh.org/bokeh/release/bokeh-widgets-2.3.2.min.js\": \"TX0gSQTdXTTeScqxj6PVQxTiRW8DOoGVwinyi1D3kxv7wuxQ02XkOxv0xwiypcAH\"};\n\n    for (let i = 0; i < js_urls.length; i++) {\n      const url = js_urls[i];\n      const element = document.createElement('script');\n      element.onload = on_load;\n      element.onerror = on_error.bind(null, url);\n      element.async = false;\n      element.src = url;\n      if (url in hashes) {\n        element.crossOrigin = \"anonymous\";\n        element.integrity = \"sha384-\" + hashes[url];\n      }\n      console.debug(\"Bokeh: injecting script tag for BokehJS library: \", url);\n      document.head.appendChild(element);\n    }\n  };\n\n  function inject_raw_css(css) {\n    const element = document.createElement(\"style\");\n    element.appendChild(document.createTextNode(css));\n    document.body.appendChild(element);\n  }\n\n  \n  var js_urls = [\"https://cdn.bokeh.org/bokeh/release/bokeh-2.3.2.min.js\", \"https://cdn.bokeh.org/bokeh/release/bokeh-widgets-2.3.2.min.js\", \"https://cdn.bokeh.org/bokeh/release/bokeh-tables-2.3.2.min.js\"];\n  var css_urls = [];\n  \n\n  var inline_js = [\n    function(Bokeh) {\n      Bokeh.set_log_level(\"info\");\n    },\n    function(Bokeh) {\n    \n    \n    }\n  ];\n\n  function run_inline_js() {\n    \n    if (root.Bokeh !== undefined || force === true) {\n      \n    for (var i = 0; i < inline_js.length; i++) {\n      inline_js[i].call(root, root.Bokeh);\n    }\n    if (force === true) {\n        display_loaded();\n      }} else if (Date.now() < root._bokeh_timeout) {\n      setTimeout(run_inline_js, 100);\n    } else if (!root._bokeh_failed_load) {\n      console.log(\"Bokeh: BokehJS failed to load within specified timeout.\");\n      root._bokeh_failed_load = true;\n    } else if (force !== true) {\n      var cell = $(document.getElementById(\"1002\")).parents('.cell').data().cell;\n      cell.output_area.append_execute_result(NB_LOAD_WARNING)\n    }\n\n  }\n\n  if (root._bokeh_is_loading === 0) {\n    console.debug(\"Bokeh: BokehJS loaded, going straight to plotting\");\n    run_inline_js();\n  } else {\n    load_libs(css_urls, js_urls, function() {\n      console.debug(\"Bokeh: BokehJS plotting callback run at\", now());\n      run_inline_js();\n    });\n  }\n}(window));"
     },
     "metadata": {},
     "output_type": "display_data"
    }
   ],
   "source": [
    "import os\n",
    "BASE_DIR = os.path.dirname(os.path.dirname(os.path.abspath('__file__')))\n",
    "print(BASE_DIR)\n",
    "\n",
    "import math\n",
    "import numpy as np\n",
    "import pandas as pd\n",
    "\n",
    "import bokeh.plotting as bp\n",
    "from bokeh.models import tools as bmt\n",
    "\n",
    "from bokeh.io import output_notebook, export_png\n",
    "output_notebook()\n",
    "\n",
    "from IPython.display import Image"
   ]
  },
  {
   "cell_type": "code",
   "execution_count": 2,
   "id": "bfbc2146-bb53-4be6-9802-9e0537e5f962",
   "metadata": {},
   "outputs": [],
   "source": [
    "def initialize_fig(title: str = 'your_title',\n",
    "                   x_axis_label: str = 'x_axis_label',\n",
    "                   x_axis_type: str = 'auto',\n",
    "                   y_axis_label: str = 'y_axis_label',\n",
    "                   y_axis_type: str = 'auto',\n",
    "                   tools: str = 'pan,wheel_zoom,box_zoom,reset',\n",
    "                   tooltips: list = [],\n",
    "                   formatters: dict = {},\n",
    "                   plot_height: int = 300,\n",
    "                   fig_sizing_mode: str = 'scale_width',\n",
    "                   ) -> bp.figure:\n",
    "    # bokeh style\n",
    "    TOOLS = tools\n",
    "    hover_tool = bmt.HoverTool(tooltips=tooltips, formatters=formatters)\n",
    "\n",
    "    fig = bp.figure(title=title,\n",
    "                    x_axis_label=x_axis_label,\n",
    "                    x_axis_type=x_axis_type,\n",
    "                    y_axis_label=y_axis_label,\n",
    "                    y_axis_type=y_axis_type,\n",
    "                    plot_height=plot_height,\n",
    "                    tools=TOOLS,\n",
    "                   )\n",
    "    fig.add_tools(hover_tool)\n",
    "    fig.sizing_mode = fig_sizing_mode\n",
    "\n",
    "    return fig"
   ]
  },
  {
   "cell_type": "markdown",
   "id": "3ea1f3b7-d122-4db5-99b7-a764ca109338",
   "metadata": {},
   "source": [
    "### Q1\n",
    "The following weather data are available near a lake.\n",
    "<br/>\n",
    "Net radiation 90 W/m2 \n",
    "<br/>\n",
    "Wind speed 2.5 m/s at a height of 2.0 m \n",
    "<br/>\n",
    "Air pressure 85 kPa \n",
    "<br/>\n",
    "Air Temperature 22 C \n",
    "<br/>\n",
    "Specific humidity 0.009 kg/kg \n",
    "<br/>\n",
    "Surface roughness length zo = 3 x 10-4 m. \n",
    "<br/>\n",
    "\n",
    "a) Indicate which| of the following methods you have sufficient information to use to calculate lake evaporation (or equilibrium PET) \n",
    "<br/>\n",
    "A. Priestley Taylor \n",
    "<br/>\n",
    "B. Mass Transfer/Aerodynamic \n",
    "<br/>\n",
    "C. Combination/Penman \n",
    "<br/>\n",
    "D. Energy balance/Bowen Ratio \n",
    "\n",
    "\n",
    "b) Calculate the evaporation in mm/day using all the methods for which there is sufficient information. \n"
   ]
  },
  {
   "cell_type": "code",
   "execution_count": null,
   "id": "0920f559-b16d-4d8c-b167-c5000116e88a",
   "metadata": {},
   "outputs": [],
   "source": []
  },
  {
   "cell_type": "markdown",
   "id": "7846aa3c-098a-4bf2-ae74-6f5783dcf168",
   "metadata": {},
   "source": [
    "#### Since mass transfer and energy balance need temperature at reference height and surface, the evaporation that can be computed given the information are the Priestley Taylor and the Penman"
   ]
  },
  {
   "cell_type": "code",
   "execution_count": 3,
   "id": "a35b3c62-54bd-49f6-8612-5bd6d84ebad0",
   "metadata": {},
   "outputs": [],
   "source": [
    "# Given\n",
    "K_L = 90 # net shortwave radiation (K) + net longwave radiation (L) in W / m2\n",
    "K_L = K_L * 8.64e-2 # net shortwave radiation (K) + net longwave radiation (L) in MJ/m2.d\n",
    "zm = 2.0 # elevation in m\n",
    "P = 85 # pressure in kPa\n",
    "z0 = 3e-4 # roughness height in m\n",
    "q = 0.009 # specific humidity in kg / kg \n",
    "T = 22 # air temperature in degree Celsius\n",
    "u = 2.5 # # wind-speed at 2m in m/s"
   ]
  },
  {
   "cell_type": "code",
   "execution_count": null,
   "id": "cee9e4bc-c1d1-44dc-9598-b753d30e11bb",
   "metadata": {},
   "outputs": [],
   "source": []
  },
  {
   "cell_type": "code",
   "execution_count": 4,
   "id": "424cb61f-0104-4cb5-b59a-8bf86c7b26d4",
   "metadata": {},
   "outputs": [],
   "source": [
    "# We know\n",
    "ρw = 996 # # density of water in kg/m3\n",
    "cp = 1.0e-3 # Air specific heat in MJ/kg.C\n",
    "zm = 2 # m\n",
    "# zd is the zero-plane displacement height\n",
    "zd = 0"
   ]
  },
  {
   "cell_type": "markdown",
   "id": "83b879df-1e35-4f3b-8da2-6fe22e5687fd",
   "metadata": {},
   "source": [
    "#### Priestley and Taylor Method"
   ]
  },
  {
   "cell_type": "code",
   "execution_count": 5,
   "id": "31b0df6b-024a-494d-ba7a-5f71e7f4ae77",
   "metadata": {},
   "outputs": [],
   "source": [
    "αpt = 1.26"
   ]
  },
  {
   "cell_type": "code",
   "execution_count": 6,
   "id": "b772ff26-b008-4ce9-b6ef-e469e4d90d6b",
   "metadata": {},
   "outputs": [
    {
     "data": {
      "text/plain": [
       "0.1618940846873898"
      ]
     },
     "execution_count": 6,
     "metadata": {},
     "output_type": "execute_result"
    }
   ],
   "source": [
    "Δ_T = (2508.3 * math.exp((17.3 * T) / (T + 237.3))) / (math.pow((T + 237.3), 2)) # kPa/°C\n",
    "Δ_T"
   ]
  },
  {
   "cell_type": "code",
   "execution_count": 7,
   "id": "5545f3b4-5292-4b6c-8b2d-b86c25214b3c",
   "metadata": {},
   "outputs": [
    {
     "data": {
      "text/plain": [
       "2.44808"
      ]
     },
     "execution_count": 7,
     "metadata": {},
     "output_type": "execute_result"
    }
   ],
   "source": [
    "λv = 2.5 - 2.36e-3 * T # latent heat of vaporization in MJ/kg\n",
    "λv"
   ]
  },
  {
   "cell_type": "code",
   "execution_count": 8,
   "id": "d4c591b1-e078-4833-ae7f-10e521bddacb",
   "metadata": {},
   "outputs": [
    {
     "data": {
      "text/plain": [
       "0.055821684157811295"
      ]
     },
     "execution_count": 8,
     "metadata": {},
     "output_type": "execute_result"
    }
   ],
   "source": [
    "γ = (cp * P) / (0.622 * λv) # psychrometric constant in kPa/°C\n",
    "γ"
   ]
  },
  {
   "cell_type": "code",
   "execution_count": 9,
   "id": "8b8b566d-a49b-414f-8c2e-8aa4151ba7e9",
   "metadata": {},
   "outputs": [
    {
     "data": {
      "text/plain": [
       "0.002988016201373662"
      ]
     },
     "execution_count": 9,
     "metadata": {},
     "output_type": "execute_result"
    }
   ],
   "source": [
    "PET = (αpt * Δ_T * K_L) / (ρw * λv * (Δ_T + γ))\n",
    "PET # m/day"
   ]
  },
  {
   "cell_type": "code",
   "execution_count": 10,
   "id": "370945f4-d878-46ca-916f-09073462a1f3",
   "metadata": {},
   "outputs": [
    {
     "data": {
      "text/plain": [
       "2.988016201373662"
      ]
     },
     "execution_count": 10,
     "metadata": {},
     "output_type": "execute_result"
    }
   ],
   "source": [
    "PET = PET * 1000 # mm/day\n",
    "PET"
   ]
  },
  {
   "cell_type": "code",
   "execution_count": null,
   "id": "33029d02-0e0a-4e35-a6a0-8b2e6fdf5e73",
   "metadata": {},
   "outputs": [],
   "source": []
  },
  {
   "cell_type": "code",
   "execution_count": null,
   "id": "36e506b4-6e82-4d39-8832-0b7214aa23e9",
   "metadata": {},
   "outputs": [],
   "source": []
  },
  {
   "cell_type": "markdown",
   "id": "045f6002-9ba7-4502-a79d-d0a416595b87",
   "metadata": {},
   "source": [
    "#### Combination/Penman"
   ]
  },
  {
   "cell_type": "code",
   "execution_count": 11,
   "id": "8f2ac028-3c59-421f-be4b-536b99bd7a6e",
   "metadata": {},
   "outputs": [
    {
     "data": {
      "text/plain": [
       "2.6515373335539105"
      ]
     },
     "execution_count": 11,
     "metadata": {},
     "output_type": "execute_result"
    }
   ],
   "source": [
    "e_astrik = 0.611 * math.exp((17.3 * T) / (T + 237.3))\n",
    "e_astrik # kPa"
   ]
  },
  {
   "cell_type": "code",
   "execution_count": 12,
   "id": "c9ca09ab-4e3f-4293-9e44-a43d7dbe8f06",
   "metadata": {},
   "outputs": [
    {
     "data": {
      "text/plain": [
       "1.2299035369774918"
      ]
     },
     "execution_count": 12,
     "metadata": {},
     "output_type": "execute_result"
    }
   ],
   "source": [
    "e = (q * P) / (0.622)\n",
    "e"
   ]
  },
  {
   "cell_type": "code",
   "execution_count": 13,
   "id": "987833bd-1692-4207-896e-ad2bddff9f82",
   "metadata": {},
   "outputs": [
    {
     "data": {
      "text/plain": [
       "0.46384545350867323"
      ]
     },
     "execution_count": 13,
     "metadata": {},
     "output_type": "execute_result"
    }
   ],
   "source": [
    "RH = e / e_astrik\n",
    "RH"
   ]
  },
  {
   "cell_type": "code",
   "execution_count": 14,
   "id": "56de5e79-7b3a-4d0d-90cd-acdf023f6997",
   "metadata": {},
   "outputs": [
    {
     "data": {
      "text/plain": [
       "1.547871237980864e-08"
      ]
     },
     "execution_count": 14,
     "metadata": {},
     "output_type": "execute_result"
    }
   ],
   "source": [
    "# KE from 6.11\n",
    "KE = 1.2e-6 / (math.log((zm - zd) / z0))**2 # kPa-1\n",
    "KE"
   ]
  },
  {
   "cell_type": "code",
   "execution_count": 15,
   "id": "8cd0dd1d-b9a7-4ce1-96c6-19eb29eb3d34",
   "metadata": {},
   "outputs": [
    {
     "data": {
      "text/plain": [
       "1.258888410016878"
      ]
     },
     "execution_count": 15,
     "metadata": {},
     "output_type": "execute_result"
    }
   ],
   "source": [
    "# multiplying KE by 1e-3 m/mm to give consistent units (s/kPa.day)\n",
    "numerator = Δ_T * (K_L) + (γ * (KE * 1e-3) * ρw * λv * u * e_astrik * (1. - RH))\n",
    "numerator"
   ]
  },
  {
   "cell_type": "code",
   "execution_count": 16,
   "id": "3ab452f6-7d15-452c-bdec-8224bc4364bb",
   "metadata": {},
   "outputs": [
    {
     "data": {
      "text/plain": [
       "530.8536769169816"
      ]
     },
     "execution_count": 16,
     "metadata": {},
     "output_type": "execute_result"
    }
   ],
   "source": [
    "denominator = ρw * λv * (Δ_T + γ)\n",
    "denominator"
   ]
  },
  {
   "cell_type": "code",
   "execution_count": 17,
   "id": "56d914be-c035-409d-a113-185846b253ab",
   "metadata": {},
   "outputs": [
    {
     "data": {
      "text/plain": [
       "0.0023714414437667184"
      ]
     },
     "execution_count": 17,
     "metadata": {},
     "output_type": "execute_result"
    }
   ],
   "source": [
    "E0 = numerator / denominator # m/day\n",
    "E0"
   ]
  },
  {
   "cell_type": "code",
   "execution_count": 18,
   "id": "a2b294b5-e330-413b-bd23-83bfba70f4ad",
   "metadata": {},
   "outputs": [
    {
     "data": {
      "text/plain": [
       "2.3714414437667184"
      ]
     },
     "execution_count": 18,
     "metadata": {},
     "output_type": "execute_result"
    }
   ],
   "source": [
    "E0 = E0 * 1000. # mm/day\n",
    "E0"
   ]
  },
  {
   "cell_type": "code",
   "execution_count": null,
   "id": "22957def-8582-4750-a056-c20d393cefd7",
   "metadata": {},
   "outputs": [],
   "source": []
  },
  {
   "cell_type": "code",
   "execution_count": null,
   "id": "53ebf474-b221-4fce-a3dd-a19d5a707b32",
   "metadata": {},
   "outputs": [],
   "source": []
  },
  {
   "cell_type": "markdown",
   "id": "ccb50fdd-c19e-4c0a-aaa2-419a68c11f7f",
   "metadata": {},
   "source": [
    "### Q2. Briefly define each of the following terms and describe their differences: PET, ETo, and AET"
   ]
  },
  {
   "cell_type": "markdown",
   "id": "320fdcaf-a159-4b02-810e-fee43a06c5e7",
   "metadata": {},
   "source": [
    "#### The PET or Potential Evapotranspiration is the amount of evapotranspiration from growing vegetation in a large area in a given time such that the crop is completely shading the ground, and has adequate moisture at all times in the soil and without advection or heat-storage effects. This is the potential demand from the atmosphere and depend upon the energy coming in and the vapor pressure deficit. However this is limited by the amount of water that is available in the ground.\n",
    "#### The ETo or the Reference Crop Evapotranspiration or RET is the amount of evapotranspiration from a short green crop (usually grass) or some reference crop that is completely shading the ground, is of uniform height and never short of water. This is the PET for a reference crop in question.\n",
    "#### Actual Evapotranspiration (AET) refers to the actual evapotranspiration coming from the surface and is dependendent on the soil characteristics, amount of water available, latent energy, storage in the soil, etc. This is the function of supply.\n",
    "#### Usually the PET >= AET.\n",
    "\n"
   ]
  },
  {
   "cell_type": "code",
   "execution_count": null,
   "id": "e877e96a-63d0-42ef-ac90-822c88aecf3d",
   "metadata": {},
   "outputs": [],
   "source": []
  },
  {
   "cell_type": "code",
   "execution_count": null,
   "id": "d8c4cedc-a153-47ee-8169-057c851aaf0e",
   "metadata": {},
   "outputs": [],
   "source": []
  },
  {
   "cell_type": "markdown",
   "id": "16d5ab7f-024c-4c79-b683-30bfddbfa2cc",
   "metadata": {},
   "source": [
    "### Q3. What is the difference in an Energy Limited environment vs a Water Limited environment?"
   ]
  },
  {
   "cell_type": "markdown",
   "id": "fa2711fd-4dfc-4d5b-8639-bb63bf6d3bf1",
   "metadata": {},
   "source": [
    "#### In tropical and subtropical region or hot area in general, the amount of incoming solar radiation is much larger than the precipitation received. As a result, the potential evapotransiration is greater or equal to the average precipitation. This region or environment is the water-limited environment. In contrast, regions (for example Cherrapunji) that receives abundant amount of rainfall does not comparatively receive much solar radiation. As a result, evapotranspiration is limited by the available energy. Ths is the energy-limited region. If potential evapotranspiration is represented as PET and average precipitation as P, then for energy-limited environment, PET / P < 1 and for water-limited environment PET / P > 1."
   ]
  },
  {
   "cell_type": "code",
   "execution_count": null,
   "id": "e07679e9-b060-4cec-8f5d-b279bbc2c803",
   "metadata": {},
   "outputs": [],
   "source": []
  },
  {
   "cell_type": "code",
   "execution_count": null,
   "id": "f531f19e-39b0-480e-8955-4976bbf1b017",
   "metadata": {},
   "outputs": [],
   "source": []
  },
  {
   "cell_type": "code",
   "execution_count": null,
   "id": "3caf1d14-b71d-4a19-adb0-53ab9c075bcc",
   "metadata": {},
   "outputs": [],
   "source": []
  },
  {
   "cell_type": "code",
   "execution_count": null,
   "id": "e7331c56-d71f-41f8-8fd3-3995580c1375",
   "metadata": {},
   "outputs": [],
   "source": []
  },
  {
   "cell_type": "markdown",
   "id": "d938946c-9735-4167-a3be-760f1955930f",
   "metadata": {},
   "source": [
    "### Q5\n",
    "\n",
    "Develop a Hydrograph using the NRCS/SCS method for a rainfall event of duration 1.6 hours on a watershed with following properties: \n",
    "-Hydraulic Length: 18 miles\n",
    "-Average slope: 100ft/mi\n",
    "-The watershed consists of a permanent meadow in good condition with soil group D (Use table 10.11 in your book)\n",
    "\n",
    "Sketch the resulting hydrograph and label all components\n"
   ]
  },
  {
   "cell_type": "code",
   "execution_count": 19,
   "id": "10d82ad3-b7e1-4373-b2f5-adc5fdf4311f",
   "metadata": {},
   "outputs": [
    {
     "data": {
      "text/plain": [
       "1.893939393939394"
      ]
     },
     "execution_count": 19,
     "metadata": {},
     "output_type": "execute_result"
    }
   ],
   "source": [
    "d = 1.6 # hours\n",
    "l = 18 # miles\n",
    "l = l * 5280. # ft\n",
    "A = 100 # sq-miles\n",
    "m = 100 # ft/mi\n",
    "m = 100 / 5280. # ft / ft\n",
    "m = m * 100 # in %\n",
    "m"
   ]
  },
  {
   "cell_type": "code",
   "execution_count": 20,
   "id": "0a27d097-f857-4207-aef6-c6157ace7268",
   "metadata": {},
   "outputs": [],
   "source": [
    "# for permanent meadow in good condition for soil type D\n",
    "cn = 78"
   ]
  },
  {
   "cell_type": "code",
   "execution_count": 21,
   "id": "1edfdd93-7b94-4728-baea-a9bbcd860fc2",
   "metadata": {},
   "outputs": [
    {
     "data": {
      "text/plain": [
       "2.820512820512821"
      ]
     },
     "execution_count": 21,
     "metadata": {},
     "output_type": "execute_result"
    }
   ],
   "source": [
    "# storage\n",
    "S = 1000. / cn - 10.\n",
    "S # inches"
   ]
  },
  {
   "cell_type": "code",
   "execution_count": 22,
   "id": "1d671cbb-36f6-4bc3-88f8-9836ffc050fb",
   "metadata": {},
   "outputs": [
    {
     "data": {
      "text/plain": [
       "0.058348475671310275"
      ]
     },
     "execution_count": 22,
     "metadata": {},
     "output_type": "execute_result"
    }
   ],
   "source": [
    "# assume excess rainfall of 1 inch\n",
    "P = 1.\n",
    "Q = ((P - 0.2 * S)**2) / (P + 0.8 * S)\n",
    "Q # inches"
   ]
  },
  {
   "cell_type": "code",
   "execution_count": 23,
   "id": "facd5346-99ac-4b2c-a500-786c49309871",
   "metadata": {},
   "outputs": [
    {
     "data": {
      "text/plain": [
       "9.38369028998775"
      ]
     },
     "execution_count": 23,
     "metadata": {},
     "output_type": "execute_result"
    }
   ],
   "source": [
    "# lag time\n",
    "tL = (l**.8 * (S + 1.)**.7) / (1900. * m**.5) # hr\n",
    "tL"
   ]
  },
  {
   "cell_type": "code",
   "execution_count": 24,
   "id": "e637cc9c-53f6-4cd3-857b-45b592687245",
   "metadata": {},
   "outputs": [
    {
     "data": {
      "text/plain": [
       "10.183690289987751"
      ]
     },
     "execution_count": 24,
     "metadata": {},
     "output_type": "execute_result"
    }
   ],
   "source": [
    "# time to rise\n",
    "TR = Tp = d / 2. + tL\n",
    "TR # hr"
   ]
  },
  {
   "cell_type": "code",
   "execution_count": 25,
   "id": "e8b5ffa7-734a-422b-b0cd-87e15340cac1",
   "metadata": {},
   "outputs": [
    {
     "data": {
      "text/plain": [
       "17.006762784279545"
      ]
     },
     "execution_count": 25,
     "metadata": {},
     "output_type": "execute_result"
    }
   ],
   "source": [
    "# base duration\n",
    "B = 1.67 * TR\n",
    "B # min"
   ]
  },
  {
   "cell_type": "code",
   "execution_count": 26,
   "id": "b1e7a933-e0d6-402b-b793-00fdb45bf04e",
   "metadata": {},
   "outputs": [
    {
     "data": {
      "text/plain": [
       "27.190453074267296"
      ]
     },
     "execution_count": 26,
     "metadata": {},
     "output_type": "execute_result"
    }
   ],
   "source": [
    "# total duration\n",
    "T = TR + B\n",
    "T # min"
   ]
  },
  {
   "cell_type": "code",
   "execution_count": 27,
   "id": "8fed7ecd-346c-40de-b26d-f29c29e068d6",
   "metadata": {},
   "outputs": [
    {
     "data": {
      "text/plain": [
       "4752.697560685363"
      ]
     },
     "execution_count": 27,
     "metadata": {},
     "output_type": "execute_result"
    }
   ],
   "source": [
    "Qp = 484. * A / TR # cfs\n",
    "Qp"
   ]
  },
  {
   "cell_type": "code",
   "execution_count": null,
   "id": "e68f98b4-b106-4ca9-85b9-b21c405cc522",
   "metadata": {},
   "outputs": [],
   "source": []
  },
  {
   "cell_type": "markdown",
   "id": "6e419512-745e-4fe8-a0e8-c77ff0c19a42",
   "metadata": {},
   "source": [
    "<!-- NRCS Triangle Hydrograph\n",
    "\n",
    "![NRCS_Triangle_Hydrograph_Method](https://i.imgur.com/80N34SJ.jpeg) -->"
   ]
  },
  {
   "cell_type": "code",
   "execution_count": 28,
   "id": "9d9e0e21-d630-47c1-8307-45cd3a94b696",
   "metadata": {},
   "outputs": [
    {
     "data": {
      "image/jpeg": "[encoded data removed]",
      "text/plain": [
       "<IPython.core.display.Image object>"
      ]
     },
     "execution_count": 28,
     "metadata": {},
     "output_type": "execute_result"
    }
   ],
   "source": [
    "Image(f'{BASE_DIR}/Test#2/problem_5.jpg')"
   ]
  },
  {
   "cell_type": "code",
   "execution_count": null,
   "id": "8f0c06de-35ff-46a5-a270-f68a0598d3f7",
   "metadata": {},
   "outputs": [],
   "source": []
  },
  {
   "cell_type": "code",
   "execution_count": null,
   "id": "0fb36e7e-b2db-44ad-844d-e19893d8af7b",
   "metadata": {},
   "outputs": [],
   "source": []
  },
  {
   "cell_type": "code",
   "execution_count": null,
   "id": "d28309a8-6949-424c-9f9e-ad8848ff3d27",
   "metadata": {},
   "outputs": [],
   "source": []
  },
  {
   "cell_type": "markdown",
   "id": "70707084-8106-47eb-a870-4ed62bba5aa2",
   "metadata": {},
   "source": [
    "### Q6. Why is the rising side of a storage vs discharge curve typically lower than the falling side? How does the Muskingum k and x parameters relate to this relationship?"
   ]
  },
  {
   "cell_type": "markdown",
   "id": "34afafe8-9e9f-4eb5-9fd1-d64581057a00",
   "metadata": {},
   "source": [
    "#### For the storage-discharge relationship, in the rising limb, the inflow (I) is greater than the outflow (Q), and as we move downstream the change in storage decreases as the antecedent condition plays a role. Thus the curve is steeper as it reaches the peak. For the falling limb, even after the inflow stops, the storage component is still in play as we have to drain larger area. Thus the outflow tends to stay longer.\n",
    "\n",
    "#### Storage can be thought as a function of time (k) and the outflow (Q), i.e. S=kQ. For the rising limb, i.e. when the inflow occurs (where I > Q), in addition to the base storage (S=kQ), we need to take into account the some other components which is the weight component (x). Thus the storage then for the rising limb would be S=kQ + kxQ. Similar is the case for the falling limb where I < Q but in opposite direction. Thus the muskingum make use of these components as S = kQ + kx(I-Q)\n"
   ]
  },
  {
   "cell_type": "code",
   "execution_count": null,
   "id": "e344a36f-afa4-4b58-a347-28696ccbe79d",
   "metadata": {},
   "outputs": [],
   "source": []
  },
  {
   "cell_type": "code",
   "execution_count": null,
   "id": "b98f4769-701d-4626-91b2-b23bdda984ae",
   "metadata": {},
   "outputs": [],
   "source": []
  },
  {
   "cell_type": "markdown",
   "id": "8f43f7ba-27ab-47c9-aafc-2677adddd8c7",
   "metadata": {},
   "source": [
    "### Q7. Briefly discuss the differences between Muskingum and Muskingum -Cunge and why Muskingum-Cunge is preferred to kinematic wave river routing?"
   ]
  },
  {
   "cell_type": "markdown",
   "id": "9dd36b26-3d4c-4541-ac20-7eef275085c8",
   "metadata": {},
   "source": [
    "#### We are looking at the continuity equation and the change in storage in the Muskingum. However, in Muskingum-Cunge, in addition to the continuity, we are also looking at the momentum. This includes the friction slope, change in depth of the water with respect to distance and the change in the velocity of the water with respect to time. Muskingum is hydrologic routing, while Muskingum-cunge is hydraulic routing.\n",
    "#### Muskingum-cunge produce the the routing parameters K and X based on the channel morphology, as represented by the prevailing channel slope and cross-sectional-shape characteristics as oppose to the steady-state flow. The kinematic wave celerity and the Manning's equation are used by Muskingum-cunge based on the kinematic factor. Thus Muskingum-cunge is a preferred approach to the kinematic wave river routing."
   ]
  },
  {
   "cell_type": "code",
   "execution_count": null,
   "id": "98765be5-412f-47fc-aba5-762f1d9c2dd6",
   "metadata": {},
   "outputs": [],
   "source": []
  },
  {
   "cell_type": "code",
   "execution_count": null,
   "id": "cdb9d382-d613-4caa-b5b2-d13579e44633",
   "metadata": {},
   "outputs": [],
   "source": []
  },
  {
   "cell_type": "code",
   "execution_count": null,
   "id": "b5b4c5c3-2bd6-42fc-8653-a2dead5320a2",
   "metadata": {},
   "outputs": [],
   "source": []
  },
  {
   "cell_type": "markdown",
   "id": "011b3d6a-bcd9-4541-9287-30da6c592b98",
   "metadata": {},
   "source": [
    "### Q8\n",
    "\n",
    "The hydrograph at the upstream end of a river is given in the following table. The reach of interest is 10 km long. Determine the hydrograph at 4km downstream and 10 km downstream. The slope of the stream is 0.001, B = 50m and the cross-sectional area of the streamflow at Qp = 187.5 m2. Assume no lateral flow. Assume a ∆t = 1.5 hr for a ∆x 6km or below.\n",
    "\n",
    "| T (hr) | Q (m3/s) |\n",
    "| ------ | -------- |\n",
    "|    0   |      12  |\n",
    "|    1   |    14.4  |\n",
    "|    2   |    21.6  |\n",
    "|    3   |    34.2  |\n",
    "|    4   |      60  |\n",
    "|    5   |    93.6  |\n",
    "|    6   |   128.4  |\n",
    "|    7   |   161.4  |\n",
    "|    8   |   176.4  |\n",
    "|    9   |     180  |\n",
    "|   10   |   175.2  |\n",
    "|   11   |   154.8  |\n",
    "|   12   |     126  |\n",
    "|   13   |    93.6  |\n",
    "|   14   |    70.8  |\n",
    "|   15   |      54  |\n",
    "|   16   |    39.6  |\n",
    "|   17   |    28.8  |\n",
    "|   18   |    20.4  |\n",
    "|   19   |    14.4  |\n",
    "|   20   |      12  |\n"
   ]
  },
  {
   "cell_type": "code",
   "execution_count": 29,
   "id": "f48bba9b-d305-4d9a-ada3-ca179a141462",
   "metadata": {},
   "outputs": [],
   "source": [
    "# in hours\n",
    "Ts = np.arange(0, 21, 1)\n",
    "\n",
    "# in cms\n",
    "Qs = [12., 14.4, 21.6, 34.2, 60., 93.6, 128.4, 161.4, 176.4, 180, 175.2, 154.8, 126., 93.6, 70.8, 54., 39.6, 28.8, 20.4, 14.4, 12.]\n"
   ]
  },
  {
   "cell_type": "code",
   "execution_count": 30,
   "id": "fdb540d5-2240-47c8-9012-afcb49593729",
   "metadata": {},
   "outputs": [
    {
     "data": {
      "text/plain": [
       "4000.0"
      ]
     },
     "execution_count": 30,
     "metadata": {},
     "output_type": "execute_result"
    }
   ],
   "source": [
    "So = 0.001\n",
    "\n",
    "# cross-sectional area\n",
    "Q_ref = max(Qs) # peak cms\n",
    "A_ref = 187.5 # m2\n",
    "B = 50 # m\n",
    "Δt = 1.5 # hour\n",
    "\n",
    "\n",
    "ΔX1 = 4 # km\n",
    "ΔX1 = ΔX1 * 1e3 # m\n",
    "ΔX1"
   ]
  },
  {
   "cell_type": "code",
   "execution_count": 31,
   "id": "cdc17b82-7dc8-452b-a2ee-b669f80a367c",
   "metadata": {},
   "outputs": [
    {
     "data": {
      "text/plain": [
       "0.96"
      ]
     },
     "execution_count": 31,
     "metadata": {},
     "output_type": "execute_result"
    }
   ],
   "source": [
    "V = Q_ref / A_ref # m/sec\n",
    "V # m/sec"
   ]
  },
  {
   "cell_type": "code",
   "execution_count": 32,
   "id": "b445e398-3372-4bcf-af44-2d8c313b74b1",
   "metadata": {},
   "outputs": [
    {
     "data": {
      "text/plain": [
       "1.6"
      ]
     },
     "execution_count": 32,
     "metadata": {},
     "output_type": "execute_result"
    }
   ],
   "source": [
    "# kinematic wave celerity\n",
    "c = 5 / 3 * V # m/sec\n",
    "c"
   ]
  },
  {
   "cell_type": "code",
   "execution_count": 33,
   "id": "b3c1e8b6-56f5-4a9d-b430-01d96fcd8be5",
   "metadata": {},
   "outputs": [
    {
     "data": {
      "text/plain": [
       "0.6944444444444444"
      ]
     },
     "execution_count": 33,
     "metadata": {},
     "output_type": "execute_result"
    }
   ],
   "source": [
    "K1 = ΔX1 / c # sec\n",
    "K1 = K1 / (60 * 60) # hour\n",
    "K1"
   ]
  },
  {
   "cell_type": "code",
   "execution_count": 34,
   "id": "6c829545-1bb6-430d-8e7e-ddf4303c6d04",
   "metadata": {},
   "outputs": [
    {
     "data": {
      "text/plain": [
       "1800.0"
      ]
     },
     "execution_count": 34,
     "metadata": {},
     "output_type": "execute_result"
    }
   ],
   "source": [
    "D1 = Q_ref / (2 * B * So)\n",
    "D1 # m2/s"
   ]
  },
  {
   "cell_type": "code",
   "execution_count": 35,
   "id": "2950ad79-a386-498c-a638-1241a8335d88",
   "metadata": {},
   "outputs": [
    {
     "data": {
      "text/plain": [
       "0.21875"
      ]
     },
     "execution_count": 35,
     "metadata": {},
     "output_type": "execute_result"
    }
   ],
   "source": [
    "X = (1 / 2) - (D1 / (c * ΔX1 ))\n",
    "X"
   ]
  },
  {
   "cell_type": "code",
   "execution_count": 36,
   "id": "23a1e1d3-c81e-412d-b865-a8ee60772ad7",
   "metadata": {},
   "outputs": [
    {
     "data": {
      "text/plain": [
       "1.2925347222222223"
      ]
     },
     "execution_count": 36,
     "metadata": {},
     "output_type": "execute_result"
    }
   ],
   "source": [
    "denom = K1 * (1 - X) + 0.5 * Δt\n",
    "denom # hr"
   ]
  },
  {
   "cell_type": "code",
   "execution_count": 37,
   "id": "c4679b4b-52ac-4cc4-a24b-12dd8dcd8224",
   "metadata": {},
   "outputs": [
    {
     "data": {
      "text/plain": [
       "0.6977837474815312"
      ]
     },
     "execution_count": 37,
     "metadata": {},
     "output_type": "execute_result"
    }
   ],
   "source": [
    "C0_num = K1 * X + 0.5 * Δt\n",
    "C0 = C0_num / denom\n",
    "C0"
   ]
  },
  {
   "cell_type": "code",
   "execution_count": 38,
   "id": "79f8acb4-9fa7-4c27-8edc-bcfe9baf980d",
   "metadata": {},
   "outputs": [
    {
     "data": {
      "text/plain": [
       "0.46272666218938885"
      ]
     },
     "execution_count": 38,
     "metadata": {},
     "output_type": "execute_result"
    }
   ],
   "source": [
    "C1_num = 0.5 * Δt - K1 * X\n",
    "C1 = C1_num / denom\n",
    "C1"
   ]
  },
  {
   "cell_type": "code",
   "execution_count": 39,
   "id": "b81b6571-2051-4a54-80c6-1a13094789c1",
   "metadata": {},
   "outputs": [
    {
     "data": {
      "text/plain": [
       "-0.1605104096709201"
      ]
     },
     "execution_count": 39,
     "metadata": {},
     "output_type": "execute_result"
    }
   ],
   "source": [
    "C2_num = K1 * (1 - X) - 0.5 * Δt\n",
    "C2 = C2_num / denom\n",
    "C2"
   ]
  },
  {
   "cell_type": "code",
   "execution_count": 40,
   "id": "280aa9bc-53fd-4c98-b96a-72b588a5097c",
   "metadata": {},
   "outputs": [
    {
     "data": {
      "text/plain": [
       "0.9999999999999999"
      ]
     },
     "execution_count": 40,
     "metadata": {},
     "output_type": "execute_result"
    }
   ],
   "source": [
    "# sanity check\n",
    "C0 + C1 + C2"
   ]
  },
  {
   "cell_type": "code",
   "execution_count": 41,
   "id": "3d7909c8-057f-42ad-ae80-533659752316",
   "metadata": {},
   "outputs": [
    {
     "data": {
      "text/html": [
       "<div>\n",
       "<style scoped>\n",
       "    .dataframe tbody tr th:only-of-type {\n",
       "        vertical-align: middle;\n",
       "    }\n",
       "\n",
       "    .dataframe tbody tr th {\n",
       "        vertical-align: top;\n",
       "    }\n",
       "\n",
       "    .dataframe thead th {\n",
       "        text-align: right;\n",
       "    }\n",
       "</style>\n",
       "<table border=\"1\" class=\"dataframe\">\n",
       "  <thead>\n",
       "    <tr style=\"text-align: right;\">\n",
       "      <th></th>\n",
       "      <th>hour</th>\n",
       "      <th>Q_inflow</th>\n",
       "    </tr>\n",
       "  </thead>\n",
       "  <tbody>\n",
       "    <tr>\n",
       "      <th>0</th>\n",
       "      <td>0</td>\n",
       "      <td>12.0</td>\n",
       "    </tr>\n",
       "    <tr>\n",
       "      <th>1</th>\n",
       "      <td>1</td>\n",
       "      <td>14.4</td>\n",
       "    </tr>\n",
       "    <tr>\n",
       "      <th>2</th>\n",
       "      <td>2</td>\n",
       "      <td>21.6</td>\n",
       "    </tr>\n",
       "    <tr>\n",
       "      <th>3</th>\n",
       "      <td>3</td>\n",
       "      <td>34.2</td>\n",
       "    </tr>\n",
       "    <tr>\n",
       "      <th>4</th>\n",
       "      <td>4</td>\n",
       "      <td>60.0</td>\n",
       "    </tr>\n",
       "    <tr>\n",
       "      <th>5</th>\n",
       "      <td>5</td>\n",
       "      <td>93.6</td>\n",
       "    </tr>\n",
       "    <tr>\n",
       "      <th>6</th>\n",
       "      <td>6</td>\n",
       "      <td>128.4</td>\n",
       "    </tr>\n",
       "    <tr>\n",
       "      <th>7</th>\n",
       "      <td>7</td>\n",
       "      <td>161.4</td>\n",
       "    </tr>\n",
       "    <tr>\n",
       "      <th>8</th>\n",
       "      <td>8</td>\n",
       "      <td>176.4</td>\n",
       "    </tr>\n",
       "    <tr>\n",
       "      <th>9</th>\n",
       "      <td>9</td>\n",
       "      <td>180.0</td>\n",
       "    </tr>\n",
       "    <tr>\n",
       "      <th>10</th>\n",
       "      <td>10</td>\n",
       "      <td>175.2</td>\n",
       "    </tr>\n",
       "    <tr>\n",
       "      <th>11</th>\n",
       "      <td>11</td>\n",
       "      <td>154.8</td>\n",
       "    </tr>\n",
       "    <tr>\n",
       "      <th>12</th>\n",
       "      <td>12</td>\n",
       "      <td>126.0</td>\n",
       "    </tr>\n",
       "    <tr>\n",
       "      <th>13</th>\n",
       "      <td>13</td>\n",
       "      <td>93.6</td>\n",
       "    </tr>\n",
       "    <tr>\n",
       "      <th>14</th>\n",
       "      <td>14</td>\n",
       "      <td>70.8</td>\n",
       "    </tr>\n",
       "    <tr>\n",
       "      <th>15</th>\n",
       "      <td>15</td>\n",
       "      <td>54.0</td>\n",
       "    </tr>\n",
       "    <tr>\n",
       "      <th>16</th>\n",
       "      <td>16</td>\n",
       "      <td>39.6</td>\n",
       "    </tr>\n",
       "    <tr>\n",
       "      <th>17</th>\n",
       "      <td>17</td>\n",
       "      <td>28.8</td>\n",
       "    </tr>\n",
       "    <tr>\n",
       "      <th>18</th>\n",
       "      <td>18</td>\n",
       "      <td>20.4</td>\n",
       "    </tr>\n",
       "    <tr>\n",
       "      <th>19</th>\n",
       "      <td>19</td>\n",
       "      <td>14.4</td>\n",
       "    </tr>\n",
       "    <tr>\n",
       "      <th>20</th>\n",
       "      <td>20</td>\n",
       "      <td>12.0</td>\n",
       "    </tr>\n",
       "  </tbody>\n",
       "</table>\n",
       "</div>"
      ],
      "text/plain": [
       "    hour  Q_inflow\n",
       "0      0      12.0\n",
       "1      1      14.4\n",
       "2      2      21.6\n",
       "3      3      34.2\n",
       "4      4      60.0\n",
       "5      5      93.6\n",
       "6      6     128.4\n",
       "7      7     161.4\n",
       "8      8     176.4\n",
       "9      9     180.0\n",
       "10    10     175.2\n",
       "11    11     154.8\n",
       "12    12     126.0\n",
       "13    13      93.6\n",
       "14    14      70.8\n",
       "15    15      54.0\n",
       "16    16      39.6\n",
       "17    17      28.8\n",
       "18    18      20.4\n",
       "19    19      14.4\n",
       "20    20      12.0"
      ]
     },
     "execution_count": 41,
     "metadata": {},
     "output_type": "execute_result"
    }
   ],
   "source": [
    "df = pd.DataFrame({'hour': Ts, 'Q_inflow': Qs})\n",
    "df"
   ]
  },
  {
   "cell_type": "code",
   "execution_count": 42,
   "id": "ec457aa8-fad4-4825-ae52-8c97d7f4b9f5",
   "metadata": {},
   "outputs": [],
   "source": [
    "C0__Qj_n = list(df.Q_inflow * C0)\n",
    "C0__Qj_n = [np.nan] + list(C0__Qj_n)\n",
    "C0__Qj_n = C0__Qj_n[:-1]"
   ]
  },
  {
   "cell_type": "code",
   "execution_count": 43,
   "id": "511761d3-8e1d-4e34-a783-c3c474636b95",
   "metadata": {},
   "outputs": [
    {
     "data": {
      "text/html": [
       "<div>\n",
       "<style scoped>\n",
       "    .dataframe tbody tr th:only-of-type {\n",
       "        vertical-align: middle;\n",
       "    }\n",
       "\n",
       "    .dataframe tbody tr th {\n",
       "        vertical-align: top;\n",
       "    }\n",
       "\n",
       "    .dataframe thead th {\n",
       "        text-align: right;\n",
       "    }\n",
       "</style>\n",
       "<table border=\"1\" class=\"dataframe\">\n",
       "  <thead>\n",
       "    <tr style=\"text-align: right;\">\n",
       "      <th></th>\n",
       "      <th>hour</th>\n",
       "      <th>Q_inflow</th>\n",
       "      <th>C0__Qj_n</th>\n",
       "    </tr>\n",
       "  </thead>\n",
       "  <tbody>\n",
       "    <tr>\n",
       "      <th>0</th>\n",
       "      <td>0</td>\n",
       "      <td>12.0</td>\n",
       "      <td>NaN</td>\n",
       "    </tr>\n",
       "    <tr>\n",
       "      <th>1</th>\n",
       "      <td>1</td>\n",
       "      <td>14.4</td>\n",
       "      <td>8.373405</td>\n",
       "    </tr>\n",
       "    <tr>\n",
       "      <th>2</th>\n",
       "      <td>2</td>\n",
       "      <td>21.6</td>\n",
       "      <td>10.048086</td>\n",
       "    </tr>\n",
       "    <tr>\n",
       "      <th>3</th>\n",
       "      <td>3</td>\n",
       "      <td>34.2</td>\n",
       "      <td>15.072129</td>\n",
       "    </tr>\n",
       "    <tr>\n",
       "      <th>4</th>\n",
       "      <td>4</td>\n",
       "      <td>60.0</td>\n",
       "      <td>23.864204</td>\n",
       "    </tr>\n",
       "    <tr>\n",
       "      <th>5</th>\n",
       "      <td>5</td>\n",
       "      <td>93.6</td>\n",
       "      <td>41.867025</td>\n",
       "    </tr>\n",
       "    <tr>\n",
       "      <th>6</th>\n",
       "      <td>6</td>\n",
       "      <td>128.4</td>\n",
       "      <td>65.312559</td>\n",
       "    </tr>\n",
       "    <tr>\n",
       "      <th>7</th>\n",
       "      <td>7</td>\n",
       "      <td>161.4</td>\n",
       "      <td>89.595433</td>\n",
       "    </tr>\n",
       "    <tr>\n",
       "      <th>8</th>\n",
       "      <td>8</td>\n",
       "      <td>176.4</td>\n",
       "      <td>112.622297</td>\n",
       "    </tr>\n",
       "    <tr>\n",
       "      <th>9</th>\n",
       "      <td>9</td>\n",
       "      <td>180.0</td>\n",
       "      <td>123.089053</td>\n",
       "    </tr>\n",
       "    <tr>\n",
       "      <th>10</th>\n",
       "      <td>10</td>\n",
       "      <td>175.2</td>\n",
       "      <td>125.601075</td>\n",
       "    </tr>\n",
       "    <tr>\n",
       "      <th>11</th>\n",
       "      <td>11</td>\n",
       "      <td>154.8</td>\n",
       "      <td>122.251713</td>\n",
       "    </tr>\n",
       "    <tr>\n",
       "      <th>12</th>\n",
       "      <td>12</td>\n",
       "      <td>126.0</td>\n",
       "      <td>108.016924</td>\n",
       "    </tr>\n",
       "    <tr>\n",
       "      <th>13</th>\n",
       "      <td>13</td>\n",
       "      <td>93.6</td>\n",
       "      <td>87.920752</td>\n",
       "    </tr>\n",
       "    <tr>\n",
       "      <th>14</th>\n",
       "      <td>14</td>\n",
       "      <td>70.8</td>\n",
       "      <td>65.312559</td>\n",
       "    </tr>\n",
       "    <tr>\n",
       "      <th>15</th>\n",
       "      <td>15</td>\n",
       "      <td>54.0</td>\n",
       "      <td>49.403089</td>\n",
       "    </tr>\n",
       "    <tr>\n",
       "      <th>16</th>\n",
       "      <td>16</td>\n",
       "      <td>39.6</td>\n",
       "      <td>37.680322</td>\n",
       "    </tr>\n",
       "    <tr>\n",
       "      <th>17</th>\n",
       "      <td>17</td>\n",
       "      <td>28.8</td>\n",
       "      <td>27.632236</td>\n",
       "    </tr>\n",
       "    <tr>\n",
       "      <th>18</th>\n",
       "      <td>18</td>\n",
       "      <td>20.4</td>\n",
       "      <td>20.096172</td>\n",
       "    </tr>\n",
       "    <tr>\n",
       "      <th>19</th>\n",
       "      <td>19</td>\n",
       "      <td>14.4</td>\n",
       "      <td>14.234788</td>\n",
       "    </tr>\n",
       "    <tr>\n",
       "      <th>20</th>\n",
       "      <td>20</td>\n",
       "      <td>12.0</td>\n",
       "      <td>10.048086</td>\n",
       "    </tr>\n",
       "  </tbody>\n",
       "</table>\n",
       "</div>"
      ],
      "text/plain": [
       "    hour  Q_inflow    C0__Qj_n\n",
       "0      0      12.0         NaN\n",
       "1      1      14.4    8.373405\n",
       "2      2      21.6   10.048086\n",
       "3      3      34.2   15.072129\n",
       "4      4      60.0   23.864204\n",
       "5      5      93.6   41.867025\n",
       "6      6     128.4   65.312559\n",
       "7      7     161.4   89.595433\n",
       "8      8     176.4  112.622297\n",
       "9      9     180.0  123.089053\n",
       "10    10     175.2  125.601075\n",
       "11    11     154.8  122.251713\n",
       "12    12     126.0  108.016924\n",
       "13    13      93.6   87.920752\n",
       "14    14      70.8   65.312559\n",
       "15    15      54.0   49.403089\n",
       "16    16      39.6   37.680322\n",
       "17    17      28.8   27.632236\n",
       "18    18      20.4   20.096172\n",
       "19    19      14.4   14.234788\n",
       "20    20      12.0   10.048086"
      ]
     },
     "execution_count": 43,
     "metadata": {},
     "output_type": "execute_result"
    }
   ],
   "source": [
    "df['C0__Qj_n'] = C0__Qj_n\n",
    "df"
   ]
  },
  {
   "cell_type": "code",
   "execution_count": 44,
   "id": "4c8f7b25-3bea-4065-85ed-b08cf5ef8908",
   "metadata": {},
   "outputs": [],
   "source": [
    "C1_Qj__n_1 = df.Q_inflow * C1\n",
    "C1_Qj__n_1[0] = np.nan"
   ]
  },
  {
   "cell_type": "code",
   "execution_count": 45,
   "id": "ceabad14-bf78-4517-ae93-52deac4bcd3e",
   "metadata": {},
   "outputs": [
    {
     "data": {
      "text/html": [
       "<div>\n",
       "<style scoped>\n",
       "    .dataframe tbody tr th:only-of-type {\n",
       "        vertical-align: middle;\n",
       "    }\n",
       "\n",
       "    .dataframe tbody tr th {\n",
       "        vertical-align: top;\n",
       "    }\n",
       "\n",
       "    .dataframe thead th {\n",
       "        text-align: right;\n",
       "    }\n",
       "</style>\n",
       "<table border=\"1\" class=\"dataframe\">\n",
       "  <thead>\n",
       "    <tr style=\"text-align: right;\">\n",
       "      <th></th>\n",
       "      <th>hour</th>\n",
       "      <th>Q_inflow</th>\n",
       "      <th>C0__Qj_n</th>\n",
       "      <th>C1_Qj__n_1</th>\n",
       "    </tr>\n",
       "  </thead>\n",
       "  <tbody>\n",
       "    <tr>\n",
       "      <th>0</th>\n",
       "      <td>0</td>\n",
       "      <td>12.0</td>\n",
       "      <td>NaN</td>\n",
       "      <td>NaN</td>\n",
       "    </tr>\n",
       "    <tr>\n",
       "      <th>1</th>\n",
       "      <td>1</td>\n",
       "      <td>14.4</td>\n",
       "      <td>8.373405</td>\n",
       "      <td>6.663264</td>\n",
       "    </tr>\n",
       "    <tr>\n",
       "      <th>2</th>\n",
       "      <td>2</td>\n",
       "      <td>21.6</td>\n",
       "      <td>10.048086</td>\n",
       "      <td>9.994896</td>\n",
       "    </tr>\n",
       "    <tr>\n",
       "      <th>3</th>\n",
       "      <td>3</td>\n",
       "      <td>34.2</td>\n",
       "      <td>15.072129</td>\n",
       "      <td>15.825252</td>\n",
       "    </tr>\n",
       "    <tr>\n",
       "      <th>4</th>\n",
       "      <td>4</td>\n",
       "      <td>60.0</td>\n",
       "      <td>23.864204</td>\n",
       "      <td>27.763600</td>\n",
       "    </tr>\n",
       "    <tr>\n",
       "      <th>5</th>\n",
       "      <td>5</td>\n",
       "      <td>93.6</td>\n",
       "      <td>41.867025</td>\n",
       "      <td>43.311216</td>\n",
       "    </tr>\n",
       "    <tr>\n",
       "      <th>6</th>\n",
       "      <td>6</td>\n",
       "      <td>128.4</td>\n",
       "      <td>65.312559</td>\n",
       "      <td>59.414103</td>\n",
       "    </tr>\n",
       "    <tr>\n",
       "      <th>7</th>\n",
       "      <td>7</td>\n",
       "      <td>161.4</td>\n",
       "      <td>89.595433</td>\n",
       "      <td>74.684083</td>\n",
       "    </tr>\n",
       "    <tr>\n",
       "      <th>8</th>\n",
       "      <td>8</td>\n",
       "      <td>176.4</td>\n",
       "      <td>112.622297</td>\n",
       "      <td>81.624983</td>\n",
       "    </tr>\n",
       "    <tr>\n",
       "      <th>9</th>\n",
       "      <td>9</td>\n",
       "      <td>180.0</td>\n",
       "      <td>123.089053</td>\n",
       "      <td>83.290799</td>\n",
       "    </tr>\n",
       "    <tr>\n",
       "      <th>10</th>\n",
       "      <td>10</td>\n",
       "      <td>175.2</td>\n",
       "      <td>125.601075</td>\n",
       "      <td>81.069711</td>\n",
       "    </tr>\n",
       "    <tr>\n",
       "      <th>11</th>\n",
       "      <td>11</td>\n",
       "      <td>154.8</td>\n",
       "      <td>122.251713</td>\n",
       "      <td>71.630087</td>\n",
       "    </tr>\n",
       "    <tr>\n",
       "      <th>12</th>\n",
       "      <td>12</td>\n",
       "      <td>126.0</td>\n",
       "      <td>108.016924</td>\n",
       "      <td>58.303559</td>\n",
       "    </tr>\n",
       "    <tr>\n",
       "      <th>13</th>\n",
       "      <td>13</td>\n",
       "      <td>93.6</td>\n",
       "      <td>87.920752</td>\n",
       "      <td>43.311216</td>\n",
       "    </tr>\n",
       "    <tr>\n",
       "      <th>14</th>\n",
       "      <td>14</td>\n",
       "      <td>70.8</td>\n",
       "      <td>65.312559</td>\n",
       "      <td>32.761048</td>\n",
       "    </tr>\n",
       "    <tr>\n",
       "      <th>15</th>\n",
       "      <td>15</td>\n",
       "      <td>54.0</td>\n",
       "      <td>49.403089</td>\n",
       "      <td>24.987240</td>\n",
       "    </tr>\n",
       "    <tr>\n",
       "      <th>16</th>\n",
       "      <td>16</td>\n",
       "      <td>39.6</td>\n",
       "      <td>37.680322</td>\n",
       "      <td>18.323976</td>\n",
       "    </tr>\n",
       "    <tr>\n",
       "      <th>17</th>\n",
       "      <td>17</td>\n",
       "      <td>28.8</td>\n",
       "      <td>27.632236</td>\n",
       "      <td>13.326528</td>\n",
       "    </tr>\n",
       "    <tr>\n",
       "      <th>18</th>\n",
       "      <td>18</td>\n",
       "      <td>20.4</td>\n",
       "      <td>20.096172</td>\n",
       "      <td>9.439624</td>\n",
       "    </tr>\n",
       "    <tr>\n",
       "      <th>19</th>\n",
       "      <td>19</td>\n",
       "      <td>14.4</td>\n",
       "      <td>14.234788</td>\n",
       "      <td>6.663264</td>\n",
       "    </tr>\n",
       "    <tr>\n",
       "      <th>20</th>\n",
       "      <td>20</td>\n",
       "      <td>12.0</td>\n",
       "      <td>10.048086</td>\n",
       "      <td>5.552720</td>\n",
       "    </tr>\n",
       "  </tbody>\n",
       "</table>\n",
       "</div>"
      ],
      "text/plain": [
       "    hour  Q_inflow    C0__Qj_n  C1_Qj__n_1\n",
       "0      0      12.0         NaN         NaN\n",
       "1      1      14.4    8.373405    6.663264\n",
       "2      2      21.6   10.048086    9.994896\n",
       "3      3      34.2   15.072129   15.825252\n",
       "4      4      60.0   23.864204   27.763600\n",
       "5      5      93.6   41.867025   43.311216\n",
       "6      6     128.4   65.312559   59.414103\n",
       "7      7     161.4   89.595433   74.684083\n",
       "8      8     176.4  112.622297   81.624983\n",
       "9      9     180.0  123.089053   83.290799\n",
       "10    10     175.2  125.601075   81.069711\n",
       "11    11     154.8  122.251713   71.630087\n",
       "12    12     126.0  108.016924   58.303559\n",
       "13    13      93.6   87.920752   43.311216\n",
       "14    14      70.8   65.312559   32.761048\n",
       "15    15      54.0   49.403089   24.987240\n",
       "16    16      39.6   37.680322   18.323976\n",
       "17    17      28.8   27.632236   13.326528\n",
       "18    18      20.4   20.096172    9.439624\n",
       "19    19      14.4   14.234788    6.663264\n",
       "20    20      12.0   10.048086    5.552720"
      ]
     },
     "execution_count": 45,
     "metadata": {},
     "output_type": "execute_result"
    }
   ],
   "source": [
    "df['C1_Qj__n_1'] = C1_Qj__n_1\n",
    "df"
   ]
  },
  {
   "cell_type": "code",
   "execution_count": 46,
   "id": "90154f43-54ad-42f7-80bc-8ff1d028e81d",
   "metadata": {},
   "outputs": [],
   "source": [
    "Q_outflow_4km = []\n",
    "for i in range(len(df.Q_inflow)):\n",
    "    if i == 0:\n",
    "        Q_total = list(df.Q_inflow.values)[0]\n",
    "    else:\n",
    "        Q_before = Q_outflow_4km[-1]\n",
    "        Q_part = C2 * Q_before\n",
    "        Q_total = Q_part + C0__Qj_n[i] + C1_Qj__n_1[i]\n",
    "    Q_outflow_4km.append(Q_total)\n"
   ]
  },
  {
   "cell_type": "code",
   "execution_count": 47,
   "id": "2616c35e-e2a0-4caf-9076-efa0ffa13fdb",
   "metadata": {},
   "outputs": [
    {
     "data": {
      "text/html": [
       "<div>\n",
       "<style scoped>\n",
       "    .dataframe tbody tr th:only-of-type {\n",
       "        vertical-align: middle;\n",
       "    }\n",
       "\n",
       "    .dataframe tbody tr th {\n",
       "        vertical-align: top;\n",
       "    }\n",
       "\n",
       "    .dataframe thead th {\n",
       "        text-align: right;\n",
       "    }\n",
       "</style>\n",
       "<table border=\"1\" class=\"dataframe\">\n",
       "  <thead>\n",
       "    <tr style=\"text-align: right;\">\n",
       "      <th></th>\n",
       "      <th>hour</th>\n",
       "      <th>Q_inflow</th>\n",
       "      <th>Q_outflow_4km</th>\n",
       "    </tr>\n",
       "  </thead>\n",
       "  <tbody>\n",
       "    <tr>\n",
       "      <th>0</th>\n",
       "      <td>0</td>\n",
       "      <td>12.0</td>\n",
       "      <td>12.000000</td>\n",
       "    </tr>\n",
       "    <tr>\n",
       "      <th>1</th>\n",
       "      <td>1</td>\n",
       "      <td>14.4</td>\n",
       "      <td>13.110544</td>\n",
       "    </tr>\n",
       "    <tr>\n",
       "      <th>2</th>\n",
       "      <td>2</td>\n",
       "      <td>21.6</td>\n",
       "      <td>17.938603</td>\n",
       "    </tr>\n",
       "    <tr>\n",
       "      <th>3</th>\n",
       "      <td>3</td>\n",
       "      <td>34.2</td>\n",
       "      <td>28.018048</td>\n",
       "    </tr>\n",
       "    <tr>\n",
       "      <th>4</th>\n",
       "      <td>4</td>\n",
       "      <td>60.0</td>\n",
       "      <td>47.130615</td>\n",
       "    </tr>\n",
       "    <tr>\n",
       "      <th>5</th>\n",
       "      <td>5</td>\n",
       "      <td>93.6</td>\n",
       "      <td>77.613286</td>\n",
       "    </tr>\n",
       "    <tr>\n",
       "      <th>6</th>\n",
       "      <td>6</td>\n",
       "      <td>128.4</td>\n",
       "      <td>112.268922</td>\n",
       "    </tr>\n",
       "    <tr>\n",
       "      <th>7</th>\n",
       "      <td>7</td>\n",
       "      <td>161.4</td>\n",
       "      <td>146.259186</td>\n",
       "    </tr>\n",
       "    <tr>\n",
       "      <th>8</th>\n",
       "      <td>8</td>\n",
       "      <td>176.4</td>\n",
       "      <td>170.771158</td>\n",
       "    </tr>\n",
       "    <tr>\n",
       "      <th>9</th>\n",
       "      <td>9</td>\n",
       "      <td>180.0</td>\n",
       "      <td>178.969304</td>\n",
       "    </tr>\n",
       "    <tr>\n",
       "      <th>10</th>\n",
       "      <td>10</td>\n",
       "      <td>175.2</td>\n",
       "      <td>177.944350</td>\n",
       "    </tr>\n",
       "    <tr>\n",
       "      <th>11</th>\n",
       "      <td>11</td>\n",
       "      <td>154.8</td>\n",
       "      <td>165.319879</td>\n",
       "    </tr>\n",
       "    <tr>\n",
       "      <th>12</th>\n",
       "      <td>12</td>\n",
       "      <td>126.0</td>\n",
       "      <td>139.784922</td>\n",
       "    </tr>\n",
       "    <tr>\n",
       "      <th>13</th>\n",
       "      <td>13</td>\n",
       "      <td>93.6</td>\n",
       "      <td>108.795033</td>\n",
       "    </tr>\n",
       "    <tr>\n",
       "      <th>14</th>\n",
       "      <td>14</td>\n",
       "      <td>70.8</td>\n",
       "      <td>80.610871</td>\n",
       "    </tr>\n",
       "    <tr>\n",
       "      <th>15</th>\n",
       "      <td>15</td>\n",
       "      <td>54.0</td>\n",
       "      <td>61.451445</td>\n",
       "    </tr>\n",
       "    <tr>\n",
       "      <th>16</th>\n",
       "      <td>16</td>\n",
       "      <td>39.6</td>\n",
       "      <td>46.140702</td>\n",
       "    </tr>\n",
       "    <tr>\n",
       "      <th>17</th>\n",
       "      <td>17</td>\n",
       "      <td>28.8</td>\n",
       "      <td>33.552701</td>\n",
       "    </tr>\n",
       "    <tr>\n",
       "      <th>18</th>\n",
       "      <td>18</td>\n",
       "      <td>20.4</td>\n",
       "      <td>24.150238</td>\n",
       "    </tr>\n",
       "    <tr>\n",
       "      <th>19</th>\n",
       "      <td>19</td>\n",
       "      <td>14.4</td>\n",
       "      <td>17.021688</td>\n",
       "    </tr>\n",
       "    <tr>\n",
       "      <th>20</th>\n",
       "      <td>20</td>\n",
       "      <td>12.0</td>\n",
       "      <td>12.868648</td>\n",
       "    </tr>\n",
       "  </tbody>\n",
       "</table>\n",
       "</div>"
      ],
      "text/plain": [
       "    hour  Q_inflow  Q_outflow_4km\n",
       "0      0      12.0      12.000000\n",
       "1      1      14.4      13.110544\n",
       "2      2      21.6      17.938603\n",
       "3      3      34.2      28.018048\n",
       "4      4      60.0      47.130615\n",
       "5      5      93.6      77.613286\n",
       "6      6     128.4     112.268922\n",
       "7      7     161.4     146.259186\n",
       "8      8     176.4     170.771158\n",
       "9      9     180.0     178.969304\n",
       "10    10     175.2     177.944350\n",
       "11    11     154.8     165.319879\n",
       "12    12     126.0     139.784922\n",
       "13    13      93.6     108.795033\n",
       "14    14      70.8      80.610871\n",
       "15    15      54.0      61.451445\n",
       "16    16      39.6      46.140702\n",
       "17    17      28.8      33.552701\n",
       "18    18      20.4      24.150238\n",
       "19    19      14.4      17.021688\n",
       "20    20      12.0      12.868648"
      ]
     },
     "execution_count": 47,
     "metadata": {},
     "output_type": "execute_result"
    }
   ],
   "source": [
    "df['Q_outflow_4km'] = Q_outflow_4km\n",
    "df = df.drop(['C0__Qj_n', 'C1_Qj__n_1'], axis=1)\n",
    "df"
   ]
  },
  {
   "cell_type": "code",
   "execution_count": 48,
   "id": "1379e9df-2a2c-47f4-ac0e-b8afeb311aff",
   "metadata": {},
   "outputs": [
    {
     "data": {
      "text/html": [
       "\n",
       "\n",
       "\n",
       "\n",
       "\n",
       "\n",
       "  <div class=\"bk-root\" id=\"c15d8521-b849-45cb-92cd-feb50b268096\" data-root-id=\"1004\"></div>\n"
      ]
     },
     "metadata": {},
     "output_type": "display_data"
    },
    {
     "data": {
      "application/javascript": [
       "(function(root) {\n",
       "  function embed_document(root) {\n",
       "    \n",
       "  var docs_json = {\"79a7f251-4bc0-4b03-af48-944ee71f3fcf\":{\"defs\":[],\"roots\":{\"references\":[{\"attributes\":{\"below\":[{\"id\":\"1015\"}],\"center\":[{\"id\":\"1018\"},{\"id\":\"1022\"},{\"id\":\"1049\"}],\"height\":300,\"left\":[{\"id\":\"1019\"}],\"renderers\":[{\"id\":\"1037\"},{\"id\":\"1054\"},{\"id\":\"1071\"},{\"id\":\"1091\"}],\"sizing_mode\":\"scale_width\",\"title\":{\"id\":\"1005\"},\"toolbar\":{\"id\":\"1028\"},\"x_range\":{\"id\":\"1007\"},\"x_scale\":{\"id\":\"1011\"},\"y_range\":{\"id\":\"1009\"},\"y_scale\":{\"id\":\"1013\"}},\"id\":\"1004\",\"subtype\":\"Figure\",\"type\":\"Plot\"},{\"attributes\":{\"data\":{\"x\":[0,1,2,3,4,5,6,7,8,9,10,11,12,13,14,15,16,17,18,19,20],\"y\":{\"__ndarray__\":\"AAAAAAAAKEDNzMzMzMwsQJqZmZmZmTVAmpmZmZkZQUAAAAAAAABOQGZmZmZmZldAzczMzMwMYEDNzMzMzCxkQM3MzMzMDGZAAAAAAACAZkBmZmZmZuZlQJqZmZmZWWNAAAAAAACAX0BmZmZmZmZXQDMzMzMzs1FAAAAAAAAAS0DNzMzMzMxDQM3MzMzMzDxAZmZmZmZmNEDNzMzMzMwsQAAAAAAAAChA\",\"dtype\":\"float64\",\"order\":\"little\",\"shape\":[21]}},\"selected\":{\"id\":\"1047\"},\"selection_policy\":{\"id\":\"1048\"}},\"id\":\"1034\",\"type\":\"ColumnDataSource\"},{\"attributes\":{},\"id\":\"1066\",\"type\":\"Selection\"},{\"attributes\":{},\"id\":\"1040\",\"type\":\"BasicTickFormatter\"},{\"attributes\":{},\"id\":\"1067\",\"type\":\"UnionRenderers\"},{\"attributes\":{\"fill_alpha\":{\"value\":0.1},\"fill_color\":{\"value\":\"red\"},\"line_alpha\":{\"value\":0.1},\"line_color\":{\"value\":\"#1f77b4\"},\"size\":{\"value\":10},\"x\":{\"field\":\"x\"},\"y\":{\"field\":\"y\"}},\"id\":\"1036\",\"type\":\"Circle\"},{\"attributes\":{},\"id\":\"1045\",\"type\":\"AllLabels\"},{\"attributes\":{\"source\":{\"id\":\"1051\"}},\"id\":\"1055\",\"type\":\"CDSView\"},{\"attributes\":{},\"id\":\"1023\",\"type\":\"PanTool\"},{\"attributes\":{\"data_source\":{\"id\":\"1051\"},\"glyph\":{\"id\":\"1052\"},\"hover_glyph\":null,\"muted_glyph\":null,\"nonselection_glyph\":{\"id\":\"1053\"},\"view\":{\"id\":\"1055\"}},\"id\":\"1054\",\"type\":\"GlyphRenderer\"},{\"attributes\":{\"data\":{\"x\":[0,1,2,3,4,5,6,7,8,9,10,11,12,13,14,15,16,17,18,19,20],\"y\":{\"__ndarray__\":\"AAAAAAAAKEA1PMU4mTgqQE7RnUpI8DFAIuqbz54EPEA0rCUCuJBHQJDdCxRAZ1NAp9gABDYRXEAvYQxAS0hiQCktAVStWGVAqcMoiQRfZkAgYXYcOD5mQM/cx3M8qmRATimvFB55YUAgXrfQ4TJbQB4ycoMYJ1RAz1sq9Mi5TkCgHDGCAhJHQCaHEeu+xkBAA81K/3UmOEDYfrxUjQUxQEpZh2i/vClA\",\"dtype\":\"float64\",\"order\":\"little\",\"shape\":[21]}},\"selected\":{\"id\":\"1107\"},\"selection_policy\":{\"id\":\"1108\"}},\"id\":\"1088\",\"type\":\"ColumnDataSource\"},{\"attributes\":{},\"id\":\"1020\",\"type\":\"BasicTicker\"},{\"attributes\":{\"fill_color\":{\"value\":\"blue\"},\"line_color\":{\"value\":\"#1f77b4\"},\"size\":{\"value\":10},\"x\":{\"field\":\"x\"},\"y\":{\"field\":\"y\"}},\"id\":\"1069\",\"type\":\"Circle\"},{\"attributes\":{\"axis\":{\"id\":\"1019\"},\"dimension\":1,\"ticker\":null},\"id\":\"1022\",\"type\":\"Grid\"},{\"attributes\":{\"axis_label\":\"Discharge\",\"axis_label_text_font_size\":\"15pt\",\"formatter\":{\"id\":\"1043\"},\"major_label_policy\":{\"id\":\"1045\"},\"ticker\":{\"id\":\"1020\"}},\"id\":\"1019\",\"type\":\"LinearAxis\"},{\"attributes\":{},\"id\":\"1043\",\"type\":\"BasicTickFormatter\"},{\"attributes\":{},\"id\":\"1009\",\"type\":\"DataRange1d\"},{\"attributes\":{\"data_source\":{\"id\":\"1034\"},\"glyph\":{\"id\":\"1035\"},\"hover_glyph\":null,\"muted_glyph\":null,\"nonselection_glyph\":{\"id\":\"1036\"},\"view\":{\"id\":\"1038\"}},\"id\":\"1037\",\"type\":\"GlyphRenderer\"},{\"attributes\":{},\"id\":\"1024\",\"type\":\"WheelZoomTool\"},{\"attributes\":{\"source\":{\"id\":\"1088\"}},\"id\":\"1092\",\"type\":\"CDSView\"},{\"attributes\":{\"line_color\":\"blue\",\"line_width\":3,\"x\":{\"field\":\"x\"},\"y\":{\"field\":\"y\"}},\"id\":\"1089\",\"type\":\"Line\"},{\"attributes\":{},\"id\":\"1016\",\"type\":\"BasicTicker\"},{\"attributes\":{\"data\":{\"x\":[0,1,2,3,4,5,6,7,8,9,10,11,12,13,14,15,16,17,18,19,20],\"y\":{\"__ndarray__\":\"AAAAAAAAKEA1PMU4mTgqQE7RnUpI8DFAIuqbz54EPEA0rCUCuJBHQJDdCxRAZ1NAp9gABDYRXEAvYQxAS0hiQCktAVStWGVAqcMoiQRfZkAgYXYcOD5mQM/cx3M8qmRATimvFB55YUAgXrfQ4TJbQB4ycoMYJ1RAz1sq9Mi5TkCgHDGCAhJHQCaHEeu+xkBAA81K/3UmOEDYfrxUjQUxQEpZh2i/vClA\",\"dtype\":\"float64\",\"order\":\"little\",\"shape\":[21]}},\"selected\":{\"id\":\"1085\"},\"selection_policy\":{\"id\":\"1086\"}},\"id\":\"1068\",\"type\":\"ColumnDataSource\"},{\"attributes\":{},\"id\":\"1047\",\"type\":\"Selection\"},{\"attributes\":{\"fill_color\":{\"value\":\"red\"},\"line_color\":{\"value\":\"#1f77b4\"},\"size\":{\"value\":10},\"x\":{\"field\":\"x\"},\"y\":{\"field\":\"y\"}},\"id\":\"1035\",\"type\":\"Circle\"},{\"attributes\":{\"line_alpha\":0.1,\"line_color\":\"blue\",\"line_width\":3,\"x\":{\"field\":\"x\"},\"y\":{\"field\":\"y\"}},\"id\":\"1090\",\"type\":\"Line\"},{\"attributes\":{\"label\":{\"value\":\"Inflow\"},\"renderers\":[{\"id\":\"1037\"},{\"id\":\"1054\"}]},\"id\":\"1050\",\"type\":\"LegendItem\"},{\"attributes\":{\"axis_label\":\"Hour\",\"axis_label_text_font_size\":\"15pt\",\"formatter\":{\"id\":\"1040\"},\"major_label_policy\":{\"id\":\"1042\"},\"ticker\":{\"id\":\"1016\"}},\"id\":\"1015\",\"type\":\"LinearAxis\"},{\"attributes\":{\"line_alpha\":0.1,\"line_color\":\"red\",\"line_width\":3,\"x\":{\"field\":\"x\"},\"y\":{\"field\":\"y\"}},\"id\":\"1053\",\"type\":\"Line\"},{\"attributes\":{\"source\":{\"id\":\"1068\"}},\"id\":\"1072\",\"type\":\"CDSView\"},{\"attributes\":{},\"id\":\"1011\",\"type\":\"LinearScale\"},{\"attributes\":{\"bottom_units\":\"screen\",\"fill_alpha\":0.5,\"fill_color\":\"lightgrey\",\"left_units\":\"screen\",\"level\":\"overlay\",\"line_alpha\":1.0,\"line_color\":\"black\",\"line_dash\":[4,4],\"line_width\":2,\"right_units\":\"screen\",\"syncable\":false,\"top_units\":\"screen\"},\"id\":\"1027\",\"type\":\"BoxAnnotation\"},{\"attributes\":{\"data_source\":{\"id\":\"1088\"},\"glyph\":{\"id\":\"1089\"},\"hover_glyph\":null,\"muted_glyph\":null,\"nonselection_glyph\":{\"id\":\"1090\"},\"view\":{\"id\":\"1092\"}},\"id\":\"1091\",\"type\":\"GlyphRenderer\"},{\"attributes\":{\"axis\":{\"id\":\"1015\"},\"ticker\":null},\"id\":\"1018\",\"type\":\"Grid\"},{\"attributes\":{\"data_source\":{\"id\":\"1068\"},\"glyph\":{\"id\":\"1069\"},\"hover_glyph\":null,\"muted_glyph\":null,\"nonselection_glyph\":{\"id\":\"1070\"},\"view\":{\"id\":\"1072\"}},\"id\":\"1071\",\"type\":\"GlyphRenderer\"},{\"attributes\":{},\"id\":\"1013\",\"type\":\"LinearScale\"},{\"attributes\":{\"label\":{\"value\":\"Outflow_4km\"},\"renderers\":[{\"id\":\"1071\"},{\"id\":\"1091\"}]},\"id\":\"1087\",\"type\":\"LegendItem\"},{\"attributes\":{\"fill_alpha\":{\"value\":0.1},\"fill_color\":{\"value\":\"blue\"},\"line_alpha\":{\"value\":0.1},\"line_color\":{\"value\":\"#1f77b4\"},\"size\":{\"value\":10},\"x\":{\"field\":\"x\"},\"y\":{\"field\":\"y\"}},\"id\":\"1070\",\"type\":\"Circle\"},{\"attributes\":{},\"id\":\"1107\",\"type\":\"Selection\"},{\"attributes\":{\"source\":{\"id\":\"1034\"}},\"id\":\"1038\",\"type\":\"CDSView\"},{\"attributes\":{},\"id\":\"1048\",\"type\":\"UnionRenderers\"},{\"attributes\":{},\"id\":\"1042\",\"type\":\"AllLabels\"},{\"attributes\":{},\"id\":\"1108\",\"type\":\"UnionRenderers\"},{\"attributes\":{\"line_color\":\"red\",\"line_width\":3,\"x\":{\"field\":\"x\"},\"y\":{\"field\":\"y\"}},\"id\":\"1052\",\"type\":\"Line\"},{\"attributes\":{\"data\":{\"x\":[0,1,2,3,4,5,6,7,8,9,10,11,12,13,14,15,16,17,18,19,20],\"y\":{\"__ndarray__\":\"AAAAAAAAKEDNzMzMzMwsQJqZmZmZmTVAmpmZmZkZQUAAAAAAAABOQGZmZmZmZldAzczMzMwMYEDNzMzMzCxkQM3MzMzMDGZAAAAAAACAZkBmZmZmZuZlQJqZmZmZWWNAAAAAAACAX0BmZmZmZmZXQDMzMzMzs1FAAAAAAAAAS0DNzMzMzMxDQM3MzMzMzDxAZmZmZmZmNEDNzMzMzMwsQAAAAAAAAChA\",\"dtype\":\"float64\",\"order\":\"little\",\"shape\":[21]}},\"selected\":{\"id\":\"1066\"},\"selection_policy\":{\"id\":\"1067\"}},\"id\":\"1051\",\"type\":\"ColumnDataSource\"},{\"attributes\":{\"overlay\":{\"id\":\"1027\"}},\"id\":\"1025\",\"type\":\"BoxZoomTool\"},{\"attributes\":{\"callback\":null,\"tooltips\":[[\"hour\",\"$x\"],[\"discharge\",\"$y\"]]},\"id\":\"1003\",\"type\":\"HoverTool\"},{\"attributes\":{},\"id\":\"1085\",\"type\":\"Selection\"},{\"attributes\":{},\"id\":\"1026\",\"type\":\"ResetTool\"},{\"attributes\":{\"active_multi\":null,\"tools\":[{\"id\":\"1023\"},{\"id\":\"1024\"},{\"id\":\"1025\"},{\"id\":\"1026\"},{\"id\":\"1003\"}]},\"id\":\"1028\",\"type\":\"Toolbar\"},{\"attributes\":{\"text\":\"Inflow Vs Outflow\",\"text_font_size\":\"15pt\"},\"id\":\"1005\",\"type\":\"Title\"},{\"attributes\":{\"click_policy\":\"hide\",\"items\":[{\"id\":\"1050\"},{\"id\":\"1087\"}],\"location\":\"top_left\"},\"id\":\"1049\",\"type\":\"Legend\"},{\"attributes\":{},\"id\":\"1086\",\"type\":\"UnionRenderers\"},{\"attributes\":{},\"id\":\"1007\",\"type\":\"DataRange1d\"}],\"root_ids\":[\"1004\"]},\"title\":\"Bokeh Application\",\"version\":\"2.3.2\"}};\n",
       "  var render_items = [{\"docid\":\"79a7f251-4bc0-4b03-af48-944ee71f3fcf\",\"root_ids\":[\"1004\"],\"roots\":{\"1004\":\"c15d8521-b849-45cb-92cd-feb50b268096\"}}];\n",
       "  root.Bokeh.embed.embed_items_notebook(docs_json, render_items);\n",
       "\n",
       "  }\n",
       "  if (root.Bokeh !== undefined) {\n",
       "    embed_document(root);\n",
       "  } else {\n",
       "    var attempts = 0;\n",
       "    var timer = setInterval(function(root) {\n",
       "      if (root.Bokeh !== undefined) {\n",
       "        clearInterval(timer);\n",
       "        embed_document(root);\n",
       "      } else {\n",
       "        attempts++;\n",
       "        if (attempts > 100) {\n",
       "          clearInterval(timer);\n",
       "          console.log(\"Bokeh: ERROR: Unable to run BokehJS code because BokehJS library is missing\");\n",
       "        }\n",
       "      }\n",
       "    }, 10, root)\n",
       "  }\n",
       "})(window);"
      ],
      "application/vnd.bokehjs_exec.v0+json": ""
     },
     "metadata": {
      "application/vnd.bokehjs_exec.v0+json": {
       "id": "1004"
      }
     },
     "output_type": "display_data"
    },
    {
     "data": {
      "image/png": "[encoded data removed]",
      "text/plain": [
       "<IPython.core.display.Image object>"
      ]
     },
     "execution_count": 48,
     "metadata": {},
     "output_type": "execute_result"
    }
   ],
   "source": [
    "fig = initialize_fig(title = 'Inflow Vs Outflow',\n",
    "                     x_axis_label = 'Hour',\n",
    "                     y_axis_label = 'Discharge',\n",
    "                     tooltips = [\n",
    "                         ('hour',       '$x'),\n",
    "                         ('discharge' , '$y'),\n",
    "                     ],\n",
    "                     plot_height = 300,\n",
    "                    )\n",
    "\n",
    "fig.title.text_font_size = '15pt'\n",
    "fig.xaxis.axis_label_text_font_size = '15pt'\n",
    "fig.yaxis.axis_label_text_font_size = '15pt'\n",
    "\n",
    "fig.circle(df.hour, df.Q_inflow, fill_color='red', size=10, legend_label='Inflow')\n",
    "fig.line(df.hour, df.Q_inflow, line_width=3, line_color='red', legend_label='Inflow')\n",
    "\n",
    "fig.circle(df.hour, df.Q_outflow_4km, fill_color='blue', size=10, legend_label='Outflow_4km')\n",
    "fig.line(df.hour, df.Q_outflow_4km, line_width=3, line_color='blue', legend_label='Outflow_4km')\n",
    "\n",
    "fig.legend.location = 'top_left'\n",
    "fig.legend.click_policy='hide'\n",
    "bp.show(fig)\n",
    "\n",
    "export_png(fig, filename=f'{BASE_DIR}/Test#2/problem_8_part_1.png', height=200, width=300)\n",
    "Image(f'{BASE_DIR}/Test#2/problem_8_part_1.png')"
   ]
  },
  {
   "cell_type": "code",
   "execution_count": null,
   "id": "7b7cd983-d93b-4051-b185-e9e189476b84",
   "metadata": {},
   "outputs": [],
   "source": []
  },
  {
   "cell_type": "code",
   "execution_count": null,
   "id": "4fc5e0e6-ed7f-4ccb-87ce-737bbbd55b0e",
   "metadata": {},
   "outputs": [],
   "source": []
  },
  {
   "cell_type": "code",
   "execution_count": 49,
   "id": "e80d46ad-845a-47c1-a1e4-7b434a5ff862",
   "metadata": {},
   "outputs": [],
   "source": [
    "# For further routing 6km from 4km point (total 10km), we use the discharge at 4km point \n",
    "# as the inflow to the 6km down\n",
    "# in cms\n",
    "Qs = df.Q_outflow_4km.tolist()\n"
   ]
  },
  {
   "cell_type": "code",
   "execution_count": 50,
   "id": "1bf1b347-ebbf-4f22-b420-63b22dff01e2",
   "metadata": {},
   "outputs": [
    {
     "data": {
      "text/plain": [
       "6000.0"
      ]
     },
     "execution_count": 50,
     "metadata": {},
     "output_type": "execute_result"
    }
   ],
   "source": [
    "# cross-sectional area\n",
    "Q_ref = max(Qs) # peak cms\n",
    "# and we can still use Δt as 1.5 hour\n",
    "Δt = 1.5 # hour\n",
    "\n",
    "ΔX2 = 6 # km\n",
    "ΔX2 = ΔX2 * 1e3 # m\n",
    "ΔX2"
   ]
  },
  {
   "cell_type": "code",
   "execution_count": 51,
   "id": "efc9b7d0-f918-4379-983c-fb5cc08d98c0",
   "metadata": {},
   "outputs": [
    {
     "data": {
      "text/plain": [
       "1.6"
      ]
     },
     "execution_count": 51,
     "metadata": {},
     "output_type": "execute_result"
    }
   ],
   "source": [
    "c"
   ]
  },
  {
   "cell_type": "code",
   "execution_count": 52,
   "id": "72ebc67d-0047-4cc6-af8e-0c39281184ae",
   "metadata": {},
   "outputs": [
    {
     "data": {
      "text/plain": [
       "1.0416666666666667"
      ]
     },
     "execution_count": 52,
     "metadata": {},
     "output_type": "execute_result"
    }
   ],
   "source": [
    "K2 = ΔX2 / c # sec\n",
    "K2 = K2 / (60 * 60) # hour\n",
    "K2"
   ]
  },
  {
   "cell_type": "code",
   "execution_count": 53,
   "id": "4c0fdfa8-788d-4ff5-8541-f4ce196c9246",
   "metadata": {},
   "outputs": [
    {
     "data": {
      "text/plain": [
       "1789.693036838701"
      ]
     },
     "execution_count": 53,
     "metadata": {},
     "output_type": "execute_result"
    }
   ],
   "source": [
    "D2 = Q_ref / (2 * B * So)\n",
    "D2 # m2/s"
   ]
  },
  {
   "cell_type": "code",
   "execution_count": 54,
   "id": "896f1363-cfc9-4457-b11e-e2c577831b9d",
   "metadata": {},
   "outputs": [
    {
     "data": {
      "text/plain": [
       "0.31357364199596865"
      ]
     },
     "execution_count": 54,
     "metadata": {},
     "output_type": "execute_result"
    }
   ],
   "source": [
    "X = (1 / 2) - (D2 / (c * ΔX2 ))\n",
    "X"
   ]
  },
  {
   "cell_type": "code",
   "execution_count": 55,
   "id": "c8e9d6ea-d2cb-4943-afd0-377eca058ada",
   "metadata": {},
   "outputs": [
    {
     "data": {
      "text/plain": [
       "1.4650274562541994"
      ]
     },
     "execution_count": 55,
     "metadata": {},
     "output_type": "execute_result"
    }
   ],
   "source": [
    "denom = K2 * (1 - X) + 0.5 * Δt\n",
    "denom # hr"
   ]
  },
  {
   "cell_type": "code",
   "execution_count": 56,
   "id": "74ee36b4-bf75-432e-932f-262952271161",
   "metadata": {},
   "outputs": [
    {
     "data": {
      "text/plain": [
       "0.7348935378762333"
      ]
     },
     "execution_count": 56,
     "metadata": {},
     "output_type": "execute_result"
    }
   ],
   "source": [
    "C0_num = K2 * X + 0.5 * Δt\n",
    "C0 = C0_num / denom\n",
    "C0"
   ]
  },
  {
   "cell_type": "code",
   "execution_count": 57,
   "id": "4155676b-6087-4d3c-8bc1-ba1ab6a474f0",
   "metadata": {},
   "outputs": [
    {
     "data": {
      "text/plain": [
       "0.2889780582474453"
      ]
     },
     "execution_count": 57,
     "metadata": {},
     "output_type": "execute_result"
    }
   ],
   "source": [
    "C1_num = 0.5 * Δt - K2 * X\n",
    "C1 = C1_num / denom\n",
    "C1"
   ]
  },
  {
   "cell_type": "code",
   "execution_count": 58,
   "id": "77236e04-386b-49ab-8475-fbe6d3aa668f",
   "metadata": {},
   "outputs": [
    {
     "data": {
      "text/plain": [
       "-0.023871596123678774"
      ]
     },
     "execution_count": 58,
     "metadata": {},
     "output_type": "execute_result"
    }
   ],
   "source": [
    "C2_num = K2 * (1 - X) - 0.5 * Δt\n",
    "C2 = C2_num / denom\n",
    "C2"
   ]
  },
  {
   "cell_type": "code",
   "execution_count": 59,
   "id": "7f154f90-72e4-4b4e-a3ba-043dfbc409eb",
   "metadata": {},
   "outputs": [
    {
     "data": {
      "text/plain": [
       "0.9999999999999999"
      ]
     },
     "execution_count": 59,
     "metadata": {},
     "output_type": "execute_result"
    }
   ],
   "source": [
    "C0 + C1 + C2"
   ]
  },
  {
   "cell_type": "code",
   "execution_count": 60,
   "id": "3d44a94a-3858-4d86-ac25-a34864ff7ff5",
   "metadata": {},
   "outputs": [],
   "source": [
    "C0__Qj_n = list(df.Q_outflow_4km * C0)\n",
    "C0__Qj_n = [np.nan] + list(C0__Qj_n)\n",
    "C0__Qj_n = C0__Qj_n[:-1]"
   ]
  },
  {
   "cell_type": "code",
   "execution_count": 61,
   "id": "0ce9f980-9236-4d0e-b381-f0e50d63d8e2",
   "metadata": {},
   "outputs": [
    {
     "data": {
      "text/html": [
       "<div>\n",
       "<style scoped>\n",
       "    .dataframe tbody tr th:only-of-type {\n",
       "        vertical-align: middle;\n",
       "    }\n",
       "\n",
       "    .dataframe tbody tr th {\n",
       "        vertical-align: top;\n",
       "    }\n",
       "\n",
       "    .dataframe thead th {\n",
       "        text-align: right;\n",
       "    }\n",
       "</style>\n",
       "<table border=\"1\" class=\"dataframe\">\n",
       "  <thead>\n",
       "    <tr style=\"text-align: right;\">\n",
       "      <th></th>\n",
       "      <th>hour</th>\n",
       "      <th>Q_inflow</th>\n",
       "      <th>Q_outflow_4km</th>\n",
       "      <th>C0__Qj_n</th>\n",
       "    </tr>\n",
       "  </thead>\n",
       "  <tbody>\n",
       "    <tr>\n",
       "      <th>0</th>\n",
       "      <td>0</td>\n",
       "      <td>12.0</td>\n",
       "      <td>12.000000</td>\n",
       "      <td>NaN</td>\n",
       "    </tr>\n",
       "    <tr>\n",
       "      <th>1</th>\n",
       "      <td>1</td>\n",
       "      <td>14.4</td>\n",
       "      <td>13.110544</td>\n",
       "      <td>8.818722</td>\n",
       "    </tr>\n",
       "    <tr>\n",
       "      <th>2</th>\n",
       "      <td>2</td>\n",
       "      <td>21.6</td>\n",
       "      <td>17.938603</td>\n",
       "      <td>9.634854</td>\n",
       "    </tr>\n",
       "    <tr>\n",
       "      <th>3</th>\n",
       "      <td>3</td>\n",
       "      <td>34.2</td>\n",
       "      <td>28.018048</td>\n",
       "      <td>13.182963</td>\n",
       "    </tr>\n",
       "    <tr>\n",
       "      <th>4</th>\n",
       "      <td>4</td>\n",
       "      <td>60.0</td>\n",
       "      <td>47.130615</td>\n",
       "      <td>20.590283</td>\n",
       "    </tr>\n",
       "    <tr>\n",
       "      <th>5</th>\n",
       "      <td>5</td>\n",
       "      <td>93.6</td>\n",
       "      <td>77.613286</td>\n",
       "      <td>34.635985</td>\n",
       "    </tr>\n",
       "    <tr>\n",
       "      <th>6</th>\n",
       "      <td>6</td>\n",
       "      <td>128.4</td>\n",
       "      <td>112.268922</td>\n",
       "      <td>57.037502</td>\n",
       "    </tr>\n",
       "    <tr>\n",
       "      <th>7</th>\n",
       "      <td>7</td>\n",
       "      <td>161.4</td>\n",
       "      <td>146.259186</td>\n",
       "      <td>82.505705</td>\n",
       "    </tr>\n",
       "    <tr>\n",
       "      <th>8</th>\n",
       "      <td>8</td>\n",
       "      <td>176.4</td>\n",
       "      <td>170.771158</td>\n",
       "      <td>107.484931</td>\n",
       "    </tr>\n",
       "    <tr>\n",
       "      <th>9</th>\n",
       "      <td>9</td>\n",
       "      <td>180.0</td>\n",
       "      <td>178.969304</td>\n",
       "      <td>125.498621</td>\n",
       "    </tr>\n",
       "    <tr>\n",
       "      <th>10</th>\n",
       "      <td>10</td>\n",
       "      <td>175.2</td>\n",
       "      <td>177.944350</td>\n",
       "      <td>131.523385</td>\n",
       "    </tr>\n",
       "    <tr>\n",
       "      <th>11</th>\n",
       "      <td>11</td>\n",
       "      <td>154.8</td>\n",
       "      <td>165.319879</td>\n",
       "      <td>130.770153</td>\n",
       "    </tr>\n",
       "    <tr>\n",
       "      <th>12</th>\n",
       "      <td>12</td>\n",
       "      <td>126.0</td>\n",
       "      <td>139.784922</td>\n",
       "      <td>121.492511</td>\n",
       "    </tr>\n",
       "    <tr>\n",
       "      <th>13</th>\n",
       "      <td>13</td>\n",
       "      <td>93.6</td>\n",
       "      <td>108.795033</td>\n",
       "      <td>102.727036</td>\n",
       "    </tr>\n",
       "    <tr>\n",
       "      <th>14</th>\n",
       "      <td>14</td>\n",
       "      <td>70.8</td>\n",
       "      <td>80.610871</td>\n",
       "      <td>79.952766</td>\n",
       "    </tr>\n",
       "    <tr>\n",
       "      <th>15</th>\n",
       "      <td>15</td>\n",
       "      <td>54.0</td>\n",
       "      <td>61.451445</td>\n",
       "      <td>59.240408</td>\n",
       "    </tr>\n",
       "    <tr>\n",
       "      <th>16</th>\n",
       "      <td>16</td>\n",
       "      <td>39.6</td>\n",
       "      <td>46.140702</td>\n",
       "      <td>45.160270</td>\n",
       "    </tr>\n",
       "    <tr>\n",
       "      <th>17</th>\n",
       "      <td>17</td>\n",
       "      <td>28.8</td>\n",
       "      <td>33.552701</td>\n",
       "      <td>33.908503</td>\n",
       "    </tr>\n",
       "    <tr>\n",
       "      <th>18</th>\n",
       "      <td>18</td>\n",
       "      <td>20.4</td>\n",
       "      <td>24.150238</td>\n",
       "      <td>24.657663</td>\n",
       "    </tr>\n",
       "    <tr>\n",
       "      <th>19</th>\n",
       "      <td>19</td>\n",
       "      <td>14.4</td>\n",
       "      <td>17.021688</td>\n",
       "      <td>17.747854</td>\n",
       "    </tr>\n",
       "    <tr>\n",
       "      <th>20</th>\n",
       "      <td>20</td>\n",
       "      <td>12.0</td>\n",
       "      <td>12.868648</td>\n",
       "      <td>12.509128</td>\n",
       "    </tr>\n",
       "  </tbody>\n",
       "</table>\n",
       "</div>"
      ],
      "text/plain": [
       "    hour  Q_inflow  Q_outflow_4km    C0__Qj_n\n",
       "0      0      12.0      12.000000         NaN\n",
       "1      1      14.4      13.110544    8.818722\n",
       "2      2      21.6      17.938603    9.634854\n",
       "3      3      34.2      28.018048   13.182963\n",
       "4      4      60.0      47.130615   20.590283\n",
       "5      5      93.6      77.613286   34.635985\n",
       "6      6     128.4     112.268922   57.037502\n",
       "7      7     161.4     146.259186   82.505705\n",
       "8      8     176.4     170.771158  107.484931\n",
       "9      9     180.0     178.969304  125.498621\n",
       "10    10     175.2     177.944350  131.523385\n",
       "11    11     154.8     165.319879  130.770153\n",
       "12    12     126.0     139.784922  121.492511\n",
       "13    13      93.6     108.795033  102.727036\n",
       "14    14      70.8      80.610871   79.952766\n",
       "15    15      54.0      61.451445   59.240408\n",
       "16    16      39.6      46.140702   45.160270\n",
       "17    17      28.8      33.552701   33.908503\n",
       "18    18      20.4      24.150238   24.657663\n",
       "19    19      14.4      17.021688   17.747854\n",
       "20    20      12.0      12.868648   12.509128"
      ]
     },
     "execution_count": 61,
     "metadata": {},
     "output_type": "execute_result"
    }
   ],
   "source": [
    "df['C0__Qj_n'] = C0__Qj_n\n",
    "df"
   ]
  },
  {
   "cell_type": "code",
   "execution_count": 62,
   "id": "283a4141-27e8-4720-a393-2be9922d6f3c",
   "metadata": {},
   "outputs": [],
   "source": [
    "C1_Qj__n_1 = df.Q_outflow_4km * C1\n",
    "C1_Qj__n_1[0] = np.nan"
   ]
  },
  {
   "cell_type": "code",
   "execution_count": 63,
   "id": "ca5e94e2-7bcb-45eb-9a0e-a6db431db85b",
   "metadata": {},
   "outputs": [
    {
     "data": {
      "text/html": [
       "<div>\n",
       "<style scoped>\n",
       "    .dataframe tbody tr th:only-of-type {\n",
       "        vertical-align: middle;\n",
       "    }\n",
       "\n",
       "    .dataframe tbody tr th {\n",
       "        vertical-align: top;\n",
       "    }\n",
       "\n",
       "    .dataframe thead th {\n",
       "        text-align: right;\n",
       "    }\n",
       "</style>\n",
       "<table border=\"1\" class=\"dataframe\">\n",
       "  <thead>\n",
       "    <tr style=\"text-align: right;\">\n",
       "      <th></th>\n",
       "      <th>hour</th>\n",
       "      <th>Q_inflow</th>\n",
       "      <th>Q_outflow_4km</th>\n",
       "      <th>C0__Qj_n</th>\n",
       "      <th>C1_Qj__n_1</th>\n",
       "    </tr>\n",
       "  </thead>\n",
       "  <tbody>\n",
       "    <tr>\n",
       "      <th>0</th>\n",
       "      <td>0</td>\n",
       "      <td>12.0</td>\n",
       "      <td>12.000000</td>\n",
       "      <td>NaN</td>\n",
       "      <td>NaN</td>\n",
       "    </tr>\n",
       "    <tr>\n",
       "      <th>1</th>\n",
       "      <td>1</td>\n",
       "      <td>14.4</td>\n",
       "      <td>13.110544</td>\n",
       "      <td>8.818722</td>\n",
       "      <td>3.788660</td>\n",
       "    </tr>\n",
       "    <tr>\n",
       "      <th>2</th>\n",
       "      <td>2</td>\n",
       "      <td>21.6</td>\n",
       "      <td>17.938603</td>\n",
       "      <td>9.634854</td>\n",
       "      <td>5.183863</td>\n",
       "    </tr>\n",
       "    <tr>\n",
       "      <th>3</th>\n",
       "      <td>3</td>\n",
       "      <td>34.2</td>\n",
       "      <td>28.018048</td>\n",
       "      <td>13.182963</td>\n",
       "      <td>8.096601</td>\n",
       "    </tr>\n",
       "    <tr>\n",
       "      <th>4</th>\n",
       "      <td>4</td>\n",
       "      <td>60.0</td>\n",
       "      <td>47.130615</td>\n",
       "      <td>20.590283</td>\n",
       "      <td>13.619714</td>\n",
       "    </tr>\n",
       "    <tr>\n",
       "      <th>5</th>\n",
       "      <td>5</td>\n",
       "      <td>93.6</td>\n",
       "      <td>77.613286</td>\n",
       "      <td>34.635985</td>\n",
       "      <td>22.428537</td>\n",
       "    </tr>\n",
       "    <tr>\n",
       "      <th>6</th>\n",
       "      <td>6</td>\n",
       "      <td>128.4</td>\n",
       "      <td>112.268922</td>\n",
       "      <td>57.037502</td>\n",
       "      <td>32.443255</td>\n",
       "    </tr>\n",
       "    <tr>\n",
       "      <th>7</th>\n",
       "      <td>7</td>\n",
       "      <td>161.4</td>\n",
       "      <td>146.259186</td>\n",
       "      <td>82.505705</td>\n",
       "      <td>42.265696</td>\n",
       "    </tr>\n",
       "    <tr>\n",
       "      <th>8</th>\n",
       "      <td>8</td>\n",
       "      <td>176.4</td>\n",
       "      <td>170.771158</td>\n",
       "      <td>107.484931</td>\n",
       "      <td>49.349118</td>\n",
       "    </tr>\n",
       "    <tr>\n",
       "      <th>9</th>\n",
       "      <td>9</td>\n",
       "      <td>180.0</td>\n",
       "      <td>178.969304</td>\n",
       "      <td>125.498621</td>\n",
       "      <td>51.718202</td>\n",
       "    </tr>\n",
       "    <tr>\n",
       "      <th>10</th>\n",
       "      <td>10</td>\n",
       "      <td>175.2</td>\n",
       "      <td>177.944350</td>\n",
       "      <td>131.523385</td>\n",
       "      <td>51.422013</td>\n",
       "    </tr>\n",
       "    <tr>\n",
       "      <th>11</th>\n",
       "      <td>11</td>\n",
       "      <td>154.8</td>\n",
       "      <td>165.319879</td>\n",
       "      <td>130.770153</td>\n",
       "      <td>47.773818</td>\n",
       "    </tr>\n",
       "    <tr>\n",
       "      <th>12</th>\n",
       "      <td>12</td>\n",
       "      <td>126.0</td>\n",
       "      <td>139.784922</td>\n",
       "      <td>121.492511</td>\n",
       "      <td>40.394775</td>\n",
       "    </tr>\n",
       "    <tr>\n",
       "      <th>13</th>\n",
       "      <td>13</td>\n",
       "      <td>93.6</td>\n",
       "      <td>108.795033</td>\n",
       "      <td>102.727036</td>\n",
       "      <td>31.439377</td>\n",
       "    </tr>\n",
       "    <tr>\n",
       "      <th>14</th>\n",
       "      <td>14</td>\n",
       "      <td>70.8</td>\n",
       "      <td>80.610871</td>\n",
       "      <td>79.952766</td>\n",
       "      <td>23.294773</td>\n",
       "    </tr>\n",
       "    <tr>\n",
       "      <th>15</th>\n",
       "      <td>15</td>\n",
       "      <td>54.0</td>\n",
       "      <td>61.451445</td>\n",
       "      <td>59.240408</td>\n",
       "      <td>17.758119</td>\n",
       "    </tr>\n",
       "    <tr>\n",
       "      <th>16</th>\n",
       "      <td>16</td>\n",
       "      <td>39.6</td>\n",
       "      <td>46.140702</td>\n",
       "      <td>45.160270</td>\n",
       "      <td>13.333650</td>\n",
       "    </tr>\n",
       "    <tr>\n",
       "      <th>17</th>\n",
       "      <td>17</td>\n",
       "      <td>28.8</td>\n",
       "      <td>33.552701</td>\n",
       "      <td>33.908503</td>\n",
       "      <td>9.695994</td>\n",
       "    </tr>\n",
       "    <tr>\n",
       "      <th>18</th>\n",
       "      <td>18</td>\n",
       "      <td>20.4</td>\n",
       "      <td>24.150238</td>\n",
       "      <td>24.657663</td>\n",
       "      <td>6.978889</td>\n",
       "    </tr>\n",
       "    <tr>\n",
       "      <th>19</th>\n",
       "      <td>19</td>\n",
       "      <td>14.4</td>\n",
       "      <td>17.021688</td>\n",
       "      <td>17.747854</td>\n",
       "      <td>4.918894</td>\n",
       "    </tr>\n",
       "    <tr>\n",
       "      <th>20</th>\n",
       "      <td>20</td>\n",
       "      <td>12.0</td>\n",
       "      <td>12.868648</td>\n",
       "      <td>12.509128</td>\n",
       "      <td>3.718757</td>\n",
       "    </tr>\n",
       "  </tbody>\n",
       "</table>\n",
       "</div>"
      ],
      "text/plain": [
       "    hour  Q_inflow  Q_outflow_4km    C0__Qj_n  C1_Qj__n_1\n",
       "0      0      12.0      12.000000         NaN         NaN\n",
       "1      1      14.4      13.110544    8.818722    3.788660\n",
       "2      2      21.6      17.938603    9.634854    5.183863\n",
       "3      3      34.2      28.018048   13.182963    8.096601\n",
       "4      4      60.0      47.130615   20.590283   13.619714\n",
       "5      5      93.6      77.613286   34.635985   22.428537\n",
       "6      6     128.4     112.268922   57.037502   32.443255\n",
       "7      7     161.4     146.259186   82.505705   42.265696\n",
       "8      8     176.4     170.771158  107.484931   49.349118\n",
       "9      9     180.0     178.969304  125.498621   51.718202\n",
       "10    10     175.2     177.944350  131.523385   51.422013\n",
       "11    11     154.8     165.319879  130.770153   47.773818\n",
       "12    12     126.0     139.784922  121.492511   40.394775\n",
       "13    13      93.6     108.795033  102.727036   31.439377\n",
       "14    14      70.8      80.610871   79.952766   23.294773\n",
       "15    15      54.0      61.451445   59.240408   17.758119\n",
       "16    16      39.6      46.140702   45.160270   13.333650\n",
       "17    17      28.8      33.552701   33.908503    9.695994\n",
       "18    18      20.4      24.150238   24.657663    6.978889\n",
       "19    19      14.4      17.021688   17.747854    4.918894\n",
       "20    20      12.0      12.868648   12.509128    3.718757"
      ]
     },
     "execution_count": 63,
     "metadata": {},
     "output_type": "execute_result"
    }
   ],
   "source": [
    "df['C1_Qj__n_1'] = C1_Qj__n_1\n",
    "df"
   ]
  },
  {
   "cell_type": "code",
   "execution_count": 64,
   "id": "d8c20194-0a00-4a07-b8f3-1381db703c07",
   "metadata": {},
   "outputs": [],
   "source": [
    "Q_outflow_10km = []\n",
    "for i in range(len(df.Q_outflow_4km)):\n",
    "    if i == 0:\n",
    "        Q_total = list(df.Q_outflow_4km.values)[0]\n",
    "    else:\n",
    "        Q_before = Q_outflow_10km[-1]\n",
    "        Q_part = C2 * Q_before\n",
    "        Q_total = Q_part + C0__Qj_n[i] + C1_Qj__n_1[i]\n",
    "    Q_outflow_10km.append(Q_total)\n"
   ]
  },
  {
   "cell_type": "code",
   "execution_count": 65,
   "id": "af277691-95f0-4a76-87b7-afb71be9b979",
   "metadata": {},
   "outputs": [
    {
     "data": {
      "text/html": [
       "<div>\n",
       "<style scoped>\n",
       "    .dataframe tbody tr th:only-of-type {\n",
       "        vertical-align: middle;\n",
       "    }\n",
       "\n",
       "    .dataframe tbody tr th {\n",
       "        vertical-align: top;\n",
       "    }\n",
       "\n",
       "    .dataframe thead th {\n",
       "        text-align: right;\n",
       "    }\n",
       "</style>\n",
       "<table border=\"1\" class=\"dataframe\">\n",
       "  <thead>\n",
       "    <tr style=\"text-align: right;\">\n",
       "      <th></th>\n",
       "      <th>hour</th>\n",
       "      <th>Q_inflow</th>\n",
       "      <th>Q_outflow_4km</th>\n",
       "      <th>Q_outflow_10km</th>\n",
       "    </tr>\n",
       "  </thead>\n",
       "  <tbody>\n",
       "    <tr>\n",
       "      <th>0</th>\n",
       "      <td>0</td>\n",
       "      <td>12.0</td>\n",
       "      <td>12.000000</td>\n",
       "      <td>12.000000</td>\n",
       "    </tr>\n",
       "    <tr>\n",
       "      <th>1</th>\n",
       "      <td>1</td>\n",
       "      <td>14.4</td>\n",
       "      <td>13.110544</td>\n",
       "      <td>12.320923</td>\n",
       "    </tr>\n",
       "    <tr>\n",
       "      <th>2</th>\n",
       "      <td>2</td>\n",
       "      <td>21.6</td>\n",
       "      <td>17.938603</td>\n",
       "      <td>14.524597</td>\n",
       "    </tr>\n",
       "    <tr>\n",
       "      <th>3</th>\n",
       "      <td>3</td>\n",
       "      <td>34.2</td>\n",
       "      <td>28.018048</td>\n",
       "      <td>20.932839</td>\n",
       "    </tr>\n",
       "    <tr>\n",
       "      <th>4</th>\n",
       "      <td>4</td>\n",
       "      <td>60.0</td>\n",
       "      <td>47.130615</td>\n",
       "      <td>33.710296</td>\n",
       "    </tr>\n",
       "    <tr>\n",
       "      <th>5</th>\n",
       "      <td>5</td>\n",
       "      <td>93.6</td>\n",
       "      <td>77.613286</td>\n",
       "      <td>56.259803</td>\n",
       "    </tr>\n",
       "    <tr>\n",
       "      <th>6</th>\n",
       "      <td>6</td>\n",
       "      <td>128.4</td>\n",
       "      <td>112.268922</td>\n",
       "      <td>88.137746</td>\n",
       "    </tr>\n",
       "    <tr>\n",
       "      <th>7</th>\n",
       "      <td>7</td>\n",
       "      <td>161.4</td>\n",
       "      <td>146.259186</td>\n",
       "      <td>122.667412</td>\n",
       "    </tr>\n",
       "    <tr>\n",
       "      <th>8</th>\n",
       "      <td>8</td>\n",
       "      <td>176.4</td>\n",
       "      <td>170.771158</td>\n",
       "      <td>153.905781</td>\n",
       "    </tr>\n",
       "    <tr>\n",
       "      <th>9</th>\n",
       "      <td>9</td>\n",
       "      <td>180.0</td>\n",
       "      <td>178.969304</td>\n",
       "      <td>173.542846</td>\n",
       "    </tr>\n",
       "    <tr>\n",
       "      <th>10</th>\n",
       "      <td>10</td>\n",
       "      <td>175.2</td>\n",
       "      <td>177.944350</td>\n",
       "      <td>178.802653</td>\n",
       "    </tr>\n",
       "    <tr>\n",
       "      <th>11</th>\n",
       "      <td>11</td>\n",
       "      <td>154.8</td>\n",
       "      <td>165.319879</td>\n",
       "      <td>174.275666</td>\n",
       "    </tr>\n",
       "    <tr>\n",
       "      <th>12</th>\n",
       "      <td>12</td>\n",
       "      <td>126.0</td>\n",
       "      <td>139.784922</td>\n",
       "      <td>157.727048</td>\n",
       "    </tr>\n",
       "    <tr>\n",
       "      <th>13</th>\n",
       "      <td>13</td>\n",
       "      <td>93.6</td>\n",
       "      <td>108.795033</td>\n",
       "      <td>130.401217</td>\n",
       "    </tr>\n",
       "    <tr>\n",
       "      <th>14</th>\n",
       "      <td>14</td>\n",
       "      <td>70.8</td>\n",
       "      <td>80.610871</td>\n",
       "      <td>100.134654</td>\n",
       "    </tr>\n",
       "    <tr>\n",
       "      <th>15</th>\n",
       "      <td>15</td>\n",
       "      <td>54.0</td>\n",
       "      <td>61.451445</td>\n",
       "      <td>74.608154</td>\n",
       "    </tr>\n",
       "    <tr>\n",
       "      <th>16</th>\n",
       "      <td>16</td>\n",
       "      <td>39.6</td>\n",
       "      <td>46.140702</td>\n",
       "      <td>56.712905</td>\n",
       "    </tr>\n",
       "    <tr>\n",
       "      <th>17</th>\n",
       "      <td>17</td>\n",
       "      <td>28.8</td>\n",
       "      <td>33.552701</td>\n",
       "      <td>42.250670</td>\n",
       "    </tr>\n",
       "    <tr>\n",
       "      <th>18</th>\n",
       "      <td>18</td>\n",
       "      <td>20.4</td>\n",
       "      <td>24.150238</td>\n",
       "      <td>30.627961</td>\n",
       "    </tr>\n",
       "    <tr>\n",
       "      <th>19</th>\n",
       "      <td>19</td>\n",
       "      <td>14.4</td>\n",
       "      <td>17.021688</td>\n",
       "      <td>21.935610</td>\n",
       "    </tr>\n",
       "    <tr>\n",
       "      <th>20</th>\n",
       "      <td>20</td>\n",
       "      <td>12.0</td>\n",
       "      <td>12.868648</td>\n",
       "      <td>15.704247</td>\n",
       "    </tr>\n",
       "  </tbody>\n",
       "</table>\n",
       "</div>"
      ],
      "text/plain": [
       "    hour  Q_inflow  Q_outflow_4km  Q_outflow_10km\n",
       "0      0      12.0      12.000000       12.000000\n",
       "1      1      14.4      13.110544       12.320923\n",
       "2      2      21.6      17.938603       14.524597\n",
       "3      3      34.2      28.018048       20.932839\n",
       "4      4      60.0      47.130615       33.710296\n",
       "5      5      93.6      77.613286       56.259803\n",
       "6      6     128.4     112.268922       88.137746\n",
       "7      7     161.4     146.259186      122.667412\n",
       "8      8     176.4     170.771158      153.905781\n",
       "9      9     180.0     178.969304      173.542846\n",
       "10    10     175.2     177.944350      178.802653\n",
       "11    11     154.8     165.319879      174.275666\n",
       "12    12     126.0     139.784922      157.727048\n",
       "13    13      93.6     108.795033      130.401217\n",
       "14    14      70.8      80.610871      100.134654\n",
       "15    15      54.0      61.451445       74.608154\n",
       "16    16      39.6      46.140702       56.712905\n",
       "17    17      28.8      33.552701       42.250670\n",
       "18    18      20.4      24.150238       30.627961\n",
       "19    19      14.4      17.021688       21.935610\n",
       "20    20      12.0      12.868648       15.704247"
      ]
     },
     "execution_count": 65,
     "metadata": {},
     "output_type": "execute_result"
    }
   ],
   "source": [
    "df['Q_outflow_10km'] = Q_outflow_10km\n",
    "df = df.drop(['C0__Qj_n', 'C1_Qj__n_1'], axis=1)\n",
    "df"
   ]
  },
  {
   "cell_type": "code",
   "execution_count": 66,
   "id": "f63c93b4-07cb-491b-88d0-2172fa959ffb",
   "metadata": {},
   "outputs": [
    {
     "data": {
      "text/html": [
       "\n",
       "\n",
       "\n",
       "\n",
       "\n",
       "\n",
       "  <div class=\"bk-root\" id=\"4aa8c6b7-8192-4b74-a29c-9736638a4351\" data-root-id=\"1383\"></div>\n"
      ]
     },
     "metadata": {},
     "output_type": "display_data"
    },
    {
     "data": {
      "application/javascript": [
       "(function(root) {\n",
       "  function embed_document(root) {\n",
       "    \n",
       "  var docs_json = {\"6c86176e-b962-4c57-aff6-af7a93cc502e\":{\"defs\":[],\"roots\":{\"references\":[{\"attributes\":{\"below\":[{\"id\":\"1394\"}],\"center\":[{\"id\":\"1397\"},{\"id\":\"1401\"},{\"id\":\"1428\"}],\"height\":300,\"left\":[{\"id\":\"1398\"}],\"renderers\":[{\"id\":\"1416\"},{\"id\":\"1433\"},{\"id\":\"1450\"},{\"id\":\"1470\"},{\"id\":\"1491\"},{\"id\":\"1515\"}],\"sizing_mode\":\"scale_width\",\"title\":{\"id\":\"1384\"},\"toolbar\":{\"id\":\"1407\"},\"x_range\":{\"id\":\"1386\"},\"x_scale\":{\"id\":\"1390\"},\"y_range\":{\"id\":\"1388\"},\"y_scale\":{\"id\":\"1392\"}},\"id\":\"1383\",\"subtype\":\"Figure\",\"type\":\"Plot\"},{\"attributes\":{},\"id\":\"1422\",\"type\":\"BasicTickFormatter\"},{\"attributes\":{},\"id\":\"1419\",\"type\":\"BasicTickFormatter\"},{\"attributes\":{},\"id\":\"1446\",\"type\":\"UnionRenderers\"},{\"attributes\":{\"click_policy\":\"hide\",\"items\":[{\"id\":\"1429\"},{\"id\":\"1466\"},{\"id\":\"1511\"}],\"location\":\"top_left\"},\"id\":\"1428\",\"type\":\"Legend\"},{\"attributes\":{\"data\":{\"x\":[0,1,2,3,4,5,6,7,8,9,10,11,12,13,14,15,16,17,18,19,20],\"y\":{\"__ndarray__\":\"AAAAAAAAKEA75cz/T6QoQNNiie6XDC1Abl9wj87uNECoEFT76tpAQGrxfzhBIUxA0IEH1dAIVkCXbuDgtqpeQJqRECn8PGNARmc//l6xZUDotI9Ur1lmQMp/pkDSyGVAKGld+kO3Y0DtxIHE1kxgQMQKHi2eCFlA+Dv7/OumUkDMCsZ0QFtMQPskPfcVIEVAEDdCE8KgPkDaq8AfhO81QP/b8BaTaC9A\",\"dtype\":\"float64\",\"order\":\"little\",\"shape\":[21]}},\"selected\":{\"id\":\"1535\"},\"selection_policy\":{\"id\":\"1536\"}},\"id\":\"1512\",\"type\":\"ColumnDataSource\"},{\"attributes\":{},\"id\":\"1427\",\"type\":\"UnionRenderers\"},{\"attributes\":{\"source\":{\"id\":\"1488\"}},\"id\":\"1492\",\"type\":\"CDSView\"},{\"attributes\":{},\"id\":\"1424\",\"type\":\"AllLabels\"},{\"attributes\":{\"data_source\":{\"id\":\"1512\"},\"glyph\":{\"id\":\"1513\"},\"hover_glyph\":null,\"muted_glyph\":null,\"nonselection_glyph\":{\"id\":\"1514\"},\"view\":{\"id\":\"1516\"}},\"id\":\"1515\",\"type\":\"GlyphRenderer\"},{\"attributes\":{},\"id\":\"1421\",\"type\":\"AllLabels\"},{\"attributes\":{\"fill_alpha\":{\"value\":0.1},\"fill_color\":{\"value\":\"red\"},\"line_alpha\":{\"value\":0.1},\"line_color\":{\"value\":\"#1f77b4\"},\"size\":{\"value\":10},\"x\":{\"field\":\"x\"},\"y\":{\"field\":\"y\"}},\"id\":\"1415\",\"type\":\"Circle\"},{\"attributes\":{\"label\":{\"value\":\"Inflow\"},\"renderers\":[{\"id\":\"1416\"},{\"id\":\"1433\"}]},\"id\":\"1429\",\"type\":\"LegendItem\"},{\"attributes\":{\"data_source\":{\"id\":\"1488\"},\"glyph\":{\"id\":\"1489\"},\"hover_glyph\":null,\"muted_glyph\":null,\"nonselection_glyph\":{\"id\":\"1490\"},\"view\":{\"id\":\"1492\"}},\"id\":\"1491\",\"type\":\"GlyphRenderer\"},{\"attributes\":{\"data_source\":{\"id\":\"1467\"},\"glyph\":{\"id\":\"1468\"},\"hover_glyph\":null,\"muted_glyph\":null,\"nonselection_glyph\":{\"id\":\"1469\"},\"view\":{\"id\":\"1471\"}},\"id\":\"1470\",\"type\":\"GlyphRenderer\"},{\"attributes\":{\"label\":{\"value\":\"Outflow_10km\"},\"renderers\":[{\"id\":\"1491\"},{\"id\":\"1515\"}]},\"id\":\"1511\",\"type\":\"LegendItem\"},{\"attributes\":{\"data_source\":{\"id\":\"1413\"},\"glyph\":{\"id\":\"1414\"},\"hover_glyph\":null,\"muted_glyph\":null,\"nonselection_glyph\":{\"id\":\"1415\"},\"view\":{\"id\":\"1417\"}},\"id\":\"1416\",\"type\":\"GlyphRenderer\"},{\"attributes\":{\"source\":{\"id\":\"1467\"}},\"id\":\"1471\",\"type\":\"CDSView\"},{\"attributes\":{\"fill_alpha\":{\"value\":0.1},\"fill_color\":{\"value\":\"green\"},\"line_alpha\":{\"value\":0.1},\"line_color\":{\"value\":\"#1f77b4\"},\"size\":{\"value\":10},\"x\":{\"field\":\"x\"},\"y\":{\"field\":\"y\"}},\"id\":\"1490\",\"type\":\"Circle\"},{\"attributes\":{\"line_color\":\"green\",\"line_width\":3,\"x\":{\"field\":\"x\"},\"y\":{\"field\":\"y\"}},\"id\":\"1513\",\"type\":\"Line\"},{\"attributes\":{},\"id\":\"1535\",\"type\":\"Selection\"},{\"attributes\":{\"fill_color\":{\"value\":\"green\"},\"line_color\":{\"value\":\"#1f77b4\"},\"size\":{\"value\":10},\"x\":{\"field\":\"x\"},\"y\":{\"field\":\"y\"}},\"id\":\"1489\",\"type\":\"Circle\"},{\"attributes\":{\"data\":{\"x\":[0,1,2,3,4,5,6,7,8,9,10,11,12,13,14,15,16,17,18,19,20],\"y\":{\"__ndarray__\":\"AAAAAAAAKEA75cz/T6QoQNNiie6XDC1Abl9wj87uNECoEFT76tpAQGrxfzhBIUxA0IEH1dAIVkCXbuDgtqpeQJqRECn8PGNARmc//l6xZUDotI9Ur1lmQMp/pkDSyGVAKGld+kO3Y0DtxIHE1kxgQMQKHi2eCFlA+Dv7/OumUkDMCsZ0QFtMQPskPfcVIEVAEDdCE8KgPkDaq8AfhO81QP/b8BaTaC9A\",\"dtype\":\"float64\",\"order\":\"little\",\"shape\":[21]}},\"selected\":{\"id\":\"1509\"},\"selection_policy\":{\"id\":\"1510\"}},\"id\":\"1488\",\"type\":\"ColumnDataSource\"},{\"attributes\":{},\"id\":\"1536\",\"type\":\"UnionRenderers\"},{\"attributes\":{\"axis_label\":\"Hour\",\"axis_label_text_font_size\":\"15pt\",\"formatter\":{\"id\":\"1419\"},\"major_label_policy\":{\"id\":\"1421\"},\"ticker\":{\"id\":\"1395\"}},\"id\":\"1394\",\"type\":\"LinearAxis\"},{\"attributes\":{},\"id\":\"1392\",\"type\":\"LinearScale\"},{\"attributes\":{\"source\":{\"id\":\"1413\"}},\"id\":\"1417\",\"type\":\"CDSView\"},{\"attributes\":{\"data\":{\"x\":[0,1,2,3,4,5,6,7,8,9,10,11,12,13,14,15,16,17,18,19,20],\"y\":{\"__ndarray__\":\"AAAAAAAAKEA1PMU4mTgqQE7RnUpI8DFAIuqbz54EPEA0rCUCuJBHQJDdCxRAZ1NAp9gABDYRXEAvYQxAS0hiQCktAVStWGVAqcMoiQRfZkAgYXYcOD5mQM/cx3M8qmRATimvFB55YUAgXrfQ4TJbQB4ycoMYJ1RAz1sq9Mi5TkCgHDGCAhJHQCaHEeu+xkBAA81K/3UmOEDYfrxUjQUxQEpZh2i/vClA\",\"dtype\":\"float64\",\"order\":\"little\",\"shape\":[21]}},\"selected\":{\"id\":\"1486\"},\"selection_policy\":{\"id\":\"1487\"}},\"id\":\"1467\",\"type\":\"ColumnDataSource\"},{\"attributes\":{},\"id\":\"1390\",\"type\":\"LinearScale\"},{\"attributes\":{\"data\":{\"x\":[0,1,2,3,4,5,6,7,8,9,10,11,12,13,14,15,16,17,18,19,20],\"y\":{\"__ndarray__\":\"AAAAAAAAKEDNzMzMzMwsQJqZmZmZmTVAmpmZmZkZQUAAAAAAAABOQGZmZmZmZldAzczMzMwMYEDNzMzMzCxkQM3MzMzMDGZAAAAAAACAZkBmZmZmZuZlQJqZmZmZWWNAAAAAAACAX0BmZmZmZmZXQDMzMzMzs1FAAAAAAAAAS0DNzMzMzMxDQM3MzMzMzDxAZmZmZmZmNEDNzMzMzMwsQAAAAAAAAChA\",\"dtype\":\"float64\",\"order\":\"little\",\"shape\":[21]}},\"selected\":{\"id\":\"1426\"},\"selection_policy\":{\"id\":\"1427\"}},\"id\":\"1413\",\"type\":\"ColumnDataSource\"},{\"attributes\":{\"source\":{\"id\":\"1447\"}},\"id\":\"1451\",\"type\":\"CDSView\"},{\"attributes\":{\"fill_color\":{\"value\":\"red\"},\"line_color\":{\"value\":\"#1f77b4\"},\"size\":{\"value\":10},\"x\":{\"field\":\"x\"},\"y\":{\"field\":\"y\"}},\"id\":\"1414\",\"type\":\"Circle\"},{\"attributes\":{\"line_alpha\":0.1,\"line_color\":\"blue\",\"line_width\":3,\"x\":{\"field\":\"x\"},\"y\":{\"field\":\"y\"}},\"id\":\"1469\",\"type\":\"Line\"},{\"attributes\":{},\"id\":\"1426\",\"type\":\"Selection\"},{\"attributes\":{\"data_source\":{\"id\":\"1430\"},\"glyph\":{\"id\":\"1431\"},\"hover_glyph\":null,\"muted_glyph\":null,\"nonselection_glyph\":{\"id\":\"1432\"},\"view\":{\"id\":\"1434\"}},\"id\":\"1433\",\"type\":\"GlyphRenderer\"},{\"attributes\":{},\"id\":\"1509\",\"type\":\"Selection\"},{\"attributes\":{},\"id\":\"1395\",\"type\":\"BasicTicker\"},{\"attributes\":{},\"id\":\"1510\",\"type\":\"UnionRenderers\"},{\"attributes\":{\"axis\":{\"id\":\"1394\"},\"ticker\":null},\"id\":\"1397\",\"type\":\"Grid\"},{\"attributes\":{\"data_source\":{\"id\":\"1447\"},\"glyph\":{\"id\":\"1448\"},\"hover_glyph\":null,\"muted_glyph\":null,\"nonselection_glyph\":{\"id\":\"1449\"},\"view\":{\"id\":\"1451\"}},\"id\":\"1450\",\"type\":\"GlyphRenderer\"},{\"attributes\":{\"line_color\":\"blue\",\"line_width\":3,\"x\":{\"field\":\"x\"},\"y\":{\"field\":\"y\"}},\"id\":\"1468\",\"type\":\"Line\"},{\"attributes\":{\"source\":{\"id\":\"1430\"}},\"id\":\"1434\",\"type\":\"CDSView\"},{\"attributes\":{},\"id\":\"1388\",\"type\":\"DataRange1d\"},{\"attributes\":{\"label\":{\"value\":\"Outflow_4km\"},\"renderers\":[{\"id\":\"1450\"},{\"id\":\"1470\"}]},\"id\":\"1466\",\"type\":\"LegendItem\"},{\"attributes\":{\"fill_color\":{\"value\":\"blue\"},\"line_color\":{\"value\":\"#1f77b4\"},\"size\":{\"value\":10},\"x\":{\"field\":\"x\"},\"y\":{\"field\":\"y\"}},\"id\":\"1448\",\"type\":\"Circle\"},{\"attributes\":{\"fill_alpha\":{\"value\":0.1},\"fill_color\":{\"value\":\"blue\"},\"line_alpha\":{\"value\":0.1},\"line_color\":{\"value\":\"#1f77b4\"},\"size\":{\"value\":10},\"x\":{\"field\":\"x\"},\"y\":{\"field\":\"y\"}},\"id\":\"1449\",\"type\":\"Circle\"},{\"attributes\":{\"data\":{\"x\":[0,1,2,3,4,5,6,7,8,9,10,11,12,13,14,15,16,17,18,19,20],\"y\":{\"__ndarray__\":\"AAAAAAAAKEA1PMU4mTgqQE7RnUpI8DFAIuqbz54EPEA0rCUCuJBHQJDdCxRAZ1NAp9gABDYRXEAvYQxAS0hiQCktAVStWGVAqcMoiQRfZkAgYXYcOD5mQM/cx3M8qmRATimvFB55YUAgXrfQ4TJbQB4ycoMYJ1RAz1sq9Mi5TkCgHDGCAhJHQCaHEeu+xkBAA81K/3UmOEDYfrxUjQUxQEpZh2i/vClA\",\"dtype\":\"float64\",\"order\":\"little\",\"shape\":[21]}},\"selected\":{\"id\":\"1464\"},\"selection_policy\":{\"id\":\"1465\"}},\"id\":\"1447\",\"type\":\"ColumnDataSource\"},{\"attributes\":{\"source\":{\"id\":\"1512\"}},\"id\":\"1516\",\"type\":\"CDSView\"},{\"attributes\":{\"bottom_units\":\"screen\",\"fill_alpha\":0.5,\"fill_color\":\"lightgrey\",\"left_units\":\"screen\",\"level\":\"overlay\",\"line_alpha\":1.0,\"line_color\":\"black\",\"line_dash\":[4,4],\"line_width\":2,\"right_units\":\"screen\",\"syncable\":false,\"top_units\":\"screen\"},\"id\":\"1406\",\"type\":\"BoxAnnotation\"},{\"attributes\":{},\"id\":\"1486\",\"type\":\"Selection\"},{\"attributes\":{\"text\":\"Inflow Vs Outflow\",\"text_font_size\":\"15pt\"},\"id\":\"1384\",\"type\":\"Title\"},{\"attributes\":{},\"id\":\"1403\",\"type\":\"WheelZoomTool\"},{\"attributes\":{\"line_alpha\":0.1,\"line_color\":\"red\",\"line_width\":3,\"x\":{\"field\":\"x\"},\"y\":{\"field\":\"y\"}},\"id\":\"1432\",\"type\":\"Line\"},{\"attributes\":{},\"id\":\"1487\",\"type\":\"UnionRenderers\"},{\"attributes\":{},\"id\":\"1386\",\"type\":\"DataRange1d\"},{\"attributes\":{\"axis_label\":\"Discharge\",\"axis_label_text_font_size\":\"15pt\",\"formatter\":{\"id\":\"1422\"},\"major_label_policy\":{\"id\":\"1424\"},\"ticker\":{\"id\":\"1399\"}},\"id\":\"1398\",\"type\":\"LinearAxis\"},{\"attributes\":{\"axis\":{\"id\":\"1398\"},\"dimension\":1,\"ticker\":null},\"id\":\"1401\",\"type\":\"Grid\"},{\"attributes\":{\"callback\":null,\"tooltips\":[[\"hour\",\"$x\"],[\"discharge\",\"$y\"]]},\"id\":\"1382\",\"type\":\"HoverTool\"},{\"attributes\":{},\"id\":\"1399\",\"type\":\"BasicTicker\"},{\"attributes\":{\"data\":{\"x\":[0,1,2,3,4,5,6,7,8,9,10,11,12,13,14,15,16,17,18,19,20],\"y\":{\"__ndarray__\":\"AAAAAAAAKEDNzMzMzMwsQJqZmZmZmTVAmpmZmZkZQUAAAAAAAABOQGZmZmZmZldAzczMzMwMYEDNzMzMzCxkQM3MzMzMDGZAAAAAAACAZkBmZmZmZuZlQJqZmZmZWWNAAAAAAACAX0BmZmZmZmZXQDMzMzMzs1FAAAAAAAAAS0DNzMzMzMxDQM3MzMzMzDxAZmZmZmZmNEDNzMzMzMwsQAAAAAAAAChA\",\"dtype\":\"float64\",\"order\":\"little\",\"shape\":[21]}},\"selected\":{\"id\":\"1445\"},\"selection_policy\":{\"id\":\"1446\"}},\"id\":\"1430\",\"type\":\"ColumnDataSource\"},{\"attributes\":{},\"id\":\"1464\",\"type\":\"Selection\"},{\"attributes\":{\"line_color\":\"red\",\"line_width\":3,\"x\":{\"field\":\"x\"},\"y\":{\"field\":\"y\"}},\"id\":\"1431\",\"type\":\"Line\"},{\"attributes\":{\"active_multi\":null,\"tools\":[{\"id\":\"1402\"},{\"id\":\"1403\"},{\"id\":\"1404\"},{\"id\":\"1405\"},{\"id\":\"1382\"}]},\"id\":\"1407\",\"type\":\"Toolbar\"},{\"attributes\":{},\"id\":\"1405\",\"type\":\"ResetTool\"},{\"attributes\":{},\"id\":\"1465\",\"type\":\"UnionRenderers\"},{\"attributes\":{\"overlay\":{\"id\":\"1406\"}},\"id\":\"1404\",\"type\":\"BoxZoomTool\"},{\"attributes\":{},\"id\":\"1402\",\"type\":\"PanTool\"},{\"attributes\":{},\"id\":\"1445\",\"type\":\"Selection\"},{\"attributes\":{\"line_alpha\":0.1,\"line_color\":\"green\",\"line_width\":3,\"x\":{\"field\":\"x\"},\"y\":{\"field\":\"y\"}},\"id\":\"1514\",\"type\":\"Line\"}],\"root_ids\":[\"1383\"]},\"title\":\"Bokeh Application\",\"version\":\"2.3.2\"}};\n",
       "  var render_items = [{\"docid\":\"6c86176e-b962-4c57-aff6-af7a93cc502e\",\"root_ids\":[\"1383\"],\"roots\":{\"1383\":\"4aa8c6b7-8192-4b74-a29c-9736638a4351\"}}];\n",
       "  root.Bokeh.embed.embed_items_notebook(docs_json, render_items);\n",
       "\n",
       "  }\n",
       "  if (root.Bokeh !== undefined) {\n",
       "    embed_document(root);\n",
       "  } else {\n",
       "    var attempts = 0;\n",
       "    var timer = setInterval(function(root) {\n",
       "      if (root.Bokeh !== undefined) {\n",
       "        clearInterval(timer);\n",
       "        embed_document(root);\n",
       "      } else {\n",
       "        attempts++;\n",
       "        if (attempts > 100) {\n",
       "          clearInterval(timer);\n",
       "          console.log(\"Bokeh: ERROR: Unable to run BokehJS code because BokehJS library is missing\");\n",
       "        }\n",
       "      }\n",
       "    }, 10, root)\n",
       "  }\n",
       "})(window);"
      ],
      "application/vnd.bokehjs_exec.v0+json": ""
     },
     "metadata": {
      "application/vnd.bokehjs_exec.v0+json": {
       "id": "1383"
      }
     },
     "output_type": "display_data"
    },
    {
     "data": {
      "image/png": "[encoded data removed]",
      "text/plain": [
       "<IPython.core.display.Image object>"
      ]
     },
     "execution_count": 66,
     "metadata": {},
     "output_type": "execute_result"
    }
   ],
   "source": [
    "fig = initialize_fig(title = 'Inflow Vs Outflow',\n",
    "                     x_axis_label = 'Hour',\n",
    "                     y_axis_label = 'Discharge',\n",
    "                     tooltips = [\n",
    "                         ('hour',       '$x'),\n",
    "                         ('discharge' , '$y'),\n",
    "                     ],\n",
    "                     plot_height = 300,\n",
    "                    )\n",
    "\n",
    "fig.title.text_font_size = '15pt'\n",
    "fig.xaxis.axis_label_text_font_size = '15pt'\n",
    "fig.yaxis.axis_label_text_font_size = '15pt'\n",
    "\n",
    "fig.circle(df.hour, df.Q_inflow, fill_color='red', size=10, legend_label='Inflow')\n",
    "fig.line(df.hour, df.Q_inflow, line_width=3, line_color='red', legend_label='Inflow')\n",
    "\n",
    "fig.circle(df.hour, df.Q_outflow_4km, fill_color='blue', size=10, legend_label='Outflow_4km')\n",
    "fig.line(df.hour, df.Q_outflow_4km, line_width=3, line_color='blue', legend_label='Outflow_4km')\n",
    "\n",
    "fig.circle(df.hour, df.Q_outflow_10km, fill_color='green', size=10, legend_label='Outflow_10km')\n",
    "fig.line(df.hour, df.Q_outflow_10km, line_width=3, line_color='green', legend_label='Outflow_10km')\n",
    "\n",
    "fig.legend.location = 'top_left'\n",
    "fig.legend.click_policy='hide'\n",
    "bp.show(fig)\n",
    "\n",
    "export_png(fig, filename=f'{BASE_DIR}/Test#2/problem_8.png', height=200, width=300)\n",
    "Image(f'{BASE_DIR}/Test#2/problem_8.png')"
   ]
  },
  {
   "cell_type": "code",
   "execution_count": null,
   "id": "cdcb8e25-12cd-4ef0-929d-4c3de69639ce",
   "metadata": {},
   "outputs": [],
   "source": []
  },
  {
   "cell_type": "code",
   "execution_count": null,
   "id": "e8811567-4459-408a-9b16-cf7b96b7bb4f",
   "metadata": {},
   "outputs": [],
   "source": []
  },
  {
   "cell_type": "markdown",
   "id": "6b0f3ff2-b30c-441c-8a22-5bff030a5ffe",
   "metadata": {},
   "source": [
    "### Q4\n",
    "Consider a storm having excess rainfall of 2 cm for the first 2 hours and 3 cm for the second 2 hours. The 2 hour unit hydrograph of a watershed is given below. This watershed drains into a detention basin that has an area of 10 km2\n",
    "\n",
    "| T (hr) | Q (m3/s/cm) |\n",
    "| ------ | --------    |\n",
    "|    0   |       0     |\n",
    "|    2   |     1.8     |\n",
    "|    4   |    30.9     |\n",
    "|    6   |    85.6     |\n",
    "|    8   |    41.8     |\n",
    "|   10   |    14.6     |\n",
    "|   12   |     5.5     |\n",
    "|   14   |     1.8     |\n",
    "|   16   |       0     |"
   ]
  },
  {
   "cell_type": "code",
   "execution_count": 67,
   "id": "09c2a7f8-e53f-431a-aee5-ee5d63f3f34d",
   "metadata": {},
   "outputs": [
    {
     "data": {
      "text/plain": [
       "182.0"
      ]
     },
     "execution_count": 67,
     "metadata": {},
     "output_type": "execute_result"
    }
   ],
   "source": [
    "# Given\n",
    "Qs = [0, 1.8, 30.9, 85.6, 41.8, 14.6, 5.5, 1.8, 0]\n",
    "# Total volume for 5 cm excess rainfall will be\n",
    "Q = sum(Qs) # m3/s\n",
    "Q = round(Q, 4)\n",
    "Q"
   ]
  },
  {
   "cell_type": "code",
   "execution_count": 68,
   "id": "1aa13aaf-0f96-4107-aaf6-47d31397c6f2",
   "metadata": {},
   "outputs": [
    {
     "data": {
      "text/plain": [
       "131.04"
      ]
     },
     "execution_count": 68,
     "metadata": {},
     "output_type": "execute_result"
    }
   ],
   "source": [
    "# volume is given as\n",
    "# A * Δl = Q * Δt\n",
    "# m2 * m = m3/s * s\n",
    "# A = Q * Δt / Δl\n",
    "Δt = 2 # hours\n",
    "Δt = Δt * 60 * 60 # sec\n",
    "Δl = 1 # cm\n",
    "Δl = Δl * 0.01 # m\n",
    "A = Q * Δt / Δl # m2\n",
    "A = A / 1e+6 # km2\n",
    "A"
   ]
  },
  {
   "cell_type": "code",
   "execution_count": 69,
   "id": "051bf1ed-7265-4e9d-ac71-5294bb8c31e4",
   "metadata": {},
   "outputs": [
    {
     "data": {
      "text/plain": [
       "array([ 0. ,  1.8, 30.9, 85.6, 41.8, 14.6,  5.5,  1.8,  0. ,  nan])"
      ]
     },
     "execution_count": 69,
     "metadata": {},
     "output_type": "execute_result"
    }
   ],
   "source": [
    "Pn = np.array([ 2., 3. ]) # cm\n",
    "# filling up with np.nan that would be used later\n",
    "UH = [0, 1.8, 30.9, 85.6, 41.8, 14.6, 5.5, 1.8, 0] # cms/cm\n",
    "UH_nan = [np.nan for _ in range(len(Pn)-1)]\n",
    "UH = np.array(UH + UH_nan)\n",
    "UH"
   ]
  },
  {
   "cell_type": "code",
   "execution_count": 70,
   "id": "e2543563-ac44-428f-8edd-ea1125119833",
   "metadata": {},
   "outputs": [
    {
     "data": {
      "text/plain": [
       "array([ 0.,  2.,  4.,  6.,  8., 10., 12., 14., 16.])"
      ]
     },
     "execution_count": 70,
     "metadata": {},
     "output_type": "execute_result"
    }
   ],
   "source": [
    "hr = np.arange(0., 18., 2.)\n",
    "hr"
   ]
  },
  {
   "cell_type": "code",
   "execution_count": 71,
   "id": "d3da410c-43e3-4c9c-a95c-eb91f7a176d2",
   "metadata": {},
   "outputs": [
    {
     "data": {
      "text/plain": [
       "array([ 0.,  2.,  4.,  6.,  8., 10., 12., 14., 16., nan])"
      ]
     },
     "execution_count": 71,
     "metadata": {},
     "output_type": "execute_result"
    }
   ],
   "source": [
    "expand_by_Pn = len(UH) - len(Pn)\n",
    "expand_by_hr = len(UH) - len(hr)\n",
    "\n",
    "Pn = np.pad(Pn, ((0, expand_by_Pn)), mode='constant', constant_values=np.nan)\n",
    "hr = np.pad(hr, ((0, expand_by_hr)), mode='constant', constant_values=np.nan)\n",
    "hr"
   ]
  },
  {
   "cell_type": "code",
   "execution_count": 72,
   "id": "fc888c39-4535-4157-98b6-da5e64f08e2f",
   "metadata": {},
   "outputs": [
    {
     "data": {
      "text/html": [
       "<div>\n",
       "<style scoped>\n",
       "    .dataframe tbody tr th:only-of-type {\n",
       "        vertical-align: middle;\n",
       "    }\n",
       "\n",
       "    .dataframe tbody tr th {\n",
       "        vertical-align: top;\n",
       "    }\n",
       "\n",
       "    .dataframe thead th {\n",
       "        text-align: right;\n",
       "    }\n",
       "</style>\n",
       "<table border=\"1\" class=\"dataframe\">\n",
       "  <thead>\n",
       "    <tr style=\"text-align: right;\">\n",
       "      <th></th>\n",
       "      <th>UH</th>\n",
       "      <th>Pn</th>\n",
       "      <th>hr</th>\n",
       "    </tr>\n",
       "  </thead>\n",
       "  <tbody>\n",
       "    <tr>\n",
       "      <th>0</th>\n",
       "      <td>0.0</td>\n",
       "      <td>2.0</td>\n",
       "      <td>0.0</td>\n",
       "    </tr>\n",
       "    <tr>\n",
       "      <th>1</th>\n",
       "      <td>1.8</td>\n",
       "      <td>3.0</td>\n",
       "      <td>2.0</td>\n",
       "    </tr>\n",
       "    <tr>\n",
       "      <th>2</th>\n",
       "      <td>30.9</td>\n",
       "      <td>NaN</td>\n",
       "      <td>4.0</td>\n",
       "    </tr>\n",
       "    <tr>\n",
       "      <th>3</th>\n",
       "      <td>85.6</td>\n",
       "      <td>NaN</td>\n",
       "      <td>6.0</td>\n",
       "    </tr>\n",
       "    <tr>\n",
       "      <th>4</th>\n",
       "      <td>41.8</td>\n",
       "      <td>NaN</td>\n",
       "      <td>8.0</td>\n",
       "    </tr>\n",
       "    <tr>\n",
       "      <th>5</th>\n",
       "      <td>14.6</td>\n",
       "      <td>NaN</td>\n",
       "      <td>10.0</td>\n",
       "    </tr>\n",
       "    <tr>\n",
       "      <th>6</th>\n",
       "      <td>5.5</td>\n",
       "      <td>NaN</td>\n",
       "      <td>12.0</td>\n",
       "    </tr>\n",
       "    <tr>\n",
       "      <th>7</th>\n",
       "      <td>1.8</td>\n",
       "      <td>NaN</td>\n",
       "      <td>14.0</td>\n",
       "    </tr>\n",
       "    <tr>\n",
       "      <th>8</th>\n",
       "      <td>0.0</td>\n",
       "      <td>NaN</td>\n",
       "      <td>16.0</td>\n",
       "    </tr>\n",
       "    <tr>\n",
       "      <th>9</th>\n",
       "      <td>NaN</td>\n",
       "      <td>NaN</td>\n",
       "      <td>NaN</td>\n",
       "    </tr>\n",
       "  </tbody>\n",
       "</table>\n",
       "</div>"
      ],
      "text/plain": [
       "     UH   Pn    hr\n",
       "0   0.0  2.0   0.0\n",
       "1   1.8  3.0   2.0\n",
       "2  30.9  NaN   4.0\n",
       "3  85.6  NaN   6.0\n",
       "4  41.8  NaN   8.0\n",
       "5  14.6  NaN  10.0\n",
       "6   5.5  NaN  12.0\n",
       "7   1.8  NaN  14.0\n",
       "8   0.0  NaN  16.0\n",
       "9   NaN  NaN   NaN"
      ]
     },
     "execution_count": 72,
     "metadata": {},
     "output_type": "execute_result"
    }
   ],
   "source": [
    "df = pd.DataFrame({'UH': UH, 'Pn': Pn, 'hr': hr})\n",
    "df"
   ]
  },
  {
   "cell_type": "code",
   "execution_count": 73,
   "id": "f543e21a-be57-4d37-b836-ae626b78e1d4",
   "metadata": {},
   "outputs": [
    {
     "data": {
      "text/html": [
       "<div>\n",
       "<style scoped>\n",
       "    .dataframe tbody tr th:only-of-type {\n",
       "        vertical-align: middle;\n",
       "    }\n",
       "\n",
       "    .dataframe tbody tr th {\n",
       "        vertical-align: top;\n",
       "    }\n",
       "\n",
       "    .dataframe thead th {\n",
       "        text-align: right;\n",
       "    }\n",
       "</style>\n",
       "<table border=\"1\" class=\"dataframe\">\n",
       "  <thead>\n",
       "    <tr style=\"text-align: right;\">\n",
       "      <th></th>\n",
       "      <th>UH</th>\n",
       "      <th>Pn</th>\n",
       "      <th>hr</th>\n",
       "      <th>P1Un</th>\n",
       "    </tr>\n",
       "  </thead>\n",
       "  <tbody>\n",
       "    <tr>\n",
       "      <th>0</th>\n",
       "      <td>0.0</td>\n",
       "      <td>2.0</td>\n",
       "      <td>0.0</td>\n",
       "      <td>0.0</td>\n",
       "    </tr>\n",
       "    <tr>\n",
       "      <th>1</th>\n",
       "      <td>1.8</td>\n",
       "      <td>3.0</td>\n",
       "      <td>2.0</td>\n",
       "      <td>3.6</td>\n",
       "    </tr>\n",
       "    <tr>\n",
       "      <th>2</th>\n",
       "      <td>30.9</td>\n",
       "      <td>NaN</td>\n",
       "      <td>4.0</td>\n",
       "      <td>61.8</td>\n",
       "    </tr>\n",
       "    <tr>\n",
       "      <th>3</th>\n",
       "      <td>85.6</td>\n",
       "      <td>NaN</td>\n",
       "      <td>6.0</td>\n",
       "      <td>171.2</td>\n",
       "    </tr>\n",
       "    <tr>\n",
       "      <th>4</th>\n",
       "      <td>41.8</td>\n",
       "      <td>NaN</td>\n",
       "      <td>8.0</td>\n",
       "      <td>83.6</td>\n",
       "    </tr>\n",
       "    <tr>\n",
       "      <th>5</th>\n",
       "      <td>14.6</td>\n",
       "      <td>NaN</td>\n",
       "      <td>10.0</td>\n",
       "      <td>29.2</td>\n",
       "    </tr>\n",
       "    <tr>\n",
       "      <th>6</th>\n",
       "      <td>5.5</td>\n",
       "      <td>NaN</td>\n",
       "      <td>12.0</td>\n",
       "      <td>11.0</td>\n",
       "    </tr>\n",
       "    <tr>\n",
       "      <th>7</th>\n",
       "      <td>1.8</td>\n",
       "      <td>NaN</td>\n",
       "      <td>14.0</td>\n",
       "      <td>3.6</td>\n",
       "    </tr>\n",
       "    <tr>\n",
       "      <th>8</th>\n",
       "      <td>0.0</td>\n",
       "      <td>NaN</td>\n",
       "      <td>16.0</td>\n",
       "      <td>0.0</td>\n",
       "    </tr>\n",
       "    <tr>\n",
       "      <th>9</th>\n",
       "      <td>NaN</td>\n",
       "      <td>NaN</td>\n",
       "      <td>NaN</td>\n",
       "      <td>NaN</td>\n",
       "    </tr>\n",
       "  </tbody>\n",
       "</table>\n",
       "</div>"
      ],
      "text/plain": [
       "     UH   Pn    hr   P1Un\n",
       "0   0.0  2.0   0.0    0.0\n",
       "1   1.8  3.0   2.0    3.6\n",
       "2  30.9  NaN   4.0   61.8\n",
       "3  85.6  NaN   6.0  171.2\n",
       "4  41.8  NaN   8.0   83.6\n",
       "5  14.6  NaN  10.0   29.2\n",
       "6   5.5  NaN  12.0   11.0\n",
       "7   1.8  NaN  14.0    3.6\n",
       "8   0.0  NaN  16.0    0.0\n",
       "9   NaN  NaN   NaN    NaN"
      ]
     },
     "execution_count": 73,
     "metadata": {},
     "output_type": "execute_result"
    }
   ],
   "source": [
    "df['P1Un'] = Pn[0] * df.UH\n",
    "df"
   ]
  },
  {
   "cell_type": "code",
   "execution_count": 74,
   "id": "802bdebc-d671-4233-8493-b69228863519",
   "metadata": {},
   "outputs": [],
   "source": [
    "P2Un = np.array(Pn[1] * df.UH)\n",
    "P2Un = [np.nan] + list(P2Un)\n",
    "P2Un = P2Un[:-1]"
   ]
  },
  {
   "cell_type": "code",
   "execution_count": 75,
   "id": "1d98458c-4b42-4edb-b552-00dee187ff61",
   "metadata": {},
   "outputs": [
    {
     "data": {
      "text/html": [
       "<div>\n",
       "<style scoped>\n",
       "    .dataframe tbody tr th:only-of-type {\n",
       "        vertical-align: middle;\n",
       "    }\n",
       "\n",
       "    .dataframe tbody tr th {\n",
       "        vertical-align: top;\n",
       "    }\n",
       "\n",
       "    .dataframe thead th {\n",
       "        text-align: right;\n",
       "    }\n",
       "</style>\n",
       "<table border=\"1\" class=\"dataframe\">\n",
       "  <thead>\n",
       "    <tr style=\"text-align: right;\">\n",
       "      <th></th>\n",
       "      <th>UH</th>\n",
       "      <th>Pn</th>\n",
       "      <th>hr</th>\n",
       "      <th>P1Un</th>\n",
       "      <th>P2Un</th>\n",
       "    </tr>\n",
       "  </thead>\n",
       "  <tbody>\n",
       "    <tr>\n",
       "      <th>0</th>\n",
       "      <td>0.0</td>\n",
       "      <td>2.0</td>\n",
       "      <td>0.0</td>\n",
       "      <td>0.0</td>\n",
       "      <td>NaN</td>\n",
       "    </tr>\n",
       "    <tr>\n",
       "      <th>1</th>\n",
       "      <td>1.8</td>\n",
       "      <td>3.0</td>\n",
       "      <td>2.0</td>\n",
       "      <td>3.6</td>\n",
       "      <td>0.0</td>\n",
       "    </tr>\n",
       "    <tr>\n",
       "      <th>2</th>\n",
       "      <td>30.9</td>\n",
       "      <td>NaN</td>\n",
       "      <td>4.0</td>\n",
       "      <td>61.8</td>\n",
       "      <td>5.4</td>\n",
       "    </tr>\n",
       "    <tr>\n",
       "      <th>3</th>\n",
       "      <td>85.6</td>\n",
       "      <td>NaN</td>\n",
       "      <td>6.0</td>\n",
       "      <td>171.2</td>\n",
       "      <td>92.7</td>\n",
       "    </tr>\n",
       "    <tr>\n",
       "      <th>4</th>\n",
       "      <td>41.8</td>\n",
       "      <td>NaN</td>\n",
       "      <td>8.0</td>\n",
       "      <td>83.6</td>\n",
       "      <td>256.8</td>\n",
       "    </tr>\n",
       "    <tr>\n",
       "      <th>5</th>\n",
       "      <td>14.6</td>\n",
       "      <td>NaN</td>\n",
       "      <td>10.0</td>\n",
       "      <td>29.2</td>\n",
       "      <td>125.4</td>\n",
       "    </tr>\n",
       "    <tr>\n",
       "      <th>6</th>\n",
       "      <td>5.5</td>\n",
       "      <td>NaN</td>\n",
       "      <td>12.0</td>\n",
       "      <td>11.0</td>\n",
       "      <td>43.8</td>\n",
       "    </tr>\n",
       "    <tr>\n",
       "      <th>7</th>\n",
       "      <td>1.8</td>\n",
       "      <td>NaN</td>\n",
       "      <td>14.0</td>\n",
       "      <td>3.6</td>\n",
       "      <td>16.5</td>\n",
       "    </tr>\n",
       "    <tr>\n",
       "      <th>8</th>\n",
       "      <td>0.0</td>\n",
       "      <td>NaN</td>\n",
       "      <td>16.0</td>\n",
       "      <td>0.0</td>\n",
       "      <td>5.4</td>\n",
       "    </tr>\n",
       "    <tr>\n",
       "      <th>9</th>\n",
       "      <td>NaN</td>\n",
       "      <td>NaN</td>\n",
       "      <td>NaN</td>\n",
       "      <td>NaN</td>\n",
       "      <td>0.0</td>\n",
       "    </tr>\n",
       "  </tbody>\n",
       "</table>\n",
       "</div>"
      ],
      "text/plain": [
       "     UH   Pn    hr   P1Un   P2Un\n",
       "0   0.0  2.0   0.0    0.0    NaN\n",
       "1   1.8  3.0   2.0    3.6    0.0\n",
       "2  30.9  NaN   4.0   61.8    5.4\n",
       "3  85.6  NaN   6.0  171.2   92.7\n",
       "4  41.8  NaN   8.0   83.6  256.8\n",
       "5  14.6  NaN  10.0   29.2  125.4\n",
       "6   5.5  NaN  12.0   11.0   43.8\n",
       "7   1.8  NaN  14.0    3.6   16.5\n",
       "8   0.0  NaN  16.0    0.0    5.4\n",
       "9   NaN  NaN   NaN    NaN    0.0"
      ]
     },
     "execution_count": 75,
     "metadata": {},
     "output_type": "execute_result"
    }
   ],
   "source": [
    "df['P2Un'] = P2Un\n",
    "df"
   ]
  },
  {
   "cell_type": "code",
   "execution_count": 76,
   "id": "785606b6-0975-4e6b-8102-f4609b36babc",
   "metadata": {},
   "outputs": [
    {
     "data": {
      "text/html": [
       "<div>\n",
       "<style scoped>\n",
       "    .dataframe tbody tr th:only-of-type {\n",
       "        vertical-align: middle;\n",
       "    }\n",
       "\n",
       "    .dataframe tbody tr th {\n",
       "        vertical-align: top;\n",
       "    }\n",
       "\n",
       "    .dataframe thead th {\n",
       "        text-align: right;\n",
       "    }\n",
       "</style>\n",
       "<table border=\"1\" class=\"dataframe\">\n",
       "  <thead>\n",
       "    <tr style=\"text-align: right;\">\n",
       "      <th></th>\n",
       "      <th>UH</th>\n",
       "      <th>Pn</th>\n",
       "      <th>hr</th>\n",
       "      <th>P1Un</th>\n",
       "      <th>P2Un</th>\n",
       "      <th>Qn</th>\n",
       "    </tr>\n",
       "  </thead>\n",
       "  <tbody>\n",
       "    <tr>\n",
       "      <th>0</th>\n",
       "      <td>0.0</td>\n",
       "      <td>2.0</td>\n",
       "      <td>0.0</td>\n",
       "      <td>0.0</td>\n",
       "      <td>NaN</td>\n",
       "      <td>0.0</td>\n",
       "    </tr>\n",
       "    <tr>\n",
       "      <th>1</th>\n",
       "      <td>1.8</td>\n",
       "      <td>3.0</td>\n",
       "      <td>2.0</td>\n",
       "      <td>3.6</td>\n",
       "      <td>0.0</td>\n",
       "      <td>3.6</td>\n",
       "    </tr>\n",
       "    <tr>\n",
       "      <th>2</th>\n",
       "      <td>30.9</td>\n",
       "      <td>NaN</td>\n",
       "      <td>4.0</td>\n",
       "      <td>61.8</td>\n",
       "      <td>5.4</td>\n",
       "      <td>67.2</td>\n",
       "    </tr>\n",
       "    <tr>\n",
       "      <th>3</th>\n",
       "      <td>85.6</td>\n",
       "      <td>NaN</td>\n",
       "      <td>6.0</td>\n",
       "      <td>171.2</td>\n",
       "      <td>92.7</td>\n",
       "      <td>263.9</td>\n",
       "    </tr>\n",
       "    <tr>\n",
       "      <th>4</th>\n",
       "      <td>41.8</td>\n",
       "      <td>NaN</td>\n",
       "      <td>8.0</td>\n",
       "      <td>83.6</td>\n",
       "      <td>256.8</td>\n",
       "      <td>340.4</td>\n",
       "    </tr>\n",
       "    <tr>\n",
       "      <th>5</th>\n",
       "      <td>14.6</td>\n",
       "      <td>NaN</td>\n",
       "      <td>10.0</td>\n",
       "      <td>29.2</td>\n",
       "      <td>125.4</td>\n",
       "      <td>154.6</td>\n",
       "    </tr>\n",
       "    <tr>\n",
       "      <th>6</th>\n",
       "      <td>5.5</td>\n",
       "      <td>NaN</td>\n",
       "      <td>12.0</td>\n",
       "      <td>11.0</td>\n",
       "      <td>43.8</td>\n",
       "      <td>54.8</td>\n",
       "    </tr>\n",
       "    <tr>\n",
       "      <th>7</th>\n",
       "      <td>1.8</td>\n",
       "      <td>NaN</td>\n",
       "      <td>14.0</td>\n",
       "      <td>3.6</td>\n",
       "      <td>16.5</td>\n",
       "      <td>20.1</td>\n",
       "    </tr>\n",
       "    <tr>\n",
       "      <th>8</th>\n",
       "      <td>0.0</td>\n",
       "      <td>NaN</td>\n",
       "      <td>16.0</td>\n",
       "      <td>0.0</td>\n",
       "      <td>5.4</td>\n",
       "      <td>5.4</td>\n",
       "    </tr>\n",
       "    <tr>\n",
       "      <th>9</th>\n",
       "      <td>NaN</td>\n",
       "      <td>NaN</td>\n",
       "      <td>NaN</td>\n",
       "      <td>NaN</td>\n",
       "      <td>0.0</td>\n",
       "      <td>0.0</td>\n",
       "    </tr>\n",
       "  </tbody>\n",
       "</table>\n",
       "</div>"
      ],
      "text/plain": [
       "     UH   Pn    hr   P1Un   P2Un     Qn\n",
       "0   0.0  2.0   0.0    0.0    NaN    0.0\n",
       "1   1.8  3.0   2.0    3.6    0.0    3.6\n",
       "2  30.9  NaN   4.0   61.8    5.4   67.2\n",
       "3  85.6  NaN   6.0  171.2   92.7  263.9\n",
       "4  41.8  NaN   8.0   83.6  256.8  340.4\n",
       "5  14.6  NaN  10.0   29.2  125.4  154.6\n",
       "6   5.5  NaN  12.0   11.0   43.8   54.8\n",
       "7   1.8  NaN  14.0    3.6   16.5   20.1\n",
       "8   0.0  NaN  16.0    0.0    5.4    5.4\n",
       "9   NaN  NaN   NaN    NaN    0.0    0.0"
      ]
     },
     "execution_count": 76,
     "metadata": {},
     "output_type": "execute_result"
    }
   ],
   "source": [
    "df['Qn'] = df[['P1Un', 'P2Un']].sum(axis=1)\n",
    "df"
   ]
  },
  {
   "cell_type": "code",
   "execution_count": 77,
   "id": "ec50bebf-0331-47c6-a2b1-3fecec9d8252",
   "metadata": {},
   "outputs": [
    {
     "data": {
      "text/plain": [
       "340.4"
      ]
     },
     "execution_count": 77,
     "metadata": {},
     "output_type": "execute_result"
    }
   ],
   "source": [
    "# peak direct runoff\n",
    "Qp = np.max(df.Qn) # cms\n",
    "Qp"
   ]
  },
  {
   "cell_type": "code",
   "execution_count": 78,
   "id": "ddaed885-67dd-48af-8c40-d3004d42543b",
   "metadata": {},
   "outputs": [
    {
     "data": {
      "text/plain": [
       "131.04"
      ]
     },
     "execution_count": 78,
     "metadata": {},
     "output_type": "execute_result"
    }
   ],
   "source": [
    "A"
   ]
  },
  {
   "cell_type": "code",
   "execution_count": 79,
   "id": "cbbceb01-ffad-40fc-abb8-54a0969881af",
   "metadata": {},
   "outputs": [
    {
     "data": {
      "text/plain": [
       "6.552"
      ]
     },
     "execution_count": 79,
     "metadata": {},
     "output_type": "execute_result"
    }
   ],
   "source": [
    "# Total volume of water going into the retention basin\n",
    "V = ( 2. / 100. + 3. / 100. ) * A # m-km2\n",
    "V"
   ]
  },
  {
   "cell_type": "code",
   "execution_count": 80,
   "id": "ab8010b9-1dc3-4db6-a224-4d884f5c2fb4",
   "metadata": {},
   "outputs": [
    {
     "data": {
      "text/plain": [
       "0.6552"
      ]
     },
     "execution_count": 80,
     "metadata": {},
     "output_type": "execute_result"
    }
   ],
   "source": [
    "A_detention = 10 # km2\n",
    "# depth of water\n",
    "Δd = V / A_detention\n",
    "Δd # m"
   ]
  },
  {
   "cell_type": "code",
   "execution_count": 81,
   "id": "e115019f-6a7b-4f32-a631-0dfa59dc2204",
   "metadata": {},
   "outputs": [
    {
     "data": {
      "text/html": [
       "\n",
       "\n",
       "\n",
       "\n",
       "\n",
       "\n",
       "  <div class=\"bk-root\" id=\"b178568e-6fc7-461b-8b53-a23f4c0b73b3\" data-root-id=\"1895\"></div>\n"
      ]
     },
     "metadata": {},
     "output_type": "display_data"
    },
    {
     "data": {
      "application/javascript": [
       "(function(root) {\n",
       "  function embed_document(root) {\n",
       "    \n",
       "  var docs_json = {\"a5d6689a-6971-41f8-8437-88fec9b9e5ee\":{\"defs\":[],\"roots\":{\"references\":[{\"attributes\":{\"below\":[{\"id\":\"1906\"}],\"center\":[{\"id\":\"1909\"},{\"id\":\"1913\"}],\"height\":300,\"left\":[{\"id\":\"1910\"}],\"renderers\":[{\"id\":\"1928\"},{\"id\":\"1933\"}],\"sizing_mode\":\"scale_width\",\"title\":{\"id\":\"1896\"},\"toolbar\":{\"id\":\"1919\"},\"x_range\":{\"id\":\"1898\"},\"x_scale\":{\"id\":\"1902\"},\"y_range\":{\"id\":\"1900\"},\"y_scale\":{\"id\":\"1904\"}},\"id\":\"1895\",\"subtype\":\"Figure\",\"type\":\"Plot\"},{\"attributes\":{\"bottom_units\":\"screen\",\"fill_alpha\":0.5,\"fill_color\":\"lightgrey\",\"left_units\":\"screen\",\"level\":\"overlay\",\"line_alpha\":1.0,\"line_color\":\"black\",\"line_dash\":[4,4],\"line_width\":2,\"right_units\":\"screen\",\"syncable\":false,\"top_units\":\"screen\"},\"id\":\"1918\",\"type\":\"BoxAnnotation\"},{\"attributes\":{},\"id\":\"1907\",\"type\":\"BasicTicker\"},{\"attributes\":{\"data_source\":{\"id\":\"1930\"},\"glyph\":{\"id\":\"1931\"},\"hover_glyph\":null,\"muted_glyph\":null,\"nonselection_glyph\":{\"id\":\"1932\"},\"view\":{\"id\":\"1934\"}},\"id\":\"1933\",\"type\":\"GlyphRenderer\"},{\"attributes\":{\"data\":{\"x\":{\"__ndarray__\":\"AAAAAAAAAAAAAAAAAAAAQAAAAAAAABBAAAAAAAAAGEAAAAAAAAAgQAAAAAAAACRAAAAAAAAAKEAAAAAAAAAsQAAAAAAAADBAAAAAAAAA+H8=\",\"dtype\":\"float64\",\"order\":\"little\",\"shape\":[10]},\"y\":{\"__ndarray__\":\"AAAAAAAAAADNzMzMzMwMQM3MzMzMzFBAZmZmZmZ+cEBmZmZmZkZ1QDMzMzMzU2NAZmZmZmZmS0CamZmZmRk0QJqZmZmZmRVAAAAAAAAAAAA=\",\"dtype\":\"float64\",\"order\":\"little\",\"shape\":[10]}},\"selected\":{\"id\":\"1979\"},\"selection_policy\":{\"id\":\"1980\"}},\"id\":\"1925\",\"type\":\"ColumnDataSource\"},{\"attributes\":{\"source\":{\"id\":\"1930\"}},\"id\":\"1934\",\"type\":\"CDSView\"},{\"attributes\":{\"axis_label\":\"Time (hr)\",\"axis_label_text_font_size\":\"15pt\",\"formatter\":{\"id\":\"1972\"},\"major_label_policy\":{\"id\":\"1974\"},\"ticker\":{\"id\":\"1907\"}},\"id\":\"1906\",\"type\":\"LinearAxis\"},{\"attributes\":{\"fill_color\":{\"value\":\"red\"},\"line_color\":{\"value\":\"#1f77b4\"},\"size\":{\"value\":10},\"x\":{\"field\":\"x\"},\"y\":{\"field\":\"y\"}},\"id\":\"1926\",\"type\":\"Circle\"},{\"attributes\":{},\"id\":\"1975\",\"type\":\"BasicTickFormatter\"},{\"attributes\":{\"overlay\":{\"id\":\"1918\"}},\"id\":\"1916\",\"type\":\"BoxZoomTool\"},{\"attributes\":{\"callback\":null,\"tooltips\":[[\"time(hr)\",\"$x\"],[\"discharge(cms)\",\"$y\"]]},\"id\":\"1894\",\"type\":\"HoverTool\"},{\"attributes\":{},\"id\":\"1911\",\"type\":\"BasicTicker\"},{\"attributes\":{},\"id\":\"1974\",\"type\":\"AllLabels\"},{\"attributes\":{\"fill_alpha\":{\"value\":0.1},\"fill_color\":{\"value\":\"red\"},\"line_alpha\":{\"value\":0.1},\"line_color\":{\"value\":\"#1f77b4\"},\"size\":{\"value\":10},\"x\":{\"field\":\"x\"},\"y\":{\"field\":\"y\"}},\"id\":\"1927\",\"type\":\"Circle\"},{\"attributes\":{\"active_multi\":null,\"tools\":[{\"id\":\"1914\"},{\"id\":\"1915\"},{\"id\":\"1916\"},{\"id\":\"1917\"},{\"id\":\"1894\"}]},\"id\":\"1919\",\"type\":\"Toolbar\"},{\"attributes\":{},\"id\":\"1900\",\"type\":\"DataRange1d\"},{\"attributes\":{},\"id\":\"1979\",\"type\":\"Selection\"},{\"attributes\":{},\"id\":\"1972\",\"type\":\"BasicTickFormatter\"},{\"attributes\":{\"axis_label\":\"Discharge Q (cms)\",\"axis_label_text_font_size\":\"15pt\",\"formatter\":{\"id\":\"1975\"},\"major_label_policy\":{\"id\":\"1977\"},\"ticker\":{\"id\":\"1911\"}},\"id\":\"1910\",\"type\":\"LinearAxis\"},{\"attributes\":{},\"id\":\"1982\",\"type\":\"UnionRenderers\"},{\"attributes\":{\"axis\":{\"id\":\"1906\"},\"ticker\":null},\"id\":\"1909\",\"type\":\"Grid\"},{\"attributes\":{},\"id\":\"1977\",\"type\":\"AllLabels\"},{\"attributes\":{\"data_source\":{\"id\":\"1925\"},\"glyph\":{\"id\":\"1926\"},\"hover_glyph\":null,\"muted_glyph\":null,\"nonselection_glyph\":{\"id\":\"1927\"},\"view\":{\"id\":\"1929\"}},\"id\":\"1928\",\"type\":\"GlyphRenderer\"},{\"attributes\":{\"data\":{\"x\":{\"__ndarray__\":\"AAAAAAAAAAAAAAAAAAAAQAAAAAAAABBAAAAAAAAAGEAAAAAAAAAgQAAAAAAAACRAAAAAAAAAKEAAAAAAAAAsQAAAAAAAADBAAAAAAAAA+H8=\",\"dtype\":\"float64\",\"order\":\"little\",\"shape\":[10]},\"y\":{\"__ndarray__\":\"AAAAAAAAAADNzMzMzMwMQM3MzMzMzFBAZmZmZmZ+cEBmZmZmZkZ1QDMzMzMzU2NAZmZmZmZmS0CamZmZmRk0QJqZmZmZmRVAAAAAAAAAAAA=\",\"dtype\":\"float64\",\"order\":\"little\",\"shape\":[10]}},\"selected\":{\"id\":\"1981\"},\"selection_policy\":{\"id\":\"1982\"}},\"id\":\"1930\",\"type\":\"ColumnDataSource\"},{\"attributes\":{},\"id\":\"1980\",\"type\":\"UnionRenderers\"},{\"attributes\":{},\"id\":\"1981\",\"type\":\"Selection\"},{\"attributes\":{\"source\":{\"id\":\"1925\"}},\"id\":\"1929\",\"type\":\"CDSView\"},{\"attributes\":{},\"id\":\"1904\",\"type\":\"LinearScale\"},{\"attributes\":{},\"id\":\"1915\",\"type\":\"WheelZoomTool\"},{\"attributes\":{},\"id\":\"1902\",\"type\":\"LinearScale\"},{\"attributes\":{},\"id\":\"1914\",\"type\":\"PanTool\"},{\"attributes\":{\"axis\":{\"id\":\"1910\"},\"dimension\":1,\"ticker\":null},\"id\":\"1913\",\"type\":\"Grid\"},{\"attributes\":{\"text\":\"Time (hr) Vs Discharge (Q)\",\"text_font_size\":\"15pt\"},\"id\":\"1896\",\"type\":\"Title\"},{\"attributes\":{},\"id\":\"1898\",\"type\":\"DataRange1d\"},{\"attributes\":{},\"id\":\"1917\",\"type\":\"ResetTool\"},{\"attributes\":{\"line_color\":\"red\",\"line_width\":3,\"x\":{\"field\":\"x\"},\"y\":{\"field\":\"y\"}},\"id\":\"1931\",\"type\":\"Line\"},{\"attributes\":{\"line_alpha\":0.1,\"line_color\":\"red\",\"line_width\":3,\"x\":{\"field\":\"x\"},\"y\":{\"field\":\"y\"}},\"id\":\"1932\",\"type\":\"Line\"}],\"root_ids\":[\"1895\"]},\"title\":\"Bokeh Application\",\"version\":\"2.3.2\"}};\n",
       "  var render_items = [{\"docid\":\"a5d6689a-6971-41f8-8437-88fec9b9e5ee\",\"root_ids\":[\"1895\"],\"roots\":{\"1895\":\"b178568e-6fc7-461b-8b53-a23f4c0b73b3\"}}];\n",
       "  root.Bokeh.embed.embed_items_notebook(docs_json, render_items);\n",
       "\n",
       "  }\n",
       "  if (root.Bokeh !== undefined) {\n",
       "    embed_document(root);\n",
       "  } else {\n",
       "    var attempts = 0;\n",
       "    var timer = setInterval(function(root) {\n",
       "      if (root.Bokeh !== undefined) {\n",
       "        clearInterval(timer);\n",
       "        embed_document(root);\n",
       "      } else {\n",
       "        attempts++;\n",
       "        if (attempts > 100) {\n",
       "          clearInterval(timer);\n",
       "          console.log(\"Bokeh: ERROR: Unable to run BokehJS code because BokehJS library is missing\");\n",
       "        }\n",
       "      }\n",
       "    }, 10, root)\n",
       "  }\n",
       "})(window);"
      ],
      "application/vnd.bokehjs_exec.v0+json": ""
     },
     "metadata": {
      "application/vnd.bokehjs_exec.v0+json": {
       "id": "1895"
      }
     },
     "output_type": "display_data"
    },
    {
     "data": {
      "image/png": "[encoded data removed]",
      "text/plain": [
       "<IPython.core.display.Image object>"
      ]
     },
     "execution_count": 81,
     "metadata": {},
     "output_type": "execute_result"
    }
   ],
   "source": [
    "fig = initialize_fig(title = 'Time (hr) Vs Discharge (Q)',\n",
    "                     x_axis_label = 'Time (hr)',\n",
    "                     y_axis_label = 'Discharge Q (cms)',\n",
    "                     tooltips = [\n",
    "                         ('time(hr)', '$x'),\n",
    "                         ('discharge(cms)'    , '$y'),\n",
    "                     ],\n",
    "                     plot_height = 300,\n",
    "                    )\n",
    "\n",
    "fig.title.text_font_size = '15pt'\n",
    "fig.xaxis.axis_label_text_font_size = '15pt'\n",
    "fig.yaxis.axis_label_text_font_size = '15pt'\n",
    "\n",
    "fig.circle(df.hr, df.Qn, fill_color='red', size=10)\n",
    "fig.line(df.hr, df.Qn, line_width=3, line_color='red')\n",
    "\n",
    "bp.show(fig)\n",
    "\n",
    "export_png(fig, filename=f'{BASE_DIR}/Test#2/problem_4.png', height=200, width=300)\n",
    "Image(f'{BASE_DIR}/Test#2/problem_4.png')"
   ]
  },
  {
   "cell_type": "code",
   "execution_count": 82,
   "id": "71fb7769-c0aa-4d09-826a-a3f962d1103c",
   "metadata": {},
   "outputs": [
    {
     "data": {
      "text/plain": [
       "6"
      ]
     },
     "execution_count": 82,
     "metadata": {},
     "output_type": "execute_result"
    }
   ],
   "source": [
    "# total excess rainfall duration\n",
    "D = 2 + 2 # hr\n",
    "# lag time is the time difference between the peak precip and peak discharge\n",
    "# peak precip occurs at 2nd hour\n",
    "# peak discharge occurs at 8th hour\n",
    "tL = 8 - 2 # hr\n",
    "tL"
   ]
  },
  {
   "cell_type": "code",
   "execution_count": 83,
   "id": "a3d00fa2-7350-4177-b814-8e661fb4124a",
   "metadata": {},
   "outputs": [
    {
     "data": {
      "text/plain": [
       "10.0"
      ]
     },
     "execution_count": 83,
     "metadata": {},
     "output_type": "execute_result"
    }
   ],
   "source": [
    "# time of concentration\n",
    "tc = tL / 0.6\n",
    "tc # hour"
   ]
  },
  {
   "cell_type": "code",
   "execution_count": 84,
   "id": "84af154e-787e-430e-9176-ceaf5db78846",
   "metadata": {},
   "outputs": [
    {
     "data": {
      "text/plain": [
       "8.0"
      ]
     },
     "execution_count": 84,
     "metadata": {},
     "output_type": "execute_result"
    }
   ],
   "source": [
    "# time to rise\n",
    "TR = D / 2 + tL\n",
    "TR # hour"
   ]
  },
  {
   "cell_type": "code",
   "execution_count": 85,
   "id": "4706cfd6-e268-411f-ad08-16dcdb795231",
   "metadata": {},
   "outputs": [
    {
     "data": {
      "text/plain": [
       "13.36"
      ]
     },
     "execution_count": 85,
     "metadata": {},
     "output_type": "execute_result"
    }
   ],
   "source": [
    "# duration of hydrograph\n",
    "B = 1.67 * TR\n",
    "B # hour"
   ]
  },
  {
   "cell_type": "markdown",
   "id": "9b04d449-628f-49ba-af57-9f72cd596446",
   "metadata": {},
   "source": [
    "####  Time of concentration is the function of watershed characteristics. It will vary depending upon slope and character of the watershed and the flow path. Thus for the same watershed the time of concentration remains same given the variation in the rainfall event."
   ]
  },
  {
   "cell_type": "code",
   "execution_count": null,
   "id": "281dde4a-8cbd-4a0b-bad5-8c3a0ba05613",
   "metadata": {},
   "outputs": [],
   "source": []
  },
  {
   "cell_type": "code",
   "execution_count": null,
   "id": "3f43f9d7-b2ee-4bf8-bf61-fd9d1ad9c4cc",
   "metadata": {},
   "outputs": [],
   "source": []
  }
 ],
 "metadata": {
  "kernelspec": {
   "display_name": "Python [conda env:cbias] *",
   "language": "python",
   "name": "conda-env-cbias-py"
  },
  "language_info": {
   "codemirror_mode": {
    "name": "ipython",
    "version": 3
   },
   "file_extension": ".py",
   "mimetype": "text/x-python",
   "name": "python",
   "nbconvert_exporter": "python",
   "pygments_lexer": "ipython3",
   "version": "3.9.4"
  }
 },
 "nbformat": 4,
 "nbformat_minor": 5
}
